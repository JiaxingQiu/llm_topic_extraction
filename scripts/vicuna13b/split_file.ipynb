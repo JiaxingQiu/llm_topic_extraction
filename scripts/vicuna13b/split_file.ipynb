{
 "cells": [
  {
   "cell_type": "code",
   "execution_count": 1,
   "id": "ab488487-7d8a-4481-bba6-0cf2ff4995a0",
   "metadata": {
    "tags": []
   },
   "outputs": [
    {
     "name": "stdout",
     "output_type": "stream",
     "text": [
      "Saved part 1 to ../../vicuna13b_data/answer_df_part1.csv\n",
      "Saved part 2 to ../../vicuna13b_data/answer_df_part2.csv\n",
      "Saved part 3 to ../../vicuna13b_data/answer_df_part3.csv\n",
      "Saved part 4 to ../../vicuna13b_data/answer_df_part4.csv\n",
      "Saved part 5 to ../../vicuna13b_data/answer_df_part5.csv\n",
      "Saved part 6 to ../../vicuna13b_data/answer_df_part6.csv\n",
      "Saved part 7 to ../../vicuna13b_data/answer_df_part7.csv\n",
      "Saved part 8 to ../../vicuna13b_data/answer_df_part8.csv\n",
      "Saved part 9 to ../../vicuna13b_data/answer_df_part9.csv\n",
      "Saved part 10 to ../../vicuna13b_data/answer_df_part10.csv\n",
      "Saved part 11 to ../../vicuna13b_data/answer_df_part11.csv\n",
      "Saved part 12 to ../../vicuna13b_data/answer_df_part12.csv\n",
      "Saved part 13 to ../../vicuna13b_data/answer_df_part13.csv\n",
      "Saved part 14 to ../../vicuna13b_data/answer_df_part14.csv\n",
      "Saved part 15 to ../../vicuna13b_data/answer_df_part15.csv\n",
      "Saved part 16 to ../../vicuna13b_data/answer_df_part16.csv\n"
     ]
    }
   ],
   "source": [
    "import pandas as pd\n",
    "import numpy as np\n",
    "\n",
    "# Load the CSV file\n",
    "answer_df = pd.read_csv(\"../../data/answer_df_raw.csv\")\n",
    "\n",
    "# Split the DataFrame into 10 parts\n",
    "split_dfs = np.array_split(answer_df, 16)\n",
    "\n",
    "# Save each part as a CSV file\n",
    "for i, df in enumerate(split_dfs, start=1):\n",
    "    file_path = f\"../../vicuna13b_data/answer_df_part{i}.csv\"\n",
    "    df.to_csv(file_path, index=False)\n",
    "    print(f\"Saved part {i} to {file_path}\")"
   ]
  },
  {
   "cell_type": "code",
   "execution_count": 6,
   "id": "6b628f3d-f139-4e46-a4df-84edfa47f9f2",
   "metadata": {},
   "outputs": [],
   "source": [
    "# import pandas as pd\n",
    "# import numpy as np\n",
    "\n",
    "# # read in part 16\n",
    "# df = pd.read_csv(\"../../vicuna13b_data/answer_df_part16.csv\")\n",
    "# # split first 2500 rows into answer_df_part16.csv and the rest of rows to answer_df_part17.csv\n",
    "# first_2500 = df.iloc[:2500]  # First 2500 rows\n",
    "# remaining_rows = df.iloc[2500:]  # Remaining rows\n",
    "# first_2500.to_csv(\"../../vicuna13b_data/answer_df_part16.csv\", index=False)\n",
    "# remaining_rows.to_csv(\"../../vicuna13b_data/answer_df_part17.csv\", index=False)"
   ]
  },
  {
   "cell_type": "code",
   "execution_count": null,
   "id": "92802a77-23f8-42bd-8018-20c09238bb29",
   "metadata": {},
   "outputs": [],
   "source": []
  }
 ],
 "metadata": {
  "kernelspec": {
   "display_name": "Python 3 (ipykernel)",
   "language": "python",
   "name": "python3"
  },
  "language_info": {
   "codemirror_mode": {
    "name": "ipython",
    "version": 3
   },
   "file_extension": ".py",
   "mimetype": "text/x-python",
   "name": "python",
   "nbconvert_exporter": "python",
   "pygments_lexer": "ipython3",
   "version": "3.11.4"
  }
 },
 "nbformat": 4,
 "nbformat_minor": 5
}
