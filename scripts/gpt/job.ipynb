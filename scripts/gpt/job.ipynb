{
 "cells": [
  {
   "cell_type": "code",
   "execution_count": 26,
   "metadata": {},
   "outputs": [],
   "source": [
    "from openai import OpenAI\n",
    "from key import openai_key\n",
    "client = OpenAI(api_key=openai_key)\n",
    "\n",
    "batch_input_file = client.files.create(\n",
    "  file=open(\"../../batch_request.jsonl\", \"rb\"),\n",
    "  purpose=\"batch\"\n",
    ")"
   ]
  },
  {
   "cell_type": "code",
   "execution_count": 27,
   "metadata": {},
   "outputs": [
    {
     "data": {
      "text/plain": [
       "Batch(id='batch_67280b3b035881908257f3c273e4354b', completion_window='24h', created_at=1730677563, endpoint='/v1/chat/completions', input_file_id='file-BasbSBsY7xwzkz9LzAZ81u3p', object='batch', status='validating', cancelled_at=None, cancelling_at=None, completed_at=None, error_file_id=None, errors=None, expired_at=None, expires_at=1730763963, failed_at=None, finalizing_at=None, in_progress_at=None, metadata={'description': 'test'}, output_file_id=None, request_counts=BatchRequestCounts(completed=0, failed=0, total=0))"
      ]
     },
     "execution_count": 27,
     "metadata": {},
     "output_type": "execute_result"
    }
   ],
   "source": [
    "batch_input_file_id = batch_input_file.id\n",
    "\n",
    "metadata = client.batches.create(\n",
    "    input_file_id=batch_input_file_id,\n",
    "    endpoint=\"/v1/chat/completions\",\n",
    "    completion_window=\"24h\",\n",
    "    metadata={\n",
    "      \"description\": \"version 1.0\",\n",
    "    }\n",
    ")\n",
    "\n",
    "metadata"
   ]
  },
  {
   "cell_type": "markdown",
   "metadata": {},
   "source": [
    "# Wait until it finished, you can run it if you are not sure whether it is finished"
   ]
  },
  {
   "cell_type": "code",
   "execution_count": 33,
   "metadata": {},
   "outputs": [
    {
     "name": "stdout",
     "output_type": "stream",
     "text": [
      "{\"id\": \"batch_req_67280bb1e96c81908cf5fc17b0dd8226\", \"custom_id\": \"10002yt\", \"response\": {\"status_code\": 200, \"request_id\": \"979e96804263834879a1add7c1ab558b\", \"body\": {\"id\": \"chatcmpl-APebK8Thb4XMMMWHVapmkg7LkenZ4\", \"object\": \"chat.completion\", \"created\": 1730677634, \"model\": \"gpt-4o-2024-08-06\", \"choices\": [{\"index\": 0, \"message\": {\"role\": \"assistant\", \"content\": \"(1) relation: no, related phrases if any: \\n(2) protein: no, related phrases if any: \\n(3) ed: no, related phrases if any: \\n(4) exercise: yes, related phrases if any: \\\"cardio\\\"\\n(5) meal: no, related phrases if any: \\n(6) crave: no, related phrases if any: \\n(7) restrict: no, related phrases if any: \\n(8) binge: no, related phrases if any: \\n(9) loss: yes, related phrases if any: \\\"20 pound down\\\"\\n(10) gain: no, related phrases if any: \\n(11) calorie: no, related phrases if any: \\n(12) thinspo: no, related phrases if any: \\n(13) leanbody: yes, related phrases if any: \\\"wellness show\\\"\\n(14) bodyhate: no, related phrases if any: \\n(15) feargain: no, related phrases if any: \\n(16) fearfood: no, related phrases if any: \\n(17) fearcarb: no, related phrases if any: \\n(18) nosocialeat: no, related phrases if any: \\n(19) depressedmood: no, related phrases if any: \", \"refusal\": null}, \"logprobs\": null, \"finish_reason\": \"stop\"}], \"usage\": {\"prompt_tokens\": 761, \"completion_tokens\": 269, \"total_tokens\": 1030, \"prompt_tokens_details\": {\"cached_tokens\": 0}, \"completion_tokens_details\": {\"reasoning_tokens\": 0}}, \"system_fingerprint\": \"fp_159d8341cc\"}}, \"error\": null}\n",
      "{\"id\": \"batch_req_67280bb20984819089060a6f8e037b72\", \"custom_id\": \"1003i3b\", \"response\": {\"status_code\": 200, \"request_id\": \"13eef02d4bb8668a6e5c65a0848b6cdd\", \"body\": {\"id\": \"chatcmpl-APebR2UCPPfP2OJHIviwP2RI0tpB8\", \"object\": \"chat.completion\", \"created\": 1730677641, \"model\": \"gpt-4o-2024-08-06\", \"choices\": [{\"index\": 0, \"message\": {\"role\": \"assistant\", \"content\": \"(1) relation: yes, related phrases if any: \\\"all of my friends my bf and my bfs family tell me im skinny.\\\", \\\"my boyfriend was afraid i was going to die.\\\", \\\"he forces me to eat every time im with him. even in front of his family\\\", \\\"it makes me partially dread seeing him bcuz ik he will end up making me eat something.\\\", \\\"he tells me abt his concerns for me\\\"\\n(2) protein: no, related phrases if any: \\n(3) ed: yes, related phrases if any: \\\"bcuz ik he will end up making me eat something.\\\", \\\"my bf just doesnt understand how it feels to have ana.\\\", \\\"i dont want to get better and i wont want to recover until im skinny.\\\"\\n(4) exercise: no, related phrases if any: \\n(5) meal: yes, related phrases if any: \\\"he forces me to eat every time im with him.\\\", \\\"ik i set a goal to eat around 1400 calorie s\\\"\\n(6) crave: no, related phrases if any: \\n(7) restrict: yes, related phrases if any: \\\"and i keep starving myself\\\", \\\"i want to eat nothing.\\\"\\n(8) binge: no, related phrases if any: \\n(9) loss: yes, related phrases if any: \\\"im trying to lose 35 pounds in 6 month s.\\\", \\\"i originally wanted to lose that much in about 34 month s\\\"\\n(10) gain: no, related phrases if any: \\n(11) calorie: yes, related phrases if any: \\\"calorie s intakecounting nonrecovery\\\", \\\"im eating abt 1400 calorie s a day.\\\", \\\"that is pretty average for weight loss.\\\", \\\"ik i set a goal to eat around 1400 calorie s\\\"\\n(12) thinspo: yes, related phrases if any: \\\"i want to eat nothing.\\\", \\\"i dont want to get better and i wont want to recover until im skinny.\\\"\\n(13) leanbody: no, related phrases if any: \\n(14) bodyhate: yes, related phrases if any: \\\"body dysmorphia\\\", \\\"my legs arent thin and my arms have fat on them.\\\"\\n(15) feargain: yes, related phrases if any: \\\"my boyfriend was afraid i was going to die.\\\", \\\"my bf just doesnt understand how it feels to have ana.\\\"\\n(16) fearfood: no, related phrases if any: \\n(17) fearcarb: no, related phrases if any: \\n(18) nosocialeat: yes, related phrases if any: \\\"he forces me to eat every time im with him. even in front of his family and it makes me so uncomfortable.\\\", \\\"it makes me partially dread seeing him bcuz ik he will end up making me eat something.\\\"\\n(19) depressedmood: no, related phrases if any: \", \"refusal\": null}, \"logprobs\": null, \"finish_reason\": \"stop\"}], \"usage\": {\"prompt_tokens\": 1007, \"completion_tokens\": 599, \"total_tokens\": 1606, \"prompt_tokens_details\": {\"cached_tokens\": 0}, \"completion_tokens_details\": {\"reasoning_tokens\": 0}}, \"system_fingerprint\": \"fp_159d8341cc\"}}, \"error\": null}\n",
      "\n"
     ]
    }
   ],
   "source": [
    "batch_id = metadata.id\n",
    "metadata = client.batches.retrieve(batch_id)\n",
    "output_file_id = metadata.output_file_id\n",
    "\n",
    "file_response = client.files.content(output_file_id)\n",
    "output_file_id\n",
    "# print(file_response.text)"
   ]
  },
  {
   "cell_type": "code",
   "execution_count": 55,
   "metadata": {},
   "outputs": [
    {
     "name": "stdout",
     "output_type": "stream",
     "text": [
      "CSV file created at output.csv\n"
     ]
    }
   ],
   "source": [
    "ids = []\n",
    "responses = []\n",
    "for data in file_response.iter_lines():\n",
    "    # print(data)\n",
    "    output = json.loads(data)\n",
    "    \n",
    "    # print(output['custom_id'], output['response']['body']['choices'][0]['message']['content'])\n",
    "    ids.append(output['custom_id'])\n",
    "    responses.append(output['response']['body']['choices'][0]['message']['content'])\n",
    "\n",
    "import pandas as pd\n",
    "df = pd.DataFrame({\"sm_id\": ids,\"responses\": responses})\n",
    "\n",
    "# Write to CSV while preserving line breaks\n",
    "csv_file_path = \"output.csv\"\n",
    "df.to_csv(csv_file_path, index=False, quoting=1)  # quoting=1 is equivalent to csv.QUOTE_ALL\n",
    "\n",
    "print(f\"CSV file created at {csv_file_path}\")\n"
   ]
  },
  {
   "cell_type": "code",
   "execution_count": 56,
   "metadata": {},
   "outputs": [],
   "source": [
    "read_df = pd.read_csv(csv_file_path)"
   ]
  },
  {
   "cell_type": "code",
   "execution_count": 58,
   "metadata": {},
   "outputs": [
    {
     "data": {
      "text/html": [
       "<div>\n",
       "<style scoped>\n",
       "    .dataframe tbody tr th:only-of-type {\n",
       "        vertical-align: middle;\n",
       "    }\n",
       "\n",
       "    .dataframe tbody tr th {\n",
       "        vertical-align: top;\n",
       "    }\n",
       "\n",
       "    .dataframe thead th {\n",
       "        text-align: right;\n",
       "    }\n",
       "</style>\n",
       "<table border=\"1\" class=\"dataframe\">\n",
       "  <thead>\n",
       "    <tr style=\"text-align: right;\">\n",
       "      <th></th>\n",
       "      <th>sm_id</th>\n",
       "      <th>responses</th>\n",
       "    </tr>\n",
       "  </thead>\n",
       "  <tbody>\n",
       "    <tr>\n",
       "      <th>0</th>\n",
       "      <td>10002yt</td>\n",
       "      <td>(1) relation: no, related phrases if any: \\n(2...</td>\n",
       "    </tr>\n",
       "    <tr>\n",
       "      <th>1</th>\n",
       "      <td>1003i3b</td>\n",
       "      <td>(1) relation: yes, related phrases if any: \"al...</td>\n",
       "    </tr>\n",
       "  </tbody>\n",
       "</table>\n",
       "</div>"
      ],
      "text/plain": [
       "     sm_id                                          responses\n",
       "0  10002yt  (1) relation: no, related phrases if any: \\n(2...\n",
       "1  1003i3b  (1) relation: yes, related phrases if any: \"al..."
      ]
     },
     "execution_count": 58,
     "metadata": {},
     "output_type": "execute_result"
    }
   ],
   "source": [
    "read_df.head()"
   ]
  },
  {
   "cell_type": "code",
   "execution_count": null,
   "metadata": {},
   "outputs": [],
   "source": [
    "read"
   ]
  }
 ],
 "metadata": {
  "kernelspec": {
   "display_name": "p310",
   "language": "python",
   "name": "python3"
  },
  "language_info": {
   "codemirror_mode": {
    "name": "ipython",
    "version": 3
   },
   "file_extension": ".py",
   "mimetype": "text/x-python",
   "name": "python",
   "nbconvert_exporter": "python",
   "pygments_lexer": "ipython3",
   "version": "3.10.15"
  }
 },
 "nbformat": 4,
 "nbformat_minor": 2
}
