{
 "cells": [
  {
   "cell_type": "code",
   "execution_count": null,
   "metadata": {},
   "outputs": [
    {
     "name": "stdout",
     "output_type": "stream",
     "text": [
      "Batch(id='batch_67285e6419c88190abe14329db2a30b6', completion_window='24h', created_at=1730698852, endpoint='/v1/chat/completions', input_file_id='file-zzVeklvTxvTUOMQNGL1PfKiY', object='batch', status='validating', cancelled_at=None, cancelling_at=None, completed_at=None, error_file_id=None, errors=None, expired_at=None, expires_at=1730785252, failed_at=None, finalizing_at=None, in_progress_at=None, metadata={'description': 'version 1.0'}, output_file_id=None, request_counts=BatchRequestCounts(completed=0, failed=0, total=0))\n"
     ]
    }
   ],
   "source": [
    "from openai import OpenAI\n",
    "from key import openai_key\n",
    "client = OpenAI(api_key=openai_key)\n",
    "\n",
    "\n",
    "\n",
    "# for b in range(80):\n",
    "\n",
    "#   batch_input_file = client.files.create(\n",
    "#     file=open(\"../../data/batch_request_gpt4omini_\"+str(b+1)+\".jsonl\", \"rb\"),\n",
    "#     purpose=\"batch\"\n",
    "#   )\n",
    "#   batch_input_file_id = batch_input_file.id\n",
    "\n",
    "#   metadata = client.batches.create(\n",
    "#       input_file_id=batch_input_file_id,\n",
    "#       endpoint=\"/v1/chat/completions\",\n",
    "#       completion_window=\"5h\",\n",
    "#       metadata={\n",
    "#         \"description\": \"version 1.0\",\n",
    "#       }\n",
    "#   )\n",
    "\n",
    "#   print(metadata)\n",
    "\n",
    "b=1\n",
    "# around 30min to run one batch\n",
    "batch_input_file = client.files.create(\n",
    "  file=open(\"../../data/batch_request_gpt4omini_\"+str(b+1)+\".jsonl\", \"rb\"),\n",
    "  purpose=\"batch\"\n",
    ")\n",
    "batch_input_file_id = batch_input_file.id\n",
    "\n",
    "metadata = client.batches.create(\n",
    "    input_file_id=batch_input_file_id,\n",
    "    endpoint=\"/v1/chat/completions\",\n",
    "    completion_window=\"24h\",\n",
    "    metadata={\n",
    "      \"description\": \"version 1.0\",\n",
    "    }\n",
    ")\n",
    "\n",
    "print(metadata)\n"
   ]
  },
  {
   "cell_type": "markdown",
   "metadata": {},
   "source": [
    "# Wait until it finished, you can run it if you are not sure whether it is finished"
   ]
  },
  {
   "cell_type": "code",
   "execution_count": 18,
   "metadata": {},
   "outputs": [
    {
     "name": "stdout",
     "output_type": "stream",
     "text": [
      "completed\n"
     ]
    },
    {
     "data": {
      "text/plain": [
       "'file-tHvpUnHH9bAVYIlNR24A3RfT'"
      ]
     },
     "execution_count": 18,
     "metadata": {},
     "output_type": "execute_result"
    }
   ],
   "source": [
    "batch_id = metadata.id\n",
    "metadata = client.batches.retrieve(batch_id)\n",
    "batch_status = metadata.status \n",
    "print(batch_status)\n",
    "output_file_id = metadata.output_file_id\n",
    "\n",
    "file_response = client.files.content(output_file_id)\n",
    "output_file_id\n",
    "# print(file_response.text)"
   ]
  },
  {
   "cell_type": "code",
   "execution_count": null,
   "metadata": {},
   "outputs": [
    {
     "name": "stdout",
     "output_type": "stream",
     "text": [
      "CSV file created at ../../gpt_data/output2.csv\n"
     ]
    }
   ],
   "source": [
    "import json \n",
    "ids = []\n",
    "responses = []\n",
    "for data in file_response.iter_lines():\n",
    "    # print(data)\n",
    "    output = json.loads(data)\n",
    "    \n",
    "    # print(output['custom_id'], output['response']['body']['choices'][0]['message']['content'])\n",
    "    ids.append(output['custom_id'])\n",
    "    responses.append(output['response']['body']['choices'][0]['message']['content'])\n",
    "\n",
    "import pandas as pd\n",
    "df = pd.DataFrame({\"sm_id\": ids,\"responses\": responses})\n",
    "\n",
    "# Write to CSV while preserving line breaks\n",
    "csv_file_path = \"../../gpt_data/output\"+str(b+1)+\".csv\"\n",
    "df.to_csv(csv_file_path, index=False, quoting=1)  # quoting=1 is equivalent to csv.QUOTE_ALL\n",
    "print(f\"CSV file created at {csv_file_path}\")\n"
   ]
  },
  {
   "cell_type": "code",
   "execution_count": 20,
   "metadata": {},
   "outputs": [
    {
     "data": {
      "text/html": [
       "<div>\n",
       "<style scoped>\n",
       "    .dataframe tbody tr th:only-of-type {\n",
       "        vertical-align: middle;\n",
       "    }\n",
       "\n",
       "    .dataframe tbody tr th {\n",
       "        vertical-align: top;\n",
       "    }\n",
       "\n",
       "    .dataframe thead th {\n",
       "        text-align: right;\n",
       "    }\n",
       "</style>\n",
       "<table border=\"1\" class=\"dataframe\">\n",
       "  <thead>\n",
       "    <tr style=\"text-align: right;\">\n",
       "      <th></th>\n",
       "      <th>sm_id</th>\n",
       "      <th>responses</th>\n",
       "    </tr>\n",
       "  </thead>\n",
       "  <tbody>\n",
       "    <tr>\n",
       "      <th>0</th>\n",
       "      <td>111334d</td>\n",
       "      <td>(1) relation: [no], related phrases if any:  \\...</td>\n",
       "    </tr>\n",
       "    <tr>\n",
       "      <th>1</th>\n",
       "      <td>1115m19</td>\n",
       "      <td>(1) relation: [yes], related phrases if any: r...</td>\n",
       "    </tr>\n",
       "    <tr>\n",
       "      <th>2</th>\n",
       "      <td>11161im</td>\n",
       "      <td>(1) relation: [yes], related phrases if any: \"...</td>\n",
       "    </tr>\n",
       "    <tr>\n",
       "      <th>3</th>\n",
       "      <td>1116b9m</td>\n",
       "      <td>(1) relation: yes, related phrases if any: fam...</td>\n",
       "    </tr>\n",
       "    <tr>\n",
       "      <th>4</th>\n",
       "      <td>11174df</td>\n",
       "      <td>(1) relation: [no], related phrases if any:  \\...</td>\n",
       "    </tr>\n",
       "  </tbody>\n",
       "</table>\n",
       "</div>"
      ],
      "text/plain": [
       "     sm_id                                          responses\n",
       "0  111334d  (1) relation: [no], related phrases if any:  \\...\n",
       "1  1115m19  (1) relation: [yes], related phrases if any: r...\n",
       "2  11161im  (1) relation: [yes], related phrases if any: \"...\n",
       "3  1116b9m  (1) relation: yes, related phrases if any: fam...\n",
       "4  11174df  (1) relation: [no], related phrases if any:  \\..."
      ]
     },
     "execution_count": 20,
     "metadata": {},
     "output_type": "execute_result"
    }
   ],
   "source": [
    "read_df = pd.read_csv(csv_file_path)\n",
    "read_df.head()"
   ]
  },
  {
   "cell_type": "code",
   "execution_count": null,
   "metadata": {},
   "outputs": [],
   "source": []
  },
  {
   "cell_type": "code",
   "execution_count": null,
   "metadata": {},
   "outputs": [],
   "source": []
  },
  {
   "cell_type": "code",
   "execution_count": null,
   "metadata": {},
   "outputs": [],
   "source": []
  },
  {
   "cell_type": "code",
   "execution_count": null,
   "metadata": {},
   "outputs": [],
   "source": []
  },
  {
   "cell_type": "markdown",
   "metadata": {},
   "source": [
    "# continue processing batch by batch"
   ]
  },
  {
   "cell_type": "code",
   "execution_count": null,
   "metadata": {},
   "outputs": [
    {
     "name": "stdout",
     "output_type": "stream",
     "text": [
      " ----- start processing 3 ----- \n"
     ]
    }
   ],
   "source": [
    "import json \n",
    "import os\n",
    "import time\n",
    "import pandas as pd\n",
    "from openai import OpenAI\n",
    "from key import openai_key\n",
    "client = OpenAI(api_key=openai_key)\n",
    "\n",
    "for b in range(80):\n",
    "\n",
    "  csv_file_path = \"../../gpt_data/output\"+str(b+1)+\".csv\"\n",
    "\n",
    "  # Check if the CSV file already exists\n",
    "  if not os.path.exists(csv_file_path):\n",
    "    print( \" ----- start processing \" + str(b+1) + \" ----- \")\n",
    "\n",
    "    batch_input_file = client.files.create(\n",
    "      file=open(\"../../data/batch_request_gpt4omini_\"+str(b+1)+\".jsonl\", \"rb\"),\n",
    "      purpose=\"batch\"\n",
    "    )\n",
    "    batch_input_file_id = batch_input_file.id\n",
    "    metadata = client.batches.create(\n",
    "        input_file_id=batch_input_file_id,\n",
    "        endpoint=\"/v1/chat/completions\",\n",
    "        completion_window=\"24h\",\n",
    "        metadata={\n",
    "          \"description\": \"version 1.0\",\n",
    "        }\n",
    "    )\n",
    "\n",
    "\n",
    "    batch_id = metadata.id\n",
    "    batch_status = metadata.status\n",
    "\n",
    "    # Poll every 5 minutes for batch status until completed\n",
    "    while batch_status != \"completed\":\n",
    "        time.sleep(60*5)  # Sleep for 5 minutes \n",
    "        \n",
    "        # Retrieve the latest metadata to check the status\n",
    "        metadata = client.batches.retrieve(batch_id)\n",
    "        batch_status = metadata.status\n",
    "        print(f\"Batch {b + 1} status: {batch_status}\")\n",
    "        \n",
    "        if batch_status == \"completed\":\n",
    "            print(f\"Batch {b + 1} has completed.\")\n",
    "            break\n",
    "        \n",
    "\n",
    "    output_file_id = metadata.output_file_id\n",
    "    file_response = client.files.content(output_file_id)\n",
    "    ids = []\n",
    "    responses = []\n",
    "    for data in file_response.iter_lines():\n",
    "        output = json.loads(data)\n",
    "        ids.append(output['custom_id'])\n",
    "        responses.append(output['response']['body']['choices'][0]['message']['content'])\n",
    "\n",
    "    \n",
    "    df = pd.DataFrame({\"sm_id\": ids,\"responses\": responses})\n",
    "    # Write to CSV while preserving line breaks\n",
    "    df.to_csv(csv_file_path, index=False, quoting=1)  # quoting=1 is equivalent to csv.QUOTE_ALL\n",
    "    print(f\"CSV file created at {csv_file_path}\")\n"
   ]
  },
  {
   "cell_type": "code",
   "execution_count": null,
   "metadata": {},
   "outputs": [],
   "source": []
  }
 ],
 "metadata": {
  "kernelspec": {
   "display_name": "p310",
   "language": "python",
   "name": "python3"
  },
  "language_info": {
   "codemirror_mode": {
    "name": "ipython",
    "version": 3
   },
   "file_extension": ".py",
   "mimetype": "text/x-python",
   "name": "python",
   "nbconvert_exporter": "python",
   "pygments_lexer": "ipython3",
   "version": "3.10.15"
  }
 },
 "nbformat": 4,
 "nbformat_minor": 2
}
