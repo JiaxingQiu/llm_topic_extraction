{
 "cells": [
  {
   "cell_type": "code",
   "execution_count": 2,
   "id": "1dc521ed-8a8e-4c31-b807-2c31b1801851",
   "metadata": {
    "tags": []
   },
   "outputs": [],
   "source": [
    "# import pandas as pd\n",
    "# answer_df = pd.read_csv(\"../../data2/answer_df_mistral.csv\")\n",
    "# answer_df.iloc[0:500].to_csv(\"../../data2/answer_df_mistral1.csv\", index=False)\n",
    "# answer_df.iloc[500:1000].to_csv(\"../../data2/answer_df_mistral2.csv\", index=False)\n",
    "# answer_df.iloc[1000:].to_csv(\"../../data2/answer_df_mistral3.csv\", index=False)\n"
   ]
  },
  {
   "cell_type": "code",
   "execution_count": 5,
   "id": "e7926e44-e3fb-46fd-b2df-7b4b0a2ba658",
   "metadata": {
    "tags": []
   },
   "outputs": [
    {
     "name": "stdout",
     "output_type": "stream",
     "text": [
      "True\n"
     ]
    },
    {
     "data": {
      "application/vnd.jupyter.widget-view+json": {
       "model_id": "ba3a1c8615c641cd85d117bc0b4602a7",
       "version_major": 2,
       "version_minor": 0
      },
      "text/plain": [
       "Loading checkpoint shards:   0%|          | 0/3 [00:00<?, ?it/s]"
      ]
     },
     "metadata": {},
     "output_type": "display_data"
    }
   ],
   "source": [
    "from transformers import AutoTokenizer, AutoModelForCausalLM\n",
    "import transformers\n",
    "import torch\n",
    "\n",
    "\n",
    "print(torch.cuda.is_available())\n",
    "if torch.cuda.is_available():\n",
    "    torch.cuda.empty_cache()\n",
    "device = 0 if torch.cuda.is_available() else -1  # Use GPU if available, otherwise fallback to CPU\n",
    "model_id = \"mistralai/Mistral-7B-Instruct-v0.3\"\n",
    "tokenizer = AutoTokenizer.from_pretrained(model_id)\n",
    "model = AutoModelForCausalLM.from_pretrained(model_id, \n",
    "                                             torch_dtype=torch.bfloat16, \n",
    "                                             device_map=device)\n",
    "\n"
   ]
  },
  {
   "cell_type": "code",
   "execution_count": 3,
   "id": "ed35cb06-f64a-4245-a7e3-854eebf71e50",
   "metadata": {
    "tags": []
   },
   "outputs": [],
   "source": [
    "piece_id = 1\n",
    "answer_df_path = \"../../data2/answer_df_mistral\"+str(piece_id)+\".csv\""
   ]
  },
  {
   "cell_type": "code",
   "execution_count": 4,
   "id": "077d9ca3-158b-4589-9dce-fdd7730550d6",
   "metadata": {
    "tags": []
   },
   "outputs": [
    {
     "name": "stdout",
     "output_type": "stream",
     "text": [
      "(500, 3)\n",
      "     sm_id                                         text_w_eos  answer_string\n",
      "490   1892  telling me to grow up and snap out of it.     ...            NaN\n",
      "491   1764                                       about weight            NaN\n",
      "492   2053  your weight is fine... comments on appearance,...            NaN\n",
      "493   2192  primary care doctor congratulated me on losing...            NaN\n",
      "494   1650                                     weight related            NaN\n",
      "495   4779              your not skinny, do you have a phych,            NaN\n",
      "496    787  i weigh too much to have an eating disorder  i...            NaN\n",
      "497   2563  an old psychiatrist said i was okay (when i wa...            NaN\n",
      "498    508  after disclosing my restrictive behaviors to m...            NaN\n",
      "499   3670        weight-loss encouragement, lack of support.            NaN\n"
     ]
    },
    {
     "data": {
      "text/html": [
       "<div>\n",
       "<style scoped>\n",
       "    .dataframe tbody tr th:only-of-type {\n",
       "        vertical-align: middle;\n",
       "    }\n",
       "\n",
       "    .dataframe tbody tr th {\n",
       "        vertical-align: top;\n",
       "    }\n",
       "\n",
       "    .dataframe thead th {\n",
       "        text-align: right;\n",
       "    }\n",
       "</style>\n",
       "<table border=\"1\" class=\"dataframe\">\n",
       "  <thead>\n",
       "    <tr style=\"text-align: right;\">\n",
       "      <th></th>\n",
       "      <th>fea</th>\n",
       "      <th>description</th>\n",
       "    </tr>\n",
       "  </thead>\n",
       "  <tbody>\n",
       "    <tr>\n",
       "      <th>0</th>\n",
       "      <td>weightbasedhealth</td>\n",
       "      <td>Judgments about health based on weight or appe...</td>\n",
       "    </tr>\n",
       "    <tr>\n",
       "      <th>1</th>\n",
       "      <td>weightstigma</td>\n",
       "      <td>Negative attitudes, discrimination, or prejudi...</td>\n",
       "    </tr>\n",
       "    <tr>\n",
       "      <th>2</th>\n",
       "      <td>weightbasedhealthcare</td>\n",
       "      <td>Healthcare decisions influenced by weight. Not...</td>\n",
       "    </tr>\n",
       "    <tr>\n",
       "      <th>3</th>\n",
       "      <td>encourageweightloss</td>\n",
       "      <td>Encouragement of weight loss</td>\n",
       "    </tr>\n",
       "    <tr>\n",
       "      <th>4</th>\n",
       "      <td>dietpromotion</td>\n",
       "      <td>Advocacy for diets or restrictive eating</td>\n",
       "    </tr>\n",
       "    <tr>\n",
       "      <th>5</th>\n",
       "      <td>thinness</td>\n",
       "      <td>Reassurance of thinness. Maintaining thinness</td>\n",
       "    </tr>\n",
       "    <tr>\n",
       "      <th>6</th>\n",
       "      <td>notlowweightenough</td>\n",
       "      <td>Not sick enough, or not thin enought, or not l...</td>\n",
       "    </tr>\n",
       "    <tr>\n",
       "      <th>7</th>\n",
       "      <td>weightblame</td>\n",
       "      <td>Weight blamed for health issues or concerns</td>\n",
       "    </tr>\n",
       "    <tr>\n",
       "      <th>8</th>\n",
       "      <td>weightvalue</td>\n",
       "      <td>Weight tied to personality characteristics</td>\n",
       "    </tr>\n",
       "  </tbody>\n",
       "</table>\n",
       "</div>"
      ],
      "text/plain": [
       "                     fea                                        description\n",
       "0      weightbasedhealth  Judgments about health based on weight or appe...\n",
       "1           weightstigma  Negative attitudes, discrimination, or prejudi...\n",
       "2  weightbasedhealthcare  Healthcare decisions influenced by weight. Not...\n",
       "3    encourageweightloss                       Encouragement of weight loss\n",
       "4          dietpromotion           Advocacy for diets or restrictive eating\n",
       "5               thinness      Reassurance of thinness. Maintaining thinness\n",
       "6     notlowweightenough  Not sick enough, or not thin enought, or not l...\n",
       "7            weightblame        Weight blamed for health issues or concerns\n",
       "8            weightvalue         Weight tied to personality characteristics"
      ]
     },
     "execution_count": 4,
     "metadata": {},
     "output_type": "execute_result"
    }
   ],
   "source": [
    "import pandas as pd\n",
    "import numpy as np\n",
    "answer_df = pd.read_csv(answer_df_path)\n",
    "query_df = pd.read_csv(\"../../data2/fea_df.csv\")\n",
    "\n",
    "if not 'answer_string' in answer_df.columns:\n",
    "    answer_df['answer_string'] = np.nan\n",
    "    \n",
    "print(answer_df.shape)\n",
    "print(answer_df.iloc[(answer_df.shape[0]-10):answer_df.shape[0],[0,1,2]])\n",
    "query_df"
   ]
  },
  {
   "cell_type": "code",
   "execution_count": 6,
   "id": "ace1fc73-85fd-440a-a61b-59922685c3ef",
   "metadata": {
    "tags": []
   },
   "outputs": [],
   "source": [
    "# # in replace of system message\n",
    "# def get_topic_label(label: str, relatedphrases: str):\n",
    "#     \"\"\"\n",
    "#     Answer whether any topic exists in a paragraph. Only return answer.\n",
    "    \n",
    "#     Args:\n",
    "#         label: whether a topic exists in the given paragraph, (yes/no).\n",
    "#         relatedphrases: if yes, provide the phrases in the paragraph that are related to the topic. (related phrases: ...)\n",
    "#     \"\"\"\n",
    "#     pass\n",
    "# in replace of system message\n",
    "system_message = \"\"\"\n",
    "You are an AI assistant designed to answer questions.\n",
    "Use the exact answer format asked.\n",
    "\"\"\"\n",
    "\n",
    "def get_topic_label():\n",
    "    \"\"\"\n",
    "    Answer questions.\n",
    "    Restrict to the exact answer format.\n",
    "    Provide related phrases from the paragraph, only if the answer is yes.\n",
    "    \"\"\"\n",
    "    pass\n",
    "tools = [get_topic_label]\n",
    "\n",
    "def format_user_message(text):\n",
    "    question_content = \"The provided parapraph is eating disorders patients' experiences with physicians. Weight stigma is indicated by weight-or-appearance-related treatment or judgement in this context. Does the paragraph mention any of the following topics:\\n\"\n",
    "    for i in range(len(query_df)):\n",
    "        question_content += f\"  ({i+1}) {query_df.fea[i]}: {query_df.description[i]}.\\n\"\n",
    "    answer_content = \"Return answer in format: Answer starts here:\\n\"\n",
    "    for i in range(len(query_df)): \n",
    "        answer_content += f\"  ({i+1}) {query_df.fea[i]}: yes/no, related phrases if any: \\n\"\n",
    "    paragragh_content = f\"Paragraph: '{text}' \\n\"\n",
    "    user_message = question_content + paragragh_content + answer_content\n",
    "    #print(user_message)\n",
    "    \n",
    "    return user_message\n",
    "\n",
    "\n"
   ]
  },
  {
   "cell_type": "code",
   "execution_count": 7,
   "id": "b12809d4-434d-45d8-bdac-cc5d70e372c1",
   "metadata": {
    "scrolled": true,
    "tags": []
   },
   "outputs": [
    {
     "name": "stderr",
     "output_type": "stream",
     "text": [
      "Processing batch:   0%|          | 0/1000 [00:00<?, ?it/s]Setting `pad_token_id` to `eos_token_id`:None for open-end generation.\n",
      "Setting `pad_token_id` to `eos_token_id`:None for open-end generation.\n",
      "Setting `pad_token_id` to `eos_token_id`:None for open-end generation.\n",
      "Setting `pad_token_id` to `eos_token_id`:None for open-end generation.\n",
      "Setting `pad_token_id` to `eos_token_id`:None for open-end generation.\n",
      "Setting `pad_token_id` to `eos_token_id`:None for open-end generation.\n",
      "Setting `pad_token_id` to `eos_token_id`:None for open-end generation.\n",
      "Setting `pad_token_id` to `eos_token_id`:None for open-end generation.\n",
      "Setting `pad_token_id` to `eos_token_id`:None for open-end generation.\n",
      "Setting `pad_token_id` to `eos_token_id`:None for open-end generation.\n",
      "Processing batch:   0%|          | 1/1000 [01:06<18:22:34, 66.22s/it]Setting `pad_token_id` to `eos_token_id`:None for open-end generation.\n"
     ]
    },
    {
     "name": "stdout",
     "output_type": "stream",
     "text": [
      "   sm_id                                      answer_string\n",
      "0   1690  \\n  (1) weightbasedhealth: yes, the cardiologi...\n",
      "1    724  \\n  (1) weightbasedhealth: yes, related phrase...\n",
      "2   2800  \\n  (1) weightbasedhealth: yes, the person who...\n",
      "3   1771  \\n  (1) weightbasedhealth: yes, related phrase...\n",
      "4   1975  \\n  (1) weightbasedhealth: yes, related phrase...\n",
      "5    126  \\n  (1) weightbasedhealth: yes, related phrase...\n",
      "6   1511  \\n  (1) weightbasedhealth: yes, related phrase...\n",
      "7   4091  \\n  (1) weightbasedhealth: yes, related phrase...\n",
      "8    371  \\n  (1) weightbasedhealth: yes, the statement ...\n",
      "9   4313  \\n  (1) weightbasedhealth: yes, related phrase...\n"
     ]
    },
    {
     "name": "stderr",
     "output_type": "stream",
     "text": [
      "Setting `pad_token_id` to `eos_token_id`:None for open-end generation.\n",
      "Setting `pad_token_id` to `eos_token_id`:None for open-end generation.\n",
      "Setting `pad_token_id` to `eos_token_id`:None for open-end generation.\n",
      "Setting `pad_token_id` to `eos_token_id`:None for open-end generation.\n",
      "Setting `pad_token_id` to `eos_token_id`:None for open-end generation.\n",
      "Setting `pad_token_id` to `eos_token_id`:None for open-end generation.\n",
      "Setting `pad_token_id` to `eos_token_id`:None for open-end generation.\n",
      "Setting `pad_token_id` to `eos_token_id`:None for open-end generation.\n",
      "Setting `pad_token_id` to `eos_token_id`:None for open-end generation.\n",
      "Processing batch:   0%|          | 2/1000 [02:15<18:46:50, 67.75s/it]Setting `pad_token_id` to `eos_token_id`:None for open-end generation.\n"
     ]
    },
    {
     "name": "stdout",
     "output_type": "stream",
     "text": [
      "    sm_id                                      answer_string\n",
      "10    430  \\n  (1) weightbasedhealth: yes, related phrase...\n",
      "11     70  \\n  (1) weightbasedhealth: yes, related phrase...\n",
      "12   2225  \\n  (1) weightbasedhealth: yes, related phrase...\n",
      "13    578  \\n  (1) weightbasedhealth: yes, as the mention...\n",
      "14    913  \\n  (1) weightbasedhealth: yes, the doctor's s...\n",
      "15   2367  \\n  (1) weightbasedhealth: yes, related phrase...\n",
      "16   4577  \\n  (1) weightbasedhealth: yes, the statement ...\n",
      "17   2536  \\n  (1) weightbasedhealth: yes, related phrase...\n",
      "18   1085  \\n  (1) weightbasedhealth: yes, related phrase...\n",
      "19   3916  \\n  (1) weightbasedhealth: yes, related phrase...\n"
     ]
    },
    {
     "name": "stderr",
     "output_type": "stream",
     "text": [
      "Setting `pad_token_id` to `eos_token_id`:None for open-end generation.\n",
      "Setting `pad_token_id` to `eos_token_id`:None for open-end generation.\n",
      "Setting `pad_token_id` to `eos_token_id`:None for open-end generation.\n",
      "Setting `pad_token_id` to `eos_token_id`:None for open-end generation.\n",
      "Setting `pad_token_id` to `eos_token_id`:None for open-end generation.\n",
      "Setting `pad_token_id` to `eos_token_id`:None for open-end generation.\n",
      "Setting `pad_token_id` to `eos_token_id`:None for open-end generation.\n",
      "Setting `pad_token_id` to `eos_token_id`:None for open-end generation.\n",
      "Setting `pad_token_id` to `eos_token_id`:None for open-end generation.\n",
      "Processing batch:   0%|          | 3/1000 [03:22<18:43:10, 67.59s/it]Setting `pad_token_id` to `eos_token_id`:None for open-end generation.\n"
     ]
    },
    {
     "name": "stdout",
     "output_type": "stream",
     "text": [
      "    sm_id                                      answer_string\n",
      "20   4197  \\n  (1) weightbasedhealth: yes, related phrase...\n",
      "21   3364  \\n  (1) weightbasedhealth: yes, related phrase...\n",
      "22   4698  \\n  (1) weightbasedhealth: yes, the doctor's s...\n",
      "23   4666  \\n  (1) weightbasedhealth: yes, the dentist ma...\n",
      "24   1612  \\n  (1) weightbasedhealth: no, related phrases...\n",
      "25   4747  \\n  (1) weightbasedhealth: yes, the doctor's a...\n",
      "26   3797  \\n  (1) weightbasedhealth: yes, related phrase...\n",
      "27   2738  \\n  (1) weightbasedhealth: yes, related phrase...\n",
      "28   2943  \\n  (1) weightbasedhealth: no\\n  (2) weightsti...\n",
      "29   3810  \\n  (1) weightbasedhealth: yes, related phrase...\n"
     ]
    },
    {
     "name": "stderr",
     "output_type": "stream",
     "text": [
      "Setting `pad_token_id` to `eos_token_id`:None for open-end generation.\n",
      "Setting `pad_token_id` to `eos_token_id`:None for open-end generation.\n",
      "Setting `pad_token_id` to `eos_token_id`:None for open-end generation.\n",
      "Setting `pad_token_id` to `eos_token_id`:None for open-end generation.\n",
      "Setting `pad_token_id` to `eos_token_id`:None for open-end generation.\n",
      "Setting `pad_token_id` to `eos_token_id`:None for open-end generation.\n",
      "Setting `pad_token_id` to `eos_token_id`:None for open-end generation.\n",
      "Setting `pad_token_id` to `eos_token_id`:None for open-end generation.\n",
      "Setting `pad_token_id` to `eos_token_id`:None for open-end generation.\n",
      "Processing batch:   0%|          | 4/1000 [04:31<18:54:39, 68.35s/it]Setting `pad_token_id` to `eos_token_id`:None for open-end generation.\n"
     ]
    },
    {
     "name": "stdout",
     "output_type": "stream",
     "text": [
      "    sm_id                                      answer_string\n",
      "30   4073  \\n  (1) weightbasedhealth: yes, related phrase...\n",
      "31   1532  \\n  (1) weightbasedhealth: yes, related phrase...\n",
      "32   3399  \\n  (1) weightbasedhealth: yes, related phrase...\n",
      "33   1020  \\n  (1) weightbasedhealth: yes, related phrase...\n",
      "34    778  \\n  (1) weightbasedhealth: yes, the patient wa...\n",
      "35    309  \\n  (1) weightbasedhealth: yes, related phrase...\n",
      "36   2252  \\n  (1) weightbasedhealth: yes, the primary ca...\n",
      "37   1461  \\n  (1) weightbasedhealth: no\\n  (2) weightsti...\n",
      "38   3697  \\n  (1) weightbasedhealth: yes, related phrase...\n",
      "39   2138  \\n  (1) weightbasedhealth: yes, the patient is...\n"
     ]
    },
    {
     "name": "stderr",
     "output_type": "stream",
     "text": [
      "Setting `pad_token_id` to `eos_token_id`:None for open-end generation.\n",
      "Setting `pad_token_id` to `eos_token_id`:None for open-end generation.\n",
      "Setting `pad_token_id` to `eos_token_id`:None for open-end generation.\n",
      "Setting `pad_token_id` to `eos_token_id`:None for open-end generation.\n",
      "Setting `pad_token_id` to `eos_token_id`:None for open-end generation.\n",
      "Setting `pad_token_id` to `eos_token_id`:None for open-end generation.\n",
      "Setting `pad_token_id` to `eos_token_id`:None for open-end generation.\n",
      "Setting `pad_token_id` to `eos_token_id`:None for open-end generation.\n",
      "Setting `pad_token_id` to `eos_token_id`:None for open-end generation.\n",
      "Processing batch:   0%|          | 5/1000 [05:26<17:29:11, 63.27s/it]Setting `pad_token_id` to `eos_token_id`:None for open-end generation.\n"
     ]
    },
    {
     "name": "stdout",
     "output_type": "stream",
     "text": [
      "    sm_id                                      answer_string\n",
      "40   1217  \\n  (1) weightbasedhealth: yes, related phrase...\n",
      "41   4863  \\n  (1) weightbasedhealth: no, related phrases...\n",
      "42    257  \\n  (1) weightbasedhealth: yes, related phrase...\n",
      "43   3008  \\n  (1) weightbasedhealth: yes, related phrase...\n",
      "44   3181  \\n  (1) weightbasedhealth: yes, \"pasta is bad ...\n",
      "45   3028  \\n  (1) weightbasedhealth: yes, related phrase...\n",
      "46   1449  \\n  (1) weightbasedhealth: yes, related phrase...\n",
      "47   4183  \\n  (1) weightbasedhealth: yes, related phrase...\n",
      "48    269  \\n  (1) weightbasedhealth: yes, as the patient...\n",
      "49    240  \\n  (1) weightbasedhealth: yes, related phrase...\n"
     ]
    },
    {
     "name": "stderr",
     "output_type": "stream",
     "text": [
      "Setting `pad_token_id` to `eos_token_id`:None for open-end generation.\n",
      "Setting `pad_token_id` to `eos_token_id`:None for open-end generation.\n",
      "Setting `pad_token_id` to `eos_token_id`:None for open-end generation.\n",
      "Setting `pad_token_id` to `eos_token_id`:None for open-end generation.\n",
      "Setting `pad_token_id` to `eos_token_id`:None for open-end generation.\n",
      "Setting `pad_token_id` to `eos_token_id`:None for open-end generation.\n",
      "Setting `pad_token_id` to `eos_token_id`:None for open-end generation.\n",
      "Setting `pad_token_id` to `eos_token_id`:None for open-end generation.\n",
      "Setting `pad_token_id` to `eos_token_id`:None for open-end generation.\n",
      "Processing batch:   1%|          | 6/1000 [06:24<16:57:32, 61.42s/it]Setting `pad_token_id` to `eos_token_id`:None for open-end generation.\n"
     ]
    },
    {
     "name": "stdout",
     "output_type": "stream",
     "text": [
      "    sm_id                                      answer_string\n",
      "50   2650  \\n  (1) weightbasedhealth: yes, the PCP tells ...\n",
      "51   2569  \\n  (1) weightbasedhealth: yes, related phrase...\n",
      "52    629  \\n  (1) weightbasedhealth: yes, related phrase...\n",
      "53    233  \\n  (1) weightbasedhealth: yes, related phrase...\n",
      "54   1443  \\n  (1) weightbasedhealth: yes, primary care p...\n",
      "55    684  \\n  (1) weightbasedhealth: yes, related phrase...\n",
      "56   3905  \\n  (1) weightbasedhealth: yes, related phrase...\n",
      "57   2844  \\n  (1) weightbasedhealth: yes, related phrase...\n",
      "58   1170  \\n  (1) weightbasedhealth: yes, the therapist ...\n",
      "59   4836  \\n  (1) weightbasedhealth: no\\n  (2) weightsti...\n"
     ]
    },
    {
     "name": "stderr",
     "output_type": "stream",
     "text": [
      "Setting `pad_token_id` to `eos_token_id`:None for open-end generation.\n",
      "Setting `pad_token_id` to `eos_token_id`:None for open-end generation.\n",
      "Setting `pad_token_id` to `eos_token_id`:None for open-end generation.\n",
      "Setting `pad_token_id` to `eos_token_id`:None for open-end generation.\n",
      "Setting `pad_token_id` to `eos_token_id`:None for open-end generation.\n",
      "Setting `pad_token_id` to `eos_token_id`:None for open-end generation.\n",
      "Setting `pad_token_id` to `eos_token_id`:None for open-end generation.\n",
      "Setting `pad_token_id` to `eos_token_id`:None for open-end generation.\n",
      "Setting `pad_token_id` to `eos_token_id`:None for open-end generation.\n",
      "Processing batch:   1%|          | 7/1000 [07:24<16:49:03, 60.97s/it]Setting `pad_token_id` to `eos_token_id`:None for open-end generation.\n"
     ]
    },
    {
     "name": "stdout",
     "output_type": "stream",
     "text": [
      "    sm_id                                      answer_string\n",
      "60   3026  \\n  (1) weightbasedhealth: yes, the paragraph ...\n",
      "61     69  \\n  (1) weightbasedhealth: yes, the therapist'...\n",
      "62    965  \\n  (1) weightbasedhealth: yes, the patient is...\n",
      "63    516  \\n  (1) weightbasedhealth: yes, related phrase...\n",
      "64    867  \\n  (1) weightbasedhealth: yes, related phrase...\n",
      "65    334  \\n  (1) weightbasedhealth: no\\n  (2) weightsti...\n",
      "66   3042  \\n  (1) weightbasedhealth: yes, related phrase...\n",
      "67   3889  \\n  (1) weightbasedhealth: yes, related phrase...\n",
      "68   1055  \\n  (1) weightbasedhealth: yes, related phrase...\n",
      "69   3291  \\n  (1) weightbasedhealth: yes, the doctor ass...\n"
     ]
    },
    {
     "name": "stderr",
     "output_type": "stream",
     "text": [
      "Setting `pad_token_id` to `eos_token_id`:None for open-end generation.\n",
      "Setting `pad_token_id` to `eos_token_id`:None for open-end generation.\n",
      "Setting `pad_token_id` to `eos_token_id`:None for open-end generation.\n",
      "Setting `pad_token_id` to `eos_token_id`:None for open-end generation.\n",
      "Setting `pad_token_id` to `eos_token_id`:None for open-end generation.\n",
      "Setting `pad_token_id` to `eos_token_id`:None for open-end generation.\n",
      "Setting `pad_token_id` to `eos_token_id`:None for open-end generation.\n",
      "Setting `pad_token_id` to `eos_token_id`:None for open-end generation.\n",
      "Setting `pad_token_id` to `eos_token_id`:None for open-end generation.\n",
      "Processing batch:   1%|          | 8/1000 [08:31<17:22:53, 63.08s/it]Setting `pad_token_id` to `eos_token_id`:None for open-end generation.\n"
     ]
    },
    {
     "name": "stdout",
     "output_type": "stream",
     "text": [
      "    sm_id                                      answer_string\n",
      "70    249  \\n  (1) weightbasedhealth: yes, related phrase...\n",
      "71   1681  \\n  (1) weightbasedhealth: yes, related phrase...\n",
      "72   3137  \\n  (1) weightbasedhealth: yes, the statement ...\n",
      "73    160  \\n  (1) weightbasedhealth: no, related phrases...\n",
      "74   4851  \\n  (1) weightbasedhealth: yes, related phrase...\n",
      "75   3017  \\n  (1) weightbasedhealth: no\\n  (2) weightsti...\n",
      "76    125  \\n  (1) weightbasedhealth: yes, related phrase...\n",
      "77   3965  \\n  (1) weightbasedhealth: yes, related phrase...\n",
      "78   3800  \\n  (1) weightbasedhealth: yes, related phrase...\n",
      "79   2049  \\n  (1) weightbasedhealth: yes, related phrase...\n"
     ]
    },
    {
     "name": "stderr",
     "output_type": "stream",
     "text": [
      "Setting `pad_token_id` to `eos_token_id`:None for open-end generation.\n",
      "Setting `pad_token_id` to `eos_token_id`:None for open-end generation.\n",
      "Setting `pad_token_id` to `eos_token_id`:None for open-end generation.\n",
      "Setting `pad_token_id` to `eos_token_id`:None for open-end generation.\n",
      "Setting `pad_token_id` to `eos_token_id`:None for open-end generation.\n",
      "Setting `pad_token_id` to `eos_token_id`:None for open-end generation.\n",
      "Setting `pad_token_id` to `eos_token_id`:None for open-end generation.\n",
      "Setting `pad_token_id` to `eos_token_id`:None for open-end generation.\n",
      "Setting `pad_token_id` to `eos_token_id`:None for open-end generation.\n",
      "Processing batch:   1%|          | 9/1000 [09:40<17:49:58, 64.78s/it]Setting `pad_token_id` to `eos_token_id`:None for open-end generation.\n"
     ]
    },
    {
     "name": "stdout",
     "output_type": "stream",
     "text": [
      "    sm_id                                      answer_string\n",
      "80   3593  \\n  (1) weightbasedhealth: yes, the doctor's s...\n",
      "81   3958  \\n  (1) weightbasedhealth: no, related phrases...\n",
      "82   3215  \\n  (1) weightbasedhealth: yes, the doctor is ...\n",
      "83   1553  \\n  (1) weightbasedhealth: yes, related phrase...\n",
      "84   1622  \\n  (1) weightbasedhealth: yes, related phrase...\n",
      "85   1407  \\n  (1) weightbasedhealth: no, related phrases...\n",
      "86    782  \\n  (1) weightbasedhealth: yes, related phrase...\n",
      "87   2050  \\n  (1) weightbasedhealth: no\\n  (2) weightsti...\n",
      "88   3338  \\n  (1) weightbasedhealth: yes, related phrase...\n",
      "89   3317  \\n  (1) weightbasedhealth: yes, the doctor's c...\n"
     ]
    },
    {
     "name": "stderr",
     "output_type": "stream",
     "text": [
      "Setting `pad_token_id` to `eos_token_id`:None for open-end generation.\n",
      "Setting `pad_token_id` to `eos_token_id`:None for open-end generation.\n",
      "Setting `pad_token_id` to `eos_token_id`:None for open-end generation.\n",
      "Setting `pad_token_id` to `eos_token_id`:None for open-end generation.\n",
      "Setting `pad_token_id` to `eos_token_id`:None for open-end generation.\n",
      "Setting `pad_token_id` to `eos_token_id`:None for open-end generation.\n",
      "Setting `pad_token_id` to `eos_token_id`:None for open-end generation.\n",
      "Setting `pad_token_id` to `eos_token_id`:None for open-end generation.\n",
      "Setting `pad_token_id` to `eos_token_id`:None for open-end generation.\n",
      "Processing batch:   1%|          | 10/1000 [10:36<17:06:35, 62.22s/it]Setting `pad_token_id` to `eos_token_id`:None for open-end generation.\n"
     ]
    },
    {
     "name": "stdout",
     "output_type": "stream",
     "text": [
      "    sm_id                                      answer_string\n",
      "90   4760  \\n  (1) weightbasedhealth: yes\\n  (2) weightst...\n",
      "91     86  \\n  (1) weightbasedhealth: yes, related phrase...\n",
      "92    175  \\n  (1) weightbasedhealth: yes, related phrase...\n",
      "93   3201  \\n  (1) weightbasedhealth: yes, related phrase...\n",
      "94   2523  \\n  (1) weightbasedhealth: yes, related phrase...\n",
      "95    439  \\n  (1) weightbasedhealth: yes, related phrase...\n",
      "96    225  \\n  (1) weightbasedhealth: yes, the general pr...\n",
      "97   3277  \\n  (1) weightbasedhealth: yes, related phrase...\n",
      "98    114  \\n  (1) weightbasedhealth: yes, the cardiologi...\n",
      "99   1093  \\n  (1) weightbasedhealth: yes, related phrase...\n"
     ]
    },
    {
     "name": "stderr",
     "output_type": "stream",
     "text": [
      "Setting `pad_token_id` to `eos_token_id`:None for open-end generation.\n",
      "Setting `pad_token_id` to `eos_token_id`:None for open-end generation.\n",
      "Setting `pad_token_id` to `eos_token_id`:None for open-end generation.\n",
      "Setting `pad_token_id` to `eos_token_id`:None for open-end generation.\n",
      "Setting `pad_token_id` to `eos_token_id`:None for open-end generation.\n",
      "Setting `pad_token_id` to `eos_token_id`:None for open-end generation.\n",
      "Setting `pad_token_id` to `eos_token_id`:None for open-end generation.\n",
      "Setting `pad_token_id` to `eos_token_id`:None for open-end generation.\n",
      "Setting `pad_token_id` to `eos_token_id`:None for open-end generation.\n",
      "Processing batch:   1%|          | 11/1000 [11:45<17:39:30, 64.28s/it]Setting `pad_token_id` to `eos_token_id`:None for open-end generation.\n"
     ]
    },
    {
     "name": "stdout",
     "output_type": "stream",
     "text": [
      "     sm_id                                      answer_string\n",
      "100    732  \\n  (1) weightbasedhealth: yes, related phrase...\n",
      "101   1723  \\n  (1) weightbasedhealth: yes, the PCP made a...\n",
      "102   2547  \\n  (1) weightbasedhealth: yes, the gynecologi...\n",
      "103   2277  \\n  (1) weightbasedhealth: yes, related phrase...\n",
      "104   3718  \\n  (1) weightbasedhealth: yes, related phrase...\n",
      "105   1722  \\n  (1) weightbasedhealth: no, related phrases...\n",
      "106    139  \\n  (1) weightbasedhealth: yes, the dietician ...\n",
      "107   1103  \\n  (1) weightbasedhealth: yes, related phrase...\n",
      "108   1507  \\n  (1) weightbasedhealth: yes, related phrase...\n",
      "109    975  \\n  (1) weightbasedhealth: yes, related phrase...\n"
     ]
    },
    {
     "name": "stderr",
     "output_type": "stream",
     "text": [
      "Setting `pad_token_id` to `eos_token_id`:None for open-end generation.\n",
      "Setting `pad_token_id` to `eos_token_id`:None for open-end generation.\n",
      "Setting `pad_token_id` to `eos_token_id`:None for open-end generation.\n",
      "Setting `pad_token_id` to `eos_token_id`:None for open-end generation.\n",
      "Setting `pad_token_id` to `eos_token_id`:None for open-end generation.\n",
      "Setting `pad_token_id` to `eos_token_id`:None for open-end generation.\n",
      "Setting `pad_token_id` to `eos_token_id`:None for open-end generation.\n",
      "Setting `pad_token_id` to `eos_token_id`:None for open-end generation.\n",
      "Setting `pad_token_id` to `eos_token_id`:None for open-end generation.\n",
      "Processing batch:   1%|          | 12/1000 [12:51<17:46:16, 64.75s/it]Setting `pad_token_id` to `eos_token_id`:None for open-end generation.\n"
     ]
    },
    {
     "name": "stdout",
     "output_type": "stream",
     "text": [
      "     sm_id                                      answer_string\n",
      "110   3121  \\n  (1) weightbasedhealth: yes, related phrase...\n",
      "111    760  \\n  (1) weightbasedhealth: yes, related phrase...\n",
      "112    219  \\n  (1) weightbasedhealth: yes, related phrase...\n",
      "113   2458  \\n  (1) weightbasedhealth: yes, related phrase...\n",
      "114   2467  \\n  (1) weightbasedhealth: yes, related phrase...\n",
      "115   4854  \\n  (1) weightbasedhealth: no\\n  (2) weightsti...\n",
      "116   4176  \\n  (1) weightbasedhealth: yes, the nurse's co...\n",
      "117    546  \\n  (1) weightbasedhealth: yes, related phrase...\n",
      "118   3450  \\n  (1) weightbasedhealth: yes, related phrase...\n",
      "119   3938  \\n  (1) weightbasedhealth: yes, related phrase...\n"
     ]
    },
    {
     "name": "stderr",
     "output_type": "stream",
     "text": [
      "Setting `pad_token_id` to `eos_token_id`:None for open-end generation.\n",
      "Setting `pad_token_id` to `eos_token_id`:None for open-end generation.\n",
      "Setting `pad_token_id` to `eos_token_id`:None for open-end generation.\n",
      "Setting `pad_token_id` to `eos_token_id`:None for open-end generation.\n",
      "Setting `pad_token_id` to `eos_token_id`:None for open-end generation.\n",
      "Setting `pad_token_id` to `eos_token_id`:None for open-end generation.\n",
      "Setting `pad_token_id` to `eos_token_id`:None for open-end generation.\n",
      "Setting `pad_token_id` to `eos_token_id`:None for open-end generation.\n",
      "Setting `pad_token_id` to `eos_token_id`:None for open-end generation.\n",
      "Processing batch:   1%|▏         | 13/1000 [13:58<17:54:36, 65.33s/it]Setting `pad_token_id` to `eos_token_id`:None for open-end generation.\n"
     ]
    },
    {
     "name": "stdout",
     "output_type": "stream",
     "text": [
      "     sm_id                                      answer_string\n",
      "120   2442  \\n  (1) weightbasedhealth: yes, related phrase...\n",
      "121   4677  \\n  (1) weightbasedhealth: yes, related phrase...\n",
      "122   2834  \\n  (1) weightbasedhealth: yes, related phrase...\n",
      "123   4466  \\n  (1) weightbasedhealth: yes, related phrase...\n",
      "124   2817  \\n  (1) weightbasedhealth: yes, related phrase...\n",
      "125   1992  \\n  (1) weightbasedhealth: yes, the therapist'...\n",
      "126   2703  \\n  (1) weightbasedhealth: no\\n  (2) weightsti...\n",
      "127   2377  \\n  (1) weightbasedhealth: yes, related phrase...\n",
      "128   3443  \\n  (1) weightbasedhealth: yes, related phrase...\n",
      "129   1596  \\n  (1) weightbasedhealth: yes, related phrase...\n"
     ]
    },
    {
     "name": "stderr",
     "output_type": "stream",
     "text": [
      "Setting `pad_token_id` to `eos_token_id`:None for open-end generation.\n",
      "Setting `pad_token_id` to `eos_token_id`:None for open-end generation.\n",
      "Setting `pad_token_id` to `eos_token_id`:None for open-end generation.\n",
      "Setting `pad_token_id` to `eos_token_id`:None for open-end generation.\n",
      "Setting `pad_token_id` to `eos_token_id`:None for open-end generation.\n",
      "Setting `pad_token_id` to `eos_token_id`:None for open-end generation.\n",
      "Setting `pad_token_id` to `eos_token_id`:None for open-end generation.\n",
      "Setting `pad_token_id` to `eos_token_id`:None for open-end generation.\n",
      "Setting `pad_token_id` to `eos_token_id`:None for open-end generation.\n",
      "Processing batch:   1%|▏         | 14/1000 [15:08<18:17:09, 66.76s/it]Setting `pad_token_id` to `eos_token_id`:None for open-end generation.\n"
     ]
    },
    {
     "name": "stdout",
     "output_type": "stream",
     "text": [
      "     sm_id                                      answer_string\n",
      "130   2694  \\n  (1) weightbasedhealth: yes, related phrase...\n",
      "131   4465  \\n  (1) weightbasedhealth: yes, related phrase...\n",
      "132   3605  \\n  (1) weightbasedhealth: yes, the patient wa...\n",
      "133   1021  \\n  (1) weightbasedhealth: yes, the nurse's co...\n",
      "134    393  \\n  (1) weightbasedhealth: yes, related phrase...\n",
      "135   3408  \\n  (1) weightbasedhealth: yes, related phrase...\n",
      "136   1784  \\n  (1) weightbasedhealth: yes, related phrase...\n",
      "137   3575  \\n  (1) weightbasedhealth: yes, related phrase...\n",
      "138    289  \\n  (1) weightbasedhealth: yes, related phrase...\n",
      "139   4888  \\n  (1) weightbasedhealth: yes, related phrase...\n"
     ]
    },
    {
     "name": "stderr",
     "output_type": "stream",
     "text": [
      "Setting `pad_token_id` to `eos_token_id`:None for open-end generation.\n",
      "Setting `pad_token_id` to `eos_token_id`:None for open-end generation.\n",
      "Setting `pad_token_id` to `eos_token_id`:None for open-end generation.\n",
      "Setting `pad_token_id` to `eos_token_id`:None for open-end generation.\n",
      "Setting `pad_token_id` to `eos_token_id`:None for open-end generation.\n",
      "Setting `pad_token_id` to `eos_token_id`:None for open-end generation.\n",
      "Setting `pad_token_id` to `eos_token_id`:None for open-end generation.\n",
      "Setting `pad_token_id` to `eos_token_id`:None for open-end generation.\n",
      "Setting `pad_token_id` to `eos_token_id`:None for open-end generation.\n",
      "Processing batch:   2%|▏         | 15/1000 [16:07<17:37:43, 64.43s/it]Setting `pad_token_id` to `eos_token_id`:None for open-end generation.\n"
     ]
    },
    {
     "name": "stdout",
     "output_type": "stream",
     "text": [
      "     sm_id                                      answer_string\n",
      "140   2524  \\n  (1) weightbasedhealth: yes, related phrase...\n",
      "141   2938  \\n  (1) weightbasedhealth: yes, related phrase...\n",
      "142   2846  \\n  (1) weightbasedhealth: yes, the paragraph ...\n",
      "143    796  \\n  (1) weightbasedhealth: yes, the phrase \"no...\n",
      "144   2932  \\n  (1) weightbasedhealth: no, related phrases...\n",
      "145    595  \\n  (1) weightbasedhealth: yes, related phrase...\n",
      "146   3097  \\n  (1) weightbasedhealth: yes, related phrase...\n",
      "147   1004  \\n  (1) weightbasedhealth: yes, related phrase...\n",
      "148   3873  \\n  (1) weightbasedhealth: yes, refusing to do...\n",
      "149   1765  \\n  (1) weightbasedhealth: yes, related phrase...\n"
     ]
    },
    {
     "name": "stderr",
     "output_type": "stream",
     "text": [
      "Setting `pad_token_id` to `eos_token_id`:None for open-end generation.\n",
      "Setting `pad_token_id` to `eos_token_id`:None for open-end generation.\n",
      "Setting `pad_token_id` to `eos_token_id`:None for open-end generation.\n",
      "Setting `pad_token_id` to `eos_token_id`:None for open-end generation.\n",
      "Setting `pad_token_id` to `eos_token_id`:None for open-end generation.\n",
      "Setting `pad_token_id` to `eos_token_id`:None for open-end generation.\n",
      "Setting `pad_token_id` to `eos_token_id`:None for open-end generation.\n",
      "Setting `pad_token_id` to `eos_token_id`:None for open-end generation.\n",
      "Setting `pad_token_id` to `eos_token_id`:None for open-end generation.\n",
      "Processing batch:   2%|▏         | 16/1000 [17:01<16:47:42, 61.45s/it]Setting `pad_token_id` to `eos_token_id`:None for open-end generation.\n"
     ]
    },
    {
     "name": "stdout",
     "output_type": "stream",
     "text": [
      "     sm_id                                      answer_string\n",
      "150   4914  \\n  (1) weightbasedhealth: yes, related phrase...\n",
      "151   4136  \\n  (1) weightbasedhealth: yes, related phrase...\n",
      "152    752  \\n  (1) weightbasedhealth: yes, the comment ab...\n",
      "153   4738  \\n  (1) weightbasedhealth: yes, related phrase...\n",
      "154   1635  \\n  (1) weightbasedhealth: yes, related phrase...\n",
      "155   3080  \\n  (1) weightbasedhealth: yes, related phrase...\n",
      "156   4013  \\n  (1) weightbasedhealth: yes, related phrase...\n",
      "157   3410  \\n  (1) weightbasedhealth: yes, related phrase...\n",
      "158    311  \\n  (1) weightbasedhealth: yes, related phrase...\n",
      "159   3777  \\n  (1) weightbasedhealth: yes, related phrase...\n"
     ]
    },
    {
     "name": "stderr",
     "output_type": "stream",
     "text": [
      "Setting `pad_token_id` to `eos_token_id`:None for open-end generation.\n",
      "Setting `pad_token_id` to `eos_token_id`:None for open-end generation.\n",
      "Setting `pad_token_id` to `eos_token_id`:None for open-end generation.\n",
      "Setting `pad_token_id` to `eos_token_id`:None for open-end generation.\n",
      "Setting `pad_token_id` to `eos_token_id`:None for open-end generation.\n",
      "Setting `pad_token_id` to `eos_token_id`:None for open-end generation.\n",
      "Setting `pad_token_id` to `eos_token_id`:None for open-end generation.\n",
      "Setting `pad_token_id` to `eos_token_id`:None for open-end generation.\n",
      "Setting `pad_token_id` to `eos_token_id`:None for open-end generation.\n",
      "Processing batch:   2%|▏         | 17/1000 [18:10<17:24:15, 63.74s/it]Setting `pad_token_id` to `eos_token_id`:None for open-end generation.\n"
     ]
    },
    {
     "name": "stdout",
     "output_type": "stream",
     "text": [
      "     sm_id                                      answer_string\n",
      "160    983  \\n  (1) weightbasedhealth: yes, related phrase...\n",
      "161   3844  \\n  (1) weightbasedhealth: yes, related phrase...\n",
      "162    265  \\n  (1) weightbasedhealth: yes, related phrase...\n",
      "163    448  \\n  (1) weightbasedhealth: yes, related phrase...\n",
      "164   4332  \\n  (1) weightbasedhealth: yes, the doctor mad...\n",
      "165    244  \\n  (1) weightbasedhealth: yes, the PCP's stat...\n",
      "166   3048  \\n  (1) weightbasedhealth: yes, related phrase...\n",
      "167    253  \\n  (1) weightbasedhealth: yes, related phrase...\n",
      "168    607  \\n  (1) weightbasedhealth: yes, the primary ca...\n",
      "169    380  \\n  (1) weightbasedhealth: yes, the orthopedis...\n"
     ]
    },
    {
     "name": "stderr",
     "output_type": "stream",
     "text": [
      "Setting `pad_token_id` to `eos_token_id`:None for open-end generation.\n",
      "Setting `pad_token_id` to `eos_token_id`:None for open-end generation.\n",
      "Setting `pad_token_id` to `eos_token_id`:None for open-end generation.\n",
      "Setting `pad_token_id` to `eos_token_id`:None for open-end generation.\n",
      "Setting `pad_token_id` to `eos_token_id`:None for open-end generation.\n",
      "Setting `pad_token_id` to `eos_token_id`:None for open-end generation.\n",
      "Setting `pad_token_id` to `eos_token_id`:None for open-end generation.\n",
      "Setting `pad_token_id` to `eos_token_id`:None for open-end generation.\n",
      "Setting `pad_token_id` to `eos_token_id`:None for open-end generation.\n",
      "Processing batch:   2%|▏         | 18/1000 [19:19<17:45:05, 65.08s/it]Setting `pad_token_id` to `eos_token_id`:None for open-end generation.\n"
     ]
    },
    {
     "name": "stdout",
     "output_type": "stream",
     "text": [
      "     sm_id                                      answer_string\n",
      "170    241  \\n  (1) weightbasedhealth: yes, related phrase...\n",
      "171   1837  \\n  (1) weightbasedhealth: yes, related phrase...\n",
      "172   1656  \\n  (1) weightbasedhealth: no, related phrases...\n",
      "173    218  \\n  (1) weightbasedhealth: yes, related phrase...\n",
      "174    510  \\n  (1) weightbasedhealth: yes, related phrase...\n",
      "175   1188  \\n  (1) weightbasedhealth: yes, related phrase...\n",
      "176   4531  \\n  (1) weightbasedhealth: yes, related phrase...\n",
      "177   3069  \\n  (1) weightbasedhealth: yes, related phrase...\n",
      "178   2090  \\n  (1) weightbasedhealth: yes, related phrase...\n",
      "179    106  \\n  (1) weightbasedhealth: yes, related phrase...\n"
     ]
    },
    {
     "name": "stderr",
     "output_type": "stream",
     "text": [
      "Setting `pad_token_id` to `eos_token_id`:None for open-end generation.\n",
      "Setting `pad_token_id` to `eos_token_id`:None for open-end generation.\n",
      "Setting `pad_token_id` to `eos_token_id`:None for open-end generation.\n",
      "Setting `pad_token_id` to `eos_token_id`:None for open-end generation.\n",
      "Setting `pad_token_id` to `eos_token_id`:None for open-end generation.\n",
      "Setting `pad_token_id` to `eos_token_id`:None for open-end generation.\n",
      "Setting `pad_token_id` to `eos_token_id`:None for open-end generation.\n",
      "Setting `pad_token_id` to `eos_token_id`:None for open-end generation.\n",
      "Setting `pad_token_id` to `eos_token_id`:None for open-end generation.\n",
      "Processing batch:   2%|▏         | 19/1000 [20:19<17:22:47, 63.78s/it]Setting `pad_token_id` to `eos_token_id`:None for open-end generation.\n"
     ]
    },
    {
     "name": "stdout",
     "output_type": "stream",
     "text": [
      "     sm_id                                      answer_string\n",
      "180   1169  \\n  (1) weightbasedhealth: yes, related phrase...\n",
      "181   4707  \\n  (1) weightbasedhealth: No, related phrases...\n",
      "182   2670  \\n  (1) weightbasedhealth: yes, the metaphor o...\n",
      "183   4813  \\n  (1) weightbasedhealth: yes, related phrase...\n",
      "184   1946  \\n  (1) weightbasedhealth: yes, related phrase...\n",
      "185   4446  \\n  (1) weightbasedhealth: no\\n  (2) weightsti...\n",
      "186   4604  \\n  (1) weightbasedhealth: yes, related phrase...\n",
      "187   3796  \\n  (1) weightbasedhealth: yes, related phrase...\n",
      "188   2404  \\n  (1) weightbasedhealth: yes, related phrase...\n",
      "189   3966  \\n  (1) weightbasedhealth: yes, related phrase...\n"
     ]
    },
    {
     "name": "stderr",
     "output_type": "stream",
     "text": [
      "Setting `pad_token_id` to `eos_token_id`:None for open-end generation.\n",
      "Setting `pad_token_id` to `eos_token_id`:None for open-end generation.\n",
      "Setting `pad_token_id` to `eos_token_id`:None for open-end generation.\n",
      "Setting `pad_token_id` to `eos_token_id`:None for open-end generation.\n",
      "Setting `pad_token_id` to `eos_token_id`:None for open-end generation.\n",
      "Setting `pad_token_id` to `eos_token_id`:None for open-end generation.\n",
      "Setting `pad_token_id` to `eos_token_id`:None for open-end generation.\n",
      "Setting `pad_token_id` to `eos_token_id`:None for open-end generation.\n",
      "Setting `pad_token_id` to `eos_token_id`:None for open-end generation.\n",
      "Processing batch:   2%|▏         | 20/1000 [21:23<17:22:27, 63.82s/it]Setting `pad_token_id` to `eos_token_id`:None for open-end generation.\n"
     ]
    },
    {
     "name": "stdout",
     "output_type": "stream",
     "text": [
      "     sm_id                                      answer_string\n",
      "190   1498  \\n  (1) weightbasedhealth: yes, related phrase...\n",
      "191    723  \\n  (1) weightbasedhealth: yes, related phrase...\n",
      "192   3736  \\n  (1) weightbasedhealth: yes, related phrase...\n",
      "193   1840  \\n  (1) weightbasedhealth: no, related phrases...\n",
      "194    274  \\n  (1) weightbasedhealth: no, related phrases...\n",
      "195   1657  \\n  (1) weightbasedhealth: yes, related phrase...\n",
      "196   2500  \\n  (1) weightbasedhealth: yes, the patient wa...\n",
      "197    164  \\n  (1) weightbasedhealth: yes, related phrase...\n",
      "198    720  \\n  (1) weightbasedhealth: yes, related phrase...\n",
      "199    413  \\n  (1) weightbasedhealth: yes, related phrase...\n"
     ]
    },
    {
     "name": "stderr",
     "output_type": "stream",
     "text": [
      "Setting `pad_token_id` to `eos_token_id`:None for open-end generation.\n",
      "Setting `pad_token_id` to `eos_token_id`:None for open-end generation.\n",
      "Setting `pad_token_id` to `eos_token_id`:None for open-end generation.\n",
      "Setting `pad_token_id` to `eos_token_id`:None for open-end generation.\n",
      "Setting `pad_token_id` to `eos_token_id`:None for open-end generation.\n",
      "Setting `pad_token_id` to `eos_token_id`:None for open-end generation.\n",
      "Setting `pad_token_id` to `eos_token_id`:None for open-end generation.\n",
      "Setting `pad_token_id` to `eos_token_id`:None for open-end generation.\n",
      "Setting `pad_token_id` to `eos_token_id`:None for open-end generation.\n",
      "Processing batch:   2%|▏         | 21/1000 [22:28<17:24:01, 63.99s/it]Setting `pad_token_id` to `eos_token_id`:None for open-end generation.\n"
     ]
    },
    {
     "name": "stdout",
     "output_type": "stream",
     "text": [
      "     sm_id                                      answer_string\n",
      "200   2951  \\n  (1) weightbasedhealth: yes, related phrase...\n",
      "201   1466  \\n  (1) weightbasedhealth: No, related phrases...\n",
      "202   3011  \\n  (1) weightbasedhealth: yes, related phrase...\n",
      "203   4802  \\n  (1) weightbasedhealth: yes, related phrase...\n",
      "204   3070  \\n  (1) weightbasedhealth: yes, related phrase...\n",
      "205    596  \\n  (1) weightbasedhealth: yes, related phrase...\n",
      "206    222  \\n  (1) weightbasedhealth: yes, the doctor's a...\n",
      "207   1646  \\n  (1) weightbasedhealth: yes, the physician ...\n",
      "208    981  \\n  (1) weightbasedhealth: yes, related phrase...\n",
      "209    588  \\n  (1) weightbasedhealth: yes, related phrase...\n"
     ]
    },
    {
     "name": "stderr",
     "output_type": "stream",
     "text": [
      "Setting `pad_token_id` to `eos_token_id`:None for open-end generation.\n",
      "Setting `pad_token_id` to `eos_token_id`:None for open-end generation.\n",
      "Setting `pad_token_id` to `eos_token_id`:None for open-end generation.\n",
      "Setting `pad_token_id` to `eos_token_id`:None for open-end generation.\n",
      "Setting `pad_token_id` to `eos_token_id`:None for open-end generation.\n",
      "Setting `pad_token_id` to `eos_token_id`:None for open-end generation.\n",
      "Setting `pad_token_id` to `eos_token_id`:None for open-end generation.\n",
      "Setting `pad_token_id` to `eos_token_id`:None for open-end generation.\n",
      "Setting `pad_token_id` to `eos_token_id`:None for open-end generation.\n",
      "Processing batch:   2%|▏         | 22/1000 [23:23<16:39:06, 61.30s/it]Setting `pad_token_id` to `eos_token_id`:None for open-end generation.\n"
     ]
    },
    {
     "name": "stdout",
     "output_type": "stream",
     "text": [
      "     sm_id                                      answer_string\n",
      "210   1187  \\n  (1) weightbasedhealth: yes, related phrase...\n",
      "211   2872  \\n  (1) weightbasedhealth: yes, related phrase...\n",
      "212   3748  \\n  (1) weightbasedhealth: yes, related phrase...\n",
      "213   3630  \\n  (1) weightbasedhealth: yes, related phrase...\n",
      "214   3374  \\n  (1) weightbasedhealth: yes\\n  (2) weightst...\n",
      "215   4384  \\n  (1) weightbasedhealth: yes, the doctor's s...\n",
      "216   4720  \\n  (1) weightbasedhealth: yes, related phrase...\n",
      "217    890  \\n  (1) weightbasedhealth: yes, related phrase...\n",
      "218   4731  \\n  (1) weightbasedhealth: no\\n  (2) weightsti...\n",
      "219   4695  \\n  (1) weightbasedhealth: yes, related phrase...\n"
     ]
    },
    {
     "name": "stderr",
     "output_type": "stream",
     "text": [
      "Setting `pad_token_id` to `eos_token_id`:None for open-end generation.\n",
      "Setting `pad_token_id` to `eos_token_id`:None for open-end generation.\n",
      "Setting `pad_token_id` to `eos_token_id`:None for open-end generation.\n",
      "Setting `pad_token_id` to `eos_token_id`:None for open-end generation.\n",
      "Setting `pad_token_id` to `eos_token_id`:None for open-end generation.\n",
      "Setting `pad_token_id` to `eos_token_id`:None for open-end generation.\n",
      "Setting `pad_token_id` to `eos_token_id`:None for open-end generation.\n",
      "Setting `pad_token_id` to `eos_token_id`:None for open-end generation.\n",
      "Setting `pad_token_id` to `eos_token_id`:None for open-end generation.\n",
      "Processing batch:   2%|▏         | 23/1000 [24:14<15:47:43, 58.20s/it]Setting `pad_token_id` to `eos_token_id`:None for open-end generation.\n"
     ]
    },
    {
     "name": "stdout",
     "output_type": "stream",
     "text": [
      "     sm_id                                      answer_string\n",
      "220   4420  \\n  (1) weightbasedhealth: yes, related phrase...\n",
      "221   2221  \\n  (1) weightbasedhealth: yes, related phrase...\n",
      "222   4903  \\n  (1) weightbasedhealth: yes, related phrase...\n",
      "223     38  \\n  (1) weightbasedhealth: yes, related phrase...\n",
      "224   4049  \\n  (1) weightbasedhealth: yes, related phrase...\n",
      "225   2061  \\n  (1) weightbasedhealth: no, related phrases...\n",
      "226   3951  \\n  (1) weightbasedhealth: yes\\n  (2) weightst...\n",
      "227   2203  \\n  (1) weightbasedhealth: yes, related phrase...\n",
      "228    962  \\n  (1) weightbasedhealth: yes, related phrase...\n",
      "229    296  \\n  (1) weightbasedhealth: yes, related phrase...\n"
     ]
    },
    {
     "name": "stderr",
     "output_type": "stream",
     "text": [
      "Setting `pad_token_id` to `eos_token_id`:None for open-end generation.\n",
      "Setting `pad_token_id` to `eos_token_id`:None for open-end generation.\n",
      "Setting `pad_token_id` to `eos_token_id`:None for open-end generation.\n",
      "Setting `pad_token_id` to `eos_token_id`:None for open-end generation.\n",
      "Setting `pad_token_id` to `eos_token_id`:None for open-end generation.\n",
      "Setting `pad_token_id` to `eos_token_id`:None for open-end generation.\n",
      "Setting `pad_token_id` to `eos_token_id`:None for open-end generation.\n",
      "Setting `pad_token_id` to `eos_token_id`:None for open-end generation.\n",
      "Setting `pad_token_id` to `eos_token_id`:None for open-end generation.\n",
      "Processing batch:   2%|▏         | 24/1000 [25:07<15:24:58, 56.86s/it]Setting `pad_token_id` to `eos_token_id`:None for open-end generation.\n"
     ]
    },
    {
     "name": "stdout",
     "output_type": "stream",
     "text": [
      "     sm_id                                      answer_string\n",
      "230   2430  \\n  (1) weightbasedhealth: yes, related phrase...\n",
      "231   1625  \\n  (1) weightbasedhealth: yes, related phrase...\n",
      "232   2695  \\n  (1) weightbasedhealth: yes, related phrase...\n",
      "233   1665  \\n  (1) weightbasedhealth: yes, related phrase...\n",
      "234   4189  \\n  (1) weightbasedhealth: no\\n  (2) weightsti...\n",
      "235   3541  \\n  (1) weightbasedhealth: yes, the primary do...\n",
      "236   4455  \\n  (1) weightbasedhealth: yes, related phrase...\n",
      "237    893  \\n  (1) weightbasedhealth: no, related phrases...\n",
      "238   1782  \\n  (1) weightbasedhealth: yes, related phrase...\n",
      "239   4749  \\n  (1) weightbasedhealth: yes, related phrase...\n"
     ]
    },
    {
     "name": "stderr",
     "output_type": "stream",
     "text": [
      "Setting `pad_token_id` to `eos_token_id`:None for open-end generation.\n",
      "Setting `pad_token_id` to `eos_token_id`:None for open-end generation.\n",
      "Setting `pad_token_id` to `eos_token_id`:None for open-end generation.\n",
      "Setting `pad_token_id` to `eos_token_id`:None for open-end generation.\n",
      "Setting `pad_token_id` to `eos_token_id`:None for open-end generation.\n",
      "Setting `pad_token_id` to `eos_token_id`:None for open-end generation.\n",
      "Setting `pad_token_id` to `eos_token_id`:None for open-end generation.\n",
      "Setting `pad_token_id` to `eos_token_id`:None for open-end generation.\n",
      "Setting `pad_token_id` to `eos_token_id`:None for open-end generation.\n",
      "Processing batch:   2%|▎         | 25/1000 [26:16<16:21:26, 60.40s/it]Setting `pad_token_id` to `eos_token_id`:None for open-end generation.\n"
     ]
    },
    {
     "name": "stdout",
     "output_type": "stream",
     "text": [
      "     sm_id                                      answer_string\n",
      "240   1398  \\n  (1) weightbasedhealth: yes, related phrase...\n",
      "241   1918  \\n  (1) weightbasedhealth: yes, related phrase...\n",
      "242   2027  \\n  (1) weightbasedhealth: yes, related phrase...\n",
      "243   1179  \\n  (1) weightbasedhealth: yes, related phrase...\n",
      "244    248  \\n  (1) weightbasedhealth: yes, the psychiatri...\n",
      "245     78  \\n  (1) weightbasedhealth: yes, related phrase...\n",
      "246     78  \\n  (1) weightbasedhealth: yes, related phrase...\n",
      "247    488  \\n  (1) weightbasedhealth: yes, the patient wa...\n",
      "248   2806  \\n  (1) weightbasedhealth: yes, the doctor's s...\n",
      "249   1969  \\n  (1) weightbasedhealth: yes, the lecture wa...\n"
     ]
    },
    {
     "name": "stderr",
     "output_type": "stream",
     "text": [
      "Setting `pad_token_id` to `eos_token_id`:None for open-end generation.\n",
      "Setting `pad_token_id` to `eos_token_id`:None for open-end generation.\n",
      "Setting `pad_token_id` to `eos_token_id`:None for open-end generation.\n",
      "Setting `pad_token_id` to `eos_token_id`:None for open-end generation.\n",
      "Setting `pad_token_id` to `eos_token_id`:None for open-end generation.\n",
      "Setting `pad_token_id` to `eos_token_id`:None for open-end generation.\n",
      "Setting `pad_token_id` to `eos_token_id`:None for open-end generation.\n",
      "Setting `pad_token_id` to `eos_token_id`:None for open-end generation.\n",
      "Setting `pad_token_id` to `eos_token_id`:None for open-end generation.\n",
      "Processing batch:   3%|▎         | 26/1000 [27:28<17:16:38, 63.86s/it]Setting `pad_token_id` to `eos_token_id`:None for open-end generation.\n"
     ]
    },
    {
     "name": "stdout",
     "output_type": "stream",
     "text": [
      "     sm_id                                      answer_string\n",
      "250    375  \\n  (1) weightbasedhealth: yes, related phrase...\n",
      "251   3992  \\n  (1) weightbasedhealth: yes, related phrase...\n",
      "252   3093  \\n  (1) weightbasedhealth: yes, the comment ma...\n",
      "253    570  \\n  (1) weightbasedhealth: yes, the program wa...\n",
      "254   1094  \\n  (1) weightbasedhealth: yes, the obgyn's co...\n",
      "255   4482  \\n  (1) weightbasedhealth: yes, related phrase...\n",
      "256   1148  \\n  (1) weightbasedhealth: yes, related phrase...\n",
      "257   1223  \\n  (1) weightbasedhealth: yes, the GP's sugge...\n",
      "258   4447  \\n  (1) weightbasedhealth: yes, related phrase...\n",
      "259   3356  \\n  (1) weightbasedhealth: yes, related phrase...\n"
     ]
    },
    {
     "name": "stderr",
     "output_type": "stream",
     "text": [
      "Setting `pad_token_id` to `eos_token_id`:None for open-end generation.\n",
      "Setting `pad_token_id` to `eos_token_id`:None for open-end generation.\n",
      "Setting `pad_token_id` to `eos_token_id`:None for open-end generation.\n",
      "Setting `pad_token_id` to `eos_token_id`:None for open-end generation.\n",
      "Setting `pad_token_id` to `eos_token_id`:None for open-end generation.\n",
      "Setting `pad_token_id` to `eos_token_id`:None for open-end generation.\n",
      "Setting `pad_token_id` to `eos_token_id`:None for open-end generation.\n",
      "Setting `pad_token_id` to `eos_token_id`:None for open-end generation.\n",
      "Setting `pad_token_id` to `eos_token_id`:None for open-end generation.\n",
      "Processing batch:   3%|▎         | 27/1000 [28:28<16:58:37, 62.81s/it]Setting `pad_token_id` to `eos_token_id`:None for open-end generation.\n"
     ]
    },
    {
     "name": "stdout",
     "output_type": "stream",
     "text": [
      "     sm_id                                      answer_string\n",
      "260   2239  \\n  (1) weightbasedhealth: yes, related phrase...\n",
      "261   1375  \\n  (1) weightbasedhealth: yes, the doctor dis...\n",
      "262   3550  \\n  (1) weightbasedhealth: yes, related phrase...\n",
      "263    204  \\n  (1) weightbasedhealth: yes, the physician'...\n",
      "264    204  \\n  (1) weightbasedhealth: yes, the statement ...\n",
      "265   4750  \\n  (1) weightbasedhealth: yes, related phrase...\n",
      "266    639  \\n  (1) weightbasedhealth: yes, related phrase...\n",
      "267   1167  \\n  (1) weightbasedhealth: yes, related phrase...\n",
      "268   2226  \\n  (1) weightbasedhealth: yes, related phrase...\n",
      "269   1643  \\n  (1) weightbasedhealth: no, related phrases...\n"
     ]
    },
    {
     "name": "stderr",
     "output_type": "stream",
     "text": [
      "Setting `pad_token_id` to `eos_token_id`:None for open-end generation.\n",
      "Setting `pad_token_id` to `eos_token_id`:None for open-end generation.\n",
      "Setting `pad_token_id` to `eos_token_id`:None for open-end generation.\n",
      "Setting `pad_token_id` to `eos_token_id`:None for open-end generation.\n",
      "Setting `pad_token_id` to `eos_token_id`:None for open-end generation.\n",
      "Setting `pad_token_id` to `eos_token_id`:None for open-end generation.\n",
      "Setting `pad_token_id` to `eos_token_id`:None for open-end generation.\n",
      "Setting `pad_token_id` to `eos_token_id`:None for open-end generation.\n",
      "Setting `pad_token_id` to `eos_token_id`:None for open-end generation.\n",
      "Processing batch:   3%|▎         | 28/1000 [29:46<18:09:32, 67.26s/it]Setting `pad_token_id` to `eos_token_id`:None for open-end generation.\n"
     ]
    },
    {
     "name": "stdout",
     "output_type": "stream",
     "text": [
      "     sm_id                                      answer_string\n",
      "270   3807  \\n  (1) weightbasedhealth: yes, related phrase...\n",
      "271   2028  \\n  (1) weightbasedhealth: yes, the patient wa...\n",
      "272   2952  \\n  (1) weightbasedhealth: yes, related phrase...\n",
      "273   3308  \\n  (1) weightbasedhealth: yes, related phrase...\n",
      "274   2374  \\n  (1) weightbasedhealth: yes, related phrase...\n",
      "275   2325  \\n  (1) weightbasedhealth: yes, the psychiatri...\n",
      "276   4684  \\n  (1) weightbasedhealth: yes, the physician'...\n",
      "277   4849  \\n  (1) weightbasedhealth: yes, related phrase...\n",
      "278   1345  \\n  (1) weightbasedhealth: yes, related phrase...\n",
      "279   4785  \\n  (1) weightbasedhealth: yes, related phrase...\n"
     ]
    },
    {
     "name": "stderr",
     "output_type": "stream",
     "text": [
      "Setting `pad_token_id` to `eos_token_id`:None for open-end generation.\n",
      "Setting `pad_token_id` to `eos_token_id`:None for open-end generation.\n",
      "Setting `pad_token_id` to `eos_token_id`:None for open-end generation.\n",
      "Setting `pad_token_id` to `eos_token_id`:None for open-end generation.\n",
      "Setting `pad_token_id` to `eos_token_id`:None for open-end generation.\n",
      "Setting `pad_token_id` to `eos_token_id`:None for open-end generation.\n",
      "Setting `pad_token_id` to `eos_token_id`:None for open-end generation.\n",
      "Setting `pad_token_id` to `eos_token_id`:None for open-end generation.\n",
      "Setting `pad_token_id` to `eos_token_id`:None for open-end generation.\n",
      "Processing batch:   3%|▎         | 29/1000 [30:47<17:39:33, 65.47s/it]Setting `pad_token_id` to `eos_token_id`:None for open-end generation.\n"
     ]
    },
    {
     "name": "stdout",
     "output_type": "stream",
     "text": [
      "     sm_id                                      answer_string\n",
      "280   4664  \\n  (1) weightbasedhealth: yes, related phrase...\n",
      "281    547  \\n  (1) weightbasedhealth: yes, related phrase...\n",
      "282    296  \\n  (1) weightbasedhealth: yes, the statement ...\n",
      "283   4832  \\n  (1) weightbasedhealth: yes, related phrase...\n",
      "284    746  \\n  (1) weightbasedhealth: yes, related phrase...\n",
      "285   4861  \\n  (1) weightbasedhealth: yes, related phrase...\n",
      "286   3357  \\n  (1) weightbasedhealth: yes, related phrase...\n",
      "287   2934  \\n  (1) weightbasedhealth: yes, the nurse tell...\n",
      "288   1199  \\n  (1) weightbasedhealth: yes, related phrase...\n",
      "289   3725  \\n  (1) weightbasedhealth: yes, related phrase...\n"
     ]
    },
    {
     "name": "stderr",
     "output_type": "stream",
     "text": [
      "Setting `pad_token_id` to `eos_token_id`:None for open-end generation.\n",
      "Setting `pad_token_id` to `eos_token_id`:None for open-end generation.\n",
      "Setting `pad_token_id` to `eos_token_id`:None for open-end generation.\n",
      "Setting `pad_token_id` to `eos_token_id`:None for open-end generation.\n",
      "Setting `pad_token_id` to `eos_token_id`:None for open-end generation.\n",
      "Setting `pad_token_id` to `eos_token_id`:None for open-end generation.\n",
      "Setting `pad_token_id` to `eos_token_id`:None for open-end generation.\n",
      "Setting `pad_token_id` to `eos_token_id`:None for open-end generation.\n",
      "Setting `pad_token_id` to `eos_token_id`:None for open-end generation.\n",
      "Processing batch:   3%|▎         | 30/1000 [31:56<17:52:29, 66.34s/it]Setting `pad_token_id` to `eos_token_id`:None for open-end generation.\n"
     ]
    },
    {
     "name": "stdout",
     "output_type": "stream",
     "text": [
      "     sm_id                                      answer_string\n",
      "290    572  \\n  (1) weightbasedhealth: yes, related phrase...\n",
      "291   2741  \\n  (1) weightbasedhealth: yes, the psychiatri...\n",
      "292   1563  \\n  (1) weightbasedhealth: yes, related phrase...\n",
      "293   1159  \\n  (1) weightbasedhealth: yes, related phrase...\n",
      "294   3653  \\n  (1) weightbasedhealth: yes, related phrase...\n",
      "295   2520  \\n  (1) weightbasedhealth: yes, related phrase...\n",
      "296   4736  \\n  (1) weightbasedhealth: yes, related phrase...\n",
      "297   4688  \\n  (1) weightbasedhealth: yes, the psychiatri...\n",
      "298    127  \\n  (1) weightbasedhealth: yes, related phrase...\n",
      "299   3799  \\n  (1) weightbasedhealth: yes, the intake pro...\n"
     ]
    },
    {
     "name": "stderr",
     "output_type": "stream",
     "text": [
      "Setting `pad_token_id` to `eos_token_id`:None for open-end generation.\n",
      "Setting `pad_token_id` to `eos_token_id`:None for open-end generation.\n",
      "Setting `pad_token_id` to `eos_token_id`:None for open-end generation.\n",
      "Setting `pad_token_id` to `eos_token_id`:None for open-end generation.\n",
      "Setting `pad_token_id` to `eos_token_id`:None for open-end generation.\n",
      "Setting `pad_token_id` to `eos_token_id`:None for open-end generation.\n",
      "Setting `pad_token_id` to `eos_token_id`:None for open-end generation.\n",
      "Setting `pad_token_id` to `eos_token_id`:None for open-end generation.\n",
      "Setting `pad_token_id` to `eos_token_id`:None for open-end generation.\n",
      "Processing batch:   3%|▎         | 31/1000 [32:59<17:35:09, 65.33s/it]Setting `pad_token_id` to `eos_token_id`:None for open-end generation.\n"
     ]
    },
    {
     "name": "stdout",
     "output_type": "stream",
     "text": [
      "     sm_id                                      answer_string\n",
      "300   1960  \\n  (1) weightbasedhealth: yes, related phrase...\n",
      "301   3051  \\n  (1) weightbasedhealth: yes, related phrase...\n",
      "302   3280  \\n  (1) weightbasedhealth: yes, related phrase...\n",
      "303   3651  \\n  (1) weightbasedhealth: yes, the therapist ...\n",
      "304    370  \\n  (1) weightbasedhealth: yes, the PCP's stat...\n",
      "305   4755  \\n  (1) weightbasedhealth: yes, related phrase...\n",
      "306   1341  \\n  (1) weightbasedhealth: yes, related phrase...\n",
      "307   3149  \\n  (1) weightbasedhealth: yes, related phrase...\n",
      "308   3456  \\n  (1) weightbasedhealth: yes, related phrase...\n",
      "309    173  \\n  (1) weightbasedhealth: yes, related phrase...\n"
     ]
    },
    {
     "name": "stderr",
     "output_type": "stream",
     "text": [
      "Setting `pad_token_id` to `eos_token_id`:None for open-end generation.\n",
      "Setting `pad_token_id` to `eos_token_id`:None for open-end generation.\n",
      "Setting `pad_token_id` to `eos_token_id`:None for open-end generation.\n",
      "Setting `pad_token_id` to `eos_token_id`:None for open-end generation.\n",
      "Setting `pad_token_id` to `eos_token_id`:None for open-end generation.\n",
      "Setting `pad_token_id` to `eos_token_id`:None for open-end generation.\n",
      "Setting `pad_token_id` to `eos_token_id`:None for open-end generation.\n",
      "Setting `pad_token_id` to `eos_token_id`:None for open-end generation.\n",
      "Setting `pad_token_id` to `eos_token_id`:None for open-end generation.\n",
      "Processing batch:   3%|▎         | 32/1000 [34:00<17:14:29, 64.12s/it]Setting `pad_token_id` to `eos_token_id`:None for open-end generation.\n"
     ]
    },
    {
     "name": "stdout",
     "output_type": "stream",
     "text": [
      "     sm_id                                      answer_string\n",
      "310   1862  \\n  (1) weightbasedhealth: yes, related phrase...\n",
      "311   2731  \\n  (1) weightbasedhealth: yes, the nurse's co...\n",
      "312   3500  \\n  (1) weightbasedhealth: no, related phrases...\n",
      "313    305  \\n  (1) weightbasedhealth: yes, related phrase...\n",
      "314   1911  \\n  (1) weightbasedhealth: yes, related phrase...\n",
      "315   2401  \\n  (1) weightbasedhealth: yes, related phrase...\n",
      "316   2006  \\n  (1) weightbasedhealth: yes, related phrase...\n",
      "317    130  \\n  (1) weightbasedhealth: yes, related phrase...\n",
      "318   3648  \\n  (1) weightbasedhealth: yes, related phrase...\n",
      "319    170  \\n  (1) weightbasedhealth: yes, the cardiologi...\n"
     ]
    },
    {
     "name": "stderr",
     "output_type": "stream",
     "text": [
      "Setting `pad_token_id` to `eos_token_id`:None for open-end generation.\n",
      "Setting `pad_token_id` to `eos_token_id`:None for open-end generation.\n",
      "Setting `pad_token_id` to `eos_token_id`:None for open-end generation.\n",
      "Setting `pad_token_id` to `eos_token_id`:None for open-end generation.\n",
      "Setting `pad_token_id` to `eos_token_id`:None for open-end generation.\n",
      "Setting `pad_token_id` to `eos_token_id`:None for open-end generation.\n",
      "Setting `pad_token_id` to `eos_token_id`:None for open-end generation.\n",
      "Setting `pad_token_id` to `eos_token_id`:None for open-end generation.\n",
      "Setting `pad_token_id` to `eos_token_id`:None for open-end generation.\n",
      "Processing batch:   3%|▎         | 33/1000 [35:03<17:10:57, 63.97s/it]Setting `pad_token_id` to `eos_token_id`:None for open-end generation.\n"
     ]
    },
    {
     "name": "stdout",
     "output_type": "stream",
     "text": [
      "     sm_id                                      answer_string\n",
      "320   4004  \\n  (1) weightbasedhealth: yes, related phrase...\n",
      "321   2287  \\n  (1) weightbasedhealth: yes, related phrase...\n",
      "322   4460  \\n  (1) weightbasedhealth: yes, related phrase...\n",
      "323   3952  \\n  (1) weightbasedhealth: yes, related phrase...\n",
      "324    811  \\n  (1) weightbasedhealth: yes, related phrase...\n",
      "325   4052  \\n  (1) weightbasedhealth: no\\n  (2) weightsti...\n",
      "326   1091  \\n  (1) weightbasedhealth: yes, related phrase...\n",
      "327    536  \\n  (1) weightbasedhealth: yes, related phrase...\n",
      "328   1175  \\n  (1) weightbasedhealth: yes, related phrase...\n",
      "329   2174  \\n  (1) weightbasedhealth: yes, the act of sho...\n"
     ]
    },
    {
     "name": "stderr",
     "output_type": "stream",
     "text": [
      "Setting `pad_token_id` to `eos_token_id`:None for open-end generation.\n",
      "Setting `pad_token_id` to `eos_token_id`:None for open-end generation.\n",
      "Setting `pad_token_id` to `eos_token_id`:None for open-end generation.\n",
      "Setting `pad_token_id` to `eos_token_id`:None for open-end generation.\n",
      "Setting `pad_token_id` to `eos_token_id`:None for open-end generation.\n",
      "Setting `pad_token_id` to `eos_token_id`:None for open-end generation.\n",
      "Setting `pad_token_id` to `eos_token_id`:None for open-end generation.\n",
      "Setting `pad_token_id` to `eos_token_id`:None for open-end generation.\n",
      "Setting `pad_token_id` to `eos_token_id`:None for open-end generation.\n",
      "Processing batch:   3%|▎         | 34/1000 [36:07<17:08:50, 63.90s/it]Setting `pad_token_id` to `eos_token_id`:None for open-end generation.\n"
     ]
    },
    {
     "name": "stdout",
     "output_type": "stream",
     "text": [
      "     sm_id                                      answer_string\n",
      "330     21  \\n  (1) weightbasedhealth: yes, related phrase...\n",
      "331   1332  \\n  (1) weightbasedhealth: yes, the patient wa...\n",
      "332   2281  \\n  (1) weightbasedhealth: yes, related phrase...\n",
      "333   1462  \\n  (1) weightbasedhealth: yes, related phrase...\n",
      "334   1462  \\n  (1) weightbasedhealth: yes, related phrase...\n",
      "335    750  \\n  (1) weightbasedhealth: yes, related phrase...\n",
      "336   3803  \\n  (1) weightbasedhealth: yes, related phrase...\n",
      "337   4591  \\n  (1) weightbasedhealth: yes, related phrase...\n",
      "338    358  \\n  (1) weightbasedhealth: yes, related phrase...\n",
      "339    335  \\n  (1) weightbasedhealth: yes, related phrase...\n"
     ]
    },
    {
     "name": "stderr",
     "output_type": "stream",
     "text": [
      "Setting `pad_token_id` to `eos_token_id`:None for open-end generation.\n",
      "Setting `pad_token_id` to `eos_token_id`:None for open-end generation.\n",
      "Setting `pad_token_id` to `eos_token_id`:None for open-end generation.\n",
      "Setting `pad_token_id` to `eos_token_id`:None for open-end generation.\n",
      "Setting `pad_token_id` to `eos_token_id`:None for open-end generation.\n",
      "Setting `pad_token_id` to `eos_token_id`:None for open-end generation.\n",
      "Setting `pad_token_id` to `eos_token_id`:None for open-end generation.\n",
      "Setting `pad_token_id` to `eos_token_id`:None for open-end generation.\n",
      "Setting `pad_token_id` to `eos_token_id`:None for open-end generation.\n",
      "Processing batch:   4%|▎         | 35/1000 [37:14<17:20:25, 64.69s/it]Setting `pad_token_id` to `eos_token_id`:None for open-end generation.\n"
     ]
    },
    {
     "name": "stdout",
     "output_type": "stream",
     "text": [
      "     sm_id                                      answer_string\n",
      "340   4188  \\n  (1) weightbasedhealth: yes, related phrase...\n",
      "341   1893  \\n  (1) weightbasedhealth: yes, related phrase...\n",
      "342    764  \\n  (1) weightbasedhealth: yes, the patient wa...\n",
      "343   3772  \\n  (1) weightbasedhealth: yes, the statement ...\n",
      "344   1770  \\n  (1) weightbasedhealth: yes, related phrase...\n",
      "345   2152  \\n  (1) weightbasedhealth: yes, related phrase...\n",
      "346   2904  \\n  (1) weightbasedhealth: yes, \"my primary ca...\n",
      "347   3607  \\n  (1) weightbasedhealth: yes, related phrase...\n",
      "348   2553  \\n  (1) weightbasedhealth: yes, related phrase...\n",
      "349   1933  \\n  (1) weightbasedhealth: yes, the primary ca...\n"
     ]
    },
    {
     "name": "stderr",
     "output_type": "stream",
     "text": [
      "Setting `pad_token_id` to `eos_token_id`:None for open-end generation.\n",
      "Setting `pad_token_id` to `eos_token_id`:None for open-end generation.\n",
      "Setting `pad_token_id` to `eos_token_id`:None for open-end generation.\n",
      "Setting `pad_token_id` to `eos_token_id`:None for open-end generation.\n",
      "Setting `pad_token_id` to `eos_token_id`:None for open-end generation.\n",
      "Setting `pad_token_id` to `eos_token_id`:None for open-end generation.\n",
      "Setting `pad_token_id` to `eos_token_id`:None for open-end generation.\n",
      "Setting `pad_token_id` to `eos_token_id`:None for open-end generation.\n",
      "Setting `pad_token_id` to `eos_token_id`:None for open-end generation.\n",
      "Processing batch:   4%|▎         | 36/1000 [38:37<18:47:59, 70.21s/it]Setting `pad_token_id` to `eos_token_id`:None for open-end generation.\n"
     ]
    },
    {
     "name": "stdout",
     "output_type": "stream",
     "text": [
      "     sm_id                                      answer_string\n",
      "350   2632  \\n  (1) weightbasedhealth: yes, the doctor's j...\n",
      "351   2538  \\n  (1) weightbasedhealth: yes, related phrase...\n",
      "352   4473  \\n  (1) weightbasedhealth: yes, related phrase...\n",
      "353   2476  \\n  (1) weightbasedhealth: no, related phrases...\n",
      "354    472  \\n  (1) weightbasedhealth: yes, related phrase...\n",
      "355   1369  \\n  (1) weightbasedhealth: yes, the pediatrici...\n",
      "356    729  \\n  (1) weightbasedhealth: yes, related phrase...\n",
      "357   2071  \\n  (1) weightbasedhealth: yes, the primary ca...\n",
      "358   2480  \\n  (1) weightbasedhealth: yes, related phrase...\n",
      "359   4067  \\n  (1) weightbasedhealth: yes, related phrase...\n"
     ]
    },
    {
     "name": "stderr",
     "output_type": "stream",
     "text": [
      "Setting `pad_token_id` to `eos_token_id`:None for open-end generation.\n",
      "Setting `pad_token_id` to `eos_token_id`:None for open-end generation.\n",
      "Setting `pad_token_id` to `eos_token_id`:None for open-end generation.\n",
      "Setting `pad_token_id` to `eos_token_id`:None for open-end generation.\n",
      "Setting `pad_token_id` to `eos_token_id`:None for open-end generation.\n",
      "Setting `pad_token_id` to `eos_token_id`:None for open-end generation.\n",
      "Setting `pad_token_id` to `eos_token_id`:None for open-end generation.\n",
      "Setting `pad_token_id` to `eos_token_id`:None for open-end generation.\n",
      "Setting `pad_token_id` to `eos_token_id`:None for open-end generation.\n",
      "Processing batch:   4%|▎         | 37/1000 [39:39<18:06:20, 67.68s/it]Setting `pad_token_id` to `eos_token_id`:None for open-end generation.\n"
     ]
    },
    {
     "name": "stdout",
     "output_type": "stream",
     "text": [
      "     sm_id                                      answer_string\n",
      "360   2227  \\n  (1) weightbasedhealth: yes, related phrase...\n",
      "361   1181  \\n  (1) weightbasedhealth: yes, related phrase...\n",
      "362   3214  \\n  (1) weightbasedhealth: yes, related phrase...\n",
      "363   2295  \\n  (1) weightbasedhealth: yes, related phrase...\n",
      "364   2646  \\n  (1) weightbasedhealth: yes, the statement ...\n",
      "365   2396  \\n  (1) weightbasedhealth: yes\\n  (2) weightst...\n",
      "366   4503  \\n  (1) weightbasedhealth: yes, the statement ...\n",
      "367   2447  \\n  (1) weightbasedhealth: yes, related phrase...\n",
      "368   3025  \\n  (1) weightbasedhealth: yes, related phrase...\n",
      "369   2456  \\n  (1) weightbasedhealth: yes, related phrase...\n"
     ]
    },
    {
     "name": "stderr",
     "output_type": "stream",
     "text": [
      "Setting `pad_token_id` to `eos_token_id`:None for open-end generation.\n",
      "Setting `pad_token_id` to `eos_token_id`:None for open-end generation.\n",
      "Setting `pad_token_id` to `eos_token_id`:None for open-end generation.\n",
      "Setting `pad_token_id` to `eos_token_id`:None for open-end generation.\n",
      "Setting `pad_token_id` to `eos_token_id`:None for open-end generation.\n",
      "Setting `pad_token_id` to `eos_token_id`:None for open-end generation.\n",
      "Setting `pad_token_id` to `eos_token_id`:None for open-end generation.\n",
      "Setting `pad_token_id` to `eos_token_id`:None for open-end generation.\n",
      "Setting `pad_token_id` to `eos_token_id`:None for open-end generation.\n",
      "Processing batch:   4%|▍         | 38/1000 [40:48<18:14:55, 68.29s/it]Setting `pad_token_id` to `eos_token_id`:None for open-end generation.\n"
     ]
    },
    {
     "name": "stdout",
     "output_type": "stream",
     "text": [
      "     sm_id                                      answer_string\n",
      "370   2892  \\n  (1) weightbasedhealth: yes, the individual...\n",
      "371   2771  \\n  (1) weightbasedhealth: yes, the comment ab...\n",
      "372   1674  \\n  (1) weightbasedhealth: yes, the family doc...\n",
      "373   3937  \\n  (1) weightbasedhealth: yes, related phrase...\n",
      "374   4362  \\n  (1) weightbasedhealth: yes, related phrase...\n",
      "375   4830  \\n  (1) weightbasedhealth: yes, related phrase...\n",
      "376   3246  \\n  (1) weightbasedhealth: yes, related phrase...\n",
      "377   2463  \\n  (1) weightbasedhealth: yes, related phrase...\n",
      "378   2083  \\n  (1) weightbasedhealth: yes, the doctors pr...\n",
      "379    790  \\n  (1) weightbasedhealth: yes, the gynecologi...\n"
     ]
    },
    {
     "name": "stderr",
     "output_type": "stream",
     "text": [
      "Setting `pad_token_id` to `eos_token_id`:None for open-end generation.\n",
      "Setting `pad_token_id` to `eos_token_id`:None for open-end generation.\n",
      "Setting `pad_token_id` to `eos_token_id`:None for open-end generation.\n",
      "Setting `pad_token_id` to `eos_token_id`:None for open-end generation.\n",
      "Setting `pad_token_id` to `eos_token_id`:None for open-end generation.\n",
      "Setting `pad_token_id` to `eos_token_id`:None for open-end generation.\n",
      "Setting `pad_token_id` to `eos_token_id`:None for open-end generation.\n",
      "Setting `pad_token_id` to `eos_token_id`:None for open-end generation.\n",
      "Setting `pad_token_id` to `eos_token_id`:None for open-end generation.\n",
      "Processing batch:   4%|▍         | 39/1000 [41:56<18:11:59, 68.18s/it]Setting `pad_token_id` to `eos_token_id`:None for open-end generation.\n"
     ]
    },
    {
     "name": "stdout",
     "output_type": "stream",
     "text": [
      "     sm_id                                      answer_string\n",
      "380   4804  \\n  (1) weightbasedhealth: yes, related phrase...\n",
      "381   3553  \\n  (1) weightbasedhealth: yes, related phrase...\n",
      "382   3275  \\n  (1) weightbasedhealth: yes, related phrase...\n",
      "383   2671  \\n  (1) weightbasedhealth: yes, related phrase...\n",
      "384   4256  \\n  (1) weightbasedhealth: yes, the statement ...\n",
      "385   2489  \\n  (1) weightbasedhealth: yes, related phrase...\n",
      "386   2916  \\n  (1) weightbasedhealth: yes\\n  (2) weightst...\n",
      "387   2004  \\n  (1) weightbasedhealth: yes, related phrase...\n",
      "388   2114  \\n  (1) weightbasedhealth: yes, related phrase...\n",
      "389   2828  \\n  (1) weightbasedhealth: yes, related phrase...\n"
     ]
    },
    {
     "name": "stderr",
     "output_type": "stream",
     "text": [
      "Setting `pad_token_id` to `eos_token_id`:None for open-end generation.\n",
      "Setting `pad_token_id` to `eos_token_id`:None for open-end generation.\n",
      "Setting `pad_token_id` to `eos_token_id`:None for open-end generation.\n",
      "Setting `pad_token_id` to `eos_token_id`:None for open-end generation.\n",
      "Setting `pad_token_id` to `eos_token_id`:None for open-end generation.\n",
      "Setting `pad_token_id` to `eos_token_id`:None for open-end generation.\n",
      "Setting `pad_token_id` to `eos_token_id`:None for open-end generation.\n",
      "Setting `pad_token_id` to `eos_token_id`:None for open-end generation.\n",
      "Setting `pad_token_id` to `eos_token_id`:None for open-end generation.\n",
      "Processing batch:   4%|▍         | 40/1000 [43:02<17:57:10, 67.32s/it]Setting `pad_token_id` to `eos_token_id`:None for open-end generation.\n"
     ]
    },
    {
     "name": "stdout",
     "output_type": "stream",
     "text": [
      "     sm_id                                      answer_string\n",
      "390    557  \\n  (1) weightbasedhealth: yes, related phrase...\n",
      "391   3372  \\n  (1) weightbasedhealth: yes, related phrase...\n",
      "392   2133  \\n  (1) weightbasedhealth: yes, related phrase...\n",
      "393   1032  \\n  (1) weightbasedhealth: yes, the statement ...\n",
      "394   2115  \\n  (1) weightbasedhealth: yes, the doctor com...\n",
      "395   3635  \\n  (1) weightbasedhealth: yes, related phrase...\n",
      "396   2478  \\n  (1) weightbasedhealth: yes\\n  (2) weightst...\n",
      "397   2704  \\n  (1) weightbasedhealth: yes, related phrase...\n",
      "398   3190  \\n  (1) weightbasedhealth: yes, related phrase...\n",
      "399   4198  \\n  (1) weightbasedhealth: yes, related phrase...\n"
     ]
    },
    {
     "name": "stderr",
     "output_type": "stream",
     "text": [
      "Setting `pad_token_id` to `eos_token_id`:None for open-end generation.\n",
      "Setting `pad_token_id` to `eos_token_id`:None for open-end generation.\n",
      "Setting `pad_token_id` to `eos_token_id`:None for open-end generation.\n",
      "Setting `pad_token_id` to `eos_token_id`:None for open-end generation.\n",
      "Setting `pad_token_id` to `eos_token_id`:None for open-end generation.\n",
      "Setting `pad_token_id` to `eos_token_id`:None for open-end generation.\n",
      "Setting `pad_token_id` to `eos_token_id`:None for open-end generation.\n",
      "Setting `pad_token_id` to `eos_token_id`:None for open-end generation.\n",
      "Setting `pad_token_id` to `eos_token_id`:None for open-end generation.\n",
      "Processing batch:   4%|▍         | 41/1000 [44:18<18:40:32, 70.11s/it]Setting `pad_token_id` to `eos_token_id`:None for open-end generation.\n"
     ]
    },
    {
     "name": "stdout",
     "output_type": "stream",
     "text": [
      "     sm_id                                      answer_string\n",
      "400   2770  \\n  (1) weightbasedhealth: yes, related phrase...\n",
      "401   1256  \\n  (1) weightbasedhealth: yes, related phrase...\n",
      "402   3691  \\n  (1) weightbasedhealth: yes, the doctor's c...\n",
      "403   1965  \\n  (1) weightbasedhealth: yes, the doctor's c...\n",
      "404   3646  \\n  (1) weightbasedhealth: yes, related phrase...\n",
      "405   4196  \\n  (1) weightbasedhealth: yes, related phrase...\n",
      "406    431  \\n  (1) weightbasedhealth: yes, related phrase...\n",
      "407   3673  \\n  (1) weightbasedhealth: yes, related phrase...\n",
      "408    929  \\n  (1) weightbasedhealth: yes, the patient's ...\n",
      "409   2001  \\n  (1) weightbasedhealth: yes, the patient wa...\n"
     ]
    },
    {
     "name": "stderr",
     "output_type": "stream",
     "text": [
      "Setting `pad_token_id` to `eos_token_id`:None for open-end generation.\n",
      "Setting `pad_token_id` to `eos_token_id`:None for open-end generation.\n",
      "Setting `pad_token_id` to `eos_token_id`:None for open-end generation.\n",
      "Setting `pad_token_id` to `eos_token_id`:None for open-end generation.\n",
      "Setting `pad_token_id` to `eos_token_id`:None for open-end generation.\n",
      "Setting `pad_token_id` to `eos_token_id`:None for open-end generation.\n",
      "Setting `pad_token_id` to `eos_token_id`:None for open-end generation.\n",
      "Setting `pad_token_id` to `eos_token_id`:None for open-end generation.\n",
      "Setting `pad_token_id` to `eos_token_id`:None for open-end generation.\n",
      "Processing batch:   4%|▍         | 42/1000 [45:28<18:36:41, 69.94s/it]Setting `pad_token_id` to `eos_token_id`:None for open-end generation.\n"
     ]
    },
    {
     "name": "stdout",
     "output_type": "stream",
     "text": [
      "     sm_id                                      answer_string\n",
      "410   2184  \\n  (1) weightbasedhealth: yes, related phrase...\n",
      "411   4821  \\n  (1) weightbasedhealth: yes, related phrase...\n",
      "412   1205  \\n  (1) weightbasedhealth: yes, related phrase...\n",
      "413   2291  \\n  (1) weightbasedhealth: yes, related phrase...\n",
      "414   1025  \\n  (1) weightbasedhealth: yes, related phrase...\n",
      "415   3601  \\n  (1) weightbasedhealth: yes\\n  (2) weightst...\n",
      "416   1051  \\n  (1) weightbasedhealth: yes, related phrase...\n",
      "417   3536  \\n  (1) weightbasedhealth: yes, the tech menti...\n",
      "418    223  \\n  (1) weightbasedhealth: yes, the paragraph ...\n",
      "419   2876  \\n  (1) weightbasedhealth: yes, the nurse's co...\n"
     ]
    },
    {
     "name": "stderr",
     "output_type": "stream",
     "text": [
      "Setting `pad_token_id` to `eos_token_id`:None for open-end generation.\n",
      "Setting `pad_token_id` to `eos_token_id`:None for open-end generation.\n",
      "Setting `pad_token_id` to `eos_token_id`:None for open-end generation.\n",
      "Setting `pad_token_id` to `eos_token_id`:None for open-end generation.\n",
      "Setting `pad_token_id` to `eos_token_id`:None for open-end generation.\n",
      "Setting `pad_token_id` to `eos_token_id`:None for open-end generation.\n",
      "Setting `pad_token_id` to `eos_token_id`:None for open-end generation.\n",
      "Setting `pad_token_id` to `eos_token_id`:None for open-end generation.\n",
      "Setting `pad_token_id` to `eos_token_id`:None for open-end generation.\n",
      "Processing batch:   4%|▍         | 43/1000 [46:40<18:46:19, 70.62s/it]Setting `pad_token_id` to `eos_token_id`:None for open-end generation.\n"
     ]
    },
    {
     "name": "stdout",
     "output_type": "stream",
     "text": [
      "     sm_id                                      answer_string\n",
      "420   3128  \\n  (1) weightbasedhealth: yes, the phrase \"bu...\n",
      "421   3512  \\n  (1) weightbasedhealth: yes, the pediatrici...\n",
      "422    451  \\n  (1) weightbasedhealth: yes, related phrase...\n",
      "423   2983  \\n  (1) weightbasedhealth: yes, related phrase...\n",
      "424   4504  \\n  (1) weightbasedhealth: yes, related phrase...\n",
      "425   1461  \\n  (1) weightbasedhealth: yes, related phrase...\n",
      "426   4732  \\n  (1) weightbasedhealth: yes, related phrase...\n",
      "427   4519  \\n  (1) weightbasedhealth: yes\\n  (2) weightst...\n",
      "428    683  \\n  (1) weightbasedhealth: yes, related phrase...\n",
      "429    606  \\n  (1) weightbasedhealth: yes, the endocrinol...\n"
     ]
    },
    {
     "name": "stderr",
     "output_type": "stream",
     "text": [
      "Setting `pad_token_id` to `eos_token_id`:None for open-end generation.\n",
      "Setting `pad_token_id` to `eos_token_id`:None for open-end generation.\n",
      "Setting `pad_token_id` to `eos_token_id`:None for open-end generation.\n",
      "Setting `pad_token_id` to `eos_token_id`:None for open-end generation.\n",
      "Setting `pad_token_id` to `eos_token_id`:None for open-end generation.\n",
      "Setting `pad_token_id` to `eos_token_id`:None for open-end generation.\n",
      "Setting `pad_token_id` to `eos_token_id`:None for open-end generation.\n",
      "Setting `pad_token_id` to `eos_token_id`:None for open-end generation.\n",
      "Setting `pad_token_id` to `eos_token_id`:None for open-end generation.\n",
      "Processing batch:   4%|▍         | 44/1000 [47:42<18:02:55, 67.97s/it]Setting `pad_token_id` to `eos_token_id`:None for open-end generation.\n"
     ]
    },
    {
     "name": "stdout",
     "output_type": "stream",
     "text": [
      "     sm_id                                      answer_string\n",
      "430   3365  \\n  (1) weightbasedhealth: yes, related phrase...\n",
      "431   4614  \\n  (1) weightbasedhealth: yes, related phrase...\n",
      "432   1908  \\n  (1) weightbasedhealth: yes, related phrase...\n",
      "433   3016  \\n  (1) weightbasedhealth: yes, related phrase...\n",
      "434   2579  \\n  (1) weightbasedhealth: yes, the statement ...\n",
      "435   1524  \\n  (1) weightbasedhealth: yes, related phrase...\n",
      "436   1957  \\n  (1) weightbasedhealth: yes, related phrase...\n",
      "437   3809  \\n  (1) weightbasedhealth: yes, related phrase...\n",
      "438   3333  \\n  (1) weightbasedhealth: yes, related phrase...\n",
      "439    177  \\n  (1) weightbasedhealth: yes, related phrase...\n"
     ]
    },
    {
     "name": "stderr",
     "output_type": "stream",
     "text": [
      "Setting `pad_token_id` to `eos_token_id`:None for open-end generation.\n",
      "Setting `pad_token_id` to `eos_token_id`:None for open-end generation.\n",
      "Setting `pad_token_id` to `eos_token_id`:None for open-end generation.\n",
      "Setting `pad_token_id` to `eos_token_id`:None for open-end generation.\n",
      "Setting `pad_token_id` to `eos_token_id`:None for open-end generation.\n",
      "Setting `pad_token_id` to `eos_token_id`:None for open-end generation.\n",
      "Setting `pad_token_id` to `eos_token_id`:None for open-end generation.\n",
      "Setting `pad_token_id` to `eos_token_id`:None for open-end generation.\n",
      "Setting `pad_token_id` to `eos_token_id`:None for open-end generation.\n",
      "Processing batch:   4%|▍         | 45/1000 [48:38<17:07:47, 64.57s/it]Setting `pad_token_id` to `eos_token_id`:None for open-end generation.\n"
     ]
    },
    {
     "name": "stdout",
     "output_type": "stream",
     "text": [
      "     sm_id                                      answer_string\n",
      "440   4858  \\n  (1) weightbasedhealth: yes, related phrase...\n",
      "441   2684  \\n  (1) weightbasedhealth: yes, related phrase...\n",
      "442   4869  \\n  (1) weightbasedhealth: yes, related phrase...\n",
      "443   3678  \\n  (1) weightbasedhealth: yes, related phrase...\n",
      "444   2562  \\n  (1) weightbasedhealth: yes, related phrase...\n",
      "445   2054  \\n  (1) weightbasedhealth: yes, related phrase...\n",
      "446   4654  \\n  (1) weightbasedhealth: yes, the pediatrici...\n",
      "447   2330  \\n  (1) weightbasedhealth: yes, related phrase...\n",
      "448   3082  \\n  (1) weightbasedhealth: yes, related phrase...\n",
      "449   2648  \\n  (1) weightbasedhealth: yes, related phrase...\n"
     ]
    },
    {
     "name": "stderr",
     "output_type": "stream",
     "text": [
      "Setting `pad_token_id` to `eos_token_id`:None for open-end generation.\n",
      "Setting `pad_token_id` to `eos_token_id`:None for open-end generation.\n",
      "Setting `pad_token_id` to `eos_token_id`:None for open-end generation.\n",
      "Setting `pad_token_id` to `eos_token_id`:None for open-end generation.\n",
      "Setting `pad_token_id` to `eos_token_id`:None for open-end generation.\n",
      "Setting `pad_token_id` to `eos_token_id`:None for open-end generation.\n",
      "Setting `pad_token_id` to `eos_token_id`:None for open-end generation.\n",
      "Setting `pad_token_id` to `eos_token_id`:None for open-end generation.\n",
      "Setting `pad_token_id` to `eos_token_id`:None for open-end generation.\n",
      "Processing batch:   5%|▍         | 46/1000 [49:53<17:55:12, 67.62s/it]Setting `pad_token_id` to `eos_token_id`:None for open-end generation.\n"
     ]
    },
    {
     "name": "stdout",
     "output_type": "stream",
     "text": [
      "     sm_id                                      answer_string\n",
      "450   2668  \\n  (1) weightbasedhealth: yes, related phrase...\n",
      "451   2222  \\n  (1) weightbasedhealth: yes, related phrase...\n",
      "452   2645  \\n  (1) weightbasedhealth: yes, the patient's ...\n",
      "453   1522  \\n  (1) weightbasedhealth: yes, the phrase \"yo...\n",
      "454   2092  \\n  (1) weightbasedhealth: yes, the doctor's r...\n",
      "455   3511  \\n  (1) weightbasedhealth: yes, related phrase...\n",
      "456   2267  \\n  (1) weightbasedhealth: yes, related phrase...\n",
      "457   3140  \\n  (1) weightbasedhealth: yes, the healthcare...\n",
      "458   3572  \\n  (1) weightbasedhealth: yes, related phrase...\n",
      "459   3948  \\n  (1) weightbasedhealth: yes, the primary ca...\n"
     ]
    },
    {
     "name": "stderr",
     "output_type": "stream",
     "text": [
      "Setting `pad_token_id` to `eos_token_id`:None for open-end generation.\n",
      "Setting `pad_token_id` to `eos_token_id`:None for open-end generation.\n",
      "Setting `pad_token_id` to `eos_token_id`:None for open-end generation.\n",
      "Setting `pad_token_id` to `eos_token_id`:None for open-end generation.\n",
      "Setting `pad_token_id` to `eos_token_id`:None for open-end generation.\n",
      "Setting `pad_token_id` to `eos_token_id`:None for open-end generation.\n",
      "Setting `pad_token_id` to `eos_token_id`:None for open-end generation.\n",
      "Setting `pad_token_id` to `eos_token_id`:None for open-end generation.\n",
      "Setting `pad_token_id` to `eos_token_id`:None for open-end generation.\n",
      "Processing batch:   5%|▍         | 47/1000 [51:00<17:50:07, 67.37s/it]Setting `pad_token_id` to `eos_token_id`:None for open-end generation.\n"
     ]
    },
    {
     "name": "stdout",
     "output_type": "stream",
     "text": [
      "     sm_id                                      answer_string\n",
      "460    108  \\n  (1) weightbasedhealth: yes, related phrase...\n",
      "461   2561  \\n  (1) weightbasedhealth: yes, the physician ...\n",
      "462    473  \\n  (1) weightbasedhealth: yes, related phrase...\n",
      "463    473  \\n  (1) weightbasedhealth: yes, related phrase...\n",
      "464    901  \\n  (1) weightbasedhealth: yes, related phrase...\n",
      "465   4366  \\n  (1) weightbasedhealth: yes, related phrase...\n",
      "466    117  \\n  (1) weightbasedhealth: yes, related phrase...\n",
      "467   4818  \\n  (1) weightbasedhealth: yes, related phrase...\n",
      "468   1872  \\n  (1) weightbasedhealth: yes, the statement ...\n",
      "469   2769  \\n  (1) weightbasedhealth: yes, the provider s...\n"
     ]
    },
    {
     "name": "stderr",
     "output_type": "stream",
     "text": [
      "Setting `pad_token_id` to `eos_token_id`:None for open-end generation.\n",
      "Setting `pad_token_id` to `eos_token_id`:None for open-end generation.\n",
      "Setting `pad_token_id` to `eos_token_id`:None for open-end generation.\n",
      "Setting `pad_token_id` to `eos_token_id`:None for open-end generation.\n",
      "Setting `pad_token_id` to `eos_token_id`:None for open-end generation.\n",
      "Setting `pad_token_id` to `eos_token_id`:None for open-end generation.\n",
      "Setting `pad_token_id` to `eos_token_id`:None for open-end generation.\n",
      "Setting `pad_token_id` to `eos_token_id`:None for open-end generation.\n",
      "Setting `pad_token_id` to `eos_token_id`:None for open-end generation.\n",
      "Processing batch:   5%|▍         | 48/1000 [52:13<18:14:12, 68.96s/it]Setting `pad_token_id` to `eos_token_id`:None for open-end generation.\n"
     ]
    },
    {
     "name": "stdout",
     "output_type": "stream",
     "text": [
      "     sm_id                                      answer_string\n",
      "470    506  \\n  (1) weightbasedhealth: yes, related phrase...\n",
      "471   2526  \\n  (1) weightbasedhealth: yes, related phrase...\n",
      "472    788  \\n  (1) weightbasedhealth: yes, related phrase...\n",
      "473    269  \\n  (1) weightbasedhealth: yes, related phrase...\n",
      "474   1410  \\n  (1) weightbasedhealth: yes, related phrase...\n",
      "475   4265  \\n  (1) weightbasedhealth: yes, related phrase...\n",
      "476   4365  \\n  (1) weightbasedhealth: yes, the nurse aske...\n",
      "477    998  \\n  (1) weightbasedhealth: yes, related phrase...\n",
      "478    605  \\n  (1) weightbasedhealth: yes, related phrase...\n",
      "479   2362  \\n  (1) weightbasedhealth: yes, related phrase...\n"
     ]
    },
    {
     "name": "stderr",
     "output_type": "stream",
     "text": [
      "Setting `pad_token_id` to `eos_token_id`:None for open-end generation.\n",
      "Setting `pad_token_id` to `eos_token_id`:None for open-end generation.\n",
      "Setting `pad_token_id` to `eos_token_id`:None for open-end generation.\n",
      "Setting `pad_token_id` to `eos_token_id`:None for open-end generation.\n",
      "Setting `pad_token_id` to `eos_token_id`:None for open-end generation.\n",
      "Setting `pad_token_id` to `eos_token_id`:None for open-end generation.\n",
      "Setting `pad_token_id` to `eos_token_id`:None for open-end generation.\n",
      "Setting `pad_token_id` to `eos_token_id`:None for open-end generation.\n",
      "Setting `pad_token_id` to `eos_token_id`:None for open-end generation.\n",
      "Processing batch:   5%|▍         | 49/1000 [53:26<18:32:45, 70.21s/it]Setting `pad_token_id` to `eos_token_id`:None for open-end generation.\n"
     ]
    },
    {
     "name": "stdout",
     "output_type": "stream",
     "text": [
      "     sm_id                                      answer_string\n",
      "480   2352  \\n  (1) weightbasedhealth: yes, related phrase...\n",
      "481   2744  \\n  (1) weightbasedhealth: yes, related phrase...\n",
      "482   2617  \\n  (1) weightbasedhealth: yes, related phrase...\n",
      "483   2448  \\n  (1) weightbasedhealth: yes, related phrase...\n",
      "484   1748  \\n  (1) weightbasedhealth: yes, the allergist ...\n",
      "485   3517  \\n  (1) weightbasedhealth: yes, related phrase...\n",
      "486   1642  \\n  (1) weightbasedhealth: yes, related phrase...\n",
      "487   1769  \\n  (1) weightbasedhealth: yes, the statement ...\n",
      "488   3297  \\n  (1) weightbasedhealth: yes, related phrase...\n",
      "489   1595  \\n  (1) weightbasedhealth: yes, related phrase...\n"
     ]
    },
    {
     "name": "stderr",
     "output_type": "stream",
     "text": [
      "Setting `pad_token_id` to `eos_token_id`:None for open-end generation.\n",
      "Setting `pad_token_id` to `eos_token_id`:None for open-end generation.\n",
      "Setting `pad_token_id` to `eos_token_id`:None for open-end generation.\n",
      "Setting `pad_token_id` to `eos_token_id`:None for open-end generation.\n",
      "Setting `pad_token_id` to `eos_token_id`:None for open-end generation.\n",
      "Setting `pad_token_id` to `eos_token_id`:None for open-end generation.\n",
      "Setting `pad_token_id` to `eos_token_id`:None for open-end generation.\n",
      "Setting `pad_token_id` to `eos_token_id`:None for open-end generation.\n",
      "Setting `pad_token_id` to `eos_token_id`:None for open-end generation.\n",
      "Processing batch:   5%|▌         | 50/1000 [54:34<17:17:00, 65.49s/it]"
     ]
    },
    {
     "name": "stdout",
     "output_type": "stream",
     "text": [
      "     sm_id                                      answer_string\n",
      "490   1892  \\n  (1) weightbasedhealth: yes, related phrase...\n",
      "491   1764  \\n  (1) weightbasedhealth: yes, related phrase...\n",
      "492   2053  \\n  (1) weightbasedhealth: yes, the statement ...\n",
      "493   2192  \\n  (1) weightbasedhealth: yes, the doctor's c...\n",
      "494   1650  \\n  (1) weightbasedhealth: yes, related phrase...\n",
      "495   4779  \\n  (1) weightbasedhealth: yes, related phrase...\n",
      "496    787  \\n  (1) weightbasedhealth: yes, related phrase...\n",
      "497   2563  \\n  (1) weightbasedhealth: yes, the psychiatri...\n",
      "498    508  \\n  (1) weightbasedhealth: yes, the psychiatri...\n",
      "499   3670  \\n  (1) weightbasedhealth: yes, related phrase...\n"
     ]
    },
    {
     "name": "stderr",
     "output_type": "stream",
     "text": [
      "\n"
     ]
    }
   ],
   "source": [
    "from tqdm import tqdm\n",
    "\n",
    "for k in tqdm(range(1000), desc=\"Processing batch\"):\n",
    "    \n",
    "    batch_size = 10\n",
    "\n",
    "    # Filter for rows where 'answer_string' is NaN\n",
    "    unanswered_df = answer_df[answer_df['answer_string'].isna()]\n",
    "\n",
    "    # Get the indices of these NaN entries in the original DataFrame\n",
    "    indices_to_update = unanswered_df.index[:batch_size]\n",
    "\n",
    "    # Prepare prompt content for the first 10 entries with NaN answer_string\n",
    "    user_messages = [format_user_message(text) for text in unanswered_df['text_w_eos'].iloc[:batch_size]]\n",
    "\n",
    "    # Save the indices list if needed for later use\n",
    "    indices_to_update_list = list(indices_to_update)\n",
    "\n",
    "\n",
    "    if len(indices_to_update_list)>0:\n",
    "        for i in range(len(user_messages)):\n",
    "            failed = True\n",
    "            failed_count = 0\n",
    "            while failed and failed_count<10:\n",
    "                conversation = [\n",
    "                    {\"role\": \"system\", \"content\": system_message},\n",
    "                    {\"role\": \"user\", \"content\": user_messages[i]}\n",
    "                ]\n",
    "                inputs = tokenizer.apply_chat_template(\n",
    "                        conversation,\n",
    "                        # tools=tools,\n",
    "                        add_generation_prompt=False,\n",
    "                        return_dict=True,\n",
    "                        return_tensors=\"pt\")\n",
    "                inputs.to(model.device)\n",
    "                outputs = model.generate(**inputs,\n",
    "                                         do_sample=True,\n",
    "                                         max_new_tokens=512,\n",
    "                                         temperature=0.1)\n",
    "                response = tokenizer.decode(outputs[0], skip_special_tokens=True)\n",
    "                del inputs\n",
    "                if \"Answer starts here:\" in response:\n",
    "                    answer = response.split(\"Answer starts here:\")[-1]\n",
    "                    # Use the original index from indices_to_update_list\n",
    "                    answer_df.loc[indices_to_update_list[i], 'answer_string'] = answer\n",
    "                    # print(answer)\n",
    "                    failed = False\n",
    "                else:\n",
    "                    failed = True\n",
    "                    failed_count += 1\n",
    "                    # Use the original index from indices_to_update_list\n",
    "                    answer_df.loc[indices_to_update_list[i], 'answer_string'] = \"Answer not found\"\n",
    "\n",
    "        print(answer_df.loc[indices_to_update_list, ['sm_id','answer_string']])\n",
    "        answer_df.to_csv(answer_df_path, index=False)\n",
    "    else:\n",
    "         break\n",
    "    "
   ]
  },
  {
   "cell_type": "code",
   "execution_count": null,
   "id": "47f376d1-c7b3-4acd-b5e8-4a2b911b6748",
   "metadata": {},
   "outputs": [],
   "source": []
  },
  {
   "cell_type": "code",
   "execution_count": 8,
   "id": "5dbbbb8c-9660-4c9f-9e45-07dd9233d7ab",
   "metadata": {},
   "outputs": [],
   "source": [
    "import pandas as pd\n",
    "\n",
    "# File paths\n",
    "file_paths = [\n",
    "    \"../../data2/answer_df_mistral1.csv\",\n",
    "    \"../../data2/answer_df_mistral2.csv\",\n",
    "    \"../../data2/answer_df_mistral3.csv\"\n",
    "]\n",
    "\n",
    "# Read and concatenate dataframes\n",
    "answer_df_list = [pd.read_csv(file_path) for file_path in file_paths]\n",
    "answer_df = pd.concat(answer_df_list, ignore_index=True)\n",
    "\n",
    "# Save the concatenated dataframe\n",
    "output_path = \"../../data2/answer_df_mistral.csv\"\n",
    "answer_df.to_csv(output_path, index=False)\n"
   ]
  },
  {
   "cell_type": "code",
   "execution_count": null,
   "id": "edd0fb35-7144-4c32-9090-7f662d7055ff",
   "metadata": {},
   "outputs": [],
   "source": []
  }
 ],
 "metadata": {
  "kernelspec": {
   "display_name": "Python 3 (ipykernel)",
   "language": "python",
   "name": "python3"
  },
  "language_info": {
   "codemirror_mode": {
    "name": "ipython",
    "version": 3
   },
   "file_extension": ".py",
   "mimetype": "text/x-python",
   "name": "python",
   "nbconvert_exporter": "python",
   "pygments_lexer": "ipython3",
   "version": "3.11.4"
  }
 },
 "nbformat": 4,
 "nbformat_minor": 5
}
