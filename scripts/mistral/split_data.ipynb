{
 "cells": [
  {
   "cell_type": "code",
   "execution_count": 3,
   "id": "213be813-fe96-4155-ab40-bc76c917be94",
   "metadata": {
    "tags": []
   },
   "outputs": [
    {
     "name": "stdout",
     "output_type": "stream",
     "text": [
      "Saved part 1 to ../../gptj_data/answer_df_part1.csv\n",
      "Saved part 2 to ../../gptj_data/answer_df_part2.csv\n",
      "Saved part 3 to ../../gptj_data/answer_df_part3.csv\n",
      "Saved part 4 to ../../gptj_data/answer_df_part4.csv\n",
      "Saved part 5 to ../../gptj_data/answer_df_part5.csv\n",
      "Saved part 6 to ../../gptj_data/answer_df_part6.csv\n",
      "Saved part 7 to ../../gptj_data/answer_df_part7.csv\n",
      "Saved part 8 to ../../gptj_data/answer_df_part8.csv\n"
     ]
    }
   ],
   "source": [
    "import pandas as pd\n",
    "import numpy as np\n",
    "\n",
    "# Load the CSV file\n",
    "answer_df = pd.read_csv(\"../../data/answer_df_raw.csv\")\n",
    "if not 'answer_string' in answer_df.columns:\n",
    "    answer_df['answer_string'] = np.nan\n",
    "\n",
    "# Split the DataFrame into 8 parts\n",
    "split_dfs = np.array_split(answer_df, 8)\n",
    "\n",
    "# Save each part as a CSV file\n",
    "for i, df in enumerate(split_dfs, start=1):\n",
    "    file_path = f\"../../gptj_data/answer_df_part{i}.csv\"\n",
    "    df.to_csv(file_path, index=False)\n",
    "    print(f\"Saved part {i} to {file_path}\")\n"
   ]
  },
  {
   "cell_type": "code",
   "execution_count": null,
   "id": "a89aa9ca-9a7a-4c71-8642-0fa23ec6575e",
   "metadata": {},
   "outputs": [],
   "source": []
  }
 ],
 "metadata": {
  "kernelspec": {
   "display_name": "Python 3 (ipykernel)",
   "language": "python",
   "name": "python3"
  },
  "language_info": {
   "codemirror_mode": {
    "name": "ipython",
    "version": 3
   },
   "file_extension": ".py",
   "mimetype": "text/x-python",
   "name": "python",
   "nbconvert_exporter": "python",
   "pygments_lexer": "ipython3",
   "version": "3.11.4"
  }
 },
 "nbformat": 4,
 "nbformat_minor": 5
}
