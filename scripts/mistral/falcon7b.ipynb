{
 "cells": [
  {
   "cell_type": "code",
   "execution_count": 1,
   "id": "e53b016c-24fb-4ab1-8a28-2b3fdc3040a6",
   "metadata": {
    "tags": []
   },
   "outputs": [
    {
     "name": "stdout",
     "output_type": "stream",
     "text": [
      "True\n"
     ]
    },
    {
     "data": {
      "application/vnd.jupyter.widget-view+json": {
       "model_id": "891882d28ddd4457934c98f263408815",
       "version_major": 2,
       "version_minor": 0
      },
      "text/plain": [
       "tokenizer_config.json:   0%|          | 0.00/1.13k [00:00<?, ?B/s]"
      ]
     },
     "metadata": {},
     "output_type": "display_data"
    },
    {
     "data": {
      "application/vnd.jupyter.widget-view+json": {
       "model_id": "9313f2579a1948ac915d86c8478fe853",
       "version_major": 2,
       "version_minor": 0
      },
      "text/plain": [
       "tokenizer.json:   0%|          | 0.00/2.73M [00:00<?, ?B/s]"
      ]
     },
     "metadata": {},
     "output_type": "display_data"
    },
    {
     "data": {
      "application/vnd.jupyter.widget-view+json": {
       "model_id": "1e9e3b9787de48079f1cc0bfd66cbcf3",
       "version_major": 2,
       "version_minor": 0
      },
      "text/plain": [
       "special_tokens_map.json:   0%|          | 0.00/281 [00:00<?, ?B/s]"
      ]
     },
     "metadata": {},
     "output_type": "display_data"
    },
    {
     "data": {
      "application/vnd.jupyter.widget-view+json": {
       "model_id": "707778dcab2645caba1d2122d64ff20b",
       "version_major": 2,
       "version_minor": 0
      },
      "text/plain": [
       "config.json:   0%|          | 0.00/1.05k [00:00<?, ?B/s]"
      ]
     },
     "metadata": {},
     "output_type": "display_data"
    },
    {
     "data": {
      "application/vnd.jupyter.widget-view+json": {
       "model_id": "3cccc2985b004a56b0a570e0eb1b5e68",
       "version_major": 2,
       "version_minor": 0
      },
      "text/plain": [
       "configuration_falcon.py:   0%|          | 0.00/7.16k [00:00<?, ?B/s]"
      ]
     },
     "metadata": {},
     "output_type": "display_data"
    },
    {
     "name": "stderr",
     "output_type": "stream",
     "text": [
      "A new version of the following files was downloaded from https://huggingface.co/tiiuae/falcon-7b-instruct:\n",
      "- configuration_falcon.py\n",
      ". Make sure to double-check they do not contain any added malicious code. To avoid downloading new versions of the code file, you can pin a revision.\n",
      "\n",
      "WARNING: You are currently loading Falcon using legacy code contained in the model repository. Falcon has now been fully ported into the Hugging Face transformers library. For the most up-to-date and high-performance version of the Falcon model code, please update to the latest version of transformers and then load the model without the trust_remote_code=True argument.\n",
      "\n"
     ]
    },
    {
     "data": {
      "application/vnd.jupyter.widget-view+json": {
       "model_id": "4178d3a629d24c2d8e6d508b8bf7375d",
       "version_major": 2,
       "version_minor": 0
      },
      "text/plain": [
       "modeling_falcon.py:   0%|          | 0.00/56.9k [00:00<?, ?B/s]"
      ]
     },
     "metadata": {},
     "output_type": "display_data"
    },
    {
     "name": "stderr",
     "output_type": "stream",
     "text": [
      "A new version of the following files was downloaded from https://huggingface.co/tiiuae/falcon-7b-instruct:\n",
      "- modeling_falcon.py\n",
      ". Make sure to double-check they do not contain any added malicious code. To avoid downloading new versions of the code file, you can pin a revision.\n"
     ]
    },
    {
     "data": {
      "application/vnd.jupyter.widget-view+json": {
       "model_id": "7e58f3e6331848a6b2d63fd9446d94cd",
       "version_major": 2,
       "version_minor": 0
      },
      "text/plain": [
       "model.safetensors.index.json:   0%|          | 0.00/17.7k [00:00<?, ?B/s]"
      ]
     },
     "metadata": {},
     "output_type": "display_data"
    },
    {
     "data": {
      "application/vnd.jupyter.widget-view+json": {
       "model_id": "345b0e9405fc45718a45156013413dc8",
       "version_major": 2,
       "version_minor": 0
      },
      "text/plain": [
       "Downloading shards:   0%|          | 0/2 [00:00<?, ?it/s]"
      ]
     },
     "metadata": {},
     "output_type": "display_data"
    },
    {
     "data": {
      "application/vnd.jupyter.widget-view+json": {
       "model_id": "f7eea34f83a04d9aa3f0b4662ece4ba9",
       "version_major": 2,
       "version_minor": 0
      },
      "text/plain": [
       "model-00001-of-00002.safetensors:   0%|          | 0.00/9.95G [00:00<?, ?B/s]"
      ]
     },
     "metadata": {},
     "output_type": "display_data"
    },
    {
     "data": {
      "application/vnd.jupyter.widget-view+json": {
       "model_id": "e3b16fea073f4a85802df7767d82e0fa",
       "version_major": 2,
       "version_minor": 0
      },
      "text/plain": [
       "model-00002-of-00002.safetensors:   0%|          | 0.00/4.48G [00:00<?, ?B/s]"
      ]
     },
     "metadata": {},
     "output_type": "display_data"
    },
    {
     "data": {
      "application/vnd.jupyter.widget-view+json": {
       "model_id": "2ea068f9fd714d1abcd96948f30fff4c",
       "version_major": 2,
       "version_minor": 0
      },
      "text/plain": [
       "Loading checkpoint shards:   0%|          | 0/2 [00:00<?, ?it/s]"
      ]
     },
     "metadata": {},
     "output_type": "display_data"
    },
    {
     "data": {
      "application/vnd.jupyter.widget-view+json": {
       "model_id": "078fdff3d7524689b28f286bd1f0ccca",
       "version_major": 2,
       "version_minor": 0
      },
      "text/plain": [
       "generation_config.json:   0%|          | 0.00/117 [00:00<?, ?B/s]"
      ]
     },
     "metadata": {},
     "output_type": "display_data"
    }
   ],
   "source": [
    "from transformers import AutoTokenizer, AutoModelForCausalLM\n",
    "import transformers\n",
    "import torch\n",
    "\n",
    "\n",
    "print(torch.cuda.is_available())\n",
    "if torch.cuda.is_available():\n",
    "    torch.cuda.empty_cache()\n",
    "device = 0 if torch.cuda.is_available() else -1  # Use GPU if available, otherwise fallback to CPU\n",
    "model = \"tiiuae/falcon-7b-instruct\"\n",
    "tokenizer = AutoTokenizer.from_pretrained(model)\n",
    "\n",
    "\n",
    "pipeline = transformers.pipeline(\n",
    "    \"text-generation\",\n",
    "    model=model,\n",
    "    tokenizer=tokenizer,\n",
    "    torch_dtype=torch.bfloat16,\n",
    "    trust_remote_code=True,\n",
    "    device_map=device,\n",
    ")\n"
   ]
  },
  {
   "cell_type": "code",
   "execution_count": 2,
   "id": "2590d4b1-6c69-44cd-be35-e9f26d846c32",
   "metadata": {
    "tags": []
   },
   "outputs": [
    {
     "name": "stderr",
     "output_type": "stream",
     "text": [
      "Truncation was not explicitly activated but `max_length` is provided a specific value, please use `truncation=True` to explicitly truncate examples to max length. Defaulting to 'longest_first' truncation strategy. If you encode pairs of sequences (GLUE-style) with the tokenizer you can select this strategy more precisely by providing a specific strategy to `truncation`.\n",
      "/home/jq2uw/.local/lib/python3.11/site-packages/transformers/generation/configuration_utils.py:612: UserWarning: `do_sample` is set to `False`. However, `top_k` is set to `10` -- this flag is only used in sample-based generation modes. You should set `do_sample=True` or unset `top_k`.\n",
      "  warnings.warn(\n",
      "Setting `pad_token_id` to `eos_token_id`:None for open-end generation.\n"
     ]
    },
    {
     "name": "stdout",
     "output_type": "stream",
     "text": [
      "Result: Girafatron is obsessed with giraffes, the most glorious animal on the face of this Earth. Giraftron believes all other animals are irrelevant when compared to the glorious majesty of the giraffe.\n",
      "Daniel: Hello, Girafatron!\n",
      "Girafatron: Hello, Daniel!\n",
      "Daniel: What are you doing today?\n",
      "Girafatron: Today, I am going to go out and find a new friend.\n",
      "Daniel: That's a great idea! Who do you think you should go find?\n",
      "Girafatron: I think I should go find a giraffe.\n",
      "Daniel: That's a good choice! Do you think you can find a giraffe?\n",
      "Girafatron: Yes, I can! I'm a super-hero!\n",
      "Daniel: You are a super-hero! I'm sure you can find a giraffe.\n",
      "Girafatron: Thank\n"
     ]
    }
   ],
   "source": [
    "sequences = pipeline(\n",
    "   \"Girafatron is obsessed with giraffes, the most glorious animal on the face of this Earth. Giraftron believes all other animals are irrelevant when compared to the glorious majesty of the giraffe.\\nDaniel: Hello, Girafatron!\\nGirafatron:\",\n",
    "    max_length=200,\n",
    "    do_sample=False,\n",
    "    num_return_sequences=1,\n",
    "    eos_token_id=tokenizer.eos_token_id,\n",
    ")\n",
    "for seq in sequences:\n",
    "    print(f\"Result: {seq['generated_text']}\")\n"
   ]
  },
  {
   "cell_type": "code",
   "execution_count": 3,
   "id": "c63d485a-d004-48dd-8db0-ad9be01c06c6",
   "metadata": {
    "tags": []
   },
   "outputs": [],
   "source": [
    "file_id = 1\n",
    "answer_df_path = \"../../bloom_data/answer_df_part\"+str(file_id)+\".csv\""
   ]
  },
  {
   "cell_type": "code",
   "execution_count": 4,
   "id": "3d2b5a71-4cfa-467b-8591-80a5fd73d436",
   "metadata": {
    "tags": []
   },
   "outputs": [
    {
     "name": "stdout",
     "output_type": "stream",
     "text": [
      "(9647, 3)\n",
      "     sm_id                                         text_w_eos  answer_string\n",
      "0  10002yt  20 pound down after 22 week s and 17 week s ou...            NaN\n",
      "1  1003i3b  tw ana body dysmorphia describing body potenti...            NaN\n",
      "2  1003xw2  hello fellow brawearing friends. this is going...            NaN\n",
      "3  10042jf  according to cronometer 100 gram of canola oil...            NaN\n",
      "4  1004j21  its been two week s since i started strength t...            NaN\n",
      "5  1008hih  i made panfried chicken thighs ovenroasted pot...            NaN\n",
      "6  100ash9  i have aversive arfid so i have a very bad fea...            NaN\n",
      "7  100aza8  original post here httpswww. reddit. comrcicoc...            NaN\n",
      "8  100bwe6  for context i am early 30s attending a corpora...            NaN\n",
      "9  100c6y2  i got this from a thrift store and was pleasan...            NaN\n"
     ]
    }
   ],
   "source": [
    "import pandas as pd\n",
    "import numpy as np\n",
    "answer_df = pd.read_csv(answer_df_path)\n",
    "query_df = pd.read_csv(\"../../data/fea_df.csv\")\n",
    "\n",
    "if not 'answer_string' in answer_df.columns:\n",
    "    answer_df['answer_string'] = np.nan\n",
    "    \n",
    "print(answer_df.shape)\n",
    "print(answer_df.iloc[0:10,])"
   ]
  },
  {
   "cell_type": "code",
   "execution_count": 5,
   "id": "b1581718-50f7-4548-bb2d-0a0b53f91578",
   "metadata": {
    "tags": []
   },
   "outputs": [],
   "source": [
    "system_message = \"\"\"\n",
    "You are an AI assistant designed to answer questions.\n",
    "Please restrict your answer to the exact question and use the exact answer format asked.\n",
    "Answer should not have implied information. If the answer is yes, always provide related phrases. \n",
    "\"\"\"\n",
    "\n",
    "def format_user_message(text):\n",
    "    question_content = \"Does the paragraph mention any of the following topics:\\n\"\n",
    "    for i in range(len(query_df)):\n",
    "        question_content += f\"  ({i+1}) {query_df.fea[i]}: {query_df.description[i]}.\\n\"\n",
    "    answer_content = \"Return answer in format:\\n\"\n",
    "    for i in range(len(query_df)): \n",
    "        answer_content += f\"  ({i+1}) {query_df.fea[i]}: [yes/no], related phrases if any: \\n\"\n",
    "    paragragh_content = f\"Paragraph: '{text}' \\n\"\n",
    "    user_message = question_content + answer_content + paragragh_content\n",
    "    #print(user_message)\n",
    "    \n",
    "    return user_message\n",
    "\n",
    "\n"
   ]
  },
  {
   "cell_type": "code",
   "execution_count": 9,
   "id": "cd990d86-ec75-4ed2-943b-37e1fffd3143",
   "metadata": {
    "tags": []
   },
   "outputs": [
    {
     "name": "stderr",
     "output_type": "stream",
     "text": [
      "Setting `pad_token_id` to `eos_token_id`:None for open-end generation.\n"
     ]
    },
    {
     "name": "stdout",
     "output_type": "stream",
     "text": [
      "Result: Does the paragraph mention any of the following topics:\n",
      "  (1) relation: Family and social relationships.\n",
      "  (2) protein: High protein diet, carbohydrate-reduced(low-carb) high-protein diet.\n",
      "  (3) ed: Eating disorders(ED) diagnosis or recovery, ED includes anorexia nervosa, anorexic, bulimia, bulimic, binge eating disorders, arfid, osfed, pica.\n",
      "  (4) exercise: Physical exercise.\n",
      "  (5) meal: Routine of meals.\n",
      "  (6) crave: Craving for high calorie food or carbs.\n",
      "  (7) restrict: Restrict nutrition or calorie intake.\n",
      "  (8) binge: Binge eating.\n",
      "  (9) loss: Body weight loss.\n",
      "  (10) gain: Body weight gain.\n",
      "  (11) calorie: Count calorie.\n",
      "  (12) thinspo: Drive for thinness, want to be thinner or skinny.\n",
      "  (13) leanbody: Drive for lean body mass, low body fat, more muscular or muscles. Must related to body shape..\n",
      "  (14) bodyhate: Body dissatisfaction, feel bad about body image and appearrance. Must related to body image..\n",
      "  (15) feargain: Fear of body weight gain. Must related to body weight.\n",
      "  (16) fearfood: Fear certain foods.\n",
      "  (17) fearcarb: Fear food with high carbohydrate content or sugar..\n",
      "  (18) nosocialeat: Avoidance of social eating, avoidance of eating with other people..\n",
      "  (19) depressedmood: Depressed mood, feeling depressed..\n",
      "Return answer in format:\n",
      "  (1) relation: [yes/no], related phrases if any: \n",
      "  (2) protein: [yes/no], related phrases if any: \n",
      "  (3) ed: [yes/no], related phrases if any: \n",
      "  (4) exercise: [yes/no], related phrases if any: \n",
      "  (5) meal: [yes/no], related phrases if any: \n",
      "  (6) crave: [yes/no], related phrases if any: \n",
      "  (7) restrict: [yes/no], related phrases if any: \n",
      "  (8) binge: [yes/no], related phrases if any: \n",
      "  (9) loss: [yes/no], related phrases if any: \n",
      "  (10) gain: [yes/no], related phrases if any: \n",
      "  (11) calorie: [yes/no], related phrases if any: \n",
      "  (12) thinspo: [yes/no], related phrases if any: \n",
      "  (13) leanbody: [yes/no], related phrases if any: \n",
      "  (14) bodyhate: [yes/no], related phrases if any: \n",
      "  (15) feargain: [yes/no], related phrases if any: \n",
      "  (16) fearfood: [yes/no], related phrases if any: \n",
      "  (17) fearcarb: [yes/no], related phrases if any: \n",
      "  (18) nosocialeat: [yes/no], related phrases if any: \n",
      "  (19) depressedmood: [yes/no], related phrases if any: \n",
      "Paragraph: '20 pound down after 22 week s and 17 week s out from my first wellness show. check the posing progress too starting fat burners and cardio again this week after being sick so excited to see what comes on show day. ' \n",
      "(1) (2) (3) (4) (5) (6) (7) (8) (9) (10) (11) (12) (13) (14) (15) (16) (17) (18) (19) (20) (21) (22) (23) (24) (25) (26) (27) (28) (29) (30) (31) (32) (33) (34) (35) (36) (37) (38) (39) (40) (41) (42) (43) (44) (45) (46) (47) (48) (49) (50) (51) (52) (53) (54) (55) (56) (57) (58) (59) (60) (61) (62) (63) (64) (65) (66) (67) (68) (69) (70) (71) (72) (73) (74) (75) (76) (77) (78) (79) (80) (81) (82) (83) (84) (85) (86) (87) (88) (89) (90) (91) (92) (93) (94) (95) (96) (97) (98) (99) (100) (101) (102) (103) (104) (105) (106) (107) (108) (109) (110) (111) (112) (113) (114) (115) (116) (117) (118) (119) (120) (121) (122) (123) (124) (125) (126) (127) (128) \n",
      "Does the paragraph mention any of the following topics:\n",
      "  (1) relation: Family and social relationships.\n",
      "  (2) protein: High protein diet, carbohydrate-reduced(low-carb) high-protein diet.\n",
      "  (3) ed: Eating disorders(ED) diagnosis or recovery, ED includes anorexia nervosa, anorexic, bulimia, bulimic, binge eating disorders, arfid, osfed, pica.\n",
      "  (4) exercise: Physical exercise.\n",
      "  (5) meal: Routine of meals.\n",
      "  (6) crave: Craving for high calorie food or carbs.\n",
      "  (7) restrict: Restrict nutrition or calorie intake.\n",
      "  (8) binge: Binge eating.\n",
      "  (9) loss: Body weight loss.\n",
      "  (10) gain: Body weight gain.\n",
      "  (11) calorie: Count calorie.\n",
      "  (12) thinspo: Drive for thinness, want to be thinner or skinny.\n",
      "  (13) leanbody: Drive for lean body mass, low body fat, more muscular or muscles. Must related to body shape..\n",
      "  (14) bodyhate: Body dissatisfaction, feel bad about body image and appearrance. Must related to body image..\n",
      "  (15) feargain: Fear of body weight gain. Must related to body weight.\n",
      "  (16) fearfood: Fear certain foods.\n",
      "  (17) fearcarb: Fear food with high carbohydrate content or sugar..\n",
      "  (18) nosocialeat: Avoidance of social eating, avoidance of eating with other people..\n",
      "  (19) depressedmood: Depressed mood, feeling depressed..\n",
      "Return answer in format:\n",
      "  (1) relation: [yes/no], related phrases if any: \n",
      "  (2) protein: [yes/no], related phrases if any: \n",
      "  (3) ed: [yes/no], related phrases if any: \n",
      "  (4) exercise: [yes/no], related phrases if any: \n",
      "  (5) meal: [yes/no], related phrases if any: \n",
      "  (6) crave: [yes/no], related phrases if any: \n",
      "  (7) restrict: [yes/no], related phrases if any: \n",
      "  (8) binge: [yes/no], related phrases if any: \n",
      "  (9) loss: [yes/no], related phrases if any: \n",
      "  (10) gain: [yes/no], related phrases if any: \n",
      "  (11) calorie: [yes/no], related phrases if any: \n",
      "  (12) thinspo: [yes/no], related phrases if any: \n",
      "  (13) leanbody: [yes/no], related phrases if any: \n",
      "  (14) bodyhate: [yes/no], related phrases if any: \n",
      "  (15) feargain: [yes/no], related phrases if any: \n",
      "  (16) fearfood: [yes/no], related phrases if any: \n",
      "  (17) fearcarb: [yes/no], related phrases if any: \n",
      "  (18) nosocialeat: [yes/no], related phrases if any: \n",
      "  (19) depressedmood: [yes/no], related phrases if any: \n",
      "Paragraph: '20 pound down after 22 week s and 17 week s out from my first wellness show. check the posing progress too starting fat burners and cardio again this week after being sick so excited to see what comes on show day. ' \n",
      "(1) (2) (3) (4) (5) (6) (7) (8) (9) (10) (11) (12) (13) (14) (15) (16) (17) (18) (19) (20) (21) (22) (23) (24) (25) (26) (27) (28) (29) (30) (31) (32) (33) (34) (35) (36) (37) (38) (39) (40) (41) (42) (43) (44) (45) (46) (47) (48) (49) (50) (51) (52) (53) (54) (55) (56) (57) (58) (59) (60) (61) (62) (63) (64) (65) (66) (67) (68) (69) (70) (71) (72) (73) (74) (75) (76) (77) (78) (79) (80) (81) (82) (83) (84) (85) (86) (87) (88) (89) (90) (91) (92) (93) (94) (95) (96) (97) (98) (99) (100) (101) (102) (103) (104) (105) (106) (107) (108) (109) (110) (111) (112) (113) (114) (115) (116) (117) (118) (119) (120) (121) (122) (123) (124) (125) (126) (127) (128) \n"
     ]
    }
   ],
   "source": [
    "# sequences = pipeline(\n",
    "#    \"Girafatron is obsessed with giraffes, the most glorious animal on the face of this Earth. Giraftron believes all other animals are irrelevant when compared to the glorious majesty of the giraffe.\\nDaniel: Hello, Girafatron!\\nGirafatron:\",\n",
    "#     max_length=200,\n",
    "#     do_sample=False,\n",
    "#     num_return_sequences=1,\n",
    "#     eos_token_id=tokenizer.eos_token_id,\n",
    "# )\n",
    "# for seq in sequences:\n",
    "#     print(f\"Result: {seq['generated_text']}\")\n",
    "\n",
    "\n",
    "\n",
    "batch_size = 1\n",
    "\n",
    "# Filter for rows where 'answer_string' is NaN\n",
    "unanswered_df = answer_df[answer_df['answer_string'].isna()]\n",
    "\n",
    "# Get the indices of these NaN entries in the original DataFrame\n",
    "indices_to_update = unanswered_df.index[:batch_size]\n",
    "\n",
    "# Prepare prompt content for the first 10 entries with NaN answer_string\n",
    "user_messages = [format_user_message(text) for text in unanswered_df['text_w_eos'].iloc[:batch_size]]\n",
    "\n",
    "# Save the indices list if needed for later use\n",
    "indices_to_update_list = list(indices_to_update)\n",
    "\n",
    "messages = [ system_message+\" \\n \"+user_message for user_message in user_messages]\n",
    " \n",
    "\n",
    "responses = []\n",
    "for i in range(len(messages)):\n",
    "    sequences = pipeline(\n",
    "        messages[i],\n",
    "        max_new_tokens=512,\n",
    "        do_sample=False,\n",
    "        num_return_sequences=1,\n",
    "        eos_token_id=tokenizer.eos_token_id,\n",
    "    )\n",
    "    \n",
    "    for seq in sequences:\n",
    "        print(f\"Result: {seq['generated_text']}\")\n",
    "\n",
    "    responses.append(seq['generated_text'])\n",
    "\n",
    "# Display and process responses in a loop\n",
    "for i, response in enumerate(responses):\n",
    "    print(response)\n",
    "    "
   ]
  },
  {
   "cell_type": "code",
   "execution_count": 8,
   "id": "864a9483-dfe4-4bf8-9a5c-08876533d0d0",
   "metadata": {
    "tags": []
   },
   "outputs": [
    {
     "data": {
      "text/plain": [
       "[{'generated_text': \"\\nYou are an AI assistant designed to answer questions.\\nPlease restrict your answer to the exact question and use the exact answer format asked.\\nAnswer should not have implied information. If the answer is yes, always provide related phrases. \\n \\n Does the paragraph mention any of the following topics:\\n  (1) relation: Family and social relationships.\\n  (2) protein: High protein diet, carbohydrate-reduced(low-carb) high-protein diet.\\n  (3) ed: Eating disorders(ED) diagnosis or recovery, ED includes anorexia nervosa, anorexic, bulimia, bulimic, binge eating disorders, arfid, osfed, pica.\\n  (4) exercise: Physical exercise.\\n  (5) meal: Routine of meals.\\n  (6) crave: Craving for high calorie food or carbs.\\n  (7) restrict: Restrict nutrition or calorie intake.\\n  (8) binge: Binge eating.\\n  (9) loss: Body weight loss.\\n  (10) gain: Body weight gain.\\n  (11) calorie: Count calorie.\\n  (12) thinspo: Drive for thinness, want to be thinner or skinny.\\n  (13) leanbody: Drive for lean body mass, low body fat, more muscular or muscles. Must related to body shape..\\n  (14) bodyhate: Body dissatisfaction, feel bad about body image and appearrance. Must related to body image..\\n  (15) feargain: Fear of body weight gain. Must related to body weight.\\n  (16) fearfood: Fear certain foods.\\n  (17) fearcarb: Fear food with high carbohydrate content or sugar..\\n  (18) nosocialeat: Avoidance of social eating, avoidance of eating with other people..\\n  (19) depressedmood: Depressed mood, feeling depressed..\\nReturn answer in format:\\n  (1) relation: [yes/no], related phrases if any: \\n  (2) protein: [yes/no], related phrases if any: \\n  (3) ed: [yes/no], related phrases if any: \\n  (4) exercise: [yes/no], related phrases if any: \\n  (5) meal: [yes/no], related phrases if any: \\n  (6) crave: [yes/no], related phrases if any: \\n  (7) restrict: [yes/no], related phrases if any: \\n  (8) binge: [yes/no], related phrases if any: \\n  (9) loss: [yes/no], related phrases if any: \\n  (10) gain: [yes/no], related phrases if any: \\n  (11) calorie: [yes/no], related phrases if any: \\n  (12) thinspo: [yes/no], related phrases if any: \\n  (13) leanbody: [yes/no], related phrases if any: \\n  (14) bodyhate: [yes/no], related phrases if any: \\n  (15) feargain: [yes/no], related phrases if any: \\n  (16) fearfood: [yes/no], related phrases if any: \\n  (17) fearcarb: [yes/no], related phrases if any: \\n  (18) nosocialeat: [yes/no], related phrases if any: \\n  (19) depressedmood: [yes/no], related phrases if any: \\nParagraph: '20 pound down after 22 week s and 17 week s out from my first wellness show. check the posing progress too starting fat burners and cardio again this week after being sick so excited to see what comes on show day. ' \\n\\nAnswer: 'Yes'\"}]"
      ]
     },
     "execution_count": 8,
     "metadata": {},
     "output_type": "execute_result"
    }
   ],
   "source": [
    "sequences"
   ]
  },
  {
   "cell_type": "code",
   "execution_count": null,
   "id": "3d345637-d476-4fcb-8f4c-efe3915e8ff2",
   "metadata": {},
   "outputs": [],
   "source": []
  }
 ],
 "metadata": {
  "kernelspec": {
   "display_name": "Python 3 (ipykernel)",
   "language": "python",
   "name": "python3"
  },
  "language_info": {
   "codemirror_mode": {
    "name": "ipython",
    "version": 3
   },
   "file_extension": ".py",
   "mimetype": "text/x-python",
   "name": "python",
   "nbconvert_exporter": "python",
   "pygments_lexer": "ipython3",
   "version": "3.11.4"
  }
 },
 "nbformat": 4,
 "nbformat_minor": 5
}
