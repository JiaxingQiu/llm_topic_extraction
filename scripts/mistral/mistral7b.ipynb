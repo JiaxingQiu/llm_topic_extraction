{
 "cells": [
  {
   "cell_type": "code",
   "execution_count": 1,
   "id": "1dc521ed-8a8e-4c31-b807-2c31b1801851",
   "metadata": {
    "tags": []
   },
   "outputs": [],
   "source": [
    "# %pip install huggingface_hub\n",
    "# huggingface-cli login (in terminal)\n",
    "# %pip install protobuf\n",
    "# %pip install sentencepiece"
   ]
  },
  {
   "cell_type": "code",
   "execution_count": 2,
   "id": "e7926e44-e3fb-46fd-b2df-7b4b0a2ba658",
   "metadata": {
    "tags": []
   },
   "outputs": [
    {
     "name": "stdout",
     "output_type": "stream",
     "text": [
      "True\n"
     ]
    },
    {
     "data": {
      "application/vnd.jupyter.widget-view+json": {
       "model_id": "2204608fd12d4cdba5ce01b180d845b1",
       "version_major": 2,
       "version_minor": 0
      },
      "text/plain": [
       "Loading checkpoint shards:   0%|          | 0/3 [00:00<?, ?it/s]"
      ]
     },
     "metadata": {},
     "output_type": "display_data"
    }
   ],
   "source": [
    "from transformers import AutoTokenizer, AutoModelForCausalLM\n",
    "import transformers\n",
    "import torch\n",
    "\n",
    "\n",
    "print(torch.cuda.is_available())\n",
    "if torch.cuda.is_available():\n",
    "    torch.cuda.empty_cache()\n",
    "device = 0 if torch.cuda.is_available() else -1  # Use GPU if available, otherwise fallback to CPU\n",
    "model_id = \"mistralai/Mistral-7B-Instruct-v0.3\"\n",
    "tokenizer = AutoTokenizer.from_pretrained(model_id)\n",
    "model = AutoModelForCausalLM.from_pretrained(model_id, \n",
    "                                             torch_dtype=torch.bfloat16, \n",
    "                                             device_map=device)\n",
    "\n"
   ]
  },
  {
   "cell_type": "code",
   "execution_count": 3,
   "id": "ed35cb06-f64a-4245-a7e3-854eebf71e50",
   "metadata": {
    "tags": []
   },
   "outputs": [],
   "source": [
    "file_id = 1\n",
    "answer_df_path = \"../../bloom_data/answer_df_part\"+str(file_id)+\".csv\""
   ]
  },
  {
   "cell_type": "code",
   "execution_count": 4,
   "id": "077d9ca3-158b-4589-9dce-fdd7730550d6",
   "metadata": {
    "tags": []
   },
   "outputs": [
    {
     "name": "stdout",
     "output_type": "stream",
     "text": [
      "(9647, 3)\n",
      "        sm_id answer_string\n",
      "9637  177j4fc           NaN\n",
      "9638  177k1er           NaN\n",
      "9639  177myvb           NaN\n",
      "9640  177nxm0           NaN\n",
      "9641  177p7sh           NaN\n",
      "9642  177po71           NaN\n",
      "9643  177q3n4           NaN\n",
      "9644  177qma8           NaN\n",
      "9645  177qzcx           NaN\n",
      "9646  177rle5           NaN\n"
     ]
    }
   ],
   "source": [
    "import pandas as pd\n",
    "import numpy as np\n",
    "answer_df = pd.read_csv(answer_df_path)\n",
    "query_df = pd.read_csv(\"../../data/fea_df.csv\")\n",
    "\n",
    "if not 'answer_string' in answer_df.columns:\n",
    "    answer_df['answer_string'] = np.nan\n",
    "    \n",
    "print(answer_df.shape)\n",
    "print(answer_df.iloc[(answer_df.shape[0]-10):answer_df.shape[0],[0,2]])"
   ]
  },
  {
   "cell_type": "code",
   "execution_count": 5,
   "id": "ace1fc73-85fd-440a-a61b-59922685c3ef",
   "metadata": {
    "tags": []
   },
   "outputs": [],
   "source": [
    "# # in replace of system message\n",
    "# def get_topic_label(label: str, relatedphrases: str):\n",
    "#     \"\"\"\n",
    "#     Answer whether any topic exists in a paragraph. Only return answer.\n",
    "    \n",
    "#     Args:\n",
    "#         label: whether a topic exists in the given paragraph, (yes/no).\n",
    "#         relatedphrases: if yes, provide the phrases in the paragraph that are related to the topic. (related phrases: ...)\n",
    "#     \"\"\"\n",
    "#     pass\n",
    "# in replace of system message\n",
    "system_message = \"\"\"\n",
    "You are an AI assistant designed to answer questions.\n",
    "Please restrict your answer to the exact question and use the exact answer format asked.\n",
    "Answer should not have implied information. If the answer is yes, always provide related phrases. \n",
    "\"\"\"\n",
    "\n",
    "def get_topic_label():\n",
    "    \"\"\"\n",
    "    Answer questions.\n",
    "    Restrict to the exact answer format.\n",
    "    Provide related phrases from the paragraph, only if the answer is yes.\n",
    "    \"\"\"\n",
    "    pass\n",
    "tools = [get_topic_label]\n",
    "\n",
    "def format_user_message(text):\n",
    "    question_content = \"Does the paragraph mention any of the following topics:\\n\"\n",
    "    for i in range(len(query_df)):\n",
    "        question_content += f\"  ({i+1}) {query_df.fea[i]}: {query_df.description[i]}.\\n\"\n",
    "    answer_content = \"Return answer in format: Answer starts here:\\n\"\n",
    "    for i in range(len(query_df)): \n",
    "        answer_content += f\"  ({i+1}) {query_df.fea[i]}: yes/no, related phrases if any: \\n\"\n",
    "    paragragh_content = f\"Paragraph: '{text}' \\n\"\n",
    "    user_message = question_content + paragragh_content + answer_content\n",
    "    #print(user_message)\n",
    "    \n",
    "    return user_message\n",
    "\n",
    "\n"
   ]
  },
  {
   "cell_type": "code",
   "execution_count": 6,
   "id": "b12809d4-434d-45d8-bdac-cc5d70e372c1",
   "metadata": {
    "tags": []
   },
   "outputs": [],
   "source": [
    "# from tqdm import tqdm\n",
    "\n",
    "# for k in tqdm(range(1), desc=\"Processing batch\"):\n",
    "    \n",
    "#     batch_size = 10\n",
    "\n",
    "#     # Filter for rows where 'answer_string' is NaN\n",
    "#     unanswered_df = answer_df[answer_df['answer_string'].isna()]\n",
    "\n",
    "#     # Get the indices of these NaN entries in the original DataFrame\n",
    "#     indices_to_update = unanswered_df.index[:batch_size]\n",
    "\n",
    "#     # Prepare prompt content for the first 10 entries with NaN answer_string\n",
    "#     user_messages = [format_user_message(text) for text in unanswered_df['text_w_eos'].iloc[:batch_size]]\n",
    "\n",
    "#     # Save the indices list if needed for later use\n",
    "#     indices_to_update_list = list(indices_to_update)\n",
    "\n",
    "\n",
    "#     if len(indices_to_update_list)>0:\n",
    "#         for i in range(len(user_messages)):\n",
    "#             failed = True\n",
    "#             fail_counter = 0\n",
    "#             while failed and fail_counter<10:\n",
    "#                 conversation = [\n",
    "#                     {\"role\": \"system\", \"content\": system_message},\n",
    "#                     {\"role\": \"user\", \"content\": user_messages[i]}\n",
    "#                 ]\n",
    "#                 inputs = tokenizer.apply_chat_template(\n",
    "#                         conversation,\n",
    "#                         # tools=tools,\n",
    "#                         add_generation_prompt=False,\n",
    "#                         return_dict=True,\n",
    "#                         return_tensors=\"pt\")\n",
    "#                 inputs.to(model.device)\n",
    "#                 outputs = model.generate(**inputs,\n",
    "#                                          do_sample=True,\n",
    "#                                          max_new_tokens=512,\n",
    "#                                          temperature=0.1)\n",
    "#                 response = tokenizer.decode(outputs[0], skip_special_tokens=True)\n",
    "#                 del inputs\n",
    "                \n",
    "#                 if \"Answer starts here:\" in response:\n",
    "#                     answer = response.split(\"Answer starts here:\")[-1]\n",
    "#                     # Use the original index from indices_to_update_list\n",
    "#                     answer_df.loc[indices_to_update_list[i], 'answer_string'] = answer\n",
    "#                     print(answer)\n",
    "#                     failed = False\n",
    "#                 else:\n",
    "#                     failed = True\n",
    "#                     fail_counter += 1\n",
    "#                     # Use the original index from indices_to_update_list\n",
    "#                     answer_df.loc[indices_to_update_list[i], 'answer_string'] = \"Answer not found\"\n",
    "\n",
    "#         print(answer_df.loc[indices_to_update_list, ['sm_id','answer_string']])\n",
    "#         answer_df.to_csv(answer_df_path, index=False)\n",
    "#     else:\n",
    "#         break\n",
    "    \n",
    "    "
   ]
  },
  {
   "cell_type": "code",
   "execution_count": null,
   "id": "47f376d1-c7b3-4acd-b5e8-4a2b911b6748",
   "metadata": {
    "scrolled": true,
    "tags": []
   },
   "outputs": [
    {
     "name": "stderr",
     "output_type": "stream",
     "text": [
      "Processing batch:   0%|          | 0/1000 [00:00<?, ?it/s]Setting `pad_token_id` to `eos_token_id`:None for open-end generation.\n",
      "Setting `pad_token_id` to `eos_token_id`:None for open-end generation.\n",
      "Setting `pad_token_id` to `eos_token_id`:None for open-end generation.\n",
      "Setting `pad_token_id` to `eos_token_id`:None for open-end generation.\n",
      "Setting `pad_token_id` to `eos_token_id`:None for open-end generation.\n",
      "Setting `pad_token_id` to `eos_token_id`:None for open-end generation.\n",
      "Setting `pad_token_id` to `eos_token_id`:None for open-end generation.\n",
      "Setting `pad_token_id` to `eos_token_id`:None for open-end generation.\n",
      "Setting `pad_token_id` to `eos_token_id`:None for open-end generation.\n",
      "Setting `pad_token_id` to `eos_token_id`:None for open-end generation.\n",
      "Processing batch:   0%|          | 1/1000 [01:45<29:16:34, 105.50s/it]Setting `pad_token_id` to `eos_token_id`:None for open-end generation.\n"
     ]
    },
    {
     "name": "stdout",
     "output_type": "stream",
     "text": [
      "        sm_id                                      answer_string\n",
      "7775  165hrc7  \\n  (1) relation: No, related phrases if any: ...\n",
      "7776  165ifgh  \\n  (1) relation: No related phrases.\\n  (2) p...\n",
      "7777  165ijf5  \\n  (1) relation: No related phrases.\\n  (2) p...\n",
      "7778  165kyet  \\n  (1) relation: yes, related phrases: discus...\n",
      "7779  165l4f8  \\n  (1) relation: No related phrases.\\n  (2) p...\n",
      "7780  165lkz1  \\n  (1) relation: Not mentioned.\\n  (2) protei...\n",
      "7781  165loz8  \\n  (1) relation: No related phrases\\n  (2) pr...\n",
      "7782  165maqh  \\n  (1) relation: yes, related phrases: brothe...\n",
      "7783  165o0mu  \\n  (1) relation: yes, related phrases: orderi...\n",
      "7784  165oa18  \\n  (1) relation: no\\n  (2) protein: no\\n  (3)...\n"
     ]
    },
    {
     "name": "stderr",
     "output_type": "stream",
     "text": [
      "Setting `pad_token_id` to `eos_token_id`:None for open-end generation.\n",
      "Setting `pad_token_id` to `eos_token_id`:None for open-end generation.\n",
      "Setting `pad_token_id` to `eos_token_id`:None for open-end generation.\n",
      "Setting `pad_token_id` to `eos_token_id`:None for open-end generation.\n",
      "Setting `pad_token_id` to `eos_token_id`:None for open-end generation.\n",
      "Setting `pad_token_id` to `eos_token_id`:None for open-end generation.\n",
      "Setting `pad_token_id` to `eos_token_id`:None for open-end generation.\n",
      "Setting `pad_token_id` to `eos_token_id`:None for open-end generation.\n",
      "Setting `pad_token_id` to `eos_token_id`:None for open-end generation.\n",
      "Processing batch:   0%|          | 2/1000 [03:45<31:39:46, 114.22s/it]Setting `pad_token_id` to `eos_token_id`:None for open-end generation.\n"
     ]
    },
    {
     "name": "stdout",
     "output_type": "stream",
     "text": [
      "        sm_id                                      answer_string\n",
      "7785  165qs6a  \\n  (1) relation: yes, related phrases: 'i cou...\n",
      "7786  165r2r2  \\n  (1) relation: No, related phrases if any: ...\n",
      "7787  165r4a7  \\n  (1) relation: No, related phrases if any: ...\n",
      "7788  165rjmn  \\n  (1) relation: yes, related phrases: social...\n",
      "7789  165rrpv  \\n  (1) relation: Yes, related phrases: \"partn...\n",
      "7790  165suww  \\n  (1) relation: No, related phrases if any: ...\n",
      "7791  165t1xf  \\n  (1) relation: yes, related phrases: meal p...\n",
      "7792  165t3k3  \\n  (1) relation: No, related phrases if any: ...\n",
      "7793  165vx9l  \\n  (1) relation: yes, related phrases: \"I'm a...\n",
      "7794  165w4bw  \\n  (1) relation: No related phrases.\\n  (2) p...\n"
     ]
    },
    {
     "name": "stderr",
     "output_type": "stream",
     "text": [
      "Setting `pad_token_id` to `eos_token_id`:None for open-end generation.\n",
      "Setting `pad_token_id` to `eos_token_id`:None for open-end generation.\n",
      "Setting `pad_token_id` to `eos_token_id`:None for open-end generation.\n",
      "Setting `pad_token_id` to `eos_token_id`:None for open-end generation.\n",
      "Setting `pad_token_id` to `eos_token_id`:None for open-end generation.\n",
      "Setting `pad_token_id` to `eos_token_id`:None for open-end generation.\n",
      "Setting `pad_token_id` to `eos_token_id`:None for open-end generation.\n",
      "Setting `pad_token_id` to `eos_token_id`:None for open-end generation.\n",
      "Setting `pad_token_id` to `eos_token_id`:None for open-end generation.\n",
      "Processing batch:   0%|          | 3/1000 [05:33<30:46:00, 111.09s/it]Setting `pad_token_id` to `eos_token_id`:None for open-end generation.\n"
     ]
    },
    {
     "name": "stdout",
     "output_type": "stream",
     "text": [
      "        sm_id                                      answer_string\n",
      "7795  165wess  \\n  (1) relation: Not mentioned\\n  (2) protein...\n",
      "7796  165wsvz  \\n  (1) relation: yes, related phrases: \"somet...\n",
      "7797  165x234  \\n  (1) relation: No related phrases\\n  (2) pr...\n",
      "7798  165x9uo  \\n  (1) relation: No, related phrases if any: ...\n",
      "7799  165y59b  \\n  (1) relation: yes, related phrases: \"i lov...\n",
      "7800  165z006  \\n  (1) relation: yes, related phrases: meal p...\n",
      "7801  165zgkc  \\n  (1) relation: No, related phrases if any: ...\n",
      "7802  166009z  \\n  (1) relation: no, related phrases if any: ...\n",
      "7803  1660ypm  \\n  (1) relation: yes, related phrases: 'my fl...\n",
      "7804  1665qfc  \\n  (1) relation: No related phrases.\\n  (2) p...\n"
     ]
    },
    {
     "name": "stderr",
     "output_type": "stream",
     "text": [
      "Setting `pad_token_id` to `eos_token_id`:None for open-end generation.\n",
      "Setting `pad_token_id` to `eos_token_id`:None for open-end generation.\n",
      "Setting `pad_token_id` to `eos_token_id`:None for open-end generation.\n",
      "Setting `pad_token_id` to `eos_token_id`:None for open-end generation.\n",
      "Setting `pad_token_id` to `eos_token_id`:None for open-end generation.\n",
      "Setting `pad_token_id` to `eos_token_id`:None for open-end generation.\n",
      "Setting `pad_token_id` to `eos_token_id`:None for open-end generation.\n",
      "Setting `pad_token_id` to `eos_token_id`:None for open-end generation.\n",
      "Setting `pad_token_id` to `eos_token_id`:None for open-end generation.\n",
      "Processing batch:   0%|          | 4/1000 [07:20<30:17:24, 109.48s/it]Setting `pad_token_id` to `eos_token_id`:None for open-end generation.\n"
     ]
    },
    {
     "name": "stdout",
     "output_type": "stream",
     "text": [
      "        sm_id                                      answer_string\n",
      "7805  1665wrq  \\n  (1) relation: yes, related phrases: \"I hav...\n",
      "7806  1666va5  \\n  (1) relation: No related phrases.\\n  (2) p...\n",
      "7807  16672hm  \\n  (1) relation: yes, related phrases: family...\n",
      "7808  1667qah  \\n  (1) relation: yes, related phrases: social...\n",
      "7809  1668n0q  \\n  (1) relation: No related phrases.\\n  (2) p...\n",
      "7810  16693lx  \\n  (1) relation: No related phrases.\\n  (2) p...\n",
      "7811  166a4yp  \\n  (1) relation: No related phrases.\\n  (2) p...\n",
      "7812  166aysw  \\n  (1) relation: No related phrases.\\n  (2) p...\n",
      "7813  166c0oj  \\n  (1) relation: yes, related phrases: food t...\n",
      "7814  166cejo  \\n  (1) relation: No related phrases.\\n  (2) p...\n"
     ]
    },
    {
     "name": "stderr",
     "output_type": "stream",
     "text": [
      "Setting `pad_token_id` to `eos_token_id`:None for open-end generation.\n",
      "Setting `pad_token_id` to `eos_token_id`:None for open-end generation.\n",
      "Setting `pad_token_id` to `eos_token_id`:None for open-end generation.\n",
      "Setting `pad_token_id` to `eos_token_id`:None for open-end generation.\n",
      "Setting `pad_token_id` to `eos_token_id`:None for open-end generation.\n",
      "Setting `pad_token_id` to `eos_token_id`:None for open-end generation.\n",
      "Setting `pad_token_id` to `eos_token_id`:None for open-end generation.\n",
      "Setting `pad_token_id` to `eos_token_id`:None for open-end generation.\n",
      "Setting `pad_token_id` to `eos_token_id`:None for open-end generation.\n",
      "Processing batch:   0%|          | 5/1000 [08:55<28:49:44, 104.31s/it]Setting `pad_token_id` to `eos_token_id`:None for open-end generation.\n"
     ]
    },
    {
     "name": "stdout",
     "output_type": "stream",
     "text": [
      "        sm_id                                      answer_string\n",
      "7815  166cre6  \\n  (1) relation: Yes, related phrases: \"I tri...\n",
      "7816  166cylc  \\n  (1) relation: yes, related phrases: 'a tal...\n",
      "7817  166e5z1  \\n  (1) relation: Yes, related phrases: \"weigh...\n",
      "7818  166e9u4  \\n  (1) relation: No related phrases.\\n  (2) p...\n",
      "7819  166f4sl  \\n  (1) relation: No, related phrases if any: ...\n",
      "7820  166fapd  \\n  (1) relation: No related phrases.\\n  (2) p...\n",
      "7821  166gilp  \\n  (1) relation: No related phrases.\\n  (2) p...\n",
      "7822   166gv1  \\n  (1) relation: No related phrases.\\n  (2) p...\n",
      "7823  166gx4z  \\n  (1) relation: No related phrases.\\n  (2) p...\n",
      "7824  166h0pc  \\n  (1) relation: yes, related phrases: social...\n"
     ]
    },
    {
     "name": "stderr",
     "output_type": "stream",
     "text": [
      "Setting `pad_token_id` to `eos_token_id`:None for open-end generation.\n",
      "Setting `pad_token_id` to `eos_token_id`:None for open-end generation.\n",
      "Setting `pad_token_id` to `eos_token_id`:None for open-end generation.\n",
      "Setting `pad_token_id` to `eos_token_id`:None for open-end generation.\n",
      "Setting `pad_token_id` to `eos_token_id`:None for open-end generation.\n",
      "Setting `pad_token_id` to `eos_token_id`:None for open-end generation.\n",
      "Setting `pad_token_id` to `eos_token_id`:None for open-end generation.\n",
      "Setting `pad_token_id` to `eos_token_id`:None for open-end generation.\n",
      "Setting `pad_token_id` to `eos_token_id`:None for open-end generation.\n",
      "Processing batch:   1%|          | 6/1000 [10:50<29:51:12, 108.12s/it]Setting `pad_token_id` to `eos_token_id`:None for open-end generation.\n"
     ]
    },
    {
     "name": "stdout",
     "output_type": "stream",
     "text": [
      "        sm_id                                      answer_string\n",
      "7825  166h4rf  \\n  (1) relation: yes, related phrases: 'recom...\n",
      "7826  166h508  \\n  (1) relation: No related phrases.\\n  (2) p...\n",
      "7827  166h52x  \\n  (1) relation: yes, related phrases: \"socia...\n",
      "7828  166hgtd  \\n  (1) relation: Yes, the paragraph discusses...\n",
      "7829  166juqi  \\n  (1) relation: yes, related phrases: meal d...\n",
      "7830  166kb5b  \\n  (1) relation: yes, related phrases: person...\n",
      "7831  166krg6  \\n  (1) relation: No related phrases.\\n  (2) p...\n",
      "7832  166la12  \\n  (1) relation: No, related phrases: none\\n ...\n",
      "7833  166ls8g  \\n  (1) relation: yes, related phrases: family...\n",
      "7834  166m70x  \\n  (1) relation: yes, related phrases: \"my hu...\n"
     ]
    },
    {
     "name": "stderr",
     "output_type": "stream",
     "text": [
      "Setting `pad_token_id` to `eos_token_id`:None for open-end generation.\n",
      "Setting `pad_token_id` to `eos_token_id`:None for open-end generation.\n",
      "Setting `pad_token_id` to `eos_token_id`:None for open-end generation.\n",
      "Setting `pad_token_id` to `eos_token_id`:None for open-end generation.\n",
      "Setting `pad_token_id` to `eos_token_id`:None for open-end generation.\n",
      "Setting `pad_token_id` to `eos_token_id`:None for open-end generation.\n",
      "Setting `pad_token_id` to `eos_token_id`:None for open-end generation.\n",
      "Setting `pad_token_id` to `eos_token_id`:None for open-end generation.\n",
      "Setting `pad_token_id` to `eos_token_id`:None for open-end generation.\n",
      "Processing batch:   1%|          | 7/1000 [12:39<29:51:00, 108.22s/it]Setting `pad_token_id` to `eos_token_id`:None for open-end generation.\n"
     ]
    },
    {
     "name": "stdout",
     "output_type": "stream",
     "text": [
      "        sm_id                                      answer_string\n",
      "7835  166mpma  \\n  (1) relation: yes, related phrases: family...\n",
      "7836  166n2rs  \\n  (1) relation: yes, related phrases: moving...\n",
      "7837  166o3g0  \\n  (1) relation: yes, related phrases: meal r...\n",
      "7838  166pggd  \\n  (1) relation: yes, related phrases: \"I spl...\n",
      "7839  166qn0i  \\n  (1) relation: No related phrases.\\n  (2) p...\n",
      "7840  166r4ks  \\n  (1) relation: yes, related phrases: social...\n",
      "7841  166r4mi  \\n  (1) relation: yes, related phrases: \"most ...\n",
      "7842  166usnt  \\n  (1) relation: Yes, related phrases: \"weigh...\n",
      "7843  166vwcr  \\n  (1) relation: No related phrases.\\n  (2) p...\n",
      "7844  166zv4l  \\n  (1) relation: yes, related phrases: flatma...\n"
     ]
    },
    {
     "name": "stderr",
     "output_type": "stream",
     "text": [
      "Setting `pad_token_id` to `eos_token_id`:None for open-end generation.\n",
      "Setting `pad_token_id` to `eos_token_id`:None for open-end generation.\n",
      "Setting `pad_token_id` to `eos_token_id`:None for open-end generation.\n",
      "Setting `pad_token_id` to `eos_token_id`:None for open-end generation.\n",
      "Setting `pad_token_id` to `eos_token_id`:None for open-end generation.\n",
      "Setting `pad_token_id` to `eos_token_id`:None for open-end generation.\n",
      "Setting `pad_token_id` to `eos_token_id`:None for open-end generation.\n",
      "Setting `pad_token_id` to `eos_token_id`:None for open-end generation.\n",
      "Setting `pad_token_id` to `eos_token_id`:None for open-end generation.\n",
      "Processing batch:   1%|          | 8/1000 [14:26<29:41:55, 107.78s/it]Setting `pad_token_id` to `eos_token_id`:None for open-end generation.\n"
     ]
    },
    {
     "name": "stdout",
     "output_type": "stream",
     "text": [
      "        sm_id                                      answer_string\n",
      "7845  1670bxw  \\n  (1) relation: yes, related phrases: endura...\n",
      "7846  1670jbq  \\n  (1) relation: No related phrases.\\n  (2) p...\n",
      "7847  1672w5k  \\n  (1) relation: yes, related phrases: sharin...\n",
      "7848  1673diy  \\n  (1) relation: yes, related phrases: \"miss ...\n",
      "7849  1674bnl  \\n  (1) relation: no related phrases\\n  (2) pr...\n",
      "7850  1674pdg  \\n  (1) relation: No related phrases\\n  (2) pr...\n",
      "7851  1675cf2  \\n  (1) relation: No, related phrases if any: ...\n",
      "7852  1677ga3  \\n  (1) relation: No, related phrases if any: ...\n",
      "7853  16783ud  \\n  (1) relation: yes, related phrases: \"i hav...\n",
      "7854  1678y4q  \\n  (1) relation: Yes, related phrases: \"been ...\n"
     ]
    },
    {
     "name": "stderr",
     "output_type": "stream",
     "text": [
      "Setting `pad_token_id` to `eos_token_id`:None for open-end generation.\n",
      "Setting `pad_token_id` to `eos_token_id`:None for open-end generation.\n",
      "Setting `pad_token_id` to `eos_token_id`:None for open-end generation.\n",
      "Setting `pad_token_id` to `eos_token_id`:None for open-end generation.\n",
      "Setting `pad_token_id` to `eos_token_id`:None for open-end generation.\n",
      "Setting `pad_token_id` to `eos_token_id`:None for open-end generation.\n",
      "Setting `pad_token_id` to `eos_token_id`:None for open-end generation.\n",
      "Setting `pad_token_id` to `eos_token_id`:None for open-end generation.\n",
      "Setting `pad_token_id` to `eos_token_id`:None for open-end generation.\n",
      "Processing batch:   1%|          | 9/1000 [16:08<29:10:54, 106.01s/it]Setting `pad_token_id` to `eos_token_id`:None for open-end generation.\n"
     ]
    },
    {
     "name": "stdout",
     "output_type": "stream",
     "text": [
      "        sm_id                                      answer_string\n",
      "7855  167ai6r  \\n  (1) relation: No, related phrases if any: ...\n",
      "7856  167aixl  \\n  (1) relation: yes, related phrases: none\\n...\n",
      "7857  167aqdp  \\n  (1) relation: yes, related phrases: family...\n",
      "7858  167b39f  \\n  (1) relation: No, related phrases if any: ...\n",
      "7859  167cf4v  \\n  (1) relation: yes, related phrases: boyfri...\n",
      "7860  167ew2m  \\n  (1) relation: No, related phrases if any: ...\n",
      "7861  167f3cm  \\n  (1) relation: Yes, related phrases: \"alway...\n",
      "7862  167f5u5  \\n  (1) relation: no\\n  (2) protein: no\\n  (3)...\n",
      "7863  167fq4v  \\n  (1) relation: No related phrases.\\n  (2) p...\n",
      "7864  167gnri  \\n  (1) relation: yes, related phrases: 'my so...\n"
     ]
    },
    {
     "name": "stderr",
     "output_type": "stream",
     "text": [
      "Setting `pad_token_id` to `eos_token_id`:None for open-end generation.\n",
      "Setting `pad_token_id` to `eos_token_id`:None for open-end generation.\n",
      "Setting `pad_token_id` to `eos_token_id`:None for open-end generation.\n",
      "Setting `pad_token_id` to `eos_token_id`:None for open-end generation.\n",
      "Setting `pad_token_id` to `eos_token_id`:None for open-end generation.\n",
      "Setting `pad_token_id` to `eos_token_id`:None for open-end generation.\n",
      "Setting `pad_token_id` to `eos_token_id`:None for open-end generation.\n",
      "Setting `pad_token_id` to `eos_token_id`:None for open-end generation.\n",
      "Setting `pad_token_id` to `eos_token_id`:None for open-end generation.\n",
      "Processing batch:   1%|          | 10/1000 [17:56<29:19:36, 106.64s/it]Setting `pad_token_id` to `eos_token_id`:None for open-end generation.\n"
     ]
    },
    {
     "name": "stdout",
     "output_type": "stream",
     "text": [
      "        sm_id                                      answer_string\n",
      "7865  167gp9y  \\n  (1) relation: yes, related phrases: \"lost ...\n",
      "7866  167h3q9  \\n  (1) relation: yes, related phrases: \"resta...\n",
      "7867  167ht4w  \\n  (1) relation: Yes, the paragraph discusses...\n",
      "7868  167ic6r  \\n  (1) relation: yes, related phrases: 'cache...\n",
      "7869  167ifu7  \\n  (1) relation: yes, related phrases: \"socia...\n",
      "7870  167lram  \\n  (1) relation: No related phrases.\\n  (2) p...\n",
      "7871  167lt0o  \\n  (1) relation: yes, related phrases: 'a pos...\n",
      "7872  167mlio  \\n  (1) relation: yes, related phrases: meal p...\n",
      "7873  167mysa  \\n  (1) relation: Not mentioned\\n  (2) protein...\n",
      "7874  167p0ll  \\n  (1) relation: yes, related phrases: \"enjoy...\n"
     ]
    },
    {
     "name": "stderr",
     "output_type": "stream",
     "text": [
      "Setting `pad_token_id` to `eos_token_id`:None for open-end generation.\n",
      "Setting `pad_token_id` to `eos_token_id`:None for open-end generation.\n",
      "Setting `pad_token_id` to `eos_token_id`:None for open-end generation.\n",
      "Setting `pad_token_id` to `eos_token_id`:None for open-end generation.\n",
      "Setting `pad_token_id` to `eos_token_id`:None for open-end generation.\n",
      "Setting `pad_token_id` to `eos_token_id`:None for open-end generation.\n",
      "Setting `pad_token_id` to `eos_token_id`:None for open-end generation.\n",
      "Setting `pad_token_id` to `eos_token_id`:None for open-end generation.\n",
      "Setting `pad_token_id` to `eos_token_id`:None for open-end generation.\n",
      "Processing batch:   1%|          | 11/1000 [19:39<29:00:52, 105.61s/it]Setting `pad_token_id` to `eos_token_id`:None for open-end generation.\n"
     ]
    },
    {
     "name": "stdout",
     "output_type": "stream",
     "text": [
      "        sm_id                                      answer_string\n",
      "7875  167qnfz  \\n  (1) relation: No, related phrases if any: ...\n",
      "7876  167riw9  \\n  (1) relation: No, the paragraph does not m...\n",
      "7877  167tl72  \\n  (1) relation: No, related phrases if any: ...\n",
      "7878  167twfn  \\n  (1) relation: yes, related phrases: pregna...\n",
      "7879  167ushc  \\n  (1) relation: No related phrases.\\n  (2) p...\n",
      "7880  167w7v9  \\n  (1) relation: yes, related phrases: relati...\n",
      "7881  167wta1  \\n  (1) relation: no\\n  (2) protein: no\\n  (3)...\n",
      "7882  167xf9p  \\n  (1) relation: yes, related phrases: son, h...\n",
      "7883  167zjvx  \\n  (1) relation: No, related phrases if any: ...\n",
      "7884  16819ki  \\n  (1) relation: Not mentioned\\n  (2) protein...\n"
     ]
    },
    {
     "name": "stderr",
     "output_type": "stream",
     "text": [
      "Setting `pad_token_id` to `eos_token_id`:None for open-end generation.\n",
      "Setting `pad_token_id` to `eos_token_id`:None for open-end generation.\n",
      "Setting `pad_token_id` to `eos_token_id`:None for open-end generation.\n",
      "Setting `pad_token_id` to `eos_token_id`:None for open-end generation.\n",
      "Setting `pad_token_id` to `eos_token_id`:None for open-end generation.\n",
      "Setting `pad_token_id` to `eos_token_id`:None for open-end generation.\n",
      "Setting `pad_token_id` to `eos_token_id`:None for open-end generation.\n",
      "Setting `pad_token_id` to `eos_token_id`:None for open-end generation.\n",
      "Setting `pad_token_id` to `eos_token_id`:None for open-end generation.\n",
      "Processing batch:   1%|          | 12/1000 [21:26<29:04:23, 105.93s/it]Setting `pad_token_id` to `eos_token_id`:None for open-end generation.\n"
     ]
    },
    {
     "name": "stdout",
     "output_type": "stream",
     "text": [
      "        sm_id                                      answer_string\n",
      "7885  16837yg  \\n  (1) relation: yes, related phrases: family...\n",
      "7886  1683a68  \\n  (1) relation: yes, related phrases: \"famil...\n",
      "7887  1683bql  \\n  (1) relation: No related phrases\\n  (2) pr...\n",
      "7888  16847pk  \\n  (1) relation: No related phrases.\\n  (2) p...\n",
      "7889  1684plj  \\n  (1) relation: no\\n  (2) protein: no\\n  (3)...\n",
      "7890  16858lk  \\n  (1) relation: yes, related phrases: 'every...\n",
      "7891  168606t  \\n  (1) relation: yes, related phrases: dress ...\n",
      "7892  168an6v  \\n  (1) relation: yes, related phrases: driver...\n",
      "7893  168ciot  \\n  (1) relation: Not mentioned\\n  (2) protein...\n",
      "7894  168elnm  \\n  (1) relation: No related phrases.\\n  (2) p...\n"
     ]
    },
    {
     "name": "stderr",
     "output_type": "stream",
     "text": [
      "Setting `pad_token_id` to `eos_token_id`:None for open-end generation.\n",
      "Setting `pad_token_id` to `eos_token_id`:None for open-end generation.\n",
      "Setting `pad_token_id` to `eos_token_id`:None for open-end generation.\n",
      "Setting `pad_token_id` to `eos_token_id`:None for open-end generation.\n",
      "Setting `pad_token_id` to `eos_token_id`:None for open-end generation.\n",
      "Setting `pad_token_id` to `eos_token_id`:None for open-end generation.\n",
      "Setting `pad_token_id` to `eos_token_id`:None for open-end generation.\n",
      "Setting `pad_token_id` to `eos_token_id`:None for open-end generation.\n",
      "Setting `pad_token_id` to `eos_token_id`:None for open-end generation.\n",
      "Processing batch:   1%|▏         | 13/1000 [23:26<30:12:04, 110.16s/it]Setting `pad_token_id` to `eos_token_id`:None for open-end generation.\n"
     ]
    },
    {
     "name": "stdout",
     "output_type": "stream",
     "text": [
      "        sm_id                                      answer_string\n",
      "7895  168f4np  \\n  (1) relation: No, related phrases if any: ...\n",
      "7896  168flx5  \\n  (1) relation: Yes, the paragraph discusses...\n",
      "7897  168fv1r  \\n  (1) relation: yes, related phrases: \"i was...\n",
      "7898  168hsr4  \\n  (1) relation: yes, related phrases: family...\n",
      "7899  168ieqf  \\n  (1) relation: No related phrases.\\n  (2) p...\n",
      "7900  168ivxw  \\n  (1) relation: Yes, related phrases: \"26m 5...\n",
      "7901  168j8zt  \\n  (1) relation: yes, related phrases: social...\n",
      "7902  168kh21  \\n  (1) relation: yes, related phrases: friend...\n",
      "7903  168kinc  \\n  (1) relation: No, related phrases if any: ...\n",
      "7904  168kkx9  \\n  (1) relation: No related phrases.\\n  (2) p...\n"
     ]
    },
    {
     "name": "stderr",
     "output_type": "stream",
     "text": [
      "Setting `pad_token_id` to `eos_token_id`:None for open-end generation.\n",
      "Setting `pad_token_id` to `eos_token_id`:None for open-end generation.\n",
      "Setting `pad_token_id` to `eos_token_id`:None for open-end generation.\n",
      "Setting `pad_token_id` to `eos_token_id`:None for open-end generation.\n",
      "Setting `pad_token_id` to `eos_token_id`:None for open-end generation.\n",
      "Setting `pad_token_id` to `eos_token_id`:None for open-end generation.\n",
      "Setting `pad_token_id` to `eos_token_id`:None for open-end generation.\n",
      "Setting `pad_token_id` to `eos_token_id`:None for open-end generation.\n",
      "Setting `pad_token_id` to `eos_token_id`:None for open-end generation.\n",
      "Processing batch:   1%|▏         | 14/1000 [25:10<29:44:03, 108.56s/it]Setting `pad_token_id` to `eos_token_id`:None for open-end generation.\n"
     ]
    },
    {
     "name": "stdout",
     "output_type": "stream",
     "text": [
      "        sm_id                                      answer_string\n",
      "7905  168l4yf  \\n  (1) relation: yes, related phrases: diet\\n...\n",
      "7906  168mirz  \\n  (1) relation: yes, related phrases: strugg...\n",
      "7907  168nr1c  \\n  (1) relation: No related phrases.\\n  (2) p...\n",
      "7908  168oshe  \\n  (1) relation: Yes, the paragraph discusses...\n",
      "7909  168s7xt  \\n  (1) relation: No related phrases.\\n  (2) p...\n",
      "7910  168szjl  \\n  (1) relation: No, related phrases if any: ...\n",
      "7911  168t10h  \\n  (1) relation: No related phrases.\\n  (2) p...\n",
      "7912  168t19s  \\n  (1) relation: yes, related phrases: 'strug...\n",
      "7913  168wfcx  \\n  (1) relation: No related phrases.\\n  (2) p...\n",
      "7914  168x1fx  \\n  (1) relation: No, related phrases if any: ...\n"
     ]
    },
    {
     "name": "stderr",
     "output_type": "stream",
     "text": [
      "Setting `pad_token_id` to `eos_token_id`:None for open-end generation.\n",
      "Setting `pad_token_id` to `eos_token_id`:None for open-end generation.\n",
      "Setting `pad_token_id` to `eos_token_id`:None for open-end generation.\n",
      "Setting `pad_token_id` to `eos_token_id`:None for open-end generation.\n",
      "Setting `pad_token_id` to `eos_token_id`:None for open-end generation.\n",
      "Setting `pad_token_id` to `eos_token_id`:None for open-end generation.\n",
      "Setting `pad_token_id` to `eos_token_id`:None for open-end generation.\n",
      "Setting `pad_token_id` to `eos_token_id`:None for open-end generation.\n",
      "Setting `pad_token_id` to `eos_token_id`:None for open-end generation.\n",
      "Processing batch:   2%|▏         | 15/1000 [26:57<29:30:55, 107.87s/it]Setting `pad_token_id` to `eos_token_id`:None for open-end generation.\n"
     ]
    },
    {
     "name": "stdout",
     "output_type": "stream",
     "text": [
      "        sm_id                                      answer_string\n",
      "7915  168x485  \\n  (1) relation: No, related phrases if any: ...\n",
      "7916  168z0k1  \\n  (1) relation: No related phrases.\\n  (2) p...\n",
      "7917  168zcf8  \\n  (1) relation: No related phrases.\\n  (2) p...\n",
      "7918  168zufh  \\n  (1) relation: no related phrases\\n  (2) pr...\n",
      "7919  16902ug  \\n  (1) relation: No related phrases.\\n  (2) p...\n",
      "7920  1691lxs  \\n  (1) relation: No, related phrases if any: ...\n",
      "7921  1691ril  \\n  (1) relation: Yes, the paragraph discusses...\n",
      "7922  1693nzh  \\n  (1) relation: No related phrases.\\n  (2) p...\n",
      "7923  1694mor  \\n  (1) relation: No related phrases.\\n  (2) p...\n",
      "7924  1696izq  \\n  (1) relation: yes, related phrases: skin, ...\n"
     ]
    },
    {
     "name": "stderr",
     "output_type": "stream",
     "text": [
      "Setting `pad_token_id` to `eos_token_id`:None for open-end generation.\n",
      "Setting `pad_token_id` to `eos_token_id`:None for open-end generation.\n",
      "Setting `pad_token_id` to `eos_token_id`:None for open-end generation.\n",
      "Setting `pad_token_id` to `eos_token_id`:None for open-end generation.\n",
      "Setting `pad_token_id` to `eos_token_id`:None for open-end generation.\n",
      "Setting `pad_token_id` to `eos_token_id`:None for open-end generation.\n",
      "Setting `pad_token_id` to `eos_token_id`:None for open-end generation.\n",
      "Setting `pad_token_id` to `eos_token_id`:None for open-end generation.\n",
      "Setting `pad_token_id` to `eos_token_id`:None for open-end generation.\n",
      "Processing batch:   2%|▏         | 16/1000 [28:47<29:41:14, 108.61s/it]Setting `pad_token_id` to `eos_token_id`:None for open-end generation.\n"
     ]
    },
    {
     "name": "stdout",
     "output_type": "stream",
     "text": [
      "        sm_id                                      answer_string\n",
      "7925  1697f2e  \\n  (1) relation: Not mentioned\\n  (2) protein...\n",
      "7926  1697hcd  \\n  (1) relation: no\\n  (2) protein: yes, the ...\n",
      "7927  169836x  \\n  (1) relation: yes, related phrases: \"i am ...\n",
      "7928  1699o9p  \\n  (1) relation: No, related phrases if any: ...\n",
      "7929  169atht  \\n  (1) relation: No, related phrases if any: ...\n",
      "7930  169b497  \\n  (1) relation: no\\n  (2) protein: no\\n  (3)...\n",
      "7931  169cfsa  \\n  (1) relation: No, related phrases if any: ...\n",
      "7932  169cgnm  \\n  (1) relation: yes, related phrases: leftov...\n",
      "7933  169cnem  \\n  (1) relation: No, related phrases if any: ...\n",
      "7934  169cq34  \\n  (1) relation: yes, related phrases: person...\n"
     ]
    },
    {
     "name": "stderr",
     "output_type": "stream",
     "text": [
      "Setting `pad_token_id` to `eos_token_id`:None for open-end generation.\n",
      "Setting `pad_token_id` to `eos_token_id`:None for open-end generation.\n",
      "Setting `pad_token_id` to `eos_token_id`:None for open-end generation.\n",
      "Setting `pad_token_id` to `eos_token_id`:None for open-end generation.\n",
      "Setting `pad_token_id` to `eos_token_id`:None for open-end generation.\n",
      "Setting `pad_token_id` to `eos_token_id`:None for open-end generation.\n",
      "Setting `pad_token_id` to `eos_token_id`:None for open-end generation.\n",
      "Setting `pad_token_id` to `eos_token_id`:None for open-end generation.\n",
      "Setting `pad_token_id` to `eos_token_id`:None for open-end generation.\n",
      "Processing batch:   2%|▏         | 17/1000 [30:33<29:24:36, 107.71s/it]Setting `pad_token_id` to `eos_token_id`:None for open-end generation.\n"
     ]
    },
    {
     "name": "stdout",
     "output_type": "stream",
     "text": [
      "        sm_id                                      answer_string\n",
      "7935  169e27f  \\n  (1) relation: no\\n  (2) protein: no\\n  (3)...\n",
      "7936  169g3vw  \\n  (1) relation: No, related phrases if any: ...\n",
      "7937  169gafb  \\n  (1) relation: Yes, related phrases: \"I had...\n",
      "7938  169gods  \\n  (1) relation: yes, related phrases: milk, ...\n",
      "7939  169gp0q  \\n  (1) relation: yes, related phrases: salsa ...\n",
      "7940  169hqvo  \\n  (1) relation: yes, related phrases: social...\n",
      "7941  169hrsg  \\n  (1) relation: yes, related phrases: \"i mea...\n",
      "7942  169i0jq  \\n  (1) relation: No, related phrases if any: ...\n",
      "7943  169itr3  \\n  (1) relation: No related phrases\\n  (2) pr...\n",
      "7944  169kq6p  \\n  (1) relation: No related phrases.\\n  (2) p...\n"
     ]
    },
    {
     "name": "stderr",
     "output_type": "stream",
     "text": [
      "Setting `pad_token_id` to `eos_token_id`:None for open-end generation.\n",
      "Setting `pad_token_id` to `eos_token_id`:None for open-end generation.\n",
      "Setting `pad_token_id` to `eos_token_id`:None for open-end generation.\n",
      "Setting `pad_token_id` to `eos_token_id`:None for open-end generation.\n",
      "Setting `pad_token_id` to `eos_token_id`:None for open-end generation.\n",
      "Setting `pad_token_id` to `eos_token_id`:None for open-end generation.\n",
      "Setting `pad_token_id` to `eos_token_id`:None for open-end generation.\n",
      "Setting `pad_token_id` to `eos_token_id`:None for open-end generation.\n",
      "Setting `pad_token_id` to `eos_token_id`:None for open-end generation.\n",
      "Processing batch:   2%|▏         | 18/1000 [32:18<29:13:09, 107.12s/it]Setting `pad_token_id` to `eos_token_id`:None for open-end generation.\n"
     ]
    },
    {
     "name": "stdout",
     "output_type": "stream",
     "text": [
      "        sm_id                                      answer_string\n",
      "7945  169l3g4  \\n  (1) relation: yes, related phrases: \"I hav...\n",
      "7946  169l56v  \\n  (1) relation: No, related phrases if any: ...\n",
      "7947  169ljwl  \\n  (1) relation: No, related phrases if any: ...\n",
      "7948  169ntk6  \\n  (1) relation: No, related phrases if any: ...\n",
      "7949  169nydn  \\n  (1) relation: no, related phrases if any: ...\n",
      "7950  169ojfq  \\n  (1) relation: No, related phrases: none\\n ...\n",
      "7951  169qgg7  \\n  (1) relation: Yes, related phrases: \"i am ...\n",
      "7952  169rrts  \\n  (1) relation: yes, related phrases: social...\n",
      "7953  169rvth  \\n  (1) relation: yes, related phrases: \"meal ...\n",
      "7954  169sl2r  \\n  (1) relation: No related phrases.\\n  (2) p...\n"
     ]
    },
    {
     "name": "stderr",
     "output_type": "stream",
     "text": [
      "Setting `pad_token_id` to `eos_token_id`:None for open-end generation.\n",
      "Setting `pad_token_id` to `eos_token_id`:None for open-end generation.\n",
      "Setting `pad_token_id` to `eos_token_id`:None for open-end generation.\n",
      "Setting `pad_token_id` to `eos_token_id`:None for open-end generation.\n",
      "Setting `pad_token_id` to `eos_token_id`:None for open-end generation.\n",
      "Setting `pad_token_id` to `eos_token_id`:None for open-end generation.\n",
      "Setting `pad_token_id` to `eos_token_id`:None for open-end generation.\n",
      "Setting `pad_token_id` to `eos_token_id`:None for open-end generation.\n",
      "Setting `pad_token_id` to `eos_token_id`:None for open-end generation.\n",
      "Processing batch:   2%|▏         | 19/1000 [34:00<28:45:21, 105.53s/it]Setting `pad_token_id` to `eos_token_id`:None for open-end generation.\n"
     ]
    },
    {
     "name": "stdout",
     "output_type": "stream",
     "text": [
      "        sm_id                                      answer_string\n",
      "7955  169tr04  \\n  (1) relation: No related phrases.\\n  (2) p...\n",
      "7956  169wjyu  \\n  (1) relation: yes, related phrases: single...\n",
      "7957  169wz02  \\n  (1) relation: No related phrases\\n  (2) pr...\n",
      "7958  169x1g6  \\n  (1) relation: Yes, related phrases: \"I am ...\n",
      "7959  169x8jj  \\n  (1) relation: No related phrases\\n  (2) pr...\n",
      "7960  169xjbo  \\n  (1) relation: yes, related phrases: strugg...\n",
      "7961  169xym0  \\n  (1) relation: yes, related phrases: \"with ...\n",
      "7962  169y8c4  \\n  (1) relation: No related phrases.\\n  (2) p...\n",
      "7963  169yaur  \\n  (1) relation: yes, related phrases: lookin...\n",
      "7964  16a0iwn  \\n  (1) relation: yes, related phrases: family...\n"
     ]
    },
    {
     "name": "stderr",
     "output_type": "stream",
     "text": [
      "Setting `pad_token_id` to `eos_token_id`:None for open-end generation.\n",
      "Setting `pad_token_id` to `eos_token_id`:None for open-end generation.\n",
      "Setting `pad_token_id` to `eos_token_id`:None for open-end generation.\n",
      "Setting `pad_token_id` to `eos_token_id`:None for open-end generation.\n",
      "Setting `pad_token_id` to `eos_token_id`:None for open-end generation.\n",
      "Setting `pad_token_id` to `eos_token_id`:None for open-end generation.\n",
      "Setting `pad_token_id` to `eos_token_id`:None for open-end generation.\n",
      "Setting `pad_token_id` to `eos_token_id`:None for open-end generation.\n",
      "Setting `pad_token_id` to `eos_token_id`:None for open-end generation.\n",
      "Processing batch:   2%|▏         | 20/1000 [35:42<28:23:46, 104.31s/it]Setting `pad_token_id` to `eos_token_id`:None for open-end generation.\n"
     ]
    },
    {
     "name": "stdout",
     "output_type": "stream",
     "text": [
      "        sm_id                                      answer_string\n",
      "7965  16a1igr  \\n  (1) relation: no\\n  (2) protein: no\\n  (3)...\n",
      "7966  16a1lof  \\n  (1) relation: yes, related phrases: \"i can...\n",
      "7967  16a1n2q  \\n  (1) relation: yes, related phrases: before...\n",
      "7968  16a2c1r  \\n  (1) relation: No, related phrases if any: ...\n",
      "7969  16a2j4i  \\n  (1) relation: No related phrases.\\n  (2) p...\n",
      "7970  16a414u  \\n  (1) relation: yes, related phrases: bulimi...\n",
      "7971  16a5bwv  \\n  (1) relation: yes, related phrases: \"unhap...\n",
      "7972  16a5h2u  \\n  (1) relation: yes, related phrases: social...\n",
      "7973  16a636m  \\n  (1) relation: No, related phrases if any: ...\n",
      "7974  16a7uok  \\n  (1) relation: No related phrases.\\n  (2) p...\n"
     ]
    },
    {
     "name": "stderr",
     "output_type": "stream",
     "text": [
      "Setting `pad_token_id` to `eos_token_id`:None for open-end generation.\n",
      "Setting `pad_token_id` to `eos_token_id`:None for open-end generation.\n",
      "Setting `pad_token_id` to `eos_token_id`:None for open-end generation.\n",
      "Setting `pad_token_id` to `eos_token_id`:None for open-end generation.\n",
      "Setting `pad_token_id` to `eos_token_id`:None for open-end generation.\n",
      "Setting `pad_token_id` to `eos_token_id`:None for open-end generation.\n",
      "Setting `pad_token_id` to `eos_token_id`:None for open-end generation.\n",
      "Setting `pad_token_id` to `eos_token_id`:None for open-end generation.\n",
      "Setting `pad_token_id` to `eos_token_id`:None for open-end generation.\n",
      "Processing batch:   2%|▏         | 21/1000 [37:49<30:13:19, 111.13s/it]Setting `pad_token_id` to `eos_token_id`:None for open-end generation.\n"
     ]
    },
    {
     "name": "stdout",
     "output_type": "stream",
     "text": [
      "        sm_id                                      answer_string\n",
      "7975  16a8vqx  \\n  (1) relation: yes, related phrases: wife\\n...\n",
      "7976  16a9b2i  \\n  (1) relation: no, related phrases if any: ...\n",
      "7977  16a9m7n  \\n  (1) relation: No, related phrases: none\\n ...\n",
      "7978  16a9x5k  \\n  (1) relation: yes, related phrases: two bi...\n",
      "7979  16aaue1  \\n  (1) relation: yes, related phrases: \"stren...\n",
      "7980  16acb0s  \\n  (1) relation: Yes, the paragraph mentions ...\n",
      "7981  16aci30  \\n  (1) relation: yes, related phrases: \"Famil...\n",
      "7982  16acpx4  \\n  (1) relation: yes, related phrases: \"I liv...\n",
      "7983  16ae1je  \\n  (1) relation: Yes, related phrases: \"my ch...\n",
      "7984  16aeoqf  \\n  (1) relation: yes, related phrases: 'socia...\n"
     ]
    },
    {
     "name": "stderr",
     "output_type": "stream",
     "text": [
      "Setting `pad_token_id` to `eos_token_id`:None for open-end generation.\n",
      "Setting `pad_token_id` to `eos_token_id`:None for open-end generation.\n",
      "Setting `pad_token_id` to `eos_token_id`:None for open-end generation.\n",
      "Setting `pad_token_id` to `eos_token_id`:None for open-end generation.\n",
      "Setting `pad_token_id` to `eos_token_id`:None for open-end generation.\n",
      "Setting `pad_token_id` to `eos_token_id`:None for open-end generation.\n",
      "Setting `pad_token_id` to `eos_token_id`:None for open-end generation.\n",
      "Setting `pad_token_id` to `eos_token_id`:None for open-end generation.\n",
      "Setting `pad_token_id` to `eos_token_id`:None for open-end generation.\n",
      "Processing batch:   2%|▏         | 22/1000 [39:48<30:50:53, 113.55s/it]Setting `pad_token_id` to `eos_token_id`:None for open-end generation.\n"
     ]
    },
    {
     "name": "stdout",
     "output_type": "stream",
     "text": [
      "        sm_id                                      answer_string\n",
      "7985  16afulr  \\n  (1) relation: yes, related phrases: \"break...\n",
      "7986  16agb7y  \\n  (1) relation: No, related phrases if any: ...\n",
      "7987  16agdto  \\n  (1) relation: yes, related phrases: \"alrea...\n",
      "7988  16agk26  \\n  (1) relation: No, related phrases if any: ...\n",
      "7989  16akn7q  \\n  (1) relation: Yes, the paragraph discusses...\n",
      "7990  16al3jk  \\n  (1) relation: No, related phrases if any: ...\n",
      "7991  16amuru  \\n  (1) relation: yes, related phrases: \"i hat...\n",
      "7992  16an4ag  \\n  (1) relation: yes, related phrases: husban...\n",
      "7993  16anp57  \\n  (1) relation: No related phrases.\\n  (2) p...\n",
      "7994  16aq0x7  \\n  (1) relation: No related phrases.\\n  (2) p...\n"
     ]
    },
    {
     "name": "stderr",
     "output_type": "stream",
     "text": [
      "Setting `pad_token_id` to `eos_token_id`:None for open-end generation.\n",
      "Setting `pad_token_id` to `eos_token_id`:None for open-end generation.\n",
      "Setting `pad_token_id` to `eos_token_id`:None for open-end generation.\n",
      "Setting `pad_token_id` to `eos_token_id`:None for open-end generation.\n",
      "Setting `pad_token_id` to `eos_token_id`:None for open-end generation.\n",
      "Setting `pad_token_id` to `eos_token_id`:None for open-end generation.\n",
      "Setting `pad_token_id` to `eos_token_id`:None for open-end generation.\n",
      "Setting `pad_token_id` to `eos_token_id`:None for open-end generation.\n",
      "Setting `pad_token_id` to `eos_token_id`:None for open-end generation.\n",
      "Processing batch:   2%|▏         | 23/1000 [41:26<29:34:05, 108.95s/it]Setting `pad_token_id` to `eos_token_id`:None for open-end generation.\n"
     ]
    },
    {
     "name": "stdout",
     "output_type": "stream",
     "text": [
      "        sm_id                                      answer_string\n",
      "7995  16ar72a  \\n  (1) relation: no related phrases\\n  (2) pr...\n",
      "7996  16arj8s  \\n  (1) relation: No related phrases\\n  (2) pr...\n",
      "7997  16armj3  \\n  (1) relation: No related phrases.\\n  (2) p...\n",
      "7998  16asom2  \\n  (1) relation: no\\n  (2) protein: no\\n  (3)...\n",
      "7999  16at99t  \\n  (1) relation: Yes, the paragraph discusses...\n",
      "8000  16atxt5  \\n  (1) relation: No related phrases.\\n  (2) p...\n",
      "8001  16augnx  \\n  (1) relation: yes, related phrases: commun...\n",
      "8002  16av1w4  \\n  (1) relation: yes, related phrases: meal p...\n",
      "8003  16av4nw  \\n  (1) relation: No, related phrases if any: ...\n",
      "8004  16avxdx  \\n  (1) relation: yes, related phrases: office...\n"
     ]
    },
    {
     "name": "stderr",
     "output_type": "stream",
     "text": [
      "Setting `pad_token_id` to `eos_token_id`:None for open-end generation.\n",
      "Setting `pad_token_id` to `eos_token_id`:None for open-end generation.\n",
      "Setting `pad_token_id` to `eos_token_id`:None for open-end generation.\n",
      "Setting `pad_token_id` to `eos_token_id`:None for open-end generation.\n",
      "Setting `pad_token_id` to `eos_token_id`:None for open-end generation.\n",
      "Setting `pad_token_id` to `eos_token_id`:None for open-end generation.\n",
      "Setting `pad_token_id` to `eos_token_id`:None for open-end generation.\n",
      "Setting `pad_token_id` to `eos_token_id`:None for open-end generation.\n",
      "Setting `pad_token_id` to `eos_token_id`:None for open-end generation.\n",
      "Processing batch:   2%|▏         | 24/1000 [43:23<30:12:44, 111.44s/it]Setting `pad_token_id` to `eos_token_id`:None for open-end generation.\n"
     ]
    },
    {
     "name": "stdout",
     "output_type": "stream",
     "text": [
      "        sm_id                                      answer_string\n",
      "8005  16b1fqs  \\n  (1) relation: Yes, the paragraph discusses...\n",
      "8006  16b2hun  \\n  (1) relation: yes, related phrases: strugg...\n",
      "8007  16b2tom  \\n  (1) relation: No, related phrases if any: ...\n",
      "8008  16b3h5k  \\n  (1) relation: yes, related phrases: social...\n",
      "8009  16b3k5q  \\n  (1) relation: No related phrases\\n  (2) pr...\n",
      "8010  16b43id  \\n  (1) relation: yes, related phrases: \"I'm g...\n",
      "8011  16b4bm2  \\n  (1) relation: Yes, related phrases: workpl...\n",
      "8012  16b5jl0  \\n  (1) relation: No, related phrases if any: ...\n",
      "8013  16b5yyo  \\n  (1) relation: no related phrases\\n  (2) pr...\n",
      "8014  16b61ih  \\n  (1) relation: No, related phrases if any: ...\n"
     ]
    },
    {
     "name": "stderr",
     "output_type": "stream",
     "text": [
      "Setting `pad_token_id` to `eos_token_id`:None for open-end generation.\n",
      "Setting `pad_token_id` to `eos_token_id`:None for open-end generation.\n",
      "Setting `pad_token_id` to `eos_token_id`:None for open-end generation.\n",
      "Setting `pad_token_id` to `eos_token_id`:None for open-end generation.\n",
      "Setting `pad_token_id` to `eos_token_id`:None for open-end generation.\n",
      "Setting `pad_token_id` to `eos_token_id`:None for open-end generation.\n",
      "Setting `pad_token_id` to `eos_token_id`:None for open-end generation.\n",
      "Setting `pad_token_id` to `eos_token_id`:None for open-end generation.\n",
      "Setting `pad_token_id` to `eos_token_id`:None for open-end generation.\n",
      "Processing batch:   2%|▎         | 25/1000 [45:20<30:38:14, 113.12s/it]Setting `pad_token_id` to `eos_token_id`:None for open-end generation.\n"
     ]
    },
    {
     "name": "stdout",
     "output_type": "stream",
     "text": [
      "        sm_id                                      answer_string\n",
      "8015  16b6tf2  \\n  (1) relation: yes, related phrases: \"my fa...\n",
      "8016  16b7haw  \\n  (1) relation: yes, related phrases: 'comin...\n",
      "8017  16b7x6y  \\n  (1) relation: yes, related phrases: marrie...\n",
      "8018  16b8r9t  \\n  (1) relation: No, related phrases: none\\n ...\n",
      "8019  16ba8hz  \\n  (1) relation: yes, related phrases: \"talki...\n",
      "8020  16bc28a  \\n  (1) relation: Yes, the paragraph discusses...\n",
      "8021  16bcko6  \\n  (1) relation: Yes, related phrases: \"i use...\n",
      "8022  16bcubp  \\n  (1) relation: No related phrases.\\n  (2) p...\n",
      "8023  16bg4at  \\n  (1) relation: no\\n  (2) protein: no\\n  (3)...\n",
      "8024  16bh7u1  \\n  (1) relation: yes, related phrases: family...\n"
     ]
    },
    {
     "name": "stderr",
     "output_type": "stream",
     "text": [
      "Setting `pad_token_id` to `eos_token_id`:None for open-end generation.\n",
      "Setting `pad_token_id` to `eos_token_id`:None for open-end generation.\n",
      "Setting `pad_token_id` to `eos_token_id`:None for open-end generation.\n",
      "Setting `pad_token_id` to `eos_token_id`:None for open-end generation.\n",
      "Setting `pad_token_id` to `eos_token_id`:None for open-end generation.\n",
      "Setting `pad_token_id` to `eos_token_id`:None for open-end generation.\n",
      "Setting `pad_token_id` to `eos_token_id`:None for open-end generation.\n",
      "Setting `pad_token_id` to `eos_token_id`:None for open-end generation.\n",
      "Setting `pad_token_id` to `eos_token_id`:None for open-end generation.\n",
      "Processing batch:   3%|▎         | 26/1000 [47:09<30:15:59, 111.87s/it]Setting `pad_token_id` to `eos_token_id`:None for open-end generation.\n"
     ]
    },
    {
     "name": "stdout",
     "output_type": "stream",
     "text": [
      "        sm_id                                      answer_string\n",
      "8025  16bhhik  \\n  (1) relation: No related phrases\\n  (2) pr...\n",
      "8026  16biy7o  \\n  (1) relation: No related phrases.\\n  (2) p...\n",
      "8027  16bj6i6  \\n  (1) relation: yes, related phrases: \"other...\n",
      "8028  16bkd89  \\n  (1) relation: yes, related phrases: \"socia...\n",
      "8029  16bkrc9  \\n  (1) relation: No related phrases.\\n  (2) p...\n",
      "8030  16bl1oc  \\n  (1) relation: No, related phrases if any: ...\n",
      "8031  16bm911  \\n  (1) relation: yes, related phrases: social...\n",
      "8032  16boheg  \\n  (1) relation: No related phrases.\\n  (2) p...\n",
      "8033  16bp82d  \\n  (1) relation: yes, related phrases: 'strug...\n",
      "8034  16bpaoy  \\n  (1) relation: Yes, the paragraph mentions ...\n"
     ]
    },
    {
     "name": "stderr",
     "output_type": "stream",
     "text": [
      "Setting `pad_token_id` to `eos_token_id`:None for open-end generation.\n",
      "Setting `pad_token_id` to `eos_token_id`:None for open-end generation.\n",
      "Setting `pad_token_id` to `eos_token_id`:None for open-end generation.\n",
      "Setting `pad_token_id` to `eos_token_id`:None for open-end generation.\n",
      "Setting `pad_token_id` to `eos_token_id`:None for open-end generation.\n",
      "Setting `pad_token_id` to `eos_token_id`:None for open-end generation.\n",
      "Setting `pad_token_id` to `eos_token_id`:None for open-end generation.\n",
      "Setting `pad_token_id` to `eos_token_id`:None for open-end generation.\n",
      "Setting `pad_token_id` to `eos_token_id`:None for open-end generation.\n",
      "Processing batch:   3%|▎         | 27/1000 [49:06<30:36:24, 113.24s/it]Setting `pad_token_id` to `eos_token_id`:None for open-end generation.\n"
     ]
    },
    {
     "name": "stdout",
     "output_type": "stream",
     "text": [
      "        sm_id                                      answer_string\n",
      "8035  16bpkf3  \\n  (1) relation: Yes, the paragraph discusses...\n",
      "8036  16bpsc0  \\n  (1) relation: No, related phrases if any: ...\n",
      "8037  16bsfoi  \\n  (1) relation: Yes, the paragraph mentions ...\n",
      "8038  16buflt  \\n  (1) relation: yes, related phrases: meal r...\n",
      "8039  16buife  \\n  (1) relation: No, related phrases if any: ...\n",
      "8040  16bujyv  \\n  (1) relation: No related phrases\\n  (2) pr...\n",
      "8041  16busyj  \\n  (1) relation: yes, related phrases: 'after...\n",
      "8042  16bvkii  \\n  (1) relation: yes, related phrases: side d...\n",
      "8043  16bvw2p  \\n  (1) relation: No, related phrases if any: ...\n",
      "8044  16bykm8  \\n  (1) relation: yes, related phrases: gifted...\n"
     ]
    },
    {
     "name": "stderr",
     "output_type": "stream",
     "text": [
      "Setting `pad_token_id` to `eos_token_id`:None for open-end generation.\n",
      "Setting `pad_token_id` to `eos_token_id`:None for open-end generation.\n",
      "Setting `pad_token_id` to `eos_token_id`:None for open-end generation.\n",
      "Setting `pad_token_id` to `eos_token_id`:None for open-end generation.\n",
      "Setting `pad_token_id` to `eos_token_id`:None for open-end generation.\n",
      "Setting `pad_token_id` to `eos_token_id`:None for open-end generation.\n",
      "Setting `pad_token_id` to `eos_token_id`:None for open-end generation.\n",
      "Setting `pad_token_id` to `eos_token_id`:None for open-end generation.\n",
      "Setting `pad_token_id` to `eos_token_id`:None for open-end generation.\n",
      "Processing batch:   3%|▎         | 28/1000 [51:02<30:47:52, 114.07s/it]Setting `pad_token_id` to `eos_token_id`:None for open-end generation.\n"
     ]
    },
    {
     "name": "stdout",
     "output_type": "stream",
     "text": [
      "        sm_id                                      answer_string\n",
      "8045  16c028w  \\n  (1) relation: No, related phrases if any: ...\n",
      "8046  16c0aib  \\n  (1) relation: No, related phrases if any: ...\n",
      "8047  16c0avs  \\n  (1) relation: yes, related phrases: '3 mon...\n",
      "8048  16c0lk4  \\n  (1) relation: No, related phrases if any: ...\n",
      "8049  16c16yz  \\n  (1) relation: No related phrases.\\n  (2) p...\n",
      "8050  16c1tps  \\n  (1) relation: No, related phrases if any: ...\n",
      "8051  16c2ks9  \\n  (1) relation: yes, related phrases: person...\n",
      "8052  16c2qal  \\n  (1) relation: yes, related phrases: 'inter...\n",
      "8053  16c5x7c  \\n  (1) relation: No, related phrases if any: ...\n",
      "8054  16c63hw  \\n  (1) relation: yes, related phrases: dinner...\n"
     ]
    },
    {
     "name": "stderr",
     "output_type": "stream",
     "text": [
      "Setting `pad_token_id` to `eos_token_id`:None for open-end generation.\n",
      "Setting `pad_token_id` to `eos_token_id`:None for open-end generation.\n",
      "Setting `pad_token_id` to `eos_token_id`:None for open-end generation.\n",
      "Setting `pad_token_id` to `eos_token_id`:None for open-end generation.\n",
      "Setting `pad_token_id` to `eos_token_id`:None for open-end generation.\n",
      "Setting `pad_token_id` to `eos_token_id`:None for open-end generation.\n",
      "Setting `pad_token_id` to `eos_token_id`:None for open-end generation.\n",
      "Setting `pad_token_id` to `eos_token_id`:None for open-end generation.\n",
      "Setting `pad_token_id` to `eos_token_id`:None for open-end generation.\n",
      "Processing batch:   3%|▎         | 29/1000 [52:33<28:56:07, 107.28s/it]Setting `pad_token_id` to `eos_token_id`:None for open-end generation.\n"
     ]
    },
    {
     "name": "stdout",
     "output_type": "stream",
     "text": [
      "        sm_id                                      answer_string\n",
      "8055  16c6fm5  \\n  (1) relation: yes, related phrases: weight...\n",
      "8056  16c93cw  \\n  (1) relation: no\\n  (2) protein: no\\n  (3)...\n",
      "8057  16ca6p4  \\n  (1) relation: yes, related phrases: breakf...\n",
      "8058  16cahzp  \\n  (1) relation: yes, related phrases: force ...\n",
      "8059  16cbttq  \\n  (1) relation: No related phrases.\\n  (2) p...\n",
      "8060  16cbwtp  \\n  (1) relation: No, related phrases if any: ...\n",
      "8061  16cd6ks  \\n  (1) relation: No related phrases.\\n  (2) p...\n",
      "8062  16cfbw9  \\n  (1) relation: yes, related phrases: runnin...\n",
      "8063  16cg3kd  \\n  (1) relation: No related phrases\\n  (2) pr...\n",
      "8064  16cg8mf  \\n  (1) relation: No related phrases.\\n  (2) p...\n"
     ]
    },
    {
     "name": "stderr",
     "output_type": "stream",
     "text": [
      "Setting `pad_token_id` to `eos_token_id`:None for open-end generation.\n",
      "Setting `pad_token_id` to `eos_token_id`:None for open-end generation.\n",
      "Setting `pad_token_id` to `eos_token_id`:None for open-end generation.\n",
      "Setting `pad_token_id` to `eos_token_id`:None for open-end generation.\n",
      "Setting `pad_token_id` to `eos_token_id`:None for open-end generation.\n",
      "Setting `pad_token_id` to `eos_token_id`:None for open-end generation.\n",
      "Setting `pad_token_id` to `eos_token_id`:None for open-end generation.\n",
      "Setting `pad_token_id` to `eos_token_id`:None for open-end generation.\n",
      "Setting `pad_token_id` to `eos_token_id`:None for open-end generation.\n",
      "Processing batch:   3%|▎         | 30/1000 [54:15<28:25:00, 105.46s/it]Setting `pad_token_id` to `eos_token_id`:None for open-end generation.\n"
     ]
    },
    {
     "name": "stdout",
     "output_type": "stream",
     "text": [
      "        sm_id                                      answer_string\n",
      "8065  16cgzh6  \\n  (1) relation: No, related phrases if any: ...\n",
      "8066  16ch8zd  \\n  (1) relation: No, related phrases if any: ...\n",
      "8067  16cherg  \\n  (1) relation: no\\n  (2) protein: no\\n  (3)...\n",
      "8068  16chh9l  \\n  (1) relation: No related phrases.\\n  (2) p...\n",
      "8069  16cjf92  \\n  (1) relation: yes, related phrases: wife\\n...\n",
      "8070  16cmcot  \\n  (1) relation: no\\n  (2) protein: no\\n  (3)...\n",
      "8071  16cp0n2  \\n  (1) relation: No related phrases.\\n  (2) p...\n",
      "8072  16cq12g  \\n  (1) relation: yes, related phrases: vegan ...\n",
      "8073  16cq2y7  \\n  (1) relation: Yes, the paragraph discusses...\n",
      "8074  16cqhed  \\n  (1) relation: yes, related phrases: 'i am ...\n"
     ]
    },
    {
     "name": "stderr",
     "output_type": "stream",
     "text": [
      "Setting `pad_token_id` to `eos_token_id`:None for open-end generation.\n",
      "Setting `pad_token_id` to `eos_token_id`:None for open-end generation.\n",
      "Setting `pad_token_id` to `eos_token_id`:None for open-end generation.\n",
      "Setting `pad_token_id` to `eos_token_id`:None for open-end generation.\n",
      "Setting `pad_token_id` to `eos_token_id`:None for open-end generation.\n",
      "Setting `pad_token_id` to `eos_token_id`:None for open-end generation.\n",
      "Setting `pad_token_id` to `eos_token_id`:None for open-end generation.\n",
      "Setting `pad_token_id` to `eos_token_id`:None for open-end generation.\n",
      "Setting `pad_token_id` to `eos_token_id`:None for open-end generation.\n",
      "Processing batch:   3%|▎         | 31/1000 [56:07<28:58:28, 107.65s/it]Setting `pad_token_id` to `eos_token_id`:None for open-end generation.\n"
     ]
    },
    {
     "name": "stdout",
     "output_type": "stream",
     "text": [
      "        sm_id                                      answer_string\n",
      "8075  16csctb  \\n  (1) relation: No related phrases.\\n  (2) p...\n",
      "8076  16ct75u  \\n  (1) relation: No related phrases.\\n  (2) p...\n",
      "8077  16ctqwf  \\n  (1) relation: yes, related phrases: 'brows...\n",
      "8078  16cvtw6  \\n  (1) relation: yes, related phrases: eating...\n",
      "8079  16cxhg8  \\n  (1) relation: No, related phrases if any: ...\n",
      "8080  16cxuvd  \\n  (1) relation: No related phrases.\\n  (2) p...\n",
      "8081  16cy00m  \\n  (1) relation: yes, related phrases: meal p...\n",
      "8082  16cy633  \\n  (1) relation: No, the paragraph does not m...\n",
      "8083  16cyqyt  \\n  (1) relation: No, related phrases if any: ...\n",
      "8084  16d1ioe  \\n  (1) relation: No, related phrases if any: ...\n"
     ]
    },
    {
     "name": "stderr",
     "output_type": "stream",
     "text": [
      "Setting `pad_token_id` to `eos_token_id`:None for open-end generation.\n",
      "Setting `pad_token_id` to `eos_token_id`:None for open-end generation.\n",
      "Setting `pad_token_id` to `eos_token_id`:None for open-end generation.\n",
      "Setting `pad_token_id` to `eos_token_id`:None for open-end generation.\n",
      "Setting `pad_token_id` to `eos_token_id`:None for open-end generation.\n",
      "Setting `pad_token_id` to `eos_token_id`:None for open-end generation.\n",
      "Setting `pad_token_id` to `eos_token_id`:None for open-end generation.\n",
      "Setting `pad_token_id` to `eos_token_id`:None for open-end generation.\n",
      "Setting `pad_token_id` to `eos_token_id`:None for open-end generation.\n",
      "Processing batch:   3%|▎         | 32/1000 [57:44<28:02:09, 104.27s/it]Setting `pad_token_id` to `eos_token_id`:None for open-end generation.\n"
     ]
    },
    {
     "name": "stdout",
     "output_type": "stream",
     "text": [
      "        sm_id                                      answer_string\n",
      "8085  16d2v9o  \\n  (1) relation: no\\n  (2) protein: no\\n  (3)...\n",
      "8086  16d54bk  \\n  (1) relation: yes, related phrases: auntie...\n",
      "8087  16d6dci  \\n  (1) relation: No, related phrases if any: ...\n",
      "8088  16d6e12  \\n  (1) relation: yes, related phrases: sharin...\n",
      "8089  16d6fz3  \\n  (1) relation: no\\n  (2) protein: no\\n  (3)...\n",
      "8090  16d84w4  \\n  (1) relation: yes, related phrases: a typi...\n",
      "8091  16dbbmk  \\n  (1) relation: yes, related phrases: strong...\n",
      "8092  16dcd16  \\n  (1) relation: yes, related phrases: social...\n",
      "8093  16df04z  \\n  (1) relation: no\\n  (2) protein: no\\n  (3)...\n",
      "8094  16df0pz  \\n  (1) relation: No related phrases.\\n  (2) p...\n"
     ]
    },
    {
     "name": "stderr",
     "output_type": "stream",
     "text": [
      "Setting `pad_token_id` to `eos_token_id`:None for open-end generation.\n",
      "Setting `pad_token_id` to `eos_token_id`:None for open-end generation.\n",
      "Setting `pad_token_id` to `eos_token_id`:None for open-end generation.\n",
      "Setting `pad_token_id` to `eos_token_id`:None for open-end generation.\n",
      "Setting `pad_token_id` to `eos_token_id`:None for open-end generation.\n",
      "Setting `pad_token_id` to `eos_token_id`:None for open-end generation.\n",
      "Setting `pad_token_id` to `eos_token_id`:None for open-end generation.\n",
      "Setting `pad_token_id` to `eos_token_id`:None for open-end generation.\n",
      "Setting `pad_token_id` to `eos_token_id`:None for open-end generation.\n",
      "Processing batch:   3%|▎         | 33/1000 [59:36<28:37:49, 106.59s/it]Setting `pad_token_id` to `eos_token_id`:None for open-end generation.\n"
     ]
    },
    {
     "name": "stdout",
     "output_type": "stream",
     "text": [
      "        sm_id                                      answer_string\n",
      "8095  16dfb8f  \\n  (1) relation: yes, related phrases: intera...\n",
      "8096  16dgy1a  \\n  (1) relation: yes, related phrases: family...\n",
      "8097  16djhv0  \\n  (1) relation: Yes, the paragraph discusses...\n",
      "8098  16dltmf  \\n  (1) relation: No, related phrases if any: ...\n",
      "8099  16dn3fo  \\n  (1) relation: yes, related phrases: fiance...\n",
      "8100  16doojp  \\n  (1) relation: yes, related phrases: walkin...\n",
      "8101  16dot3o  \\n  (1) relation: yes, related phrases: 'i nee...\n",
      "8102  16dqg8q  \\n  (1) relation: Not mentioned\\n  (2) protein...\n",
      "8103  16dqkpy  \\n  (1) relation: No, related phrases: none\\n ...\n",
      "8104  16dsh0q  \\n  (1) relation: Yes, related phrases: dealin...\n"
     ]
    },
    {
     "name": "stderr",
     "output_type": "stream",
     "text": [
      "Setting `pad_token_id` to `eos_token_id`:None for open-end generation.\n",
      "Setting `pad_token_id` to `eos_token_id`:None for open-end generation.\n",
      "Setting `pad_token_id` to `eos_token_id`:None for open-end generation.\n",
      "Setting `pad_token_id` to `eos_token_id`:None for open-end generation.\n",
      "Setting `pad_token_id` to `eos_token_id`:None for open-end generation.\n",
      "Setting `pad_token_id` to `eos_token_id`:None for open-end generation.\n",
      "Setting `pad_token_id` to `eos_token_id`:None for open-end generation.\n",
      "Setting `pad_token_id` to `eos_token_id`:None for open-end generation.\n",
      "Setting `pad_token_id` to `eos_token_id`:None for open-end generation.\n",
      "Processing batch:   3%|▎         | 34/1000 [1:01:29<29:07:13, 108.52s/it]Setting `pad_token_id` to `eos_token_id`:None for open-end generation.\n"
     ]
    },
    {
     "name": "stdout",
     "output_type": "stream",
     "text": [
      "        sm_id                                      answer_string\n",
      "8105  16dsooy  \\n  (1) relation: No, related phrases if any: ...\n",
      "8106  16dt64g  \\n  (1) relation: No related phrases.\\n  (2) p...\n",
      "8107  16dv70k  \\n  (1) relation: yes, related phrases: picky ...\n",
      "8108  16dvhee  \\n  (1) relation: No related phrases.\\n  (2) p...\n",
      "8109  16dvout  \\n  (1) relation: yes, related phrases: 'all',...\n",
      "8110  16dvvhz  \\n  (1) relation: Yes, the paragraph discusses...\n",
      "8111  16dwgw6  \\n  (1) relation: yes, related phrases: \"in-la...\n",
      "8112  16dxka7  \\n  (1) relation: No related phrases.\\n  (2) p...\n",
      "8113  16dy7dv  \\n  (1) relation: Yes, the paragraph mentions ...\n",
      "8114  16dyn4t  \\n  (1) relation: no\\n  (2) protein: no\\n  (3)...\n"
     ]
    },
    {
     "name": "stderr",
     "output_type": "stream",
     "text": [
      "Setting `pad_token_id` to `eos_token_id`:None for open-end generation.\n",
      "Setting `pad_token_id` to `eos_token_id`:None for open-end generation.\n",
      "Setting `pad_token_id` to `eos_token_id`:None for open-end generation.\n",
      "Setting `pad_token_id` to `eos_token_id`:None for open-end generation.\n",
      "Setting `pad_token_id` to `eos_token_id`:None for open-end generation.\n",
      "Setting `pad_token_id` to `eos_token_id`:None for open-end generation.\n",
      "Setting `pad_token_id` to `eos_token_id`:None for open-end generation.\n",
      "Setting `pad_token_id` to `eos_token_id`:None for open-end generation.\n",
      "Setting `pad_token_id` to `eos_token_id`:None for open-end generation.\n",
      "Processing batch:   4%|▎         | 35/1000 [1:03:17<29:06:33, 108.59s/it]Setting `pad_token_id` to `eos_token_id`:None for open-end generation.\n"
     ]
    },
    {
     "name": "stdout",
     "output_type": "stream",
     "text": [
      "        sm_id                                      answer_string\n",
      "8115  16e2fi1  \\n  (1) relation: No related phrases.\\n  (2) p...\n",
      "8116  16e2w43  \\n  (1) relation: No, related phrases if any: ...\n",
      "8117  16e2zb6  \\n  (1) relation: yes, related phrases: moving...\n",
      "8118  16e343u  \\n  (1) relation: Yes, the paragraph discusses...\n",
      "8119  16e35pz  \\n  (1) relation: yes, related phrases: \"my da...\n",
      "8120  16e3pha  \\n  (1) relation: No related phrases.\\n  (2) p...\n",
      "8121  16e42ek  \\n  (1) relation: Yes, related phrases: social...\n",
      "8122  16e6fuo  \\n  (1) relation: yes, related phrases: meal r...\n",
      "8123  16e6l0j  \\n  (1) relation: No related phrases.\\n  (2) p...\n",
      "8124  16e989t  \\n  (1) relation: yes, related phrases: \"middl...\n"
     ]
    },
    {
     "name": "stderr",
     "output_type": "stream",
     "text": [
      "Setting `pad_token_id` to `eos_token_id`:None for open-end generation.\n",
      "Setting `pad_token_id` to `eos_token_id`:None for open-end generation.\n",
      "Setting `pad_token_id` to `eos_token_id`:None for open-end generation.\n",
      "Setting `pad_token_id` to `eos_token_id`:None for open-end generation.\n",
      "Setting `pad_token_id` to `eos_token_id`:None for open-end generation.\n",
      "Setting `pad_token_id` to `eos_token_id`:None for open-end generation.\n",
      "Setting `pad_token_id` to `eos_token_id`:None for open-end generation.\n",
      "Setting `pad_token_id` to `eos_token_id`:None for open-end generation.\n",
      "Setting `pad_token_id` to `eos_token_id`:None for open-end generation.\n",
      "Processing batch:   4%|▎         | 36/1000 [1:05:05<28:59:03, 108.24s/it]Setting `pad_token_id` to `eos_token_id`:None for open-end generation.\n"
     ]
    },
    {
     "name": "stdout",
     "output_type": "stream",
     "text": [
      "        sm_id                                      answer_string\n",
      "8125  16eafmn  \\n  (1) relation: No related phrases.\\n  (2) p...\n",
      "8126  16ebbmi  \\n  (1) relation: yes, related phrases: \"we ha...\n",
      "8127  16edidc  \\n  (1) relation: No, related phrases if any: ...\n",
      "8128  16eexad  \\n  (1) relation: No related phrases.\\n  (2) p...\n",
      "8129  16eh98c  \\n  (1) relation: no\\n  (2) protein: no\\n  (3)...\n",
      "8130  16emb9p  \\n  (1) relation: No, the paragraph does not m...\n",
      "8131  16enzhg  \\n  (1) relation: yes, related phrases: self e...\n",
      "8132  16eo65i  \\n  (1) relation: No, the paragraph does not m...\n",
      "8133  16eop5f  \\n  (1) relation: No, related phrases if any: ...\n",
      "8134  16eougf  \\n  (1) relation: yes, related phrases: \"I'm s...\n"
     ]
    },
    {
     "name": "stderr",
     "output_type": "stream",
     "text": [
      "Setting `pad_token_id` to `eos_token_id`:None for open-end generation.\n",
      "Setting `pad_token_id` to `eos_token_id`:None for open-end generation.\n",
      "Setting `pad_token_id` to `eos_token_id`:None for open-end generation.\n",
      "Setting `pad_token_id` to `eos_token_id`:None for open-end generation.\n",
      "Setting `pad_token_id` to `eos_token_id`:None for open-end generation.\n",
      "Setting `pad_token_id` to `eos_token_id`:None for open-end generation.\n",
      "Setting `pad_token_id` to `eos_token_id`:None for open-end generation.\n",
      "Setting `pad_token_id` to `eos_token_id`:None for open-end generation.\n",
      "Setting `pad_token_id` to `eos_token_id`:None for open-end generation.\n",
      "Processing batch:   4%|▎         | 37/1000 [1:06:59<29:24:45, 109.95s/it]Setting `pad_token_id` to `eos_token_id`:None for open-end generation.\n"
     ]
    },
    {
     "name": "stdout",
     "output_type": "stream",
     "text": [
      "        sm_id                                      answer_string\n",
      "8135  16epobb  \\n  (1) relation: No related phrases\\n  (2) pr...\n",
      "8136  16eqciu  \\n  (1) relation: No, related phrases: none\\n ...\n",
      "8137  16er4pa  \\n  (1) relation: No related phrases.\\n  (2) p...\n",
      "8138  16es83n  \\n  (1) relation: yes, related phrases: bra fi...\n",
      "8139  16etnuk  \\n  (1) relation: Yes, the paragraph discusses...\n",
      "8140  16ewa3p  \\n  (1) relation: No related phrases.\\n  (2) p...\n",
      "8141  16ewem8  \\n  (1) relation: yes, related phrases: athlet...\n",
      "8142  16ewez1  \\n  (1) relation: No related phrases.\\n  (2) p...\n",
      "8143  16ewf87  \\n  (1) relation: yes, related phrases: 'strug...\n",
      "8144  16ewtjn  \\n  (1) relation: Yes, related phrases: strugg...\n"
     ]
    },
    {
     "name": "stderr",
     "output_type": "stream",
     "text": [
      "Setting `pad_token_id` to `eos_token_id`:None for open-end generation.\n",
      "Setting `pad_token_id` to `eos_token_id`:None for open-end generation.\n",
      "Setting `pad_token_id` to `eos_token_id`:None for open-end generation.\n",
      "Setting `pad_token_id` to `eos_token_id`:None for open-end generation.\n",
      "Setting `pad_token_id` to `eos_token_id`:None for open-end generation.\n",
      "Setting `pad_token_id` to `eos_token_id`:None for open-end generation.\n",
      "Setting `pad_token_id` to `eos_token_id`:None for open-end generation.\n",
      "Setting `pad_token_id` to `eos_token_id`:None for open-end generation.\n",
      "Setting `pad_token_id` to `eos_token_id`:None for open-end generation.\n",
      "Processing batch:   4%|▍         | 38/1000 [1:08:58<30:07:00, 112.70s/it]Setting `pad_token_id` to `eos_token_id`:None for open-end generation.\n"
     ]
    },
    {
     "name": "stdout",
     "output_type": "stream",
     "text": [
      "        sm_id                                      answer_string\n",
      "8145  16ey16l  \\n  (1) relation: No, related phrases if any: ...\n",
      "8146  16ezatk  \\n  (1) relation: Yes, the paragraph discusses...\n",
      "8147  16eztgi  \\n  (1) relation: yes, related phrases: family...\n",
      "8148  16ezw1d  \\n  (1) relation: Yes, the paragraph discusses...\n",
      "8149  16f0gne  \\n  (1) relation: No related phrases.\\n  (2) p...\n",
      "8150  16f19lz  \\n  (1) relation: No, related phrases if any: ...\n",
      "8151  16f1uc4  \\n  (1) relation: yes, related phrases: anorex...\n",
      "8152  16f31zr  \\n  (1) relation: yes, related phrases: habit ...\n",
      "8153  16f3210  \\n  (1) relation: yes, related phrases: social...\n",
      "8154  16f329w  \\n  (1) relation: yes, related phrases: brothe...\n"
     ]
    },
    {
     "name": "stderr",
     "output_type": "stream",
     "text": [
      "Setting `pad_token_id` to `eos_token_id`:None for open-end generation.\n",
      "Setting `pad_token_id` to `eos_token_id`:None for open-end generation.\n",
      "Setting `pad_token_id` to `eos_token_id`:None for open-end generation.\n",
      "Setting `pad_token_id` to `eos_token_id`:None for open-end generation.\n",
      "Setting `pad_token_id` to `eos_token_id`:None for open-end generation.\n",
      "Setting `pad_token_id` to `eos_token_id`:None for open-end generation.\n",
      "Setting `pad_token_id` to `eos_token_id`:None for open-end generation.\n",
      "Setting `pad_token_id` to `eos_token_id`:None for open-end generation.\n",
      "Setting `pad_token_id` to `eos_token_id`:None for open-end generation.\n",
      "Processing batch:   4%|▍         | 39/1000 [1:10:27<28:11:37, 105.62s/it]Setting `pad_token_id` to `eos_token_id`:None for open-end generation.\n"
     ]
    },
    {
     "name": "stdout",
     "output_type": "stream",
     "text": [
      "        sm_id                                      answer_string\n",
      "8155  16f39h1  \\n  (1) relation: No related phrases.\\n  (2) p...\n",
      "8156  16f3s84  \\n  (1) relation: yes, related phrases: partne...\n",
      "8157  16f4zpe  \\n  (1) relation: Not mentioned\\n  (2) protein...\n",
      "8158  16f4zq7  \\n  (1) relation: yes, related phrases: meal p...\n",
      "8159  16f5a1f  \\n  (1) relation: yes, related phrases: 'i hav...\n",
      "8160  16f5d7s  \\n  (1) relation: yes, related phrases: \"my mo...\n",
      "8161  16f7itv  \\n  (1) relation: yes, related phrases: \"mensw...\n",
      "8162  16f85nd  \\n  (1) relation: no\\n  (2) protein: no, but t...\n",
      "8163  16f8f3f  \\n  (1) relation: yes, related phrases: 'i am ...\n",
      "8164  16f8u6p  \\n  (1) relation: No related phrases.\\n  (2) p...\n"
     ]
    },
    {
     "name": "stderr",
     "output_type": "stream",
     "text": [
      "Setting `pad_token_id` to `eos_token_id`:None for open-end generation.\n",
      "Setting `pad_token_id` to `eos_token_id`:None for open-end generation.\n",
      "Setting `pad_token_id` to `eos_token_id`:None for open-end generation.\n",
      "Setting `pad_token_id` to `eos_token_id`:None for open-end generation.\n",
      "Setting `pad_token_id` to `eos_token_id`:None for open-end generation.\n",
      "Setting `pad_token_id` to `eos_token_id`:None for open-end generation.\n",
      "Setting `pad_token_id` to `eos_token_id`:None for open-end generation.\n",
      "Setting `pad_token_id` to `eos_token_id`:None for open-end generation.\n",
      "Setting `pad_token_id` to `eos_token_id`:None for open-end generation.\n",
      "Processing batch:   4%|▍         | 40/1000 [1:12:20<28:44:07, 107.76s/it]Setting `pad_token_id` to `eos_token_id`:None for open-end generation.\n"
     ]
    },
    {
     "name": "stdout",
     "output_type": "stream",
     "text": [
      "        sm_id                                      answer_string\n",
      "8165  16f9e3f  \\n  (1) relation: yes, related phrases: girlfr...\n",
      "8166  16f9g6l  \\n  (1) relation: yes, related phrases: \"my bo...\n",
      "8167  16fbak0  \\n  (1) relation: yes, related phrases: lactos...\n",
      "8168  16fbder  \\n  (1) relation: Yes, related phrases: \"I was...\n",
      "8169  16fbw5y  \\n  (1) relation: yes, related phrases: family...\n",
      "8170  16fcsx4  \\n  (1) relation: No related phrases.\\n  (2) p...\n",
      "8171  16feooq  \\n  (1) relation: yes/no, related phrases if a...\n",
      "8172  16fgrrp  \\n  (1) relation: Not mentioned\\n  (2) protein...\n",
      "8173  16fgw3n  \\n  (1) relation: No, related phrases if any: ...\n",
      "8174  16fh22h  \\n  (1) relation: yes, related phrases: grandm...\n"
     ]
    },
    {
     "name": "stderr",
     "output_type": "stream",
     "text": [
      "Setting `pad_token_id` to `eos_token_id`:None for open-end generation.\n",
      "Setting `pad_token_id` to `eos_token_id`:None for open-end generation.\n",
      "Setting `pad_token_id` to `eos_token_id`:None for open-end generation.\n",
      "Setting `pad_token_id` to `eos_token_id`:None for open-end generation.\n",
      "Setting `pad_token_id` to `eos_token_id`:None for open-end generation.\n",
      "Setting `pad_token_id` to `eos_token_id`:None for open-end generation.\n",
      "Setting `pad_token_id` to `eos_token_id`:None for open-end generation.\n",
      "Setting `pad_token_id` to `eos_token_id`:None for open-end generation.\n",
      "Setting `pad_token_id` to `eos_token_id`:None for open-end generation.\n",
      "Processing batch:   4%|▍         | 41/1000 [1:14:21<29:46:10, 111.75s/it]Setting `pad_token_id` to `eos_token_id`:None for open-end generation.\n"
     ]
    },
    {
     "name": "stdout",
     "output_type": "stream",
     "text": [
      "        sm_id                                      answer_string\n",
      "8175  16fhbsf  \\n  (1) relation: yes, related phrases: partne...\n",
      "8176  16fif1i  \\n  (1) relation: No, related phrases if any: ...\n",
      "8177  16fjnni  \\n  (1) relation: yes, related phrases: none\\n...\n",
      "8178  16fk8uw  \\n  (1) relation: yes, related phrases: \"bette...\n",
      "8179  16fljqc  \\n  (1) relation: No, related phrases if any: ...\n",
      "8180  16flm0n  \\n  (1) relation: no\\n  (2) protein: no\\n  (3)...\n",
      "8181  16flnw4  \\n  (1) relation: yes, related phrases: local ...\n",
      "8182  16fm2kp  \\n  (1) relation: No, related phrases if any: ...\n",
      "8183  16fmd5d  \\n  (1) relation: yes, related phrases: mentio...\n",
      "8184  16fmthw  \\n  (1) relation: Yes, the paragraph mentions ...\n"
     ]
    },
    {
     "name": "stderr",
     "output_type": "stream",
     "text": [
      "Setting `pad_token_id` to `eos_token_id`:None for open-end generation.\n",
      "Setting `pad_token_id` to `eos_token_id`:None for open-end generation.\n",
      "Setting `pad_token_id` to `eos_token_id`:None for open-end generation.\n",
      "Setting `pad_token_id` to `eos_token_id`:None for open-end generation.\n",
      "Setting `pad_token_id` to `eos_token_id`:None for open-end generation.\n",
      "Setting `pad_token_id` to `eos_token_id`:None for open-end generation.\n",
      "Setting `pad_token_id` to `eos_token_id`:None for open-end generation.\n",
      "Setting `pad_token_id` to `eos_token_id`:None for open-end generation.\n",
      "Setting `pad_token_id` to `eos_token_id`:None for open-end generation.\n",
      "Processing batch:   4%|▍         | 42/1000 [1:16:15<29:57:46, 112.60s/it]Setting `pad_token_id` to `eos_token_id`:None for open-end generation.\n"
     ]
    },
    {
     "name": "stdout",
     "output_type": "stream",
     "text": [
      "        sm_id                                      answer_string\n",
      "8185  16foe74  \\n  (1) relation: Yes, related phrases: \"i wit...\n",
      "8186  16fonv4  \\n  (1) relation: No, related phrases if any: ...\n",
      "8187  16foqyr  \\n  (1) relation: yes, related phrases: \"half ...\n",
      "8188  16fq4kg  \\n  (1) relation: Yes, related phrases: \"I hav...\n",
      "8189  16fq9ud  \\n  (1) relation: No, related phrases if any: ...\n",
      "8190  16fr35b  \\n  (1) relation: yes, related phrases: home, ...\n",
      "8191  16fr7yk  \\n  (1) relation: no\\n  (2) protein: no\\n  (3)...\n",
      "8192  16frb27  \\n  (1) relation: no, related phrases if any: ...\n",
      "8193  16fv20t  \\n  (1) relation: No related phrases.\\n  (2) p...\n",
      "8194  16fv5q1  \\n  (1) relation: No, related phrases if any: ...\n"
     ]
    },
    {
     "name": "stderr",
     "output_type": "stream",
     "text": [
      "Setting `pad_token_id` to `eos_token_id`:None for open-end generation.\n",
      "Setting `pad_token_id` to `eos_token_id`:None for open-end generation.\n",
      "Setting `pad_token_id` to `eos_token_id`:None for open-end generation.\n",
      "Setting `pad_token_id` to `eos_token_id`:None for open-end generation.\n",
      "Setting `pad_token_id` to `eos_token_id`:None for open-end generation.\n",
      "Setting `pad_token_id` to `eos_token_id`:None for open-end generation.\n",
      "Setting `pad_token_id` to `eos_token_id`:None for open-end generation.\n",
      "Setting `pad_token_id` to `eos_token_id`:None for open-end generation.\n",
      "Setting `pad_token_id` to `eos_token_id`:None for open-end generation.\n",
      "Processing batch:   4%|▍         | 43/1000 [1:17:56<29:00:23, 109.12s/it]Setting `pad_token_id` to `eos_token_id`:None for open-end generation.\n"
     ]
    },
    {
     "name": "stdout",
     "output_type": "stream",
     "text": [
      "        sm_id                                      answer_string\n",
      "8195  16fwwgr  \\n  (1) relation: No related phrases\\n  (2) pr...\n",
      "8196  16fy4ne  \\n  (1) relation: yes, related phrases: \"young...\n",
      "8197  16fyjds  \\n  (1) relation: yes, related phrases: \"eatin...\n",
      "8198  16fylxx  \\n  (1) relation: yes, related phrases: social...\n",
      "8199  16fzszk  \\n  (1) relation: yes, related phrases: commen...\n",
      "8200  16g0rst  \\n  (1) relation: yes, related phrases: coffee...\n",
      "8201  16g1bgv  \\n  (1) relation: yes, related phrases: \"grill...\n",
      "8202  16g2onr  \\n  (1) relation: No, related phrases if any: ...\n",
      "8203  16g3my6  \\n  (1) relation: yes, related phrases: bagel ...\n",
      "8204  16g4jxk  \\n  (1) relation: No related phrases.\\n  (2) p...\n"
     ]
    },
    {
     "name": "stderr",
     "output_type": "stream",
     "text": [
      "Setting `pad_token_id` to `eos_token_id`:None for open-end generation.\n",
      "Setting `pad_token_id` to `eos_token_id`:None for open-end generation.\n",
      "Setting `pad_token_id` to `eos_token_id`:None for open-end generation.\n",
      "Setting `pad_token_id` to `eos_token_id`:None for open-end generation.\n",
      "Setting `pad_token_id` to `eos_token_id`:None for open-end generation.\n",
      "Setting `pad_token_id` to `eos_token_id`:None for open-end generation.\n",
      "Setting `pad_token_id` to `eos_token_id`:None for open-end generation.\n",
      "Setting `pad_token_id` to `eos_token_id`:None for open-end generation.\n",
      "Setting `pad_token_id` to `eos_token_id`:None for open-end generation.\n",
      "Processing batch:   4%|▍         | 44/1000 [1:19:48<29:12:41, 110.00s/it]Setting `pad_token_id` to `eos_token_id`:None for open-end generation.\n"
     ]
    },
    {
     "name": "stdout",
     "output_type": "stream",
     "text": [
      "        sm_id                                      answer_string\n",
      "8205  16g511g  \\n  (1) relation: yes, related phrases: \"I spe...\n",
      "8206  16g66vn  \\n  (1) relation: No, related phrases if any: ...\n",
      "8207  16g6bf1  \\n  (1) relation: Yes, the paragraph discusses...\n",
      "8208  16g76f0  \\n  (1) relation: No, related phrases if any: ...\n",
      "8209  16g7ohh  \\n  (1) relation: No related phrases.\\n  (2) p...\n",
      "8210  16gakwb  \\n  (1) relation: No related phrases.\\n  (2) p...\n",
      "8211  16gaquo  \\n  (1) relation: No related phrases.\\n  (2) p...\n",
      "8212  16gaut6  \\n  (1) relation: No related phrases.\\n  (2) p...\n",
      "8213  16gbuzz  \\n  (1) relation: no\\n  (2) protein: no\\n  (3)...\n",
      "8214  16gcx4m  \\n  (1) relation: no\\n  (2) protein: no\\n  (3)...\n"
     ]
    },
    {
     "name": "stderr",
     "output_type": "stream",
     "text": [
      "Setting `pad_token_id` to `eos_token_id`:None for open-end generation.\n",
      "Setting `pad_token_id` to `eos_token_id`:None for open-end generation.\n",
      "Setting `pad_token_id` to `eos_token_id`:None for open-end generation.\n",
      "Setting `pad_token_id` to `eos_token_id`:None for open-end generation.\n",
      "Setting `pad_token_id` to `eos_token_id`:None for open-end generation.\n",
      "Setting `pad_token_id` to `eos_token_id`:None for open-end generation.\n",
      "Setting `pad_token_id` to `eos_token_id`:None for open-end generation.\n",
      "Setting `pad_token_id` to `eos_token_id`:None for open-end generation.\n",
      "Setting `pad_token_id` to `eos_token_id`:None for open-end generation.\n",
      "Processing batch:   4%|▍         | 45/1000 [1:21:25<28:06:30, 105.96s/it]Setting `pad_token_id` to `eos_token_id`:None for open-end generation.\n"
     ]
    },
    {
     "name": "stdout",
     "output_type": "stream",
     "text": [
      "        sm_id                                      answer_string\n",
      "8215  16gd5qq  \\n  (1) relation: yes, related phrases: husban...\n",
      "8216  16gdozz  \\n  (1) relation: No related phrases.\\n  (2) p...\n",
      "8217  16ge1jn  \\n  (1) relation: No related phrases.\\n  (2) p...\n",
      "8218  16gebvt  \\n  (1) relation: Not mentioned\\n  (2) protein...\n",
      "8219  16gej9p  \\n  (1) relation: yes, related phrases: body w...\n",
      "8220  16gelo5  \\n  (1) relation: No related phrases.\\n  (2) p...\n",
      "8221  16geyia  \\n  (1) relation: No related phrases.\\n  (2) p...\n",
      "8222  16gf3kw  \\n  (1) relation: No related phrases.\\n  (2) p...\n",
      "8223  16gftk3  \\n  (1) relation: yes, related phrases: person...\n",
      "8224  16gfxnr  \\n  (1) relation: No related phrases.\\n  (2) p...\n"
     ]
    },
    {
     "name": "stderr",
     "output_type": "stream",
     "text": [
      "Setting `pad_token_id` to `eos_token_id`:None for open-end generation.\n",
      "Setting `pad_token_id` to `eos_token_id`:None for open-end generation.\n",
      "Setting `pad_token_id` to `eos_token_id`:None for open-end generation.\n",
      "Setting `pad_token_id` to `eos_token_id`:None for open-end generation.\n",
      "Setting `pad_token_id` to `eos_token_id`:None for open-end generation.\n",
      "Setting `pad_token_id` to `eos_token_id`:None for open-end generation.\n",
      "Setting `pad_token_id` to `eos_token_id`:None for open-end generation.\n",
      "Setting `pad_token_id` to `eos_token_id`:None for open-end generation.\n",
      "Setting `pad_token_id` to `eos_token_id`:None for open-end generation.\n",
      "Processing batch:   5%|▍         | 46/1000 [1:23:20<28:49:29, 108.77s/it]Setting `pad_token_id` to `eos_token_id`:None for open-end generation.\n"
     ]
    },
    {
     "name": "stdout",
     "output_type": "stream",
     "text": [
      "        sm_id                                      answer_string\n",
      "8225  16gg7v0  \\n  (1) relation: yes, related phrases: cookin...\n",
      "8226  16ggcup  \\n  (1) relation: No, related phrases if any: ...\n",
      "8227  16ghd83  \\n  (1) relation: yes, related phrases: \"I hav...\n",
      "8228  16gim4s  \\n  (1) relation: No related phrases.\\n  (2) p...\n",
      "8229  16gisli  \\n  (1) relation: yes, related phrases: social...\n",
      "8230  16gje22  \\n  (1) relation: yes, related phrases: family...\n",
      "8231  16gkmz4  \\n  (1) relation: No related phrases.\\n  (2) p...\n",
      "8232  16gl1s1  \\n  (1) relation: yes, related phrases: meal p...\n",
      "8233  16glgab  \\n  (1) relation: yes, related phrases: baking...\n",
      "8234  16glpnx  \\n  (1) relation: Yes, related phrases: \"my fa...\n"
     ]
    },
    {
     "name": "stderr",
     "output_type": "stream",
     "text": [
      "Setting `pad_token_id` to `eos_token_id`:None for open-end generation.\n",
      "Setting `pad_token_id` to `eos_token_id`:None for open-end generation.\n",
      "Setting `pad_token_id` to `eos_token_id`:None for open-end generation.\n",
      "Setting `pad_token_id` to `eos_token_id`:None for open-end generation.\n",
      "Setting `pad_token_id` to `eos_token_id`:None for open-end generation.\n",
      "Setting `pad_token_id` to `eos_token_id`:None for open-end generation.\n",
      "Setting `pad_token_id` to `eos_token_id`:None for open-end generation.\n",
      "Setting `pad_token_id` to `eos_token_id`:None for open-end generation.\n",
      "Setting `pad_token_id` to `eos_token_id`:None for open-end generation.\n",
      "Processing batch:   5%|▍         | 47/1000 [1:25:25<30:03:46, 113.56s/it]Setting `pad_token_id` to `eos_token_id`:None for open-end generation.\n"
     ]
    },
    {
     "name": "stdout",
     "output_type": "stream",
     "text": [
      "        sm_id                                      answer_string\n",
      "8235  16gm7x4  \\n  (1) relation: yes, related phrases: 'beefy...\n",
      "8236  16gmdc1  \\n  (1) relation: No related phrases.\\n  (2) p...\n",
      "8237  16gmp2f  \\n  (1) relation: No related phrases.\\n  (2) p...\n",
      "8238  16go6n9  \\n  (1) relation: yes, related phrases: social...\n",
      "8239  16goaca  \\n  (1) relation: No, related phrases if any: ...\n",
      "8240  16gobj8  \\n  (1) relation: yes, related phrases: \"my mo...\n",
      "8241  16goq5k  \\n  (1) relation: No, related phrases if any: ...\n",
      "8242  16gqdqr  \\n  (1) relation: No, related phrases if any: ...\n",
      "8243  16gqrfv  \\n  (1) relation: No, related phrases if any: ...\n",
      "8244  16gr6tc  \\n  (1) relation: yes, related phrases: family...\n"
     ]
    },
    {
     "name": "stderr",
     "output_type": "stream",
     "text": [
      "Setting `pad_token_id` to `eos_token_id`:None for open-end generation.\n",
      "Setting `pad_token_id` to `eos_token_id`:None for open-end generation.\n",
      "Setting `pad_token_id` to `eos_token_id`:None for open-end generation.\n",
      "Setting `pad_token_id` to `eos_token_id`:None for open-end generation.\n",
      "Setting `pad_token_id` to `eos_token_id`:None for open-end generation.\n",
      "Setting `pad_token_id` to `eos_token_id`:None for open-end generation.\n",
      "Setting `pad_token_id` to `eos_token_id`:None for open-end generation.\n",
      "Setting `pad_token_id` to `eos_token_id`:None for open-end generation.\n",
      "Setting `pad_token_id` to `eos_token_id`:None for open-end generation.\n",
      "Processing batch:   5%|▍         | 48/1000 [1:27:17<29:53:55, 113.06s/it]Setting `pad_token_id` to `eos_token_id`:None for open-end generation.\n"
     ]
    },
    {
     "name": "stdout",
     "output_type": "stream",
     "text": [
      "        sm_id                                      answer_string\n",
      "8245  16gra2n  \\n  (1) relation: yes, related phrases: weight...\n",
      "8246  16gsxvt  \\n  (1) relation: Yes, related phrases: \"a sin...\n",
      "8247  16gt4c4  \\n  (1) relation: No, related phrases if any: ...\n",
      "8248  16gtiq4  \\n  (1) relation: yes, related phrases: family...\n",
      "8249  16gu89r  \\n  (1) relation: No, related phrases if any: ...\n",
      "8250  16gx2oq  \\n  (1) relation: No, related phrases if any: ...\n",
      "8251  16gx3p4  \\n  (1) relation: No, related phrases if any: ...\n",
      "8252  16gx4j3  \\n  (1) relation: no\\n  (2) protein: no\\n  (3)...\n",
      "8253  16gx4vf  \\n  (1) relation: yes, related phrases: antica...\n",
      "8254  16gx8e0  \\n  (1) relation: yes, related phrases: family...\n"
     ]
    },
    {
     "name": "stderr",
     "output_type": "stream",
     "text": [
      "Setting `pad_token_id` to `eos_token_id`:None for open-end generation.\n",
      "Setting `pad_token_id` to `eos_token_id`:None for open-end generation.\n",
      "Setting `pad_token_id` to `eos_token_id`:None for open-end generation.\n",
      "Setting `pad_token_id` to `eos_token_id`:None for open-end generation.\n",
      "Setting `pad_token_id` to `eos_token_id`:None for open-end generation.\n",
      "Setting `pad_token_id` to `eos_token_id`:None for open-end generation.\n",
      "Setting `pad_token_id` to `eos_token_id`:None for open-end generation.\n",
      "Setting `pad_token_id` to `eos_token_id`:None for open-end generation.\n",
      "Setting `pad_token_id` to `eos_token_id`:None for open-end generation.\n",
      "Processing batch:   5%|▍         | 49/1000 [1:29:07<29:35:22, 112.01s/it]Setting `pad_token_id` to `eos_token_id`:None for open-end generation.\n"
     ]
    },
    {
     "name": "stdout",
     "output_type": "stream",
     "text": [
      "        sm_id                                      answer_string\n",
      "8255  16gxab5  \\n  (1) relation: yes, related phrases: childr...\n",
      "8256  16gy4x9  \\n  (1) relation: No related phrases.\\n  (2) p...\n",
      "8257  16gyj52  \\n  (1) relation: yes, related phrases: meal p...\n",
      "8258  16gyn6p  \\n  (1) relation: No related phrases.\\n  (2) p...\n",
      "8259  16gyzy2  \\n  (1) relation: Yes, related phrases: buying...\n",
      "8260  16gz935  \\n  (1) relation: No, related phrases if any: ...\n",
      "8261  16h2o0l  \\n  (1) relation: no\\n  (2) protein: no\\n  (3)...\n",
      "8262  16h2yts  \\n  (1) relation: yes, related phrases: strugg...\n",
      "8263  16h4ep3  \\n  (1) relation: yes, related phrases: \"I am ...\n",
      "8264  16h4pc0  \\n  (1) relation: yes, related phrases: \"fluct...\n"
     ]
    },
    {
     "name": "stderr",
     "output_type": "stream",
     "text": [
      "Setting `pad_token_id` to `eos_token_id`:None for open-end generation.\n",
      "Setting `pad_token_id` to `eos_token_id`:None for open-end generation.\n",
      "Setting `pad_token_id` to `eos_token_id`:None for open-end generation.\n",
      "Setting `pad_token_id` to `eos_token_id`:None for open-end generation.\n",
      "Setting `pad_token_id` to `eos_token_id`:None for open-end generation.\n",
      "Setting `pad_token_id` to `eos_token_id`:None for open-end generation.\n",
      "Setting `pad_token_id` to `eos_token_id`:None for open-end generation.\n",
      "Setting `pad_token_id` to `eos_token_id`:None for open-end generation.\n",
      "Setting `pad_token_id` to `eos_token_id`:None for open-end generation.\n",
      "Processing batch:   5%|▌         | 50/1000 [1:31:04<29:57:22, 113.52s/it]Setting `pad_token_id` to `eos_token_id`:None for open-end generation.\n"
     ]
    },
    {
     "name": "stdout",
     "output_type": "stream",
     "text": [
      "        sm_id                                      answer_string\n",
      "8265  16h53gc  \\n  (1) relation: No related phrases.\\n  (2) p...\n",
      "8266  16h5lwu  \\n  (1) relation: yes, related phrases: \"ed re...\n",
      "8267  16h5sq5  \\n  (1) relation: No, related phrases if any: ...\n",
      "8268  16h5xl3  \\n  (1) relation: yes, related phrases: person...\n",
      "8269  16h63u6  \\n  (1) relation: yes, related phrases: \"i wor...\n",
      "8270  16h75lj  \\n  (1) relation: yes, related phrases: grandm...\n",
      "8271  16h8a4b  \\n  (1) relation: yes, related phrases: workou...\n",
      "8272  16h8pa5  \\n  (1) relation: No related phrases.\\n  (2) p...\n",
      "8273  16h8rm8  \\n  (1) relation: No related phrases\\n  (2) pr...\n",
      "8274  16h9b72  \\n  (1) relation: yes, related phrases: person...\n"
     ]
    },
    {
     "name": "stderr",
     "output_type": "stream",
     "text": [
      "Setting `pad_token_id` to `eos_token_id`:None for open-end generation.\n",
      "Setting `pad_token_id` to `eos_token_id`:None for open-end generation.\n",
      "Setting `pad_token_id` to `eos_token_id`:None for open-end generation.\n",
      "Setting `pad_token_id` to `eos_token_id`:None for open-end generation.\n",
      "Setting `pad_token_id` to `eos_token_id`:None for open-end generation.\n",
      "Setting `pad_token_id` to `eos_token_id`:None for open-end generation.\n",
      "Setting `pad_token_id` to `eos_token_id`:None for open-end generation.\n",
      "Setting `pad_token_id` to `eos_token_id`:None for open-end generation.\n",
      "Setting `pad_token_id` to `eos_token_id`:None for open-end generation.\n",
      "Processing batch:   5%|▌         | 51/1000 [1:32:44<28:53:05, 109.57s/it]Setting `pad_token_id` to `eos_token_id`:None for open-end generation.\n"
     ]
    },
    {
     "name": "stdout",
     "output_type": "stream",
     "text": [
      "        sm_id                                      answer_string\n",
      "8275  16h9iuj  \\n  (1) relation: yes, related phrases: none\\n...\n",
      "8276  16h9lyk  \\n  (1) relation: no\\n  (2) protein: no\\n  (3)...\n",
      "8277  16h9vqy  \\n  (1) relation: No, related phrases if any: ...\n",
      "8278  16haqha  \\n  (1) relation: No, related phrases if any: ...\n",
      "8279  16havsu  \\n  (1) relation: yes, related phrases: plussi...\n",
      "8280  16hbew8  \\n  (1) relation: yes, related phrases: \"every...\n",
      "8281  16hbgw4  \\n  (1) relation: Not mentioned.\\n  (2) protei...\n",
      "8282  16hc2t1  \\n  (1) relation: yes, related phrases: \"lost ...\n",
      "8283  16hcbx7  \\n  (1) relation: No related phrases.\\n  (2) p...\n",
      "8284  16hee2o  \\n  (1) relation: No related phrases.\\n  (2) p...\n"
     ]
    },
    {
     "name": "stderr",
     "output_type": "stream",
     "text": [
      "Setting `pad_token_id` to `eos_token_id`:None for open-end generation.\n",
      "Setting `pad_token_id` to `eos_token_id`:None for open-end generation.\n",
      "Setting `pad_token_id` to `eos_token_id`:None for open-end generation.\n",
      "Setting `pad_token_id` to `eos_token_id`:None for open-end generation.\n",
      "Setting `pad_token_id` to `eos_token_id`:None for open-end generation.\n",
      "Setting `pad_token_id` to `eos_token_id`:None for open-end generation.\n",
      "Setting `pad_token_id` to `eos_token_id`:None for open-end generation.\n",
      "Setting `pad_token_id` to `eos_token_id`:None for open-end generation.\n",
      "Setting `pad_token_id` to `eos_token_id`:None for open-end generation.\n",
      "Processing batch:   5%|▌         | 52/1000 [1:34:23<28:01:33, 106.43s/it]Setting `pad_token_id` to `eos_token_id`:None for open-end generation.\n"
     ]
    },
    {
     "name": "stdout",
     "output_type": "stream",
     "text": [
      "        sm_id                                      answer_string\n",
      "8285  16hfacz  \\n  (1) relation: no\\n  (2) protein: no\\n  (3)...\n",
      "8286  16hg9si  \\n  (1) relation: No, related phrases if any: ...\n",
      "8287  16hgaoo  \\n  (1) relation: yes, related phrases: single...\n",
      "8288  16hgb6t  \\n  (1) relation: no\\n  (2) protein: yes, rela...\n",
      "8289  16hhu1r  \\n  (1) relation: No related phrases\\n  (2) pr...\n",
      "8290  16hhyo9  \\n  (1) relation: No, related phrases if any: ...\n",
      "8291  16hi7y2  \\n  (1) relation: yes, related phrases: \"i use...\n",
      "8292  16hii56  \\n  (1) relation: No, related phrases if any: ...\n",
      "8293  16hiswl  \\n  (1) relation: no, related phrases if any: ...\n",
      "8294  16hix0x  \\n  (1) relation: no\\n  (2) protein: no\\n  (3)...\n"
     ]
    },
    {
     "name": "stderr",
     "output_type": "stream",
     "text": [
      "Setting `pad_token_id` to `eos_token_id`:None for open-end generation.\n",
      "Setting `pad_token_id` to `eos_token_id`:None for open-end generation.\n",
      "Setting `pad_token_id` to `eos_token_id`:None for open-end generation.\n",
      "Setting `pad_token_id` to `eos_token_id`:None for open-end generation.\n",
      "Setting `pad_token_id` to `eos_token_id`:None for open-end generation.\n",
      "Setting `pad_token_id` to `eos_token_id`:None for open-end generation.\n",
      "Setting `pad_token_id` to `eos_token_id`:None for open-end generation.\n",
      "Setting `pad_token_id` to `eos_token_id`:None for open-end generation.\n",
      "Setting `pad_token_id` to `eos_token_id`:None for open-end generation.\n",
      "Processing batch:   5%|▌         | 53/1000 [1:36:22<29:00:14, 110.26s/it]Setting `pad_token_id` to `eos_token_id`:None for open-end generation.\n"
     ]
    },
    {
     "name": "stdout",
     "output_type": "stream",
     "text": [
      "        sm_id                                      answer_string\n",
      "8295  16hj4nj  \\n  (1) relation: Yes, related phrases: \"narro...\n",
      "8296  16hjrhl  \\n  (1) relation: No related phrases.\\n  (2) p...\n",
      "8297  16hle3b  \\n  (1) relation: yes, related phrases: \"has a...\n",
      "8298  16hok63  \\n  (1) relation: Yes, the paragraph discusses...\n",
      "8299  16hos88  \\n  (1) relation: yes, related phrases: 'makin...\n",
      "8300  16hq5fd  \\n  (1) relation: No, related phrases if any: ...\n",
      "8301  16hqxbg  \\n  (1) relation: No, related phrases if any: ...\n",
      "8302  16hsjxj  \\n  (1) relation: No, related phrases if any: ...\n",
      "8303  16ht7lz  \\n  (1) relation: yes, related phrases: meal\\n...\n",
      "8304  16htgon  \\n  (1) relation: yes, related phrases: \"parti...\n"
     ]
    },
    {
     "name": "stderr",
     "output_type": "stream",
     "text": [
      "Setting `pad_token_id` to `eos_token_id`:None for open-end generation.\n",
      "Setting `pad_token_id` to `eos_token_id`:None for open-end generation.\n",
      "Setting `pad_token_id` to `eos_token_id`:None for open-end generation.\n",
      "Setting `pad_token_id` to `eos_token_id`:None for open-end generation.\n",
      "Setting `pad_token_id` to `eos_token_id`:None for open-end generation.\n",
      "Setting `pad_token_id` to `eos_token_id`:None for open-end generation.\n",
      "Setting `pad_token_id` to `eos_token_id`:None for open-end generation.\n",
      "Setting `pad_token_id` to `eos_token_id`:None for open-end generation.\n",
      "Setting `pad_token_id` to `eos_token_id`:None for open-end generation.\n",
      "Processing batch:   5%|▌         | 54/1000 [1:38:25<29:57:26, 114.00s/it]Setting `pad_token_id` to `eos_token_id`:None for open-end generation.\n"
     ]
    },
    {
     "name": "stdout",
     "output_type": "stream",
     "text": [
      "        sm_id                                      answer_string\n",
      "8305  16hu2ck  \\n  (1) relation: No related phrases.\\n  (2) p...\n",
      "8306  16hummf  \\n  (1) relation: No related phrases.\\n  (2) p...\n",
      "8307  16huvk8  \\n  (1) relation: yes, related phrases: \"train...\n",
      "8308  16hw8ba  \\n  (1) relation: No, related phrases if any: ...\n",
      "8309  16hwljd  \\n  (1) relation: No, related phrases if any: ...\n",
      "8310  16hwonh  \\n  (1) relation: No, related phrases if any: ...\n",
      "8311  16hwxn0  \\n  (1) relation: No related phrases.\\n  (2) p...\n",
      "8312  16hyvgd  \\n  (1) relation: No related phrases.\\n  (2) p...\n",
      "8313  16hz5ke  \\n  (1) relation: No, related phrases if any: ...\n",
      "8314  16hzgyw  \\n  (1) relation: Yes, the paragraph discusses...\n"
     ]
    },
    {
     "name": "stderr",
     "output_type": "stream",
     "text": [
      "Setting `pad_token_id` to `eos_token_id`:None for open-end generation.\n",
      "Setting `pad_token_id` to `eos_token_id`:None for open-end generation.\n",
      "Setting `pad_token_id` to `eos_token_id`:None for open-end generation.\n",
      "Setting `pad_token_id` to `eos_token_id`:None for open-end generation.\n",
      "Setting `pad_token_id` to `eos_token_id`:None for open-end generation.\n",
      "Setting `pad_token_id` to `eos_token_id`:None for open-end generation.\n",
      "Setting `pad_token_id` to `eos_token_id`:None for open-end generation.\n",
      "Setting `pad_token_id` to `eos_token_id`:None for open-end generation.\n",
      "Setting `pad_token_id` to `eos_token_id`:None for open-end generation.\n",
      "Processing batch:   6%|▌         | 55/1000 [1:40:04<28:44:28, 109.49s/it]Setting `pad_token_id` to `eos_token_id`:None for open-end generation.\n"
     ]
    },
    {
     "name": "stdout",
     "output_type": "stream",
     "text": [
      "        sm_id                                      answer_string\n",
      "8315  16hzh8h  \\n  (1) relation: No, related phrases if any: ...\n",
      "8316  16hzx2w  \\n  (1) relation: yes, related phrases: 'bough...\n",
      "8317  16i00yg  \\n  (1) relation: No related phrases.\\n  (2) p...\n",
      "8318  16i30rl  \\n  (1) relation: yes, related phrases: \"felt ...\n",
      "8319  16i3u1q  \\n  (1) relation: yes, related phrases: partne...\n",
      "8320  16i4gc6  \\n  (1) relation: No, related phrases if any: ...\n",
      "8321  16i4lc2  \\n  (1) relation: yes, related phrases: snacks...\n",
      "8322  16i5tqw  \\n  (1) relation: yes, related phrases: work s...\n",
      "8323  16i5u2b  \\n  (1) relation: No related phrases\\n  (2) pr...\n",
      "8324  16i5xmg  \\n  (1) relation: No related phrases.\\n  (2) p...\n"
     ]
    },
    {
     "name": "stderr",
     "output_type": "stream",
     "text": [
      "Setting `pad_token_id` to `eos_token_id`:None for open-end generation.\n",
      "Setting `pad_token_id` to `eos_token_id`:None for open-end generation.\n",
      "Setting `pad_token_id` to `eos_token_id`:None for open-end generation.\n",
      "Setting `pad_token_id` to `eos_token_id`:None for open-end generation.\n",
      "Setting `pad_token_id` to `eos_token_id`:None for open-end generation.\n",
      "Setting `pad_token_id` to `eos_token_id`:None for open-end generation.\n",
      "Setting `pad_token_id` to `eos_token_id`:None for open-end generation.\n",
      "Setting `pad_token_id` to `eos_token_id`:None for open-end generation.\n",
      "Setting `pad_token_id` to `eos_token_id`:None for open-end generation.\n",
      "Processing batch:   6%|▌         | 56/1000 [1:41:37<27:22:50, 104.42s/it]Setting `pad_token_id` to `eos_token_id`:None for open-end generation.\n"
     ]
    },
    {
     "name": "stdout",
     "output_type": "stream",
     "text": [
      "        sm_id                                      answer_string\n",
      "8325  16i61lv  \\n  (1) relation: yes, related phrases: trying...\n",
      "8326  16i6v08  \\n  (1) relation: No related phrases\\n  (2) pr...\n",
      "8327  16i7dwf  \\n  (1) relation: yes, related phrases: strugg...\n",
      "8328  16i89va  \\n  (1) relation: yes, related phrases: \"peopl...\n",
      "8329  16i8y6f  \\n  (1) relation: No, related phrases: none\\n ...\n",
      "8330  16i9zp1  \\n  (1) relation: yes, related phrases: family...\n",
      "8331  16ia9lo  \\n  (1) relation: yes, related phrases: family...\n",
      "8332  16ic81b  \\n  (1) relation: No related phrases.\\n  (2) p...\n",
      "8333  16icins  \\n  (1) relation: No, related phrases if any: ...\n",
      "8334  16idvxi  \\n  (1) relation: No, related phrases if any: ...\n"
     ]
    },
    {
     "name": "stderr",
     "output_type": "stream",
     "text": [
      "Setting `pad_token_id` to `eos_token_id`:None for open-end generation.\n",
      "Setting `pad_token_id` to `eos_token_id`:None for open-end generation.\n",
      "Setting `pad_token_id` to `eos_token_id`:None for open-end generation.\n",
      "Setting `pad_token_id` to `eos_token_id`:None for open-end generation.\n",
      "Setting `pad_token_id` to `eos_token_id`:None for open-end generation.\n",
      "Setting `pad_token_id` to `eos_token_id`:None for open-end generation.\n",
      "Setting `pad_token_id` to `eos_token_id`:None for open-end generation.\n",
      "Setting `pad_token_id` to `eos_token_id`:None for open-end generation.\n",
      "Setting `pad_token_id` to `eos_token_id`:None for open-end generation.\n",
      "Processing batch:   6%|▌         | 57/1000 [1:43:21<27:20:01, 104.35s/it]Setting `pad_token_id` to `eos_token_id`:None for open-end generation.\n"
     ]
    },
    {
     "name": "stdout",
     "output_type": "stream",
     "text": [
      "        sm_id                                      answer_string\n",
      "8335  16iecib  \\n  (1) relation: No related phrases.\\n  (2) p...\n",
      "8336  16ig4v8  \\n  (1) relation: No, related phrases if any: ...\n",
      "8337  16igm0h  \\n  (1) relation: yes, related phrases: \"the t...\n",
      "8338  16igzps  \\n  (1) relation: yes, related phrases: person...\n",
      "8339  16ihmu0  \\n  (1) relation: no\\n  (2) protein: no\\n  (3)...\n",
      "8340  16iic84  \\n  (1) relation: No, related phrases if any: ...\n",
      "8341  16iimiu  \\n  (1) relation: No, related phrases if any: ...\n",
      "8342  16ijlqm  \\n  (1) relation: No related phrases.\\n  (2) p...\n",
      "8343  16ikp14  \\n  (1) relation: No, related phrases if any: ...\n",
      "8344  16ilf2a  \\n  (1) relation: yes, related phrases: office...\n"
     ]
    },
    {
     "name": "stderr",
     "output_type": "stream",
     "text": [
      "Setting `pad_token_id` to `eos_token_id`:None for open-end generation.\n",
      "Setting `pad_token_id` to `eos_token_id`:None for open-end generation.\n",
      "Setting `pad_token_id` to `eos_token_id`:None for open-end generation.\n",
      "Setting `pad_token_id` to `eos_token_id`:None for open-end generation.\n",
      "Setting `pad_token_id` to `eos_token_id`:None for open-end generation.\n",
      "Setting `pad_token_id` to `eos_token_id`:None for open-end generation.\n",
      "Setting `pad_token_id` to `eos_token_id`:None for open-end generation.\n",
      "Setting `pad_token_id` to `eos_token_id`:None for open-end generation.\n",
      "Setting `pad_token_id` to `eos_token_id`:None for open-end generation.\n",
      "Processing batch:   6%|▌         | 58/1000 [1:45:15<28:06:35, 107.43s/it]Setting `pad_token_id` to `eos_token_id`:None for open-end generation.\n"
     ]
    },
    {
     "name": "stdout",
     "output_type": "stream",
     "text": [
      "        sm_id                                      answer_string\n",
      "8345  16ily1z  \\n  (1) relation: No, related phrases if any: ...\n",
      "8346  16imfqk  \\n  (1) relation: No, related phrases if any: ...\n",
      "8347  16imoq3  \\n  (1) relation: no\\n  (2) protein: yes, the ...\n",
      "8348  16imxic  \\n  (1) relation: No, the paragraph does not m...\n",
      "8349  16imzdf  \\n  (1) relation: No related phrases.\\n  (2) p...\n",
      "8350  16in119  \\n  (1) relation: yes, related phrases: husban...\n",
      "8351  16infl6  \\n  (1) relation: yes, related phrases: \"im no...\n",
      "8352  16inv62  \\n  (1) relation: yes, related phrases: meetin...\n",
      "8353  16ip8r6  \\n  (1) relation: No related phrases.\\n  (2) p...\n",
      "8354  16ipi56  \\n  (1) relation: Yes, related phrases: \"every...\n"
     ]
    },
    {
     "name": "stderr",
     "output_type": "stream",
     "text": [
      "Setting `pad_token_id` to `eos_token_id`:None for open-end generation.\n",
      "Setting `pad_token_id` to `eos_token_id`:None for open-end generation.\n",
      "Setting `pad_token_id` to `eos_token_id`:None for open-end generation.\n",
      "Setting `pad_token_id` to `eos_token_id`:None for open-end generation.\n",
      "Setting `pad_token_id` to `eos_token_id`:None for open-end generation.\n",
      "Setting `pad_token_id` to `eos_token_id`:None for open-end generation.\n",
      "Setting `pad_token_id` to `eos_token_id`:None for open-end generation.\n",
      "Setting `pad_token_id` to `eos_token_id`:None for open-end generation.\n",
      "Setting `pad_token_id` to `eos_token_id`:None for open-end generation.\n",
      "Processing batch:   6%|▌         | 59/1000 [1:47:10<28:36:54, 109.47s/it]Setting `pad_token_id` to `eos_token_id`:None for open-end generation.\n"
     ]
    },
    {
     "name": "stdout",
     "output_type": "stream",
     "text": [
      "        sm_id                                      answer_string\n",
      "8355  16iq97b  \\n  (1) relation: No, related phrases if any: ...\n",
      "8356  16iqlif  \\n  (1) relation: No related phrases\\n  (2) pr...\n",
      "8357  16iqteu  \\n  (1) relation: yes, related phrases: body f...\n",
      "8358  16iqwqc  \\n  (1) relation: No related phrases.\\n  (2) p...\n",
      "8359  16ir1xw  \\n  (1) relation: yes, related phrases: family...\n",
      "8360  16isa5l  \\n  (1) relation: No related phrases\\n  (2) pr...\n",
      "8361  16isj3p  \\n  (1) relation: No related phrases\\n  (2) pr...\n",
      "8362  16isp5b  \\n  (1) relation: yes, related phrases: cowork...\n",
      "8363  16itbo1  \\n  (1) relation: yes, related phrases: family...\n",
      "8364  16itdlt  \\n  (1) relation: yes, related phrases: meal p...\n"
     ]
    },
    {
     "name": "stderr",
     "output_type": "stream",
     "text": [
      "Setting `pad_token_id` to `eos_token_id`:None for open-end generation.\n",
      "Setting `pad_token_id` to `eos_token_id`:None for open-end generation.\n",
      "Setting `pad_token_id` to `eos_token_id`:None for open-end generation.\n",
      "Setting `pad_token_id` to `eos_token_id`:None for open-end generation.\n",
      "Setting `pad_token_id` to `eos_token_id`:None for open-end generation.\n",
      "Setting `pad_token_id` to `eos_token_id`:None for open-end generation.\n",
      "Setting `pad_token_id` to `eos_token_id`:None for open-end generation.\n",
      "Setting `pad_token_id` to `eos_token_id`:None for open-end generation.\n",
      "Setting `pad_token_id` to `eos_token_id`:None for open-end generation.\n",
      "Processing batch:   6%|▌         | 60/1000 [1:48:39<27:01:49, 103.52s/it]Setting `pad_token_id` to `eos_token_id`:None for open-end generation.\n"
     ]
    },
    {
     "name": "stdout",
     "output_type": "stream",
     "text": [
      "        sm_id                                      answer_string\n",
      "8365  16iuoqf  \\n  (1) relation: yes, related phrases: \"calle...\n",
      "8366  16ivns0  \\n  (1) relation: yes, related phrases: pregna...\n",
      "8367  16ivr91  \\n  (1) relation: yes, related phrases: health...\n",
      "8368  16ix3xm  \\n  (1) relation: No related phrases\\n  (2) pr...\n",
      "8369  16ixe56  \\n  (1) relation: No, related phrases: none\\n ...\n",
      "8370  16ixmdy  \\n  (1) relation: yes, related phrases: \"my un...\n",
      "8371  16ixwvl  \\n  (1) relation: yes, related phrases: servin...\n",
      "8372  16iy3lb  \\n  (1) relation: Not mentioned\\n  (2) protein...\n",
      "8373  16iya1k  \\n  (1) relation: yes, related phrases: emerge...\n",
      "8374  16izxkr  \\n  (1) relation: no\\n  (2) protein: no\\n  (3)...\n"
     ]
    },
    {
     "name": "stderr",
     "output_type": "stream",
     "text": [
      "Setting `pad_token_id` to `eos_token_id`:None for open-end generation.\n",
      "Setting `pad_token_id` to `eos_token_id`:None for open-end generation.\n",
      "Setting `pad_token_id` to `eos_token_id`:None for open-end generation.\n",
      "Setting `pad_token_id` to `eos_token_id`:None for open-end generation.\n",
      "Setting `pad_token_id` to `eos_token_id`:None for open-end generation.\n",
      "Setting `pad_token_id` to `eos_token_id`:None for open-end generation.\n",
      "Setting `pad_token_id` to `eos_token_id`:None for open-end generation.\n",
      "Setting `pad_token_id` to `eos_token_id`:None for open-end generation.\n",
      "Setting `pad_token_id` to `eos_token_id`:None for open-end generation.\n",
      "Processing batch:   6%|▌         | 61/1000 [1:50:16<26:30:41, 101.64s/it]Setting `pad_token_id` to `eos_token_id`:None for open-end generation.\n"
     ]
    },
    {
     "name": "stdout",
     "output_type": "stream",
     "text": [
      "        sm_id                                      answer_string\n",
      "8375  16j2e98  \\n  (1) relation: No related phrases.\\n  (2) p...\n",
      "8376  16j5swp  \\n  (1) relation: No related phrases.\\n  (2) p...\n",
      "8377  16j6iro  \\n  (1) relation: No related phrases.\\n  (2) p...\n",
      "8378  16j6u97  \\n  (1) relation: no\\n  (2) protein: no\\n  (3)...\n",
      "8379  16j7ec2  \\n  (1) relation: No, related phrases if any: ...\n",
      "8380  16j92x5  \\n  (1) relation: yes, related phrases: sharin...\n",
      "8381  16jaepb  \\n  (1) relation: yes, related phrases: \"I'm 5...\n",
      "8382  16jb5m0  \\n  (1) relation: No, related phrases if any: ...\n",
      "8383  16jb8p5  \\n  (1) relation: No related phrases.\\n  (2) p...\n",
      "8384  16jbhdk  \\n  (1) relation: yes, related phrases: \"meal ...\n"
     ]
    },
    {
     "name": "stderr",
     "output_type": "stream",
     "text": [
      "Setting `pad_token_id` to `eos_token_id`:None for open-end generation.\n",
      "Setting `pad_token_id` to `eos_token_id`:None for open-end generation.\n",
      "Setting `pad_token_id` to `eos_token_id`:None for open-end generation.\n",
      "Setting `pad_token_id` to `eos_token_id`:None for open-end generation.\n",
      "Setting `pad_token_id` to `eos_token_id`:None for open-end generation.\n",
      "Setting `pad_token_id` to `eos_token_id`:None for open-end generation.\n",
      "Setting `pad_token_id` to `eos_token_id`:None for open-end generation.\n",
      "Setting `pad_token_id` to `eos_token_id`:None for open-end generation.\n",
      "Setting `pad_token_id` to `eos_token_id`:None for open-end generation.\n",
      "Processing batch:   6%|▌         | 62/1000 [1:52:13<27:39:36, 106.16s/it]Setting `pad_token_id` to `eos_token_id`:None for open-end generation.\n"
     ]
    },
    {
     "name": "stdout",
     "output_type": "stream",
     "text": [
      "        sm_id                                      answer_string\n",
      "8385  16jchwv  \\n  (1) relation: Yes, the paragraph discusses...\n",
      "8386  16jdgnw  \\n  (1) relation: yes, related phrases: 'cut',...\n",
      "8387  16jg8ak  \\n  (1) relation: Not mentioned\\n  (2) protein...\n",
      "8388  16jiiq4  \\n  (1) relation: yes, related phrases: burrit...\n",
      "8389  16jiv6t  \\n  (1) relation: No, related phrases if any: ...\n",
      "8390  16jiypk  \\n  (1) relation: yes, related phrases: large ...\n",
      "8391  16jjezd  \\n  (1) relation: yes, related phrases: \"share...\n",
      "8392  16jjzwa  \\n  (1) relation: yes, related phrases: family...\n",
      "8393  16jk4fq  \\n  (1) relation: No, the paragraph does not m...\n",
      "8394  16jm6u9  \\n  (1) relation: yes, related phrases: 'strug...\n"
     ]
    },
    {
     "name": "stderr",
     "output_type": "stream",
     "text": [
      "Setting `pad_token_id` to `eos_token_id`:None for open-end generation.\n",
      "Setting `pad_token_id` to `eos_token_id`:None for open-end generation.\n",
      "Setting `pad_token_id` to `eos_token_id`:None for open-end generation.\n",
      "Setting `pad_token_id` to `eos_token_id`:None for open-end generation.\n",
      "Setting `pad_token_id` to `eos_token_id`:None for open-end generation.\n",
      "Setting `pad_token_id` to `eos_token_id`:None for open-end generation.\n",
      "Setting `pad_token_id` to `eos_token_id`:None for open-end generation.\n",
      "Setting `pad_token_id` to `eos_token_id`:None for open-end generation.\n",
      "Setting `pad_token_id` to `eos_token_id`:None for open-end generation.\n",
      "Processing batch:   6%|▋         | 63/1000 [1:53:58<27:31:57, 105.78s/it]Setting `pad_token_id` to `eos_token_id`:None for open-end generation.\n"
     ]
    },
    {
     "name": "stdout",
     "output_type": "stream",
     "text": [
      "        sm_id                                      answer_string\n",
      "8395  16jmf6f  \\n  (1) relation: No, related phrases if any: ...\n",
      "8396  16jmyac  \\n  (1) relation: yes, related phrases: \"Famil...\n",
      "8397  16jobqo  \\n  (1) relation: Not mentioned.\\n  (2) protei...\n",
      "8398  16joklr  \\n  (1) relation: yes, related phrases: home t...\n",
      "8399  16jq2sd  \\n  (1) relation: No, related phrases if any: ...\n",
      "8400  16jr5rt  \\n  (1) relation: yes, related phrases: person...\n",
      "8401  16jtn0v  \\n  (1) relation: no related phrases\\n  (2) pr...\n",
      "8402  16jtzlt  \\n  (1) relation: no\\n  (2) protein: yes, rela...\n",
      "8403  16jur6e  \\n  (1) relation: no\\n  (2) protein: no\\n  (3)...\n",
      "8404  16jv5p6  \\n  (1) relation: No related phrases.\\n  (2) p...\n"
     ]
    },
    {
     "name": "stderr",
     "output_type": "stream",
     "text": [
      "Setting `pad_token_id` to `eos_token_id`:None for open-end generation.\n",
      "Setting `pad_token_id` to `eos_token_id`:None for open-end generation.\n",
      "Setting `pad_token_id` to `eos_token_id`:None for open-end generation.\n",
      "Setting `pad_token_id` to `eos_token_id`:None for open-end generation.\n",
      "Setting `pad_token_id` to `eos_token_id`:None for open-end generation.\n",
      "Setting `pad_token_id` to `eos_token_id`:None for open-end generation.\n",
      "Setting `pad_token_id` to `eos_token_id`:None for open-end generation.\n",
      "Setting `pad_token_id` to `eos_token_id`:None for open-end generation.\n",
      "Setting `pad_token_id` to `eos_token_id`:None for open-end generation.\n",
      "Processing batch:   6%|▋         | 64/1000 [1:55:46<27:40:19, 106.43s/it]Setting `pad_token_id` to `eos_token_id`:None for open-end generation.\n"
     ]
    },
    {
     "name": "stdout",
     "output_type": "stream",
     "text": [
      "        sm_id                                      answer_string\n",
      "8405  16jvaom  \\n  (1) relation: No, related phrases if any: ...\n",
      "8406  16jvbfi  \\n  (1) relation: No, the paragraph does not m...\n",
      "8407  16jvtdf  \\n  (1) relation: No, related phrases if any: ...\n",
      "8408  16jx8e5  \\n  (1) relation: yes, related phrases: native...\n",
      "8409  16jxadd  \\n  (1) relation: yes, related phrases: \"losin...\n",
      "8410  16jxujf  \\n  (1) relation: yes, related phrases: diet\\n...\n",
      "8411  16jzmyo  \\n  (1) relation: yes, related phrases: recipe...\n",
      "8412  16k06yl  \\n  (1) relation: No related phrases.\\n  (2) p...\n",
      "8413  16k28je  \\n  (1) relation: no\\n  (2) protein: no\\n  (3)...\n",
      "8414  16k2sxk  \\n  (1) relation: yes, related phrases: husban...\n"
     ]
    },
    {
     "name": "stderr",
     "output_type": "stream",
     "text": [
      "Setting `pad_token_id` to `eos_token_id`:None for open-end generation.\n",
      "Setting `pad_token_id` to `eos_token_id`:None for open-end generation.\n",
      "Setting `pad_token_id` to `eos_token_id`:None for open-end generation.\n",
      "Setting `pad_token_id` to `eos_token_id`:None for open-end generation.\n",
      "Setting `pad_token_id` to `eos_token_id`:None for open-end generation.\n",
      "Setting `pad_token_id` to `eos_token_id`:None for open-end generation.\n",
      "Setting `pad_token_id` to `eos_token_id`:None for open-end generation.\n",
      "Setting `pad_token_id` to `eos_token_id`:None for open-end generation.\n",
      "Setting `pad_token_id` to `eos_token_id`:None for open-end generation.\n",
      "Processing batch:   6%|▋         | 65/1000 [1:57:29<27:23:49, 105.49s/it]Setting `pad_token_id` to `eos_token_id`:None for open-end generation.\n"
     ]
    },
    {
     "name": "stdout",
     "output_type": "stream",
     "text": [
      "        sm_id                                      answer_string\n",
      "8415  16k4euw  \\n  (1) relation: no, related phrases if any: ...\n",
      "8416  16k4kxj  \\n  (1) relation: yes, related phrases: wife\\n...\n",
      "8417  16k4mly  \\n  (1) relation: No, related phrases if any: ...\n",
      "8418  16k7jkq  \\n  (1) relation: yes, related phrases: wife, ...\n",
      "8419  16k83q3  \\n  (1) relation: yes, related phrases: family...\n",
      "8420  16k9fvr  \\n  (1) relation: yes, related phrases: lookin...\n",
      "8421  16kc5q7  \\n  (1) relation: No related phrases.\\n  (2) p...\n",
      "8422  16kcth9  \\n  (1) relation: No related phrases.\\n  (2) p...\n",
      "8423  16kdidr  \\n  (1) relation: yes, related phrases: body r...\n",
      "8424  16keffw  \\n  (1) relation: Not mentioned\\n  (2) protein...\n"
     ]
    },
    {
     "name": "stderr",
     "output_type": "stream",
     "text": [
      "Setting `pad_token_id` to `eos_token_id`:None for open-end generation.\n",
      "Setting `pad_token_id` to `eos_token_id`:None for open-end generation.\n",
      "Setting `pad_token_id` to `eos_token_id`:None for open-end generation.\n"
     ]
    }
   ],
   "source": [
    "from tqdm import tqdm\n",
    "\n",
    "for k in tqdm(range(1000), desc=\"Processing batch\"):\n",
    "    \n",
    "    batch_size = 10\n",
    "\n",
    "    # Filter for rows where 'answer_string' is NaN\n",
    "    unanswered_df = answer_df[answer_df['answer_string'].isna()]\n",
    "\n",
    "    # Get the indices of these NaN entries in the original DataFrame\n",
    "    indices_to_update = unanswered_df.index[:batch_size]\n",
    "\n",
    "    # Prepare prompt content for the first 10 entries with NaN answer_string\n",
    "    user_messages = [format_user_message(text) for text in unanswered_df['text_w_eos'].iloc[:batch_size]]\n",
    "\n",
    "    # Save the indices list if needed for later use\n",
    "    indices_to_update_list = list(indices_to_update)\n",
    "\n",
    "\n",
    "    if len(indices_to_update_list)>0:\n",
    "        for i in range(len(user_messages)):\n",
    "            failed = True\n",
    "            failed_count = 0\n",
    "            while failed and failed_count<10:\n",
    "                conversation = [\n",
    "                    {\"role\": \"system\", \"content\": system_message},\n",
    "                    {\"role\": \"user\", \"content\": user_messages[i]}\n",
    "                ]\n",
    "                inputs = tokenizer.apply_chat_template(\n",
    "                        conversation,\n",
    "                        # tools=tools,\n",
    "                        add_generation_prompt=False,\n",
    "                        return_dict=True,\n",
    "                        return_tensors=\"pt\")\n",
    "                inputs.to(model.device)\n",
    "                outputs = model.generate(**inputs,\n",
    "                                         do_sample=True,\n",
    "                                         max_new_tokens=512,\n",
    "                                         temperature=0.1)\n",
    "                response = tokenizer.decode(outputs[0], skip_special_tokens=True)\n",
    "                del inputs\n",
    "                if \"Answer starts here:\" in response:\n",
    "                    answer = response.split(\"Answer starts here:\")[-1]\n",
    "                    # Use the original index from indices_to_update_list\n",
    "                    answer_df.loc[indices_to_update_list[i], 'answer_string'] = answer\n",
    "                    # print(answer)\n",
    "                    failed = False\n",
    "                else:\n",
    "                    failed = True\n",
    "                    failed_count += 1\n",
    "                    # Use the original index from indices_to_update_list\n",
    "                    answer_df.loc[indices_to_update_list[i], 'answer_string'] = \"Answer not found\"\n",
    "\n",
    "        print(answer_df.loc[indices_to_update_list, ['sm_id','answer_string']])\n",
    "        answer_df.to_csv(answer_df_path, index=False)\n",
    "    else:\n",
    "         break\n",
    "    "
   ]
  },
  {
   "cell_type": "code",
   "execution_count": null,
   "id": "c34218bf-4d61-4a11-86af-b37b3530808a",
   "metadata": {},
   "outputs": [],
   "source": []
  }
 ],
 "metadata": {
  "kernelspec": {
   "display_name": "Python 3 (ipykernel)",
   "language": "python",
   "name": "python3"
  },
  "language_info": {
   "codemirror_mode": {
    "name": "ipython",
    "version": 3
   },
   "file_extension": ".py",
   "mimetype": "text/x-python",
   "name": "python",
   "nbconvert_exporter": "python",
   "pygments_lexer": "ipython3",
   "version": "3.11.4"
  }
 },
 "nbformat": 4,
 "nbformat_minor": 5
}
