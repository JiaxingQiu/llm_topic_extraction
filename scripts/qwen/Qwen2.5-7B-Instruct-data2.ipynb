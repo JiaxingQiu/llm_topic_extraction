{
 "cells": [
  {
   "cell_type": "code",
   "execution_count": 1,
   "id": "6179aa83-a654-462b-93f4-014d34a15504",
   "metadata": {
    "tags": []
   },
   "outputs": [],
   "source": [
    "# from transformers import AutoModelForCausalLM, AutoTokenizer\n",
    "\n",
    "# model_name = \"Qwen/Qwen2.5-7B-Instruct\"\n",
    "\n",
    "# model = AutoModelForCausalLM.from_pretrained(\n",
    "#     model_name,\n",
    "#     torch_dtype=\"auto\",\n",
    "#     device_map=\"auto\"\n",
    "# )\n",
    "# tokenizer = AutoTokenizer.from_pretrained(model_name)\n",
    "\n",
    "# prompt = \"Give me a short introduction to large language model.\"\n",
    "# messages = [\n",
    "#     {\"role\": \"system\", \"content\": \"You are Qwen, created by Alibaba Cloud. You are a helpful assistant.\"},\n",
    "#     {\"role\": \"user\", \"content\": prompt}\n",
    "# ]\n",
    "# text = tokenizer.apply_chat_template(\n",
    "#     messages,\n",
    "#     tokenize=False,\n",
    "#     add_generation_prompt=True\n",
    "# )\n",
    "# model_inputs = tokenizer([text], return_tensors=\"pt\").to(model.device)\n",
    "\n",
    "# generated_ids = model.generate(\n",
    "#     **model_inputs,\n",
    "#     max_new_tokens=512\n",
    "# )\n",
    "# generated_ids = [\n",
    "#     output_ids[len(input_ids):] for input_ids, output_ids in zip(model_inputs.input_ids, generated_ids)\n",
    "# ]\n",
    "\n",
    "# response = tokenizer.batch_decode(generated_ids, skip_special_tokens=True)[0]\n"
   ]
  },
  {
   "cell_type": "code",
   "execution_count": 7,
   "id": "f7cfd211-cbb5-4494-b91d-cdbc9a6e5b5f",
   "metadata": {
    "tags": []
   },
   "outputs": [],
   "source": [
    "# import pandas as pd\n",
    "# answer_df = pd.read_csv(\"../../data2/answer_df_qwen.csv\")\n",
    "# answer_df.iloc[0:700].to_csv(\"../../data2/answer_df_qwen1.csv\", index=False)\n",
    "# answer_df.iloc[700:].to_csv(\"../../data2/answer_df_qwen2.csv\", index=False)"
   ]
  },
  {
   "cell_type": "code",
   "execution_count": 1,
   "id": "94d0ea23-772a-4b9b-b908-ed6b4fc352c0",
   "metadata": {
    "tags": []
   },
   "outputs": [],
   "source": [
    "piece_id = 1\n",
    "answer_df_path = \"../../data2/answer_df_qwen\"+str(piece_id)+\".csv\""
   ]
  },
  {
   "cell_type": "code",
   "execution_count": 2,
   "id": "973c4a0a-6f6b-4bf3-bcac-93a277849336",
   "metadata": {
    "tags": []
   },
   "outputs": [
    {
     "name": "stdout",
     "output_type": "stream",
     "text": [
      "(700, 3)\n"
     ]
    },
    {
     "data": {
      "text/html": [
       "<div>\n",
       "<style scoped>\n",
       "    .dataframe tbody tr th:only-of-type {\n",
       "        vertical-align: middle;\n",
       "    }\n",
       "\n",
       "    .dataframe tbody tr th {\n",
       "        vertical-align: top;\n",
       "    }\n",
       "\n",
       "    .dataframe thead th {\n",
       "        text-align: right;\n",
       "    }\n",
       "</style>\n",
       "<table border=\"1\" class=\"dataframe\">\n",
       "  <thead>\n",
       "    <tr style=\"text-align: right;\">\n",
       "      <th></th>\n",
       "      <th>fea</th>\n",
       "      <th>description</th>\n",
       "    </tr>\n",
       "  </thead>\n",
       "  <tbody>\n",
       "    <tr>\n",
       "      <th>0</th>\n",
       "      <td>weightbasedhealth</td>\n",
       "      <td>Judgments about health based on weight or appe...</td>\n",
       "    </tr>\n",
       "    <tr>\n",
       "      <th>1</th>\n",
       "      <td>weightstigma</td>\n",
       "      <td>Negative attitudes, discrimination, or prejudi...</td>\n",
       "    </tr>\n",
       "    <tr>\n",
       "      <th>2</th>\n",
       "      <td>weightbasedhealthcare</td>\n",
       "      <td>Healthcare decisions influenced by weight. Not...</td>\n",
       "    </tr>\n",
       "    <tr>\n",
       "      <th>3</th>\n",
       "      <td>encourageweightloss</td>\n",
       "      <td>Encouragement of weight loss</td>\n",
       "    </tr>\n",
       "    <tr>\n",
       "      <th>4</th>\n",
       "      <td>dietpromotion</td>\n",
       "      <td>Advocacy for diets or restrictive eating</td>\n",
       "    </tr>\n",
       "    <tr>\n",
       "      <th>5</th>\n",
       "      <td>thinness</td>\n",
       "      <td>Reassurance of thinness. Maintaining thinness</td>\n",
       "    </tr>\n",
       "    <tr>\n",
       "      <th>6</th>\n",
       "      <td>notlowweightenough</td>\n",
       "      <td>Not sick enough, or not thin enought, or not l...</td>\n",
       "    </tr>\n",
       "    <tr>\n",
       "      <th>7</th>\n",
       "      <td>weightblame</td>\n",
       "      <td>Weight blamed for health issues or concerns</td>\n",
       "    </tr>\n",
       "    <tr>\n",
       "      <th>8</th>\n",
       "      <td>weightvalue</td>\n",
       "      <td>Weight tied to personality characteristics</td>\n",
       "    </tr>\n",
       "  </tbody>\n",
       "</table>\n",
       "</div>"
      ],
      "text/plain": [
       "                     fea                                        description\n",
       "0      weightbasedhealth  Judgments about health based on weight or appe...\n",
       "1           weightstigma  Negative attitudes, discrimination, or prejudi...\n",
       "2  weightbasedhealthcare  Healthcare decisions influenced by weight. Not...\n",
       "3    encourageweightloss                       Encouragement of weight loss\n",
       "4          dietpromotion           Advocacy for diets or restrictive eating\n",
       "5               thinness      Reassurance of thinness. Maintaining thinness\n",
       "6     notlowweightenough  Not sick enough, or not thin enought, or not l...\n",
       "7            weightblame        Weight blamed for health issues or concerns\n",
       "8            weightvalue         Weight tied to personality characteristics"
      ]
     },
     "execution_count": 2,
     "metadata": {},
     "output_type": "execute_result"
    }
   ],
   "source": [
    "import pandas as pd\n",
    "import numpy as np\n",
    "answer_df = pd.read_csv(answer_df_path)\n",
    "query_df = pd.read_csv(\"../../data2/fea_df.csv\")\n",
    "\n",
    "if not 'answer_string' in answer_df.columns:\n",
    "    answer_df['answer_string'] = np.nan\n",
    "    \n",
    "print(answer_df.shape)\n",
    "query_df"
   ]
  },
  {
   "cell_type": "code",
   "execution_count": 3,
   "id": "5a955e79-49c2-40a3-8de3-c47063f05b73",
   "metadata": {
    "tags": []
   },
   "outputs": [
    {
     "name": "stdout",
     "output_type": "stream",
     "text": [
      "True\n"
     ]
    },
    {
     "data": {
      "application/vnd.jupyter.widget-view+json": {
       "model_id": "d3be2b565d544cca9cf7a222b31ffe42",
       "version_major": 2,
       "version_minor": 0
      },
      "text/plain": [
       "Loading checkpoint shards:   0%|          | 0/4 [00:00<?, ?it/s]"
      ]
     },
     "metadata": {},
     "output_type": "display_data"
    }
   ],
   "source": [
    "import torch\n",
    "from transformers import AutoModelForCausalLM, AutoTokenizer\n",
    "\n",
    "\n",
    "print(torch.cuda.is_available())\n",
    "if torch.cuda.is_available():\n",
    "    torch.cuda.empty_cache()\n",
    "device = 0 if torch.cuda.is_available() else -1  # Use GPU if available, otherwise fallback to CPU\n",
    "\n",
    "model_name = \"Qwen/Qwen2.5-7B-Instruct\"\n",
    "\n",
    "model = AutoModelForCausalLM.from_pretrained(\n",
    "    model_name,\n",
    "    torch_dtype=torch.float16, #torch_dtype=\"auto\",\n",
    "    device_map=\"auto\" if device == 0 else None,  # Automatically distribute across devices or use CPU\n",
    ")\n",
    "tokenizer = AutoTokenizer.from_pretrained(model_name)\n"
   ]
  },
  {
   "cell_type": "code",
   "execution_count": 4,
   "id": "1001c299-b4c8-4db3-9b3b-580ebb07c202",
   "metadata": {
    "tags": []
   },
   "outputs": [],
   "source": [
    "system_message = \"\"\"\n",
    "You are an AI assistant designed to answer questions.\n",
    "Use the exact answer format asked.\n",
    "\"\"\"\n",
    "\n",
    "def format_user_message(text):\n",
    "    question_content = \"The provided parapraph is eating disorders patients' experiences with physicians. Weight stigma is indicated by weight-or-appearance-related treatment or judgement in this context. Does the paragraph mention any of the following topics:\\n\"\n",
    "    for i in range(len(query_df)):\n",
    "        question_content += f\"  ({i+1}) {query_df.fea[i]}: {query_df.description[i]}.\\n\"\n",
    "    answer_content = \"Return answer in format:\\n\"\n",
    "    for i in range(len(query_df)): \n",
    "        answer_content += f\"  ({i+1}) {query_df.fea[i]}: [yes/no], related phrases if any: \\n\"\n",
    "    paragragh_content = f\"Paragraph: '{text}' \\n\"\n",
    "    user_message = question_content + paragragh_content + answer_content\n",
    "    #print(user_message)\n",
    "    \n",
    "    return user_message\n",
    "\n",
    "\n"
   ]
  },
  {
   "cell_type": "code",
   "execution_count": 5,
   "id": "122355be-ec3a-44e8-bfdb-c99f24f7cd1f",
   "metadata": {
    "scrolled": true,
    "tags": []
   },
   "outputs": [
    {
     "name": "stderr",
     "output_type": "stream",
     "text": [
      "Processing batch:   0%|          | 1/1000 [01:03<17:36:30, 63.45s/it]"
     ]
    },
    {
     "name": "stdout",
     "output_type": "stream",
     "text": [
      "   sm_id                                      answer_string\n",
      "0   1690  (1) weightbasedhealth: no, related phrases if ...\n",
      "1    724  (1) weightbasedhealth: no, related phrases if ...\n",
      "2   2800  (1) weightbasedhealth: no, related phrases if ...\n",
      "3   1771  (1) weightbasedhealth: no, related phrases if ...\n",
      "4   1975  (1) weightbasedhealth: no, related phrases if ...\n",
      "5    126  (1) weightbasedhealth: no, related phrases if ...\n",
      "6   1511  (1) weightbasedhealth: no, related phrases if ...\n",
      "7   4091  (1) weightbasedhealth: no, related phrases if ...\n",
      "8    371  (1) weightbasedhealth: no, related phrases if ...\n",
      "9   4313  (1) weightbasedhealth: no, related phrases if ...\n"
     ]
    },
    {
     "name": "stderr",
     "output_type": "stream",
     "text": [
      "Processing batch:   0%|          | 2/1000 [02:01<16:38:41, 60.04s/it]"
     ]
    },
    {
     "name": "stdout",
     "output_type": "stream",
     "text": [
      "    sm_id                                      answer_string\n",
      "10    430  (1) weightbasedhealth: no, related phrases if ...\n",
      "11     70  (1) weightbasedhealth: no, related phrases if ...\n",
      "12   2225  (1) weightbasedhealth: no, related phrases if ...\n",
      "13    578  (1) weightbasedhealth: no, related phrases if ...\n",
      "14    913  (1) weightbasedhealth: no, related phrases if ...\n",
      "15   2367  (1) weightbasedhealth: no, related phrases if ...\n",
      "16   4577  (1) weightbasedhealth: no, related phrases if ...\n",
      "17   2536  (1) weightbasedhealth: no, related phrases if ...\n",
      "18   1085  (1) weightbasedhealth: no, related phrases if ...\n",
      "19   3916  (1) weightbasedhealth: no, related phrases if ...\n"
     ]
    },
    {
     "name": "stderr",
     "output_type": "stream",
     "text": [
      "Processing batch:   0%|          | 3/1000 [02:57<16:10:21, 58.40s/it]"
     ]
    },
    {
     "name": "stdout",
     "output_type": "stream",
     "text": [
      "    sm_id                                      answer_string\n",
      "20   4197  (1) weightbasedhealth: no, related phrases if ...\n",
      "21   3364  (1) weightbasedhealth: no, related phrases if ...\n",
      "22   4698  (1) weightbasedhealth: no, related phrases if ...\n",
      "23   4666  (1) weightbasedhealth: no, related phrases if ...\n",
      "24   1612  (1) weightbasedhealth: no, related phrases if ...\n",
      "25   4747  (1) weightbasedhealth: no, related phrases if ...\n",
      "26   3797  (1) weightbasedhealth: no, related phrases if ...\n",
      "27   2738  (1) weightbasedhealth: no, related phrases if ...\n",
      "28   2943  (1) weightbasedhealth: no, related phrases if ...\n",
      "29   3810  (1) weightbasedhealth: no, related phrases if ...\n"
     ]
    },
    {
     "name": "stderr",
     "output_type": "stream",
     "text": [
      "Processing batch:   0%|          | 4/1000 [03:54<15:58:48, 57.76s/it]"
     ]
    },
    {
     "name": "stdout",
     "output_type": "stream",
     "text": [
      "    sm_id                                      answer_string\n",
      "30   4073  (1) weightbasedhealth: no, related phrases if ...\n",
      "31   1532  (1) weightbasedhealth: no, related phrases if ...\n",
      "32   3399  (1) weightbasedhealth: no, related phrases if ...\n",
      "33   1020  (1) weightbasedhealth: no, related phrases if ...\n",
      "34    778  (1) weightbasedhealth: no, related phrases if ...\n",
      "35    309  (1) weightbasedhealth: no, related phrases if ...\n",
      "36   2252  (1) weightbasedhealth: no, related phrases if ...\n",
      "37   1461  (1) weightbasedhealth: no, related phrases if ...\n",
      "38   3697  (1) weightbasedhealth: no, related phrases if ...\n",
      "39   2138  (1) weightbasedhealth: no, related phrases if ...\n"
     ]
    },
    {
     "name": "stderr",
     "output_type": "stream",
     "text": [
      "Processing batch:   0%|          | 5/1000 [04:51<15:52:16, 57.42s/it]"
     ]
    },
    {
     "name": "stdout",
     "output_type": "stream",
     "text": [
      "    sm_id                                      answer_string\n",
      "40   1217  (1) weightbasedhealth: no, related phrases if ...\n",
      "41   4863  (1) weightbasedhealth: no, related phrases if ...\n",
      "42    257  (1) weightbasedhealth: no, related phrases if ...\n",
      "43   3008  (1) weightbasedhealth: no, related phrases if ...\n",
      "44   3181  (1) weightbasedhealth: no, related phrases if ...\n",
      "45   3028  (1) weightbasedhealth: no, related phrases if ...\n",
      "46   1449  (1) weightbasedhealth: no, related phrases if ...\n",
      "47   4183  (1) weightbasedhealth: no, related phrases if ...\n",
      "48    269  (1) weightbasedhealth: no, related phrases if ...\n",
      "49    240  (1) weightbasedhealth: no, related phrases if ...\n"
     ]
    },
    {
     "name": "stderr",
     "output_type": "stream",
     "text": [
      "Processing batch:   1%|          | 6/1000 [05:46<15:39:51, 56.73s/it]"
     ]
    },
    {
     "name": "stdout",
     "output_type": "stream",
     "text": [
      "    sm_id                                      answer_string\n",
      "50   2650  (1) weightbasedhealth: no, related phrases if ...\n",
      "51   2569  (1) weightbasedhealth: no, related phrases if ...\n",
      "52    629  (1) weightbasedhealth: no, related phrases if ...\n",
      "53    233  (1) weightbasedhealth: no, related phrases if ...\n",
      "54   1443  (1) weightbasedhealth: no, related phrases if ...\n",
      "55    684  (1) weightbasedhealth: no, related phrases if ...\n",
      "56   3905  (1) weightbasedhealth: no, related phrases if ...\n",
      "57   2844  (1) weightbasedhealth: no, related phrases if ...\n",
      "58   1170  (1) weightbasedhealth: no, related phrases if ...\n",
      "59   4836  (1) weightbasedhealth: no, related phrases if ...\n"
     ]
    },
    {
     "name": "stderr",
     "output_type": "stream",
     "text": [
      "Processing batch:   1%|          | 7/1000 [06:43<15:38:10, 56.69s/it]"
     ]
    },
    {
     "name": "stdout",
     "output_type": "stream",
     "text": [
      "    sm_id                                      answer_string\n",
      "60   3026  (1) weightbasedhealth: no, related phrases if ...\n",
      "61     69  (1) weightbasedhealth: no, related phrases if ...\n",
      "62    965  (1) weightbasedhealth: no, related phrases if ...\n",
      "63    516  (1) weightbasedhealth: no, related phrases if ...\n",
      "64    867  (1) weightbasedhealth: no, related phrases if ...\n",
      "65    334  (1) weightbasedhealth: no, related phrases if ...\n",
      "66   3042  (1) weightbasedhealth: no, related phrases if ...\n",
      "67   3889  (1) weightbasedhealth: no, related phrases if ...\n",
      "68   1055  (1) weightbasedhealth: no, related phrases if ...\n",
      "69   3291  (1) weightbasedhealth: no, related phrases if ...\n"
     ]
    },
    {
     "name": "stderr",
     "output_type": "stream",
     "text": [
      "Processing batch:   1%|          | 8/1000 [07:39<15:35:51, 56.60s/it]"
     ]
    },
    {
     "name": "stdout",
     "output_type": "stream",
     "text": [
      "    sm_id                                      answer_string\n",
      "70    249  (1) weightbasedhealth: no, related phrases if ...\n",
      "71   1681  (1) weightbasedhealth: no, related phrases if ...\n",
      "72   3137  (1) weightbasedhealth: no, related phrases if ...\n",
      "73    160  (1) weightbasedhealth: no, related phrases if ...\n",
      "74   4851  (1) weightbasedhealth: no, related phrases if ...\n",
      "75   3017  (1) weightbasedhealth: no, related phrases if ...\n",
      "76    125  (1) weightbasedhealth: no, related phrases if ...\n",
      "77   3965  (1) weightbasedhealth: no, related phrases if ...\n",
      "78   3800  (1) weightbasedhealth: no, related phrases if ...\n",
      "79   2049  (1) weightbasedhealth: no, related phrases if ...\n"
     ]
    },
    {
     "name": "stderr",
     "output_type": "stream",
     "text": [
      "Processing batch:   1%|          | 9/1000 [08:34<15:25:44, 56.05s/it]"
     ]
    },
    {
     "name": "stdout",
     "output_type": "stream",
     "text": [
      "    sm_id                                      answer_string\n",
      "80   3593  (1) weightbasedhealth: no, related phrases if ...\n",
      "81   3958  (1) weightbasedhealth: no, related phrases if ...\n",
      "82   3215  (1) weightbasedhealth: no, related phrases if ...\n",
      "83   1553  (1) weightbasedhealth: no, related phrases if ...\n",
      "84   1622  (1) weightbasedhealth: no, related phrases if ...\n",
      "85   1407  (1) weightbasedhealth: no, related phrases if ...\n",
      "86    782  (1) weightbasedhealth: no, related phrases if ...\n",
      "87   2050  (1) weightbasedhealth: no, related phrases if ...\n",
      "88   3338  (1) weightbasedhealth: no, related phrases if ...\n",
      "89   3317  (1) weightbasedhealth: no, related phrases if ...\n"
     ]
    },
    {
     "name": "stderr",
     "output_type": "stream",
     "text": [
      "Processing batch:   1%|          | 10/1000 [09:32<15:32:49, 56.53s/it]"
     ]
    },
    {
     "name": "stdout",
     "output_type": "stream",
     "text": [
      "    sm_id                                      answer_string\n",
      "90   4760  (1) weightbasedhealth: no, related phrases if ...\n",
      "91     86  (1) weightbasedhealth: no, related phrases if ...\n",
      "92    175  (1) weightbasedhealth: no, related phrases if ...\n",
      "93   3201  (1) weightbasedhealth: no, related phrases if ...\n",
      "94   2523  (1) weightbasedhealth: no, related phrases if ...\n",
      "95    439  (1) weightbasedhealth: no, related phrases if ...\n",
      "96    225  (1) weightbasedhealth: no, related phrases if ...\n",
      "97   3277  (1) weightbasedhealth: no, related phrases if ...\n",
      "98    114  (1) weightbasedhealth: no, related phrases if ...\n",
      "99   1093  (1) weightbasedhealth: no, related phrases if ...\n"
     ]
    },
    {
     "name": "stderr",
     "output_type": "stream",
     "text": [
      "Processing batch:   1%|          | 11/1000 [10:30<15:43:08, 57.22s/it]"
     ]
    },
    {
     "name": "stdout",
     "output_type": "stream",
     "text": [
      "     sm_id                                      answer_string\n",
      "100    732  (1) weightbasedhealth: no, related phrases if ...\n",
      "101   1723  (1) weightbasedhealth: no, related phrases if ...\n",
      "102   2547  (1) weightbasedhealth: no, related phrases if ...\n",
      "103   2277  (1) weightbasedhealth: no, related phrases if ...\n",
      "104   3718  (1) weightbasedhealth: no, related phrases if ...\n",
      "105   1722  (1) weightbasedhealth: no, related phrases if ...\n",
      "106    139  (1) weightbasedhealth: no, related phrases if ...\n",
      "107   1103  (1) weightbasedhealth: no, related phrases if ...\n",
      "108   1507  (1) weightbasedhealth: no, related phrases if ...\n",
      "109    975  (1) weightbasedhealth: no, related phrases if ...\n"
     ]
    },
    {
     "name": "stderr",
     "output_type": "stream",
     "text": [
      "Processing batch:   1%|          | 12/1000 [11:26<15:34:27, 56.75s/it]"
     ]
    },
    {
     "name": "stdout",
     "output_type": "stream",
     "text": [
      "     sm_id                                      answer_string\n",
      "110   3121  (1) weightbasedhealth: no, related phrases if ...\n",
      "111    760  (1) weightbasedhealth: no\\n(2) weightstigma: n...\n",
      "112    219  (1) weightbasedhealth: no, related phrases if ...\n",
      "113   2458  (1) weightbasedhealth: no, related phrases if ...\n",
      "114   2467  (1) weightbasedhealth: no, related phrases if ...\n",
      "115   4854  (1) weightbasedhealth: no, related phrases if ...\n",
      "116   4176  (1) weightbasedhealth: no, related phrases if ...\n",
      "117    546  (1) weightbasedhealth: no, related phrases if ...\n",
      "118   3450  (1) weightbasedhealth: no, related phrases if ...\n",
      "119   3938  (1) weightbasedhealth: no, related phrases if ...\n"
     ]
    },
    {
     "name": "stderr",
     "output_type": "stream",
     "text": [
      "Processing batch:   1%|▏         | 13/1000 [12:24<15:38:00, 57.02s/it]"
     ]
    },
    {
     "name": "stdout",
     "output_type": "stream",
     "text": [
      "     sm_id                                      answer_string\n",
      "120   2442  (1) weightbasedhealth: no, related phrases if ...\n",
      "121   4677  (1) weightbasedhealth: no, related phrases if ...\n",
      "122   2834  (1) weightbasedhealth: no, related phrases if ...\n",
      "123   4466  (1) weightbasedhealth: no, related phrases if ...\n",
      "124   2817  (1) weightbasedhealth: no, related phrases if ...\n",
      "125   1992  (1) weightbasedhealth: no, related phrases if ...\n",
      "126   2703  (1) weightbasedhealth: no, related phrases if ...\n",
      "127   2377  (1) weightbasedhealth: no, related phrases if ...\n",
      "128   3443  (1) weightbasedhealth: no, related phrases if ...\n",
      "129   1596  (1) weightbasedhealth: no, related phrases if ...\n"
     ]
    },
    {
     "name": "stderr",
     "output_type": "stream",
     "text": [
      "Processing batch:   1%|▏         | 14/1000 [13:20<15:32:58, 56.77s/it]"
     ]
    },
    {
     "name": "stdout",
     "output_type": "stream",
     "text": [
      "     sm_id                                      answer_string\n",
      "130   2694  (1) weightbasedhealth: no, related phrases if ...\n",
      "131   4465  (1) weightbasedhealth: no, related phrases if ...\n",
      "132   3605  (1) weightbasedhealth: no, related phrases if ...\n",
      "133   1021  (1) weightbasedhealth: no, related phrases if ...\n",
      "134    393  (1) weightbasedhealth: no, related phrases if ...\n",
      "135   3408  (1) weightbasedhealth: no, related phrases if ...\n",
      "136   1784  (1) weightbasedhealth: no, related phrases if ...\n",
      "137   3575  (1) weightbasedhealth: no, related phrases if ...\n",
      "138    289  (1) weightbasedhealth: no, related phrases if ...\n",
      "139   4888  (1) weightbasedhealth: no, related phrases if ...\n"
     ]
    },
    {
     "name": "stderr",
     "output_type": "stream",
     "text": [
      "Processing batch:   2%|▏         | 15/1000 [14:17<15:32:57, 56.83s/it]"
     ]
    },
    {
     "name": "stdout",
     "output_type": "stream",
     "text": [
      "     sm_id                                      answer_string\n",
      "140   2524  (1) weightbasedhealth: no, related phrases if ...\n",
      "141   2938  (1) weightbasedhealth: no, related phrases if ...\n",
      "142   2846  (1) weightbasedhealth: no, related phrases if ...\n",
      "143    796  (1) weightbasedhealth: no, related phrases if ...\n",
      "144   2932  (1) weightbasedhealth: no, related phrases if ...\n",
      "145    595  (1) weightbasedhealth: no, related phrases if ...\n",
      "146   3097  (1) weightbasedhealth: no, related phrases if ...\n",
      "147   1004  (1) weightbasedhealth: no, related phrases if ...\n",
      "148   3873  (1) weightbasedhealth: no, related phrases if ...\n",
      "149   1765  (1) weightbasedhealth: no, related phrases if ...\n"
     ]
    },
    {
     "name": "stderr",
     "output_type": "stream",
     "text": [
      "Processing batch:   2%|▏         | 16/1000 [15:13<15:29:34, 56.68s/it]"
     ]
    },
    {
     "name": "stdout",
     "output_type": "stream",
     "text": [
      "     sm_id                                      answer_string\n",
      "150   4914  (1) weightbasedhealth: no, related phrases if ...\n",
      "151   4136  (1) weightbasedhealth: no, related phrases if ...\n",
      "152    752  (1) weightbasedhealth: no, related phrases if ...\n",
      "153   4738  (1) weightbasedhealth: no, related phrases if ...\n",
      "154   1635  (1) weightbasedhealth: no, related phrases if ...\n",
      "155   3080  (1) weightbasedhealth: no, related phrases if ...\n",
      "156   4013  (1) weightbasedhealth: no, related phrases if ...\n",
      "157   3410  (1) weightbasedhealth: no, related phrases if ...\n",
      "158    311  (1) weightbasedhealth: no, related phrases if ...\n",
      "159   3777  (1) weightbasedhealth: no, related phrases if ...\n"
     ]
    },
    {
     "name": "stderr",
     "output_type": "stream",
     "text": [
      "Processing batch:   2%|▏         | 17/1000 [16:10<15:31:11, 56.84s/it]"
     ]
    },
    {
     "name": "stdout",
     "output_type": "stream",
     "text": [
      "     sm_id                                      answer_string\n",
      "160    983  (1) weightbasedhealth: no, related phrases if ...\n",
      "161   3844  (1) weightbasedhealth: no, related phrases if ...\n",
      "162    265  (1) weightbasedhealth: no, related phrases if ...\n",
      "163    448  (1) weightbasedhealth: no, related phrases if ...\n",
      "164   4332  (1) weightbasedhealth: no, related phrases if ...\n",
      "165    244  (1) weightbasedhealth: no, related phrases if ...\n",
      "166   3048  (1) weightbasedhealth: no, related phrases if ...\n",
      "167    253  (1) weightbasedhealth: no, related phrases if ...\n",
      "168    607  (1) weightbasedhealth: no, related phrases if ...\n",
      "169    380  (1) weightbasedhealth: no, related phrases if ...\n"
     ]
    },
    {
     "name": "stderr",
     "output_type": "stream",
     "text": [
      "Processing batch:   2%|▏         | 18/1000 [17:06<15:26:41, 56.62s/it]"
     ]
    },
    {
     "name": "stdout",
     "output_type": "stream",
     "text": [
      "     sm_id                                      answer_string\n",
      "170    241  (1) weightbasedhealth: no, related phrases if ...\n",
      "171   1837  (1) weightbasedhealth: no, related phrases if ...\n",
      "172   1656  (1) weightbasedhealth: no, related phrases if ...\n",
      "173    218  (1) weightbasedhealth: no, related phrases if ...\n",
      "174    510  (1) weightbasedhealth: no, related phrases if ...\n",
      "175   1188  (1) weightbasedhealth: no, related phrases if ...\n",
      "176   4531  (1) weightbasedhealth: no, related phrases if ...\n",
      "177   3069  (1) weightbasedhealth: no, related phrases if ...\n",
      "178   2090  (1) weightbasedhealth: no, related phrases if ...\n",
      "179    106  (1) weightbasedhealth: no, related phrases if ...\n"
     ]
    },
    {
     "name": "stderr",
     "output_type": "stream",
     "text": [
      "Processing batch:   2%|▏         | 19/1000 [18:04<15:29:50, 56.87s/it]"
     ]
    },
    {
     "name": "stdout",
     "output_type": "stream",
     "text": [
      "     sm_id                                      answer_string\n",
      "180   1169  (1) weightbasedhealth: no, related phrases if ...\n",
      "181   4707  (1) weightbasedhealth: no, related phrases if ...\n",
      "182   2670  (1) weightbasedhealth: no, related phrases if ...\n",
      "183   4813  (1) weightbasedhealth: no, related phrases if ...\n",
      "184   1946  (1) weightbasedhealth: no, related phrases if ...\n",
      "185   4446  (1) weightbasedhealth: no, related phrases if ...\n",
      "186   4604  (1) weightbasedhealth: no, related phrases if ...\n",
      "187   3796  (1) weightbasedhealth: no, related phrases if ...\n",
      "188   2404  (1) weightbasedhealth: no, related phrases if ...\n",
      "189   3966  (1) weightbasedhealth: no, related phrases if ...\n"
     ]
    },
    {
     "name": "stderr",
     "output_type": "stream",
     "text": [
      "Processing batch:   2%|▏         | 20/1000 [19:00<15:25:36, 56.67s/it]"
     ]
    },
    {
     "name": "stdout",
     "output_type": "stream",
     "text": [
      "     sm_id                                      answer_string\n",
      "190   1498  (1) weightbasedhealth: no, related phrases if ...\n",
      "191    723  (1) weightbasedhealth: no, related phrases if ...\n",
      "192   3736  (1) weightbasedhealth: no, related phrases if ...\n",
      "193   1840  (1) weightbasedhealth: no, related phrases if ...\n",
      "194    274  (1) weightbasedhealth: no, related phrases if ...\n",
      "195   1657  (1) weightbasedhealth: no, related phrases if ...\n",
      "196   2500  (1) weightbasedhealth: no, related phrases if ...\n",
      "197    164  (1) weightbasedhealth: no, related phrases if ...\n",
      "198    720  (1) weightbasedhealth: no, related phrases if ...\n",
      "199    413  (1) weightbasedhealth: no, related phrases if ...\n"
     ]
    },
    {
     "name": "stderr",
     "output_type": "stream",
     "text": [
      "Processing batch:   2%|▏         | 21/1000 [19:57<15:26:46, 56.80s/it]"
     ]
    },
    {
     "name": "stdout",
     "output_type": "stream",
     "text": [
      "     sm_id                                      answer_string\n",
      "200   2951  (1) weightbasedhealth: no, related phrases if ...\n",
      "201   1466  (1) weightbasedhealth: no, related phrases if ...\n",
      "202   3011  (1) weightbasedhealth: no, related phrases if ...\n",
      "203   4802  (1) weightbasedhealth: no, related phrases if ...\n",
      "204   3070  (1) weightbasedhealth: no, related phrases if ...\n",
      "205    596  (1) weightbasedhealth: no, related phrases if ...\n",
      "206    222  (1) weightbasedhealth: no, related phrases if ...\n",
      "207   1646  (1) weightbasedhealth: no, related phrases if ...\n",
      "208    981  (1) weightbasedhealth: no, related phrases if ...\n",
      "209    588  (1) weightbasedhealth: no, related phrases if ...\n"
     ]
    },
    {
     "name": "stderr",
     "output_type": "stream",
     "text": [
      "Processing batch:   2%|▏         | 22/1000 [20:54<15:24:02, 56.69s/it]"
     ]
    },
    {
     "name": "stdout",
     "output_type": "stream",
     "text": [
      "     sm_id                                      answer_string\n",
      "210   1187  (1) weightbasedhealth: no, related phrases if ...\n",
      "211   2872  (1) weightbasedhealth: no, related phrases if ...\n",
      "212   3748  (1) weightbasedhealth: no, related phrases if ...\n",
      "213   3630  (1) weightbasedhealth: no, related phrases if ...\n",
      "214   3374  (1) weightbasedhealth: no, related phrases if ...\n",
      "215   4384  (1) weightbasedhealth: no, related phrases if ...\n",
      "216   4720  (1) weightbasedhealth: no, related phrases if ...\n",
      "217    890  (1) weightbasedhealth: no, related phrases if ...\n",
      "218   4731  (1) weightbasedhealth: no, related phrases if ...\n",
      "219   4695  (1) weightbasedhealth: no, related phrases if ...\n"
     ]
    },
    {
     "name": "stderr",
     "output_type": "stream",
     "text": [
      "Processing batch:   2%|▏         | 23/1000 [21:48<15:10:45, 55.93s/it]"
     ]
    },
    {
     "name": "stdout",
     "output_type": "stream",
     "text": [
      "     sm_id                                      answer_string\n",
      "220   4420  (1) weightbasedhealth: no, related phrases if ...\n",
      "221   2221  (1) weightbasedhealth: no, related phrases if ...\n",
      "222   4903  (1) weightbasedhealth: no, related phrases if ...\n",
      "223     38  (1) weightbasedhealth: no, related phrases if ...\n",
      "224   4049  (1) weightbasedhealth: no, related phrases if ...\n",
      "225   2061  (1) weightbasedhealth: no\\n(2) weightstigma: y...\n",
      "226   3951  (1) weightbasedhealth: no, related phrases if ...\n",
      "227   2203  (1) weightbasedhealth: no, related phrases if ...\n",
      "228    962  (1) weightbasedhealth: no, related phrases if ...\n",
      "229    296  (1) weightbasedhealth: no, related phrases if ...\n"
     ]
    },
    {
     "name": "stderr",
     "output_type": "stream",
     "text": [
      "Processing batch:   2%|▏         | 24/1000 [22:46<15:23:00, 56.74s/it]"
     ]
    },
    {
     "name": "stdout",
     "output_type": "stream",
     "text": [
      "     sm_id                                      answer_string\n",
      "230   2430  (1) weightbasedhealth: no, related phrases if ...\n",
      "231   1625  (1) weightbasedhealth: no, related phrases if ...\n",
      "232   2695  (1) weightbasedhealth: no, related phrases if ...\n",
      "233   1665  (1) weightbasedhealth: no, related phrases if ...\n",
      "234   4189  (1) weightbasedhealth: no, related phrases if ...\n",
      "235   3541  (1) weightbasedhealth: no, related phrases if ...\n",
      "236   4455  (1) weightbasedhealth: no, related phrases if ...\n",
      "237    893  (1) weightbasedhealth: no, related phrases if ...\n",
      "238   1782  (1) weightbasedhealth: no, related phrases if ...\n",
      "239   4749  (1) weightbasedhealth: no, related phrases if ...\n"
     ]
    },
    {
     "name": "stderr",
     "output_type": "stream",
     "text": [
      "Processing batch:   2%|▎         | 25/1000 [23:43<15:21:05, 56.68s/it]"
     ]
    },
    {
     "name": "stdout",
     "output_type": "stream",
     "text": [
      "     sm_id                                      answer_string\n",
      "240   1398  (1) weightbasedhealth: no, related phrases if ...\n",
      "241   1918  (1) weightbasedhealth: no, related phrases if ...\n",
      "242   2027  (1) weightbasedhealth: no, related phrases if ...\n",
      "243   1179  (1) weightbasedhealth: no, related phrases if ...\n",
      "244    248  (1) weightbasedhealth: no, related phrases if ...\n",
      "245     78  (1) weightbasedhealth: no, related phrases if ...\n",
      "246     78  (1) weightbasedhealth: no, related phrases if ...\n",
      "247    488  (1) weightbasedhealth: no, related phrases if ...\n",
      "248   2806  (1) weightbasedhealth: no, related phrases if ...\n",
      "249   1969  (1) weightbasedhealth: no, related phrases if ...\n"
     ]
    },
    {
     "name": "stderr",
     "output_type": "stream",
     "text": [
      "Processing batch:   3%|▎         | 26/1000 [24:41<15:29:10, 57.24s/it]"
     ]
    },
    {
     "name": "stdout",
     "output_type": "stream",
     "text": [
      "     sm_id                                      answer_string\n",
      "250    375  (1) weightbasedhealth: no, related phrases if ...\n",
      "251   3992  (1) weightbasedhealth: no, related phrases if ...\n",
      "252   3093  (1) weightbasedhealth: no, related phrases if ...\n",
      "253    570  (1) weightbasedhealth: no, related phrases if ...\n",
      "254   1094  (1) weightbasedhealth: no, related phrases if ...\n",
      "255   4482  (1) weightbasedhealth: no, related phrases if ...\n",
      "256   1148  (1) weightbasedhealth: no, related phrases if ...\n",
      "257   1223  (1) weightbasedhealth: no, related phrases if ...\n",
      "258   4447  (1) weightbasedhealth: no, related phrases if ...\n",
      "259   3356  (1) weightbasedhealth: no, related phrases if ...\n"
     ]
    },
    {
     "name": "stderr",
     "output_type": "stream",
     "text": [
      "Processing batch:   3%|▎         | 27/1000 [25:35<15:10:36, 56.15s/it]"
     ]
    },
    {
     "name": "stdout",
     "output_type": "stream",
     "text": [
      "     sm_id                                      answer_string\n",
      "260   2239  (1) weightbasedhealth: no, related phrases if ...\n",
      "261   1375  (1) weightbasedhealth: no, related phrases if ...\n",
      "262   3550  (1) weightbasedhealth: no, related phrases if ...\n",
      "263    204  (1) weightbasedhealth: no, related phrases if ...\n",
      "264    204  (1) weightbasedhealth: no, related phrases if ...\n",
      "265   4750  (1) weightbasedhealth: no, related phrases if ...\n",
      "266    639  (1) weightbasedhealth: no, related phrases if ...\n",
      "267   1167  (1) weightbasedhealth: no, related phrases if ...\n",
      "268   2226  (1) weightbasedhealth: no, related phrases if ...\n",
      "269   1643  (1) weightbasedhealth: no, related phrases if ...\n"
     ]
    },
    {
     "name": "stderr",
     "output_type": "stream",
     "text": [
      "Processing batch:   3%|▎         | 28/1000 [26:30<15:04:57, 55.86s/it]"
     ]
    },
    {
     "name": "stdout",
     "output_type": "stream",
     "text": [
      "     sm_id                                      answer_string\n",
      "270   3807  (1) weightbasedhealth: no, related phrases if ...\n",
      "271   2028  (1) weightbasedhealth: no, related phrases if ...\n",
      "272   2952  (1) weightbasedhealth: no, related phrases if ...\n",
      "273   3308  (1) weightbasedhealth: no, related phrases if ...\n",
      "274   2374  (1) weightbasedhealth: no, related phrases if ...\n",
      "275   2325  (1) weightbasedhealth: no, related phrases if ...\n",
      "276   4684  (1) weightbasedhealth: no, related phrases if ...\n",
      "277   4849  (1) weightbasedhealth: no, related phrases if ...\n",
      "278   1345  (1) weightbasedhealth: no, related phrases if ...\n",
      "279   4785  (1) weightbasedhealth: no, related phrases if ...\n"
     ]
    },
    {
     "name": "stderr",
     "output_type": "stream",
     "text": [
      "Processing batch:   3%|▎         | 29/1000 [27:28<15:11:48, 56.34s/it]"
     ]
    },
    {
     "name": "stdout",
     "output_type": "stream",
     "text": [
      "     sm_id                                      answer_string\n",
      "280   4664  (1) weightbasedhealth: no, related phrases if ...\n",
      "281    547  (1) weightbasedhealth: no, related phrases if ...\n",
      "282    296  (1) weightbasedhealth: no, related phrases if ...\n",
      "283   4832  (1) weightbasedhealth: no, related phrases if ...\n",
      "284    746  (1) weightbasedhealth: no, related phrases if ...\n",
      "285   4861  (1) weightbasedhealth: no, related phrases if ...\n",
      "286   3357  (1) weightbasedhealth: no, related phrases if ...\n",
      "287   2934  (1) weightbasedhealth: no, related phrases if ...\n",
      "288   1199  (1) weightbasedhealth: no, related phrases if ...\n",
      "289   3725  (1) weightbasedhealth: no, related phrases if ...\n"
     ]
    },
    {
     "name": "stderr",
     "output_type": "stream",
     "text": [
      "Processing batch:   3%|▎         | 30/1000 [28:23<15:06:55, 56.10s/it]"
     ]
    },
    {
     "name": "stdout",
     "output_type": "stream",
     "text": [
      "     sm_id                                      answer_string\n",
      "290    572  (1) weightbasedhealth: no, related phrases if ...\n",
      "291   2741  (1) weightbasedhealth: no, related phrases if ...\n",
      "292   1563  (1) weightbasedhealth: no, related phrases if ...\n",
      "293   1159  (1) weightbasedhealth: no, related phrases if ...\n",
      "294   3653  (1) weightbasedhealth: no, related phrases if ...\n",
      "295   2520  (1) weightbasedhealth: no, related phrases if ...\n",
      "296   4736  (1) weightbasedhealth: no, related phrases if ...\n",
      "297   4688  (1) weightbasedhealth: no, related phrases if ...\n",
      "298    127  (1) weightbasedhealth: no, related phrases if ...\n",
      "299   3799  (1) weightbasedhealth: no, related phrases if ...\n"
     ]
    },
    {
     "name": "stderr",
     "output_type": "stream",
     "text": [
      "Processing batch:   3%|▎         | 31/1000 [29:17<14:54:38, 55.40s/it]"
     ]
    },
    {
     "name": "stdout",
     "output_type": "stream",
     "text": [
      "     sm_id                                      answer_string\n",
      "300   1960  (1) weightbasedhealth: no, related phrases if ...\n",
      "301   3051  (1) weightbasedhealth: no\\n(2) weightstigma: n...\n",
      "302   3280  (1) weightbasedhealth: no, related phrases if ...\n",
      "303   3651  (1) weightbasedhealth: no, related phrases if ...\n",
      "304    370  (1) weightbasedhealth: no, related phrases if ...\n",
      "305   4755  (1) weightbasedhealth: no, related phrases if ...\n",
      "306   1341  (1) weightbasedhealth: no, related phrases if ...\n",
      "307   3149  (1) weightbasedhealth: no, related phrases if ...\n",
      "308   3456  (1) weightbasedhealth: no, related phrases if ...\n",
      "309    173  (1) weightbasedhealth: no, related phrases if ...\n"
     ]
    },
    {
     "name": "stderr",
     "output_type": "stream",
     "text": [
      "Processing batch:   3%|▎         | 32/1000 [30:14<15:02:57, 55.97s/it]"
     ]
    },
    {
     "name": "stdout",
     "output_type": "stream",
     "text": [
      "     sm_id                                      answer_string\n",
      "310   1862  (1) weightbasedhealth: no, related phrases if ...\n",
      "311   2731  (1) weightbasedhealth: no, related phrases if ...\n",
      "312   3500  (1) weightbasedhealth: no, related phrases if ...\n",
      "313    305  (1) weightbasedhealth: no, related phrases if ...\n",
      "314   1911  (1) weightbasedhealth: no, related phrases if ...\n",
      "315   2401  (1) weightbasedhealth: no, related phrases if ...\n",
      "316   2006  (1) weightbasedhealth: no, related phrases if ...\n",
      "317    130  (1) weightbasedhealth: no, related phrases if ...\n",
      "318   3648  (1) weightbasedhealth: no, related phrases if ...\n",
      "319    170  (1) weightbasedhealth: no, related phrases if ...\n"
     ]
    },
    {
     "name": "stderr",
     "output_type": "stream",
     "text": [
      "Processing batch:   3%|▎         | 33/1000 [31:11<15:06:51, 56.27s/it]"
     ]
    },
    {
     "name": "stdout",
     "output_type": "stream",
     "text": [
      "     sm_id                                      answer_string\n",
      "320   4004  (1) weightbasedhealth: no, related phrases if ...\n",
      "321   2287  (1) weightbasedhealth: no, related phrases if ...\n",
      "322   4460  (1) weightbasedhealth: no, related phrases if ...\n",
      "323   3952  (1) weightbasedhealth: no, related phrases if ...\n",
      "324    811  (1) weightbasedhealth: no, related phrases if ...\n",
      "325   4052  (1) weightbasedhealth: no, related phrases if ...\n",
      "326   1091  (1) weightbasedhealth: no, related phrases if ...\n",
      "327    536  (1) weightbasedhealth: no, related phrases if ...\n",
      "328   1175  (1) weightbasedhealth: no, related phrases if ...\n",
      "329   2174  (1) weightbasedhealth: no, related phrases if ...\n"
     ]
    },
    {
     "name": "stderr",
     "output_type": "stream",
     "text": [
      "Processing batch:   3%|▎         | 34/1000 [32:07<15:01:21, 55.99s/it]"
     ]
    },
    {
     "name": "stdout",
     "output_type": "stream",
     "text": [
      "     sm_id                                      answer_string\n",
      "330     21  (1) weightbasedhealth: no, related phrases if ...\n",
      "331   1332  (1) weightbasedhealth: no, related phrases if ...\n",
      "332   2281  (1) weightbasedhealth: no, related phrases if ...\n",
      "333   1462  (1) weightbasedhealth: no, related phrases if ...\n",
      "334   1462  (1) weightbasedhealth: no, related phrases if ...\n",
      "335    750  (1) weightbasedhealth: no, related phrases if ...\n",
      "336   3803  (1) weightbasedhealth: no, related phrases if ...\n",
      "337   4591  (1) weightbasedhealth: no, related phrases if ...\n",
      "338    358  (1) weightbasedhealth: no, related phrases if ...\n",
      "339    335  (1) weightbasedhealth: no, related phrases if ...\n"
     ]
    },
    {
     "name": "stderr",
     "output_type": "stream",
     "text": [
      "Processing batch:   4%|▎         | 35/1000 [33:04<15:07:47, 56.44s/it]"
     ]
    },
    {
     "name": "stdout",
     "output_type": "stream",
     "text": [
      "     sm_id                                      answer_string\n",
      "340   4188  (1) weightbasedhealth: no, related phrases if ...\n",
      "341   1893  (1) weightbasedhealth: no, related phrases if ...\n",
      "342    764  (1) weightbasedhealth: no, related phrases if ...\n",
      "343   3772  (1) weightbasedhealth: no, related phrases if ...\n",
      "344   1770  (1) weightbasedhealth: no, related phrases if ...\n",
      "345   2152  (1) weightbasedhealth: no, related phrases if ...\n",
      "346   2904  (1) weightbasedhealth: no, related phrases if ...\n",
      "347   3607  (1) weightbasedhealth: no, related phrases if ...\n",
      "348   2553  (1) weightbasedhealth: no, related phrases if ...\n",
      "349   1933  (1) weightbasedhealth: no, related phrases if ...\n"
     ]
    },
    {
     "name": "stderr",
     "output_type": "stream",
     "text": [
      "Processing batch:   4%|▎         | 36/1000 [33:59<14:59:02, 55.96s/it]"
     ]
    },
    {
     "name": "stdout",
     "output_type": "stream",
     "text": [
      "     sm_id                                      answer_string\n",
      "350   2632  (1) weightbasedhealth: no, related phrases if ...\n",
      "351   2538  (1) weightbasedhealth: no, related phrases if ...\n",
      "352   4473  (1) weightbasedhealth: no\\n(2) weightstigma: y...\n",
      "353   2476  (1) weightbasedhealth: no, related phrases if ...\n",
      "354    472  (1) weightbasedhealth: no, related phrases if ...\n",
      "355   1369  (1) weightbasedhealth: no, related phrases if ...\n",
      "356    729  (1) weightbasedhealth: no, related phrases if ...\n",
      "357   2071  (1) weightbasedhealth: no, related phrases if ...\n",
      "358   2480  (1) weightbasedhealth: no, related phrases if ...\n",
      "359   4067  (1) weightbasedhealth: no, related phrases if ...\n"
     ]
    },
    {
     "name": "stderr",
     "output_type": "stream",
     "text": [
      "Processing batch:   4%|▎         | 37/1000 [34:56<15:04:26, 56.35s/it]"
     ]
    },
    {
     "name": "stdout",
     "output_type": "stream",
     "text": [
      "     sm_id                                      answer_string\n",
      "360   2227  (1) weightbasedhealth: no, related phrases if ...\n",
      "361   1181  (1) weightbasedhealth: no, related phrases if ...\n",
      "362   3214  (1) weightbasedhealth: no, related phrases if ...\n",
      "363   2295  (1) weightbasedhealth: no, related phrases if ...\n",
      "364   2646  (1) weightbasedhealth: no, related phrases if ...\n",
      "365   2396  (1) weightbasedhealth: no, related phrases if ...\n",
      "366   4503  (1) weightbasedhealth: no, related phrases if ...\n",
      "367   2447  (1) weightbasedhealth: no, related phrases if ...\n",
      "368   3025  (1) weightbasedhealth: no, related phrases if ...\n",
      "369   2456  (1) weightbasedhealth: no, related phrases if ...\n"
     ]
    },
    {
     "name": "stderr",
     "output_type": "stream",
     "text": [
      "Processing batch:   4%|▍         | 38/1000 [35:57<15:23:39, 57.61s/it]"
     ]
    },
    {
     "name": "stdout",
     "output_type": "stream",
     "text": [
      "     sm_id                                      answer_string\n",
      "370   2892  (1) weightbasedhealth: no, related phrases if ...\n",
      "371   2771  (1) weightbasedhealth: no, related phrases if ...\n",
      "372   1674  (1) weightbasedhealth: no, related phrases if ...\n",
      "373   3937  (1) weightbasedhealth: no, related phrases if ...\n",
      "374   4362  (1) weightbasedhealth: no, related phrases if ...\n",
      "375   4830  (1) weightbasedhealth: no, related phrases if ...\n",
      "376   3246  (1) weightbasedhealth: no, related phrases if ...\n",
      "377   2463  (1) weightbasedhealth: no, related phrases if ...\n",
      "378   2083  (1) weightbasedhealth: no, related phrases if ...\n",
      "379    790  (1) weightbasedhealth: no, related phrases if ...\n"
     ]
    },
    {
     "name": "stderr",
     "output_type": "stream",
     "text": [
      "Processing batch:   4%|▍         | 39/1000 [37:00<15:48:54, 59.25s/it]"
     ]
    },
    {
     "name": "stdout",
     "output_type": "stream",
     "text": [
      "     sm_id                                      answer_string\n",
      "380   4804  (1) weightbasedhealth: no, related phrases if ...\n",
      "381   3553  (1) weightbasedhealth: no, related phrases if ...\n",
      "382   3275  (1) weightbasedhealth: no, related phrases if ...\n",
      "383   2671  (1) weightbasedhealth: no, related phrases if ...\n",
      "384   4256  (1) weightbasedhealth: no, related phrases if ...\n",
      "385   2489  (1) weightbasedhealth: no, related phrases if ...\n",
      "386   2916  (1) weightbasedhealth: no, related phrases if ...\n",
      "387   2004  (1) weightbasedhealth: no, related phrases if ...\n",
      "388   2114  (1) weightbasedhealth: no, related phrases if ...\n",
      "389   2828  (1) weightbasedhealth: no, related phrases if ...\n"
     ]
    },
    {
     "name": "stderr",
     "output_type": "stream",
     "text": [
      "Processing batch:   4%|▍         | 40/1000 [37:57<15:38:52, 58.68s/it]"
     ]
    },
    {
     "name": "stdout",
     "output_type": "stream",
     "text": [
      "     sm_id                                      answer_string\n",
      "390    557  (1) weightbasedhealth: no, related phrases if ...\n",
      "391   3372  (1) weightbasedhealth: no, related phrases if ...\n",
      "392   2133  (1) weightbasedhealth: no, related phrases if ...\n",
      "393   1032  (1) weightbasedhealth: no, related phrases if ...\n",
      "394   2115  (1) weightbasedhealth: no, related phrases if ...\n",
      "395   3635  (1) weightbasedhealth: no, related phrases if ...\n",
      "396   2478  (1) weightbasedhealth: no, related phrases if ...\n",
      "397   2704  (1) weightbasedhealth: no, related phrases if ...\n",
      "398   3190  (1) weightbasedhealth: no, related phrases if ...\n",
      "399   4198  (1) weightbasedhealth: no, related phrases if ...\n"
     ]
    },
    {
     "name": "stderr",
     "output_type": "stream",
     "text": [
      "Processing batch:   4%|▍         | 41/1000 [38:56<15:37:36, 58.66s/it]"
     ]
    },
    {
     "name": "stdout",
     "output_type": "stream",
     "text": [
      "     sm_id                                      answer_string\n",
      "400   2770  (1) weightbasedhealth: no, related phrases if ...\n",
      "401   1256  (1) weightbasedhealth: no, related phrases if ...\n",
      "402   3691  (1) weightbasedhealth: no, related phrases if ...\n",
      "403   1965  (1) weightbasedhealth: no, related phrases if ...\n",
      "404   3646  (1) weightbasedhealth: no, related phrases if ...\n",
      "405   4196  (1) weightbasedhealth: no, related phrases if ...\n",
      "406    431  (1) weightbasedhealth: no, related phrases if ...\n",
      "407   3673  (1) weightbasedhealth: no, related phrases if ...\n",
      "408    929  (1) weightbasedhealth: no, related phrases if ...\n",
      "409   2001  (1) weightbasedhealth: no, related phrases if ...\n"
     ]
    },
    {
     "name": "stderr",
     "output_type": "stream",
     "text": [
      "Processing batch:   4%|▍         | 42/1000 [39:53<15:29:31, 58.22s/it]"
     ]
    },
    {
     "name": "stdout",
     "output_type": "stream",
     "text": [
      "     sm_id                                      answer_string\n",
      "410   2184  (1) weightbasedhealth: no, related phrases if ...\n",
      "411   4821  (1) weightbasedhealth: no, related phrases if ...\n",
      "412   1205  (1) weightbasedhealth: no, related phrases if ...\n",
      "413   2291  (1) weightbasedhealth: no, related phrases if ...\n",
      "414   1025  (1) weightbasedhealth: no, related phrases if ...\n",
      "415   3601  (1) weightbasedhealth: no, related phrases if ...\n",
      "416   1051  (1) weightbasedhealth: no, related phrases if ...\n",
      "417   3536  (1) weightbasedhealth: no, related phrases if ...\n",
      "418    223  (1) weightbasedhealth: no, related phrases if ...\n",
      "419   2876  (1) weightbasedhealth: no, related phrases if ...\n"
     ]
    },
    {
     "name": "stderr",
     "output_type": "stream",
     "text": [
      "Processing batch:   4%|▍         | 43/1000 [40:50<15:23:41, 57.91s/it]"
     ]
    },
    {
     "name": "stdout",
     "output_type": "stream",
     "text": [
      "     sm_id                                      answer_string\n",
      "420   3128  (1) weightbasedhealth: no, related phrases if ...\n",
      "421   3512  (1) weightbasedhealth: no, related phrases if ...\n",
      "422    451  (1) weightbasedhealth: no, related phrases if ...\n",
      "423   2983  (1) weightbasedhealth: no, related phrases if ...\n",
      "424   4504  (1) weightbasedhealth: no, related phrases if ...\n",
      "425   1461  (1) weightbasedhealth: no, related phrases if ...\n",
      "426   4732  (1) weightbasedhealth: no, related phrases if ...\n",
      "427   4519  (1) weightbasedhealth: no, related phrases if ...\n",
      "428    683  (1) weightbasedhealth: no, related phrases if ...\n",
      "429    606  (1) weightbasedhealth: no, related phrases if ...\n"
     ]
    },
    {
     "name": "stderr",
     "output_type": "stream",
     "text": [
      "Processing batch:   4%|▍         | 44/1000 [41:48<15:21:22, 57.83s/it]"
     ]
    },
    {
     "name": "stdout",
     "output_type": "stream",
     "text": [
      "     sm_id                                      answer_string\n",
      "430   3365  (1) weightbasedhealth: no, related phrases if ...\n",
      "431   4614  (1) weightbasedhealth: no, related phrases if ...\n",
      "432   1908  (1) weightbasedhealth: no, related phrases if ...\n",
      "433   3016  (1) weightbasedhealth: no, related phrases if ...\n",
      "434   2579  (1) weightbasedhealth: no, related phrases if ...\n",
      "435   1524  (1) weightbasedhealth: no, related phrases if ...\n",
      "436   1957  (1) weightbasedhealth: no, related phrases if ...\n",
      "437   3809  (1) weightbasedhealth: no, related phrases if ...\n",
      "438   3333  (1) weightbasedhealth: no, related phrases if ...\n",
      "439    177  (1) weightbasedhealth: no, related phrases if ...\n"
     ]
    },
    {
     "name": "stderr",
     "output_type": "stream",
     "text": [
      "Processing batch:   4%|▍         | 45/1000 [42:47<15:26:31, 58.21s/it]"
     ]
    },
    {
     "name": "stdout",
     "output_type": "stream",
     "text": [
      "     sm_id                                      answer_string\n",
      "440   4858  (1) weightbasedhealth: no, related phrases if ...\n",
      "441   2684  (1) weightbasedhealth: no, related phrases if ...\n",
      "442   4869  (1) weightbasedhealth: no, related phrases if ...\n",
      "443   3678  (1) weightbasedhealth: no, related phrases if ...\n",
      "444   2562  (1) weightbasedhealth: no, related phrases if ...\n",
      "445   2054  (1) weightbasedhealth: no, related phrases if ...\n",
      "446   4654  (1) weightbasedhealth: no, related phrases if ...\n",
      "447   2330  (1) weightbasedhealth: no, related phrases if ...\n",
      "448   3082  (1) weightbasedhealth: no, related phrases if ...\n",
      "449   2648  (1) weightbasedhealth: no, related phrases if ...\n"
     ]
    },
    {
     "name": "stderr",
     "output_type": "stream",
     "text": [
      "Processing batch:   5%|▍         | 46/1000 [43:43<15:16:24, 57.64s/it]"
     ]
    },
    {
     "name": "stdout",
     "output_type": "stream",
     "text": [
      "     sm_id                                      answer_string\n",
      "450   2668  (1) weightbasedhealth: no, related phrases if ...\n",
      "451   2222  (1) weightbasedhealth: no, related phrases if ...\n",
      "452   2645  (1) weightbasedhealth: no, related phrases if ...\n",
      "453   1522  (1) weightbasedhealth: no, related phrases if ...\n",
      "454   2092  (1) weightbasedhealth: no, related phrases if ...\n",
      "455   3511  (1) weightbasedhealth: no, related phrases if ...\n",
      "456   2267  (1) weightbasedhealth: no, related phrases if ...\n",
      "457   3140  (1) weightbasedhealth: no, related phrases if ...\n",
      "458   3572  (1) weightbasedhealth: no, related phrases if ...\n",
      "459   3948  (1) weightbasedhealth: no, related phrases if ...\n"
     ]
    },
    {
     "name": "stderr",
     "output_type": "stream",
     "text": [
      "Processing batch:   5%|▍         | 47/1000 [44:42<15:20:33, 57.96s/it]"
     ]
    },
    {
     "name": "stdout",
     "output_type": "stream",
     "text": [
      "     sm_id                                      answer_string\n",
      "460    108  (1) weightbasedhealth: no, related phrases if ...\n",
      "461   2561  (1) weightbasedhealth: no, related phrases if ...\n",
      "462    473  (1) weightbasedhealth: no, related phrases if ...\n",
      "463    473  (1) weightbasedhealth: no, related phrases if ...\n",
      "464    901  (1) weightbasedhealth: no, related phrases if ...\n",
      "465   4366  (1) weightbasedhealth: no, related phrases if ...\n",
      "466    117  (1) weightbasedhealth: no, related phrases if ...\n",
      "467   4818  (1) weightbasedhealth: no, related phrases if ...\n",
      "468   1872  (1) weightbasedhealth: no, related phrases if ...\n",
      "469   2769  (1) weightbasedhealth: no, related phrases if ...\n"
     ]
    },
    {
     "name": "stderr",
     "output_type": "stream",
     "text": [
      "Processing batch:   5%|▍         | 48/1000 [45:44<15:38:41, 59.16s/it]"
     ]
    },
    {
     "name": "stdout",
     "output_type": "stream",
     "text": [
      "     sm_id                                      answer_string\n",
      "470    506  (1) weightbasedhealth: no, related phrases if ...\n",
      "471   2526  (1) weightbasedhealth: no, related phrases if ...\n",
      "472    788  (1) weightbasedhealth: no, related phrases if ...\n",
      "473    269  (1) weightbasedhealth: no, related phrases if ...\n",
      "474   1410  (1) weightbasedhealth: no, related phrases if ...\n",
      "475   4265  (1) weightbasedhealth: no, related phrases if ...\n",
      "476   4365  (1) weightbasedhealth: no\\n(2) weightstigma: y...\n",
      "477    998  (1) weightbasedhealth: no, related phrases if ...\n",
      "478    605  (1) weightbasedhealth: no, related phrases if ...\n",
      "479   2362  (1) weightbasedhealth: no, related phrases if ...\n"
     ]
    },
    {
     "name": "stderr",
     "output_type": "stream",
     "text": [
      "Processing batch:   5%|▍         | 49/1000 [46:41<15:29:23, 58.64s/it]"
     ]
    },
    {
     "name": "stdout",
     "output_type": "stream",
     "text": [
      "     sm_id                                      answer_string\n",
      "480   2352  (1) weightbasedhealth: no, related phrases if ...\n",
      "481   2744  (1) weightbasedhealth: no, related phrases if ...\n",
      "482   2617  (1) weightbasedhealth: no, related phrases if ...\n",
      "483   2448  (1) weightbasedhealth: no, related phrases if ...\n",
      "484   1748  (1) weightbasedhealth: no, related phrases if ...\n",
      "485   3517  (1) weightbasedhealth: no, related phrases if ...\n",
      "486   1642  (1) weightbasedhealth: no, related phrases if ...\n",
      "487   1769  (1) weightbasedhealth: no, related phrases if ...\n",
      "488   3297  (1) weightbasedhealth: no, related phrases if ...\n",
      "489   1595  (1) weightbasedhealth: no, related phrases if ...\n"
     ]
    },
    {
     "name": "stderr",
     "output_type": "stream",
     "text": [
      "Processing batch:   5%|▌         | 50/1000 [47:36<15:07:47, 57.33s/it]"
     ]
    },
    {
     "name": "stdout",
     "output_type": "stream",
     "text": [
      "     sm_id                                      answer_string\n",
      "490   1892  (1) weightbasedhealth: no, related phrases if ...\n",
      "491   1764  (1) weightbasedhealth: no, related phrases if ...\n",
      "492   2053  (1) weightbasedhealth: no, related phrases if ...\n",
      "493   2192  (1) weightbasedhealth: no, related phrases if ...\n",
      "494   1650  (1) weightbasedhealth: no, related phrases if ...\n",
      "495   4779  (1) weightbasedhealth: no\\n(2) weightstigma: y...\n",
      "496    787  (1) weightbasedhealth: no, related phrases if ...\n",
      "497   2563  (1) weightbasedhealth: no, related phrases if ...\n",
      "498    508  (1) weightbasedhealth: no, related phrases if ...\n",
      "499   3670  (1) weightbasedhealth: no, related phrases if ...\n"
     ]
    },
    {
     "name": "stderr",
     "output_type": "stream",
     "text": [
      "Processing batch:   5%|▌         | 51/1000 [48:32<15:04:24, 57.18s/it]"
     ]
    },
    {
     "name": "stdout",
     "output_type": "stream",
     "text": [
      "     sm_id                                      answer_string\n",
      "500   2350  (1) weightbasedhealth: no\\n(2) weightstigma: y...\n",
      "501    201  (1) weightbasedhealth: no, related phrases if ...\n",
      "502   1763  (1) weightbasedhealth: no, related phrases if ...\n",
      "503     74  (1) weightbasedhealth: no, related phrases if ...\n",
      "504    180  (1) weightbasedhealth: no, related phrases if ...\n",
      "505    517  (1) weightbasedhealth: no, related phrases if ...\n",
      "506    670  (1) weightbasedhealth: yes, related phrases if...\n",
      "507    670  (1) weightbasedhealth: yes, related phrases: \"...\n",
      "508   1712  (1) weightbasedhealth: no, related phrases if ...\n",
      "509    478  (1) weightbasedhealth: no, related phrases if ...\n"
     ]
    },
    {
     "name": "stderr",
     "output_type": "stream",
     "text": [
      "Processing batch:   5%|▌         | 52/1000 [49:32<15:14:32, 57.88s/it]"
     ]
    },
    {
     "name": "stdout",
     "output_type": "stream",
     "text": [
      "     sm_id                                      answer_string\n",
      "510    494  (1) weightbasedhealth: no, related phrases if ...\n",
      "511    181  (1) weightbasedhealth: no, related phrases if ...\n",
      "512   3468  (1) weightbasedhealth: no, related phrases if ...\n",
      "513   4562  (1) weightbasedhealth: no, related phrases if ...\n",
      "514    681  (1) weightbasedhealth: no, related phrases if ...\n",
      "515    681  (1) weightbasedhealth: no, related phrases if ...\n",
      "516   4215  (1) weightbasedhealth: no, related phrases if ...\n",
      "517   3091  (1) weightbasedhealth: no, related phrases if ...\n",
      "518    168  (1) weightbasedhealth: no, related phrases if ...\n",
      "519    205  (1) weightbasedhealth: no, related phrases if ...\n"
     ]
    },
    {
     "name": "stderr",
     "output_type": "stream",
     "text": [
      "Processing batch:   5%|▌         | 53/1000 [50:30<15:15:46, 58.02s/it]"
     ]
    },
    {
     "name": "stdout",
     "output_type": "stream",
     "text": [
      "     sm_id                                      answer_string\n",
      "520   4754  (1) weightbasedhealth: no, related phrases if ...\n",
      "521   1641  (1) weightbasedhealth: no, related phrases if ...\n",
      "522   2208  (1) weightbasedhealth: no, related phrases if ...\n",
      "523    925  (1) weightbasedhealth: no, related phrases if ...\n",
      "524   4469  (1) weightbasedhealth: no, related phrases if ...\n",
      "525    565  (1) weightbasedhealth: no, related phrases if ...\n",
      "526   3569  (1) weightbasedhealth: no, related phrases if ...\n",
      "527   2697  (1) weightbasedhealth: no, related phrases if ...\n",
      "528   1867  (1) weightbasedhealth: no, related phrases if ...\n",
      "529   4349  (1) weightbasedhealth: no, related phrases if ...\n"
     ]
    },
    {
     "name": "stderr",
     "output_type": "stream",
     "text": [
      "Processing batch:   5%|▌         | 54/1000 [51:32<15:30:18, 59.00s/it]"
     ]
    },
    {
     "name": "stdout",
     "output_type": "stream",
     "text": [
      "     sm_id                                      answer_string\n",
      "530   2441  (1) weightbasedhealth: no, related phrases if ...\n",
      "531   2260  (1) weightbasedhealth: no, related phrases if ...\n",
      "532   4712  (1) weightbasedhealth: no, related phrases if ...\n",
      "533    997  (1) weightbasedhealth: no, related phrases if ...\n",
      "534    691  (1) weightbasedhealth: no, related phrases if ...\n",
      "535   1500  (1) weightbasedhealth: no, related phrases if ...\n",
      "536   3425  (1) weightbasedhealth: no, related phrases if ...\n",
      "537   2433  (1) weightbasedhealth: no, related phrases if ...\n",
      "538   1548  (1) weightbasedhealth: no, related phrases if ...\n",
      "539    264  (1) weightbasedhealth: no, related phrases if ...\n"
     ]
    },
    {
     "name": "stderr",
     "output_type": "stream",
     "text": [
      "Processing batch:   6%|▌         | 55/1000 [52:28<15:14:35, 58.07s/it]"
     ]
    },
    {
     "name": "stdout",
     "output_type": "stream",
     "text": [
      "     sm_id                                      answer_string\n",
      "540   2829  (1) weightbasedhealth: no, related phrases if ...\n",
      "541   1212  (1) weightbasedhealth: no, related phrases if ...\n",
      "542   4160  (1) weightbasedhealth: no, related phrases if ...\n",
      "543   1554  (1) weightbasedhealth: no, related phrases if ...\n",
      "544    384  (1) weightbasedhealth: no, related phrases if ...\n",
      "545   3857  (1) weightbasedhealth: no, related phrases if ...\n",
      "546   1919  (1) weightbasedhealth: no, related phrases if ...\n",
      "547     71  (1) weightbasedhealth: no, related phrases if ...\n",
      "548   4436  (1) weightbasedhealth: no, related phrases if ...\n",
      "549   4126  (1) weightbasedhealth: no, related phrases if ...\n"
     ]
    },
    {
     "name": "stderr",
     "output_type": "stream",
     "text": [
      "Processing batch:   6%|▌         | 56/1000 [53:22<14:56:14, 56.96s/it]"
     ]
    },
    {
     "name": "stdout",
     "output_type": "stream",
     "text": [
      "     sm_id                                      answer_string\n",
      "550   2508  (1) weightbasedhealth: no\\n(2) weightstigma: y...\n",
      "551   4019  (1) weightbasedhealth: no, related phrases if ...\n",
      "552   1154  (1) weightbasedhealth: no, related phrases if ...\n",
      "553    794  (1) weightbasedhealth: no, related phrases if ...\n",
      "554   4279  (1) weightbasedhealth: no, related phrases if ...\n",
      "555    550  (1) weightbasedhealth: no, related phrases if ...\n",
      "556    679  (1) weightbasedhealth: no, related phrases if ...\n",
      "557   1549  (1) weightbasedhealth: no, related phrases if ...\n",
      "558   1966  (1) weightbasedhealth: no, related phrases if ...\n",
      "559   1310  (1) weightbasedhealth: no, related phrases if ...\n"
     ]
    },
    {
     "name": "stderr",
     "output_type": "stream",
     "text": [
      "Processing batch:   6%|▌         | 57/1000 [54:22<15:08:15, 57.79s/it]"
     ]
    },
    {
     "name": "stdout",
     "output_type": "stream",
     "text": [
      "     sm_id                                      answer_string\n",
      "560    839  (1) weightbasedhealth: no, related phrases if ...\n",
      "561    391  (1) weightbasedhealth: no, related phrases if ...\n",
      "562   1902  (1) weightbasedhealth: no, related phrases if ...\n",
      "563   1972  (1) weightbasedhealth: no, related phrases if ...\n",
      "564   1171  (1) weightbasedhealth: no, related phrases if ...\n",
      "565   1968  (1) weightbasedhealth: no, related phrases if ...\n",
      "566   2268  (1) weightbasedhealth: no, related phrases if ...\n",
      "567   1015  (1) weightbasedhealth: no, related phrases if ...\n",
      "568   2688  (1) weightbasedhealth: no, related phrases if ...\n",
      "569   4040  (1) weightbasedhealth: no, related phrases if ...\n"
     ]
    },
    {
     "name": "stderr",
     "output_type": "stream",
     "text": [
      "Processing batch:   6%|▌         | 58/1000 [55:21<15:16:28, 58.37s/it]"
     ]
    },
    {
     "name": "stdout",
     "output_type": "stream",
     "text": [
      "     sm_id                                      answer_string\n",
      "570   1981  (1) weightbasedhealth: no, related phrases if ...\n",
      "571     45  (1) weightbasedhealth: no, related phrases if ...\n",
      "572   4396  (1) weightbasedhealth: no, related phrases if ...\n",
      "573   1703  (1) weightbasedhealth: no, related phrases if ...\n",
      "574    731  (1) weightbasedhealth: no, related phrases if ...\n",
      "575   1726  (1) weightbasedhealth: no, related phrases if ...\n",
      "576   1592  (1) weightbasedhealth: no, related phrases if ...\n",
      "577     54  (1) weightbasedhealth: no, related phrases if ...\n",
      "578    665  (1) weightbasedhealth: no, related phrases if ...\n",
      "579   3793  (1) weightbasedhealth: no\\n(2) weightstigma: y...\n"
     ]
    },
    {
     "name": "stderr",
     "output_type": "stream",
     "text": [
      "Processing batch:   6%|▌         | 59/1000 [56:18<15:09:44, 58.01s/it]"
     ]
    },
    {
     "name": "stdout",
     "output_type": "stream",
     "text": [
      "     sm_id                                      answer_string\n",
      "580   3092  (1) weightbasedhealth: no, related phrases if ...\n",
      "581    128  (1) weightbasedhealth: no, related phrases if ...\n",
      "582   2106  (1) weightbasedhealth: no, related phrases if ...\n",
      "583   2258  (1) weightbasedhealth: no, related phrases if ...\n",
      "584    354  (1) weightbasedhealth: no, related phrases if ...\n",
      "585   3911  (1) weightbasedhealth: no, related phrases if ...\n",
      "586   1742  (1) weightbasedhealth: no, related phrases if ...\n",
      "587    631  (1) weightbasedhealth: no, related phrases if ...\n",
      "588    970  (1) weightbasedhealth: no, related phrases if ...\n",
      "589   2766  (1) weightbasedhealth: no, related phrases if ...\n"
     ]
    },
    {
     "name": "stderr",
     "output_type": "stream",
     "text": [
      "Processing batch:   6%|▌         | 60/1000 [57:15<15:03:34, 57.68s/it]"
     ]
    },
    {
     "name": "stdout",
     "output_type": "stream",
     "text": [
      "     sm_id                                      answer_string\n",
      "590   1517  (1) weightbasedhealth: no, related phrases if ...\n",
      "591   3943  (1) weightbasedhealth: no, related phrases if ...\n",
      "592    807  (1) weightbasedhealth: no, related phrases if ...\n",
      "593   3510  (1) weightbasedhealth: no, related phrases if ...\n",
      "594   3719  (1) weightbasedhealth: no, related phrases if ...\n",
      "595    801  (1) weightbasedhealth: no, related phrases if ...\n",
      "596   3638  (1) weightbasedhealth: no, related phrases if ...\n",
      "597   1958  (1) weightbasedhealth: no, related phrases if ...\n",
      "598   3582  (1) weightbasedhealth: no, related phrases if ...\n",
      "599   1573  (1) weightbasedhealth: no, related phrases if ...\n"
     ]
    },
    {
     "name": "stderr",
     "output_type": "stream",
     "text": [
      "Processing batch:   6%|▌         | 61/1000 [58:15<15:10:05, 58.15s/it]"
     ]
    },
    {
     "name": "stdout",
     "output_type": "stream",
     "text": [
      "     sm_id                                      answer_string\n",
      "600   3997  (1) weightbasedhealth: no, related phrases if ...\n",
      "601   3745  (1) weightbasedhealth: no\\n(2) weightstigma: y...\n",
      "602   4244  (1) weightbasedhealth: no, related phrases if ...\n",
      "603   3515  (1) weightbasedhealth: no, related phrases if ...\n",
      "604   1789  (1) weightbasedhealth: no, related phrases if ...\n",
      "605   1386  (1) weightbasedhealth: no, related phrases if ...\n",
      "606   3031  (1) weightbasedhealth: no, related phrases if ...\n",
      "607   3459  (1) weightbasedhealth: no, related phrases if ...\n",
      "608     86  (1) weightbasedhealth: no, related phrases if ...\n",
      "609    667  (1) weightbasedhealth: no, related phrases if ...\n"
     ]
    },
    {
     "name": "stderr",
     "output_type": "stream",
     "text": [
      "Processing batch:   6%|▌         | 62/1000 [59:14<15:12:56, 58.40s/it]"
     ]
    },
    {
     "name": "stdout",
     "output_type": "stream",
     "text": [
      "     sm_id                                      answer_string\n",
      "610   3782  (1) weightbasedhealth: no, related phrases if ...\n",
      "611   1930  (1) weightbasedhealth: no, related phrases if ...\n",
      "612   3528  (1) weightbasedhealth: no, related phrases if ...\n",
      "613   2465  (1) weightbasedhealth: no, related phrases if ...\n",
      "614   2518  (1) weightbasedhealth: no, related phrases if ...\n",
      "615   3319  (1) weightbasedhealth: no, related phrases if ...\n",
      "616   1868  (1) weightbasedhealth: no, related phrases if ...\n",
      "617    705  (1) weightbasedhealth: no, related phrases if ...\n",
      "618   2654  (1) weightbasedhealth: no, related phrases if ...\n",
      "619   3304  (1) weightbasedhealth: no, related phrases if ...\n"
     ]
    },
    {
     "name": "stderr",
     "output_type": "stream",
     "text": [
      "Processing batch:   6%|▋         | 63/1000 [1:00:10<15:01:20, 57.72s/it]"
     ]
    },
    {
     "name": "stdout",
     "output_type": "stream",
     "text": [
      "     sm_id                                      answer_string\n",
      "620   3171  (1) weightbasedhealth: no, related phrases if ...\n",
      "621   1350  (1) weightbasedhealth: no, related phrases if ...\n",
      "622   2655  (1) weightbasedhealth: no, related phrases if ...\n",
      "623   1610  (1) weightbasedhealth: no, related phrases if ...\n",
      "624   4491  (1) weightbasedhealth: no, related phrases if ...\n",
      "625   1575  (1) weightbasedhealth: no, related phrases if ...\n",
      "626   3620  (1) weightbasedhealth: no, related phrases if ...\n",
      "627   3083  (1) weightbasedhealth: no, related phrases if ...\n",
      "628   2150  (1) weightbasedhealth: no, related phrases if ...\n",
      "629   2944  (1) weightbasedhealth: no, related phrases if ...\n"
     ]
    },
    {
     "name": "stderr",
     "output_type": "stream",
     "text": [
      "Processing batch:   6%|▋         | 64/1000 [1:01:08<15:01:47, 57.81s/it]"
     ]
    },
    {
     "name": "stdout",
     "output_type": "stream",
     "text": [
      "     sm_id                                      answer_string\n",
      "630   4240  (1) weightbasedhealth: no, related phrases if ...\n",
      "631   3659  (1) weightbasedhealth: no, related phrases if ...\n",
      "632     82  (1) weightbasedhealth: no, related phrases if ...\n",
      "633   3984  (1) weightbasedhealth: no, related phrases if ...\n",
      "634   1459  (1) weightbasedhealth: no, related phrases if ...\n",
      "635    580  (1) weightbasedhealth: no, related phrases if ...\n",
      "636    474  (1) weightbasedhealth: no, related phrases if ...\n",
      "637   3429  (1) weightbasedhealth: no, related phrases if ...\n",
      "638   1164  (1) weightbasedhealth: no, related phrases if ...\n",
      "639   3106  (1) weightbasedhealth: no, related phrases if ...\n"
     ]
    },
    {
     "name": "stderr",
     "output_type": "stream",
     "text": [
      "Processing batch:   6%|▋         | 65/1000 [1:02:08<15:13:14, 58.60s/it]"
     ]
    },
    {
     "name": "stdout",
     "output_type": "stream",
     "text": [
      "     sm_id                                      answer_string\n",
      "640   1910  (1) weightbasedhealth: no, related phrases if ...\n",
      "641   4461  (1) weightbasedhealth: no, related phrases if ...\n",
      "642    955  (1) weightbasedhealth: no, related phrases if ...\n",
      "643    612  (1) weightbasedhealth: no, related phrases if ...\n",
      "644   2619  (1) weightbasedhealth: no, related phrases if ...\n",
      "645   1100  (1) weightbasedhealth: no, related phrases if ...\n",
      "646   3664  (1) weightbasedhealth: no, related phrases if ...\n",
      "647   3464  (1) weightbasedhealth: no, related phrases if ...\n",
      "648    939  (1) weightbasedhealth: no, related phrases if ...\n",
      "649   3706  (1) weightbasedhealth: no, related phrases if ...\n"
     ]
    },
    {
     "name": "stderr",
     "output_type": "stream",
     "text": [
      "Processing batch:   7%|▋         | 66/1000 [1:03:09<15:22:25, 59.26s/it]"
     ]
    },
    {
     "name": "stdout",
     "output_type": "stream",
     "text": [
      "     sm_id                                      answer_string\n",
      "650   2719  (1) weightbasedhealth: no, related phrases if ...\n",
      "651    295  (1) weightbasedhealth: no, related phrases if ...\n",
      "652   3231  (1) weightbasedhealth: no, related phrases if ...\n",
      "653   1671  (1) weightbasedhealth: no, related phrases if ...\n",
      "654   2223  (1) weightbasedhealth: no, related phrases if ...\n",
      "655   2607  (1) weightbasedhealth: no, related phrases if ...\n",
      "656    138  (1) weightbasedhealth: no, related phrases if ...\n",
      "657   3433  (1) weightbasedhealth: no, related phrases if ...\n",
      "658    460  (1) weightbasedhealth: no, related phrases if ...\n",
      "659   4333  (1) weightbasedhealth: no, related phrases if ...\n"
     ]
    },
    {
     "name": "stderr",
     "output_type": "stream",
     "text": [
      "Processing batch:   7%|▋         | 67/1000 [1:04:09<15:23:12, 59.37s/it]"
     ]
    },
    {
     "name": "stdout",
     "output_type": "stream",
     "text": [
      "     sm_id                                      answer_string\n",
      "660   1805  (1) weightbasedhealth: no, related phrases if ...\n",
      "661   4783  (1) weightbasedhealth: no, related phrases if ...\n",
      "662   2782  (1) weightbasedhealth: no, related phrases if ...\n",
      "663   4661  (1) weightbasedhealth: no, related phrases if ...\n",
      "664   4353  (1) weightbasedhealth: no, related phrases if ...\n",
      "665   2776  (1) weightbasedhealth: no, related phrases if ...\n",
      "666   1342  (1) weightbasedhealth: no, related phrases if ...\n",
      "667   3118  (1) weightbasedhealth: no, related phrases if ...\n",
      "668   4034  (1) weightbasedhealth: no, related phrases if ...\n",
      "669   3312  (1) weightbasedhealth: no, related phrases if ...\n"
     ]
    },
    {
     "name": "stderr",
     "output_type": "stream",
     "text": [
      "Processing batch:   7%|▋         | 68/1000 [1:05:10<15:29:25, 59.83s/it]"
     ]
    },
    {
     "name": "stdout",
     "output_type": "stream",
     "text": [
      "     sm_id                                      answer_string\n",
      "670   1932  (1) weightbasedhealth: no, related phrases if ...\n",
      "671   1557  (1) weightbasedhealth: no, related phrases if ...\n",
      "672    799  (1) weightbasedhealth: no, related phrases if ...\n",
      "673   2639  (1) weightbasedhealth: no, related phrases if ...\n",
      "674   2422  (1) weightbasedhealth: no, related phrases if ...\n",
      "675   2601  (1) weightbasedhealth: no, related phrases if ...\n",
      "676   3127  (1) weightbasedhealth: no, related phrases if ...\n",
      "677   3076  (1) weightbasedhealth: no, related phrases if ...\n",
      "678    211  (1) weightbasedhealth: no, related phrases if ...\n",
      "679   3969  (1) weightbasedhealth: no, related phrases if ...\n"
     ]
    },
    {
     "name": "stderr",
     "output_type": "stream",
     "text": [
      "Processing batch:   7%|▋         | 69/1000 [1:06:07<15:18:14, 59.18s/it]"
     ]
    },
    {
     "name": "stdout",
     "output_type": "stream",
     "text": [
      "     sm_id                                      answer_string\n",
      "680   1041  (1) weightbasedhealth: no, related phrases if ...\n",
      "681   2220  (1) weightbasedhealth: no, related phrases if ...\n",
      "682    100  (1) weightbasedhealth: no, related phrases if ...\n",
      "683   1858  (1) weightbasedhealth: no, related phrases if ...\n",
      "684   3875  (1) weightbasedhealth: no, related phrases if ...\n",
      "685   4498  (1) weightbasedhealth: no, related phrases if ...\n",
      "686    392  (1) weightbasedhealth: no, related phrases if ...\n",
      "687    600  (1) weightbasedhealth: no, related phrases if ...\n",
      "688    190  (1) weightbasedhealth: no, related phrases if ...\n",
      "689   1343  (1) weightbasedhealth: no, related phrases if ...\n"
     ]
    },
    {
     "name": "stderr",
     "output_type": "stream",
     "text": [
      "Processing batch:   7%|▋         | 70/1000 [1:07:05<14:51:26, 57.51s/it]"
     ]
    },
    {
     "name": "stdout",
     "output_type": "stream",
     "text": [
      "     sm_id                                      answer_string\n",
      "690   2398  (1) weightbasedhealth: no, related phrases if ...\n",
      "691   1917  (1) weightbasedhealth: no, related phrases if ...\n",
      "692   1917  (1) weightbasedhealth: no, related phrases if ...\n",
      "693   2204  (1) weightbasedhealth: no, related phrases if ...\n",
      "694   2887  (1) weightbasedhealth: no, related phrases if ...\n",
      "695    648  (1) weightbasedhealth: no, related phrases if ...\n",
      "696   1120  (1) weightbasedhealth: no\\n(2) weightstigma: y...\n",
      "697   3115  (1) weightbasedhealth: no, related phrases if ...\n",
      "698   4214  (1) weightbasedhealth: no, related phrases if ...\n",
      "699    591  (1) weightbasedhealth: no, related phrases if ...\n"
     ]
    },
    {
     "name": "stderr",
     "output_type": "stream",
     "text": [
      "\n"
     ]
    }
   ],
   "source": [
    "from tqdm import tqdm\n",
    "for k in tqdm(range(1000), desc=\"Processing batch\"):\n",
    "    batch_size = 10\n",
    "\n",
    "    # Filter for rows where 'answer_string' is NaN\n",
    "    unanswered_df = answer_df[answer_df['answer_string'].isna()]\n",
    "\n",
    "    # Get the indices of these NaN entries in the original DataFrame\n",
    "    indices_to_update = unanswered_df.index[:batch_size]\n",
    "\n",
    "    # Prepare prompt content for the first 10 entries with NaN answer_string\n",
    "    user_messages = [format_user_message(text) for text in unanswered_df['text_w_eos'].iloc[:batch_size]]\n",
    "\n",
    "    # Save the indices list if needed for later use\n",
    "    indices_to_update_list = list(indices_to_update)\n",
    "\n",
    "    if len(indices_to_update_list)>0:\n",
    "        # query process\n",
    "        messages = [ [ {\"role\": \"system\", \"content\": system_message}, {\"role\": \"user\", \"content\": user_message}] for user_message in user_messages]\n",
    "        inputs = [tokenizer.apply_chat_template(\n",
    "            message,\n",
    "            tokenize=False,\n",
    "            add_generation_prompt=True ) for message in messages]\n",
    "        responses = []\n",
    "        for i in range(len(inputs)):\n",
    "            model_inputs = tokenizer([inputs[i]], return_tensors=\"pt\").to(model.device)\n",
    "            generated_ids = model.generate(\n",
    "                **model_inputs,\n",
    "                max_new_tokens=512,\n",
    "                temperature=0.1\n",
    "            )\n",
    "            generated_ids = [\n",
    "                output_ids[len(input_ids):] for input_ids, output_ids in zip(model_inputs.input_ids, generated_ids)\n",
    "            ]\n",
    "            responses.append(tokenizer.batch_decode(generated_ids, skip_special_tokens=True)[0])\n",
    "\n",
    "        # Display and process responses in a loop\n",
    "        for i, response in enumerate(responses):\n",
    "            #display(Markdown(colorize_text(f\"{response}\")))\n",
    "            # Extract answer if available\n",
    "            answer = response\n",
    "            # Use the original index from indices_to_update_list\n",
    "            answer_df.loc[indices_to_update_list[i], 'answer_string'] = answer\n",
    "\n",
    "        print(answer_df.loc[indices_to_update_list, ['sm_id','answer_string']])\n",
    "        answer_df.to_csv(answer_df_path, index=False)\n",
    "    \n",
    "    else:\n",
    "        break\n",
    "    \n"
   ]
  },
  {
   "cell_type": "code",
   "execution_count": 6,
   "id": "0a4b632c-3ffd-4047-8d8b-4b37e4c8cd74",
   "metadata": {},
   "outputs": [],
   "source": [
    "import pandas as pd\n",
    "\n",
    "# File paths\n",
    "file_paths = [\n",
    "    \"../../data2/answer_df_qwen1.csv\",\n",
    "    \"../../data2/answer_df_qwen2.csv\"\n",
    "]\n",
    "\n",
    "# Read and concatenate dataframes\n",
    "answer_df_list = [pd.read_csv(file_path) for file_path in file_paths]\n",
    "answer_df = pd.concat(answer_df_list, ignore_index=True)\n",
    "\n",
    "# Save the concatenated dataframe\n",
    "output_path = \"../../data2/answer_df_qwen.csv\"\n",
    "answer_df.to_csv(output_path, index=False)\n"
   ]
  },
  {
   "cell_type": "code",
   "execution_count": null,
   "id": "32427d0b-cbc0-401d-ac37-61f8c010e7a4",
   "metadata": {},
   "outputs": [],
   "source": []
  }
 ],
 "metadata": {
  "kernelspec": {
   "display_name": "Python 3 (ipykernel)",
   "language": "python",
   "name": "python3"
  },
  "language_info": {
   "codemirror_mode": {
    "name": "ipython",
    "version": 3
   },
   "file_extension": ".py",
   "mimetype": "text/x-python",
   "name": "python",
   "nbconvert_exporter": "python",
   "pygments_lexer": "ipython3",
   "version": "3.11.4"
  }
 },
 "nbformat": 4,
 "nbformat_minor": 5
}
