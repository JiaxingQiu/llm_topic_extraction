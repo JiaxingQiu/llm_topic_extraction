{
 "cells": [
  {
   "cell_type": "code",
   "execution_count": 3,
   "id": "6179aa83-a654-462b-93f4-014d34a15504",
   "metadata": {
    "tags": []
   },
   "outputs": [],
   "source": [
    "# from transformers import AutoModelForCausalLM, AutoTokenizer\n",
    "\n",
    "# model_name = \"Qwen/Qwen2.5-7B-Instruct\"\n",
    "\n",
    "# model = AutoModelForCausalLM.from_pretrained(\n",
    "#     model_name,\n",
    "#     torch_dtype=\"auto\",\n",
    "#     device_map=\"auto\"\n",
    "# )\n",
    "# tokenizer = AutoTokenizer.from_pretrained(model_name)\n",
    "\n",
    "# prompt = \"Give me a short introduction to large language model.\"\n",
    "# messages = [\n",
    "#     {\"role\": \"system\", \"content\": \"You are Qwen, created by Alibaba Cloud. You are a helpful assistant.\"},\n",
    "#     {\"role\": \"user\", \"content\": prompt}\n",
    "# ]\n",
    "# text = tokenizer.apply_chat_template(\n",
    "#     messages,\n",
    "#     tokenize=False,\n",
    "#     add_generation_prompt=True\n",
    "# )\n",
    "# model_inputs = tokenizer([text], return_tensors=\"pt\").to(model.device)\n",
    "\n",
    "# generated_ids = model.generate(\n",
    "#     **model_inputs,\n",
    "#     max_new_tokens=512\n",
    "# )\n",
    "# generated_ids = [\n",
    "#     output_ids[len(input_ids):] for input_ids, output_ids in zip(model_inputs.input_ids, generated_ids)\n",
    "# ]\n",
    "\n",
    "# response = tokenizer.batch_decode(generated_ids, skip_special_tokens=True)[0]\n"
   ]
  },
  {
   "cell_type": "code",
   "execution_count": 42,
   "id": "94d0ea23-772a-4b9b-b908-ed6b4fc352c0",
   "metadata": {
    "tags": []
   },
   "outputs": [],
   "source": [
    "file_id = 1\n",
    "answer_df_path = \"../../qwen_data/answer_df_part\"+str(file_id)+\".csv\""
   ]
  },
  {
   "cell_type": "code",
   "execution_count": 35,
   "id": "5a955e79-49c2-40a3-8de3-c47063f05b73",
   "metadata": {
    "tags": []
   },
   "outputs": [
    {
     "name": "stdout",
     "output_type": "stream",
     "text": [
      "True\n"
     ]
    },
    {
     "data": {
      "application/vnd.jupyter.widget-view+json": {
       "model_id": "342869f0a5f5489aa826f05a51309885",
       "version_major": 2,
       "version_minor": 0
      },
      "text/plain": [
       "Loading checkpoint shards:   0%|          | 0/4 [00:00<?, ?it/s]"
      ]
     },
     "metadata": {},
     "output_type": "display_data"
    }
   ],
   "source": [
    "import torch\n",
    "from transformers import AutoModelForCausalLM, AutoTokenizer\n",
    "\n",
    "\n",
    "print(torch.cuda.is_available())\n",
    "if torch.cuda.is_available():\n",
    "    torch.cuda.empty_cache()\n",
    "device = 0 if torch.cuda.is_available() else -1  # Use GPU if available, otherwise fallback to CPU\n",
    "\n",
    "model_name = \"Qwen/Qwen2.5-7B-Instruct\"\n",
    "\n",
    "model = AutoModelForCausalLM.from_pretrained(\n",
    "    model_name,\n",
    "    torch_dtype=torch.float16, #torch_dtype=\"auto\",\n",
    "    device_map=\"auto\" if device == 0 else None,  # Automatically distribute across devices or use CPU\n",
    ")\n",
    "tokenizer = AutoTokenizer.from_pretrained(model_name)\n"
   ]
  },
  {
   "cell_type": "code",
   "execution_count": 43,
   "id": "973c4a0a-6f6b-4bf3-bcac-93a277849336",
   "metadata": {
    "tags": []
   },
   "outputs": [
    {
     "name": "stdout",
     "output_type": "stream",
     "text": [
      "(9647, 3)\n",
      "       sm_id                                         text_w_eos  \\\n",
      "175  1062gua  have gotten into fryingbaking super firm tofu ...   \n",
      "176  1066t0q  anyone else go through cycles of feeling attra...   \n",
      "177  1068zm3  im such a picky eater and its so formal sit do...   \n",
      "178  106gk9g  this is the thread for week ly questions and s...   \n",
      "179  106hm9e  i just want to know if there is any difference...   \n",
      "180  106m5hx  full texthttpswww. sciencedirect. comsciencear...   \n",
      "181  106pbcy  was in santa fe for christmas and i am missing...   \n",
      "182  106qdg2  i am struggling with severe fatigue in the mor...   \n",
      "183  106sguj  i sometimes add salt when i am cooking and i a...   \n",
      "184  106t0bv  i am an italian student and i want to eat heal...   \n",
      "\n",
      "                                         answer_string  \n",
      "175  (1) relation: no,\\n(2) protein: yes, related p...  \n",
      "176  (1) relation: no,\\n(2) protein: no,\\n(3) ed: n...  \n",
      "177  (1) relation: no,\\n(2) protein: no,\\n(3) ed: n...  \n",
      "178  (1) relation: no,\\n(2) protein: no,\\n(3) ed: n...  \n",
      "179  (1) relation: no,\\n(2) protein: no,\\n(3) ed: n...  \n",
      "180                                                NaN  \n",
      "181                                                NaN  \n",
      "182                                                NaN  \n",
      "183                                                NaN  \n",
      "184                                                NaN  \n"
     ]
    }
   ],
   "source": [
    "import pandas as pd\n",
    "import numpy as np\n",
    "answer_df = pd.read_csv(answer_df_path)\n",
    "query_df = pd.read_csv(\"../../data/fea_df.csv\")\n",
    "\n",
    "if not 'answer_string' in answer_df.columns:\n",
    "    answer_df['answer_string'] = np.nan\n",
    "    \n",
    "print(answer_df.shape)\n",
    "print(answer_df.iloc[175:185,])"
   ]
  },
  {
   "cell_type": "code",
   "execution_count": 44,
   "id": "1001c299-b4c8-4db3-9b3b-580ebb07c202",
   "metadata": {
    "tags": []
   },
   "outputs": [],
   "source": [
    "system_message = \"\"\"\n",
    "You are an AI assistant designed to answer questions.\n",
    "Please restrict your answer to the exact question and use the exact answer format asked.\n",
    "Answer should not have implied information. If the answer is yes, always provide related phrases. \n",
    "\"\"\"\n",
    "\n",
    "def format_user_message(text):\n",
    "    question_content = \"Does the paragraph mention any of the following topics:\\n\"\n",
    "    for i in range(len(query_df)):\n",
    "        question_content += f\"  ({i+1}) {query_df.fea[i]}: {query_df.description[i]}.\\n\"\n",
    "    answer_content = \"Return answer in format:\\n\"\n",
    "    for i in range(len(query_df)): \n",
    "        answer_content += f\"  ({i+1}) {query_df.fea[i]}: [yes/no], related phrases if any: \\n\"\n",
    "    paragragh_content = f\"Paragraph: '{text}' \\n\"\n",
    "    user_message = question_content + answer_content + paragragh_content\n",
    "    #print(user_message)\n",
    "    \n",
    "    return user_message\n",
    "\n",
    "\n"
   ]
  },
  {
   "cell_type": "code",
   "execution_count": null,
   "id": "122355be-ec3a-44e8-bfdb-c99f24f7cd1f",
   "metadata": {
    "tags": []
   },
   "outputs": [
    {
     "name": "stderr",
     "output_type": "stream",
     "text": [
      "Processing batch:   0%|          | 1/1000 [00:59<16:27:48, 59.33s/it]"
     ]
    },
    {
     "name": "stdout",
     "output_type": "stream",
     "text": [
      "       sm_id                                      answer_string\n",
      "180  106m5hx  (1) relation: no,\\nrelated phrases if any: \\n(...\n",
      "181  106pbcy  (1) relation: no,\\n(2) protein: no,\\n(3) ed: n...\n",
      "182  106qdg2  (1) relation: no,\\n(2) protein: no,\\n(3) ed: n...\n",
      "183  106sguj  (1) relation: no,\\n(2) protein: no,\\n(3) ed: n...\n",
      "184  106t0bv  (1) relation: no,\\nrelated phrases if any: \\n(...\n",
      "185  106tan5  (1) relation: no,\\n(2) protein: no,\\n(3) ed: n...\n",
      "186  106u3dy  (1) relation: no,\\n(2) protein: no,\\n(3) ed: n...\n",
      "187  106wc2c  (1) relation: no,\\n(2) protein: no,\\n(3) ed: n...\n",
      "188  106xam9  (1) relation: no,\\n(2) protein: yes, related p...\n",
      "189  1071kgl  (1) relation: no,\\n(2) protein: no,\\n(3) ed: n...\n"
     ]
    },
    {
     "name": "stderr",
     "output_type": "stream",
     "text": [
      "Processing batch:   0%|          | 2/1000 [01:55<15:58:01, 57.60s/it]"
     ]
    },
    {
     "name": "stdout",
     "output_type": "stream",
     "text": [
      "       sm_id                                      answer_string\n",
      "190  1071q1y  (1) relation: no,\\n(2) protein: no,\\n(3) ed: n...\n",
      "191  107239r  (1) relation: no,\\n(2) protein: no,\\n(3) ed: n...\n",
      "192  1072c8b  (1) relation: no,\\n(2) protein: no,\\n(3) ed: y...\n",
      "193  1073fp2  (1) relation: no,\\n(2) protein: no,\\n(3) ed: n...\n",
      "194  1075g7b  (1) relation: no\\n(2) protein: no\\n(3) ed: no\\...\n",
      "195  1075tqt  (1) relation: no\\n(2) protein: no\\n(3) ed: no\\...\n",
      "196  1078sex  (1) relation: no,\\n(2) protein: no,\\n(3) ed: n...\n",
      "197  107c8gm  (1) relation: no,\\n(2) protein: yes, related p...\n",
      "198  107cccb  (1) relation: no,\\n(2) protein: no,\\n(3) ed: n...\n",
      "199  107etzd  (1) relation: no,\\nrelated phrases if any: \\n(...\n"
     ]
    },
    {
     "name": "stderr",
     "output_type": "stream",
     "text": [
      "Processing batch:   0%|          | 3/1000 [02:48<15:21:52, 55.48s/it]"
     ]
    },
    {
     "name": "stdout",
     "output_type": "stream",
     "text": [
      "       sm_id                                      answer_string\n",
      "200  107i4no  (1) relation: no,\\n(2) protein: no,\\n(3) ed: n...\n",
      "201  107ixfs  (1) relation: no,\\n(2) protein: yes, related p...\n",
      "202  107jgia  (1) relation: no\\n(2) protein: no\\n(3) ed: no\\...\n",
      "203  107js32  (1) relation: no,\\n(2) protein: no,\\n(3) ed: n...\n",
      "204  107lxsr  (1) relation: no,\\n(2) protein: no,\\n(3) ed: n...\n",
      "205  107mer2  (1) relation: yes, related phrases: husband\\n(...\n",
      "206  107mpkd  (1) relation: no,\\n(2) protein: no,\\n(3) ed: n...\n",
      "207  107mqly  (1) relation: no,\\n(2) protein: no,\\n(3) ed: y...\n",
      "208  107n7os  (1) relation: no,\\n(2) protein: no,\\n(3) ed: n...\n",
      "209  107pz99  (1) relation: yes, related phrases if any: hus...\n"
     ]
    },
    {
     "name": "stderr",
     "output_type": "stream",
     "text": [
      "Processing batch:   0%|          | 4/1000 [03:43<15:17:04, 55.25s/it]"
     ]
    },
    {
     "name": "stdout",
     "output_type": "stream",
     "text": [
      "       sm_id                                      answer_string\n",
      "210  107qvv9  (1) relation: no,\\n(2) protein: yes, related p...\n",
      "211  107s204  (1) relation: no\\n(2) protein: no\\n(3) ed: no\\...\n",
      "212  107tgz3  (1) relation: no,\\n(2) protein: no,\\n(3) ed: n...\n",
      "213  107tm3z  (1) relation: no,\\n(2) protein: no,\\n(3) ed: n...\n",
      "214  107u6z8  (1) relation: no,\\n(2) protein: no,\\n(3) ed: n...\n",
      "215  107wnqf  (1) relation: no,\\n(2) protein: no,\\n(3) ed: n...\n",
      "216  107ykkh  (1) relation: yes, related phrases if any: pic...\n",
      "217  107z68t  (1) relation: no\\n(2) protein: no\\n(3) ed: no\\...\n",
      "218  1080ejx  (1) relation: no,\\n(2) protein: no,\\n(3) ed: n...\n",
      "219  1081u9l  (1) relation: no,\\n(2) protein: no,\\n(3) ed: n...\n"
     ]
    },
    {
     "name": "stderr",
     "output_type": "stream",
     "text": [
      "Processing batch:   0%|          | 5/1000 [04:41<15:33:54, 56.32s/it]"
     ]
    },
    {
     "name": "stdout",
     "output_type": "stream",
     "text": [
      "       sm_id                                      answer_string\n",
      "220  1083mas  (1) relation: yes, related phrases if any: sis...\n",
      "221  1084ril  (1) relation: no,\\n(2) protein: no,\\n(3) ed: y...\n",
      "222  10859jg  (1) relation: no,\\n(2) protein: no,\\n(3) ed: n...\n",
      "223  1087h1g  (1) relation: no,\\n(2) protein: no,\\n(3) ed: n...\n",
      "224  10880hs  (1) relation: no,\\n(2) protein: no,\\n(3) ed: n...\n",
      "225  10881si  (1) relation: no,\\n(2) protein: no,\\n(3) ed: n...\n",
      "226  108adci  (1) relation: no,\\n(2) protein: no,\\n(3) ed: n...\n",
      "227  108b1pa  (1) relation: no,\\n(2) protein: no,\\n(3) ed: n...\n",
      "228  108bp1z  (1) relation: yes, related phrases if any: fam...\n",
      "229  108cpmj  (1) relation: yes, related phrases if any: nep...\n"
     ]
    },
    {
     "name": "stderr",
     "output_type": "stream",
     "text": [
      "Processing batch:   1%|          | 6/1000 [05:36<15:23:27, 55.74s/it]"
     ]
    },
    {
     "name": "stdout",
     "output_type": "stream",
     "text": [
      "       sm_id                                      answer_string\n",
      "230  108divv  (1) relation: no,\\n(2) protein: yes, related p...\n",
      "231  108enh9  (1) relation: no\\n(2) protein: no\\n(3) ed: no\\...\n",
      "232  108i941  (1) relation: no,\\n(2) protein: no,\\n(3) ed: n...\n",
      "233  108kc61  (1) relation: no,\\n(2) protein: no,\\n(3) ed: y...\n",
      "234  108khoe  (1) relation: no,\\n(2) protein: no,\\n(3) ed: n...\n",
      "235  108l09p  (1) relation: no,\\n(2) protein: no,\\n(3) ed: n...\n",
      "236  108l0hc  (1) relation: no\\n(2) protein: no\\n(3) ed: no\\...\n",
      "237  108m36i  (1) relation: no,\\n(2) protein: no,\\n(3) ed: n...\n",
      "238  108rhmb  (1) relation: no,\\n(2) protein: no,\\n(3) ed: n...\n",
      "239  108rqty  (1) relation: no,\\n(2) protein: no,\\n(3) ed: y...\n"
     ]
    },
    {
     "name": "stderr",
     "output_type": "stream",
     "text": [
      "Processing batch:   1%|          | 7/1000 [06:35<15:42:58, 56.98s/it]"
     ]
    },
    {
     "name": "stdout",
     "output_type": "stream",
     "text": [
      "       sm_id                                      answer_string\n",
      "240  108tc0b  (1) relation: no,\\nrelated phrases if any: \\n(...\n",
      "241  108thay  (1) relation: no,\\n(2) protein: no,\\n(3) ed: n...\n",
      "242  108ucrr  (1) relation: no\\n(2) protein: no\\n(3) ed: no\\...\n",
      "243  108vvqk  (1) relation: no,\\n(2) protein: no,\\n(3) ed: y...\n",
      "244  108wmfs  (1) relation: yes, related phrases if any: fam...\n",
      "245  108wz8r  (1) relation: no,\\n(2) protein: no,\\n(3) ed: n...\n",
      "246  10934n5  (1) relation: no,\\nrelated phrases if any: \\n(...\n",
      "247  1096kui  (1) relation: no,\\n(2) protein: yes, related p...\n",
      "248  1097nkq  (1) relation: no,\\n(2) protein: no,\\n(3) ed: n...\n",
      "249  1099dsd  (1) relation: yes, related phrases if any: sis...\n"
     ]
    },
    {
     "name": "stderr",
     "output_type": "stream",
     "text": [
      "Processing batch:   1%|          | 8/1000 [07:34<15:49:47, 57.45s/it]"
     ]
    },
    {
     "name": "stdout",
     "output_type": "stream",
     "text": [
      "       sm_id                                      answer_string\n",
      "250  109adml  (1) relation: no,\\n(2) protein: no,\\n(3) ed: n...\n",
      "251  109arh6  (1) relation: no,\\n(2) protein: no,\\n(3) ed: n...\n",
      "252  109bmxt  (1) relation: no,\\nrelated phrases if any: \\n(...\n",
      "253  109fvsc  (1) relation: no,\\n(2) protein: no,\\n(3) ed: n...\n",
      "254  109hel1  (1) relation: no,\\n(2) protein: no,\\n(3) ed: n...\n",
      "255  109izvs  (1) relation: no,\\n(2) protein: no,\\n(3) ed: n...\n",
      "256  109nvpr  (1) relation: no,\\n(2) protein: yes, related p...\n",
      "257  109o3u0  (1) relation: no,\\nrelated phrases if any: \\n(...\n",
      "258  109phig  (1) relation: no,\\n(2) protein: no,\\n(3) ed: n...\n",
      "259  109q2ma  (1) relation: no\\n(2) protein: no\\n(3) ed: no\\...\n"
     ]
    },
    {
     "name": "stderr",
     "output_type": "stream",
     "text": [
      "Processing batch:   1%|          | 9/1000 [08:29<15:35:14, 56.62s/it]"
     ]
    },
    {
     "name": "stdout",
     "output_type": "stream",
     "text": [
      "       sm_id                                      answer_string\n",
      "260  109t3bs  (1) relation: no,\\n(2) protein: no,\\n(3) ed: n...\n",
      "261  109wvb7  (1) relation: no,\\n(2) protein: no,\\n(3) ed: n...\n",
      "262  109ylii  (1) relation: no\\n(2) protein: no\\n(3) ed: no\\...\n",
      "263  10a00j1  (1) relation: no,\\n(2) protein: no,\\n(3) ed: n...\n",
      "264  10a05iu  (1) relation: no\\n(2) protein: no\\n(3) ed: yes...\n",
      "265  10a0mxa  (1) relation: no,\\n(2) protein: no,\\n(3) ed: n...\n",
      "266  10a0vhz  (1) relation: no,\\n(2) protein: no,\\n(3) ed: n...\n",
      "267  10a2zyf  (1) relation: no\\n(2) protein: no\\n(3) ed: no\\...\n",
      "268  10a40zy  (1) relation: no,\\n(2) protein: no,\\n(3) ed: y...\n",
      "269  10a58ko  (1) relation: no,\\n(2) protein: no,\\n(3) ed: n...\n"
     ]
    },
    {
     "name": "stderr",
     "output_type": "stream",
     "text": [
      "Processing batch:   1%|          | 10/1000 [09:26<15:35:47, 56.71s/it]"
     ]
    },
    {
     "name": "stdout",
     "output_type": "stream",
     "text": [
      "       sm_id                                      answer_string\n",
      "270  10a594f  (1) relation: no,\\n(2) protein: no,\\n(3) ed: n...\n",
      "271  10a5i5o  (1) relation: no\\n(2) protein: no\\n(3) ed: no\\...\n",
      "272  10a898y  (1) relation: no,\\n(2) protein: no,\\n(3) ed: n...\n",
      "273  10a9gru  (1) relation: no,\\nrelated phrases if any: \\n(...\n",
      "274  10aamgf  (1) relation: no,\\n(2) protein: no,\\n(3) ed: n...\n",
      "275  10aekoc  (1) relation: no\\n(2) protein: no\\n(3) ed: yes...\n",
      "276  10agnbv  (1) relation: no\\n(2) protein: no\\n(3) ed: no\\...\n",
      "277  10ahte7  (1) relation: no,\\n(2) protein: no,\\n(3) ed: n...\n",
      "278  10aipj7  (1) relation: no,\\n(2) protein: no,\\n(3) ed: n...\n",
      "279  10amqw9  (1) relation: no,\\n(2) protein: no,\\n(3) ed: n...\n"
     ]
    },
    {
     "name": "stderr",
     "output_type": "stream",
     "text": [
      "Processing batch:   1%|          | 11/1000 [10:30<16:15:00, 59.15s/it]"
     ]
    },
    {
     "name": "stdout",
     "output_type": "stream",
     "text": [
      "       sm_id                                      answer_string\n",
      "280  10anc17  (1) relation: no\\n(2) protein: no\\n(3) ed: no\\...\n",
      "281  10aphrc  (1) relation: no,\\n(2) protein: no,\\n(3) ed: y...\n",
      "282   10arf4  (1) relation: [no], related phrases if any: \\n...\n",
      "283  10as2zt  (1) relation: no\\n(2) protein: no\\n(3) ed: no\\...\n",
      "284  10attt5  (1) relation: no,\\n(2) protein: no,\\n(3) ed: y...\n",
      "285  10ay67r  (1) relation: yes, related phrases if any: dat...\n",
      "286  10aym4x  (1) relation: no,\\n(2) protein: no,\\n(3) ed: n...\n",
      "287  10ayzec  (1) relation: no,\\nrelated phrases if any: \\n(...\n",
      "288  10b0a45  (1) relation: no,\\nrelated phrases if any: \\n(...\n",
      "289  10b0o74  (1) relation: no,\\n(2) protein: no,\\n(3) ed: n...\n"
     ]
    },
    {
     "name": "stderr",
     "output_type": "stream",
     "text": [
      "Processing batch:   1%|          | 12/1000 [11:27<16:00:06, 58.31s/it]"
     ]
    },
    {
     "name": "stdout",
     "output_type": "stream",
     "text": [
      "       sm_id                                      answer_string\n",
      "290  10b16xp  (1) relation: no,\\n(2) protein: no,\\n(3) ed: n...\n",
      "291  10b1tes  (1) relation: no,\\n(2) protein: no,\\n(3) ed: n...\n",
      "292  10b2eq6  (1) relation: no,\\n(2) protein: no,\\n(3) ed: n...\n",
      "293  10b363p  (1) relation: no,\\n(2) protein: no,\\n(3) ed: n...\n",
      "294  10bg6ty  (1) relation: no,\\n(2) protein: no,\\n(3) ed: n...\n",
      "295  10bgzr9  (1) relation: no,\\n(2) protein: no,\\n(3) ed: y...\n",
      "296  10bjvsq  (1) relation: no,\\n(2) protein: no,\\n(3) ed: n...\n",
      "297  10bl8z6  (1) relation: no,\\n(2) protein: no,\\n(3) ed: n...\n",
      "298  10blzxt  (1) relation: no,\\n(2) protein: no,\\n(3) ed: n...\n",
      "299  10bmewi  (1) relation: no,\\n(2) protein: no,\\n(3) ed: n...\n"
     ]
    },
    {
     "name": "stderr",
     "output_type": "stream",
     "text": [
      "Processing batch:   1%|▏         | 13/1000 [12:34<16:43:33, 61.01s/it]"
     ]
    },
    {
     "name": "stdout",
     "output_type": "stream",
     "text": [
      "       sm_id                                      answer_string\n",
      "300  10br5i3  (1) relation: no,\\nrelated phrases if any: \\n(...\n",
      "301  10br8pg  (1) relation: no,\\n(2) protein: no,\\n(3) ed: n...\n",
      "302  10btm9r  (1) relation: no,\\nrelated phrases if any: \\n(...\n",
      "303  10bup88  (1) relation: no,\\n(2) protein: no,\\n(3) ed: n...\n",
      "304  10bv9ut  (1) relation: no,\\nrelated phrases if any: \\n(...\n",
      "305  10bwlgs  (1) relation: no,\\n(2) protein: yes, related p...\n",
      "306  10bwlnn  (1) relation: no\\n(2) protein: no\\n(3) ed: no\\...\n",
      "307  10bxbzw  (1) relation: yes, related phrases if any: vis...\n",
      "308  10bz5gr  (1) relation: no\\n(2) protein: no\\n(3) ed: no\\...\n",
      "309  10bztul  (1) relation: no,\\n(2) protein: yes, related p...\n"
     ]
    },
    {
     "name": "stderr",
     "output_type": "stream",
     "text": [
      "Processing batch:   1%|▏         | 14/1000 [13:39<17:00:47, 62.12s/it]"
     ]
    },
    {
     "name": "stdout",
     "output_type": "stream",
     "text": [
      "       sm_id                                      answer_string\n",
      "310  10c5fz1  (1) relation: no,\\n(2) protein: yes, related p...\n",
      "311  10c6m7p  (1) relation: [no], related phrases if any: \\n...\n",
      "312  10c7ayt  (1) relation: no\\n(2) protein: no\\n(3) ed: no\\...\n",
      "313  10c82j4  (1) relation: no,\\n(2) protein: no,\\n(3) ed: n...\n",
      "314  10cg2us  (1) relation: no,\\n(2) protein: no,\\n(3) ed: y...\n",
      "315  10ch2d1  (1) relation: no,\\n(2) protein: no,\\n(3) ed: n...\n",
      "316  10ck3hs  (1) relation: no\\n(2) protein: no\\n(3) ed: no\\...\n",
      "317  10ckuz4  (1) relation: no,\\n(2) protein: no,\\n(3) ed: n...\n",
      "318  10cm8rn  (1) relation: no,\\n(2) protein: no,\\n(3) ed: n...\n",
      "319  10cqdov  (1) relation: yes, related phrases if any: par...\n"
     ]
    },
    {
     "name": "stderr",
     "output_type": "stream",
     "text": [
      "Processing batch:   2%|▏         | 15/1000 [14:33<16:22:19, 59.84s/it]"
     ]
    },
    {
     "name": "stdout",
     "output_type": "stream",
     "text": [
      "       sm_id                                      answer_string\n",
      "320  10cqwf6  (1) relation: no\\n(2) protein: no\\n(3) ed: yes...\n",
      "321  10cs9vr  (1) relation: no,\\n(2) protein: no,\\n(3) ed: n...\n",
      "322  10csze0  (1) relation: no,\\n(2) protein: no,\\n(3) ed: n...\n",
      "323  10cw52d  (1) relation: no,\\n(2) protein: no,\\n(3) ed: n...\n",
      "324  10d0e5l  (1) relation: no,\\n(2) protein: no,\\n(3) ed: n...\n",
      "325  10d0osg  (1) relation: no,\\nrelated phrases if any: \\n(...\n",
      "326  10d14k6  (1) relation: no,\\n(2) protein: no,\\n(3) ed: n...\n",
      "327  10d1pkh  (1) relation: no,\\n(2) protein: no,\\n(3) ed: n...\n",
      "328  10d8k0k  (1) relation: no,\\n(2) protein: no,\\n(3) ed: n...\n",
      "329  10d8yc0  (1) relation: no,\\n(2) protein: no,\\n(3) ed: n...\n"
     ]
    },
    {
     "name": "stderr",
     "output_type": "stream",
     "text": [
      "Processing batch:   2%|▏         | 16/1000 [15:38<16:48:00, 61.46s/it]"
     ]
    },
    {
     "name": "stdout",
     "output_type": "stream",
     "text": [
      "       sm_id                                      answer_string\n",
      "330  10dcd11  (1) relation: no,\\n(2) protein: no,\\n(3) ed: n...\n",
      "331  10df08r  (1) relation: no,\\n(2) protein: no,\\n(3) ed: n...\n",
      "332  10df44k  (1) relation: no,\\n(2) protein: no,\\n(3) ed: n...\n",
      "333  10dgnzy  (1) relation: no,\\n(2) protein: no,\\n(3) ed: y...\n",
      "334  10dgws0  (1) relation: no,\\n(2) protein: no,\\n(3) ed: n...\n",
      "335  10dh623  (1) relation: no,\\n(2) protein: no,\\n(3) ed: n...\n",
      "336  10dk3ic  (1) relation: no,\\n(2) protein: no,\\n(3) ed: n...\n",
      "337  10dmhlc  (1) relation: no\\n(2) protein: no\\n(3) ed: yes...\n",
      "338  10dnikm  (1) relation: no\\n(2) protein: yes, related ph...\n",
      "339   10dnvu  (1) relation: no\\n(2) protein: no\\n(3) ed: no\\...\n"
     ]
    },
    {
     "name": "stderr",
     "output_type": "stream",
     "text": [
      "Processing batch:   2%|▏         | 17/1000 [16:38<16:37:33, 60.89s/it]"
     ]
    },
    {
     "name": "stdout",
     "output_type": "stream",
     "text": [
      "       sm_id                                      answer_string\n",
      "340  10dr8et  (1) relation: no\\n(2) protein: no\\n(3) ed: no\\...\n",
      "341  10dr9c7  (1) relation: no,\\n(2) protein: no,\\n(3) ed: n...\n",
      "342  10dripg  (1) relation: no,\\n(2) protein: no,\\n(3) ed: n...\n",
      "343  10duyg9  (1) relation: no,\\n(2) protein: no,\\n(3) ed: n...\n",
      "344  10dvqxl  (1) relation: no,\\n(2) protein: no,\\n(3) ed: n...\n",
      "345  10dw2et  (1) relation: no,\\nrelated phrases if any: \\n(...\n",
      "346  10dwif9  (1) relation: [no], related phrases if any: \\n...\n",
      "347  10dy4um  (1) relation: no,\\n(2) protein: no,\\n(3) ed: n...\n",
      "348  10dydq8  (1) relation: no,\\n(2) protein: no,\\n(3) ed: n...\n",
      "349  10dz0tw  (1) relation: no,\\n(2) protein: no,\\n(3) ed: n...\n"
     ]
    },
    {
     "name": "stderr",
     "output_type": "stream",
     "text": [
      "Processing batch:   2%|▏         | 18/1000 [17:41<16:48:18, 61.61s/it]"
     ]
    },
    {
     "name": "stdout",
     "output_type": "stream",
     "text": [
      "       sm_id                                      answer_string\n",
      "350  10dz24z  (1) relation: no,\\n(2) protein: no,\\n(3) ed: y...\n",
      "351  10dzywp  (1) relation: no,\\n(2) protein: no,\\n(3) ed: n...\n",
      "352  10e0elf  (1) relation: no,\\n(2) protein: no,\\n(3) ed: n...\n",
      "353  10e19ia  (1) relation: no,\\nrelated phrases if any: \\n(...\n",
      "354  10e1uwn  (1) relation: no,\\n(2) protein: yes, related p...\n",
      "355  10e3no2  (1) relation: no,\\n(2) protein: no,\\n(3) ed: n...\n",
      "356  10e8m4s  (1) relation: no,\\n(2) protein: no,\\n(3) ed: n...\n",
      "357  10e9s29  (1) relation: no,\\n(2) protein: no,\\n(3) ed: n...\n",
      "358  10ean2u  (1) relation: no,\\n(2) protein: yes, related p...\n",
      "359  10ebvcr  (1) relation: no,\\n(2) protein: yes, related p...\n"
     ]
    },
    {
     "name": "stderr",
     "output_type": "stream",
     "text": [
      "Processing batch:   2%|▏         | 19/1000 [18:39<16:29:28, 60.52s/it]"
     ]
    },
    {
     "name": "stdout",
     "output_type": "stream",
     "text": [
      "       sm_id                                      answer_string\n",
      "360  10ec5az  (1) relation: no\\n(2) protein: no\\n(3) ed: yes...\n",
      "361  10ed0zv  (1) relation: no,\\n(2) protein: no,\\n(3) ed: n...\n",
      "362  10edxqg  (1) relation: no,\\n(2) protein: yes, related p...\n",
      "363  10ehiav  (1) relation: no,\\n(2) protein: no,\\n(3) ed: n...\n",
      "364  10ehjqm  (1) relation: no,\\n(2) protein: no,\\n(3) ed: n...\n",
      "365  10eky2a  (1) relation: no,\\n(2) protein: no,\\n(3) ed: n...\n",
      "366  10el8xu  (1) relation: no\\n(2) protein: no\\n(3) ed: no\\...\n",
      "367  10ela58  (1) relation: no,\\n(2) protein: no,\\n(3) ed: n...\n",
      "368  10elcec  (1) relation: no\\n(2) protein: no\\n(3) ed: no\\...\n",
      "369  10elva5  (1) relation: no,\\n(2) protein: no,\\n(3) ed: n...\n"
     ]
    },
    {
     "name": "stderr",
     "output_type": "stream",
     "text": [
      "Processing batch:   2%|▏         | 20/1000 [19:34<16:00:12, 58.79s/it]"
     ]
    },
    {
     "name": "stdout",
     "output_type": "stream",
     "text": [
      "       sm_id                                      answer_string\n",
      "370  10emsfh  (1) relation: no,\\nrelated phrases if any: \\n(...\n",
      "371  10enwax  (1) relation: no,\\n(2) protein: no,\\n(3) ed: n...\n",
      "372  10eo9tn  (1) relation: no,\\n(2) protein: no,\\n(3) ed: y...\n",
      "373  10ep7i4  (1) relation: yes, related phrases if any: dau...\n",
      "374  10epocp  (1) relation: yes, related phrases: family, co...\n",
      "375  10eqjv5  (1) relation: no,\\n(2) protein: no,\\n(3) ed: n...\n",
      "376  10eqkn5  (1) relation: yes, related phrases if any: att...\n",
      "377  10eqzhi  (1) relation: no,\\n(2) protein: no,\\n(3) ed: n...\n",
      "378  10er34s  (1) relation: no,\\n(2) protein: no,\\n(3) ed: y...\n",
      "379  10erx5z  (1) relation: no\\n(2) protein: no\\n(3) ed: no\\...\n"
     ]
    },
    {
     "name": "stderr",
     "output_type": "stream",
     "text": [
      "Processing batch:   2%|▏         | 21/1000 [20:35<16:11:33, 59.54s/it]"
     ]
    },
    {
     "name": "stdout",
     "output_type": "stream",
     "text": [
      "       sm_id                                      answer_string\n",
      "380  10etbrg  (1) relation: no,\\n(2) protein: no,\\n(3) ed: n...\n",
      "381  10etef7  (1) relation: no,\\n(2) protein: no,\\n(3) ed: n...\n",
      "382  10etqqs  (1) relation: no\\n(2) protein: no\\n(3) ed: no\\...\n",
      "383  10euo7q  (1) relation: no,\\nrelated phrases if any: \\n(...\n",
      "384  10euy0v  (1) relation: no,\\nrelated phrases if any: \\n(...\n",
      "385  10ewb5p  (1) relation: no,\\nrelated phrases if any: \\n(...\n",
      "386  10ex34j  (1) relation: no,\\n(2) protein: no,\\n(3) ed: n...\n",
      "387  10eyncw  (1) relation: no,\\n(2) protein: no,\\n(3) ed: n...\n",
      "388  10f5a2m  (1) relation: no,\\n(2) protein: no,\\n(3) ed: n...\n",
      "389  10fd2qq  (1) relation: no,\\n(2) protein: no,\\n(3) ed: n...\n"
     ]
    },
    {
     "name": "stderr",
     "output_type": "stream",
     "text": [
      "Processing batch:   2%|▏         | 22/1000 [21:33<16:03:38, 59.12s/it]"
     ]
    },
    {
     "name": "stdout",
     "output_type": "stream",
     "text": [
      "       sm_id                                      answer_string\n",
      "390  10ffd70  (1) relation: no\\n(2) protein: no\\n(3) ed: no\\...\n",
      "391  10fgwgk  (1) relation: no,\\n(2) protein: no,\\n(3) ed: n...\n",
      "392  10fh67y  (1) relation: no,\\n(2) protein: no,\\n(3) ed: n...\n",
      "393  10fhbc4  (1) relation: no,\\n(2) protein: no,\\n(3) ed: n...\n",
      "394  10fmoyj  (1) relation: no\\n(2) protein: no\\n(3) ed: no\\...\n",
      "395  10fnb94  (1) relation: no,\\n(2) protein: no,\\n(3) ed: y...\n",
      "396  10fpomq  (1) relation: no\\n(2) protein: no\\n(3) ed: no\\...\n",
      "397  10ft6c4  (1) relation: no,\\n(2) protein: no,\\n(3) ed: n...\n",
      "398  10fteso  (1) relation: no\\n(2) protein: no\\n(3) ed: no\\...\n",
      "399  10fu5yn  (1) relation: no,\\n(2) protein: yes, related p...\n"
     ]
    },
    {
     "name": "stderr",
     "output_type": "stream",
     "text": [
      "Processing batch:   2%|▏         | 23/1000 [22:31<15:56:26, 58.74s/it]"
     ]
    },
    {
     "name": "stdout",
     "output_type": "stream",
     "text": [
      "       sm_id                                      answer_string\n",
      "400  10fup5j  (1) relation: no,\\n(2) protein: no,\\n(3) ed: n...\n",
      "401  10furv4  (1) relation: no,\\n(2) protein: no,\\n(3) ed: n...\n",
      "402  10fyrh7  (1) relation: no,\\n(2) protein: no,\\n(3) ed: n...\n",
      "403  10fzkcp  (1) relation: no\\n(2) protein: no\\n(3) ed: yes...\n",
      "404  10g2kmj  (1) relation: no,\\n(2) protein: no,\\n(3) ed: n...\n",
      "405  10g5lvz  (1) relation: no\\n(2) protein: no\\n(3) ed: no\\...\n",
      "406  10g6a2u  (1) relation: no,\\n(2) protein: yes, related p...\n",
      "407  10g7gej  (1) relation: no,\\n(2) protein: no,\\n(3) ed: n...\n",
      "408  10g84ql  (1) relation: yes, related phrases if any: dat...\n",
      "409  10g8y4h  (1) relation: no,\\n(2) protein: no,\\n(3) ed: n...\n"
     ]
    },
    {
     "name": "stderr",
     "output_type": "stream",
     "text": [
      "Processing batch:   2%|▏         | 24/1000 [23:26<15:37:32, 57.64s/it]"
     ]
    },
    {
     "name": "stdout",
     "output_type": "stream",
     "text": [
      "       sm_id                                      answer_string\n",
      "410  10ga5xj  (1) relation: no,\\n(2) protein: no,\\n(3) ed: n...\n",
      "411  10gb4eh  (1) relation: no,\\n(2) protein: no,\\n(3) ed: n...\n",
      "412  10gbgyj  (1) relation: no,\\n(2) protein: no,\\n(3) ed: n...\n",
      "413  10gcfpj  (1) relation: no,\\n(2) protein: no,\\n(3) ed: n...\n",
      "414  10gclsh  (1) relation: yes, related phrases if any: cow...\n",
      "415  10gdd1h  (1) relation: no\\n(2) protein: no\\n(3) ed: no\\...\n",
      "416  10ge3ni  (1) relation: no,\\n(2) protein: no,\\n(3) ed: n...\n",
      "417  10giinz  (1) relation: no\\n(2) protein: yes, related ph...\n",
      "418  10gikuc  (1) relation: no,\\n(2) protein: no,\\n(3) ed: n...\n",
      "419  10gk9f1  (1) relation: no,\\n(2) protein: no,\\n(3) ed: n...\n"
     ]
    },
    {
     "name": "stderr",
     "output_type": "stream",
     "text": [
      "Processing batch:   2%|▎         | 25/1000 [24:23<15:31:28, 57.32s/it]"
     ]
    },
    {
     "name": "stdout",
     "output_type": "stream",
     "text": [
      "       sm_id                                      answer_string\n",
      "420  10gnlah  (1) relation: no,\\n(2) protein: no,\\n(3) ed: n...\n",
      "421  10goz7n  (1) relation: no,\\n(2) protein: no,\\n(3) ed: n...\n",
      "422  10gsf4v  (1) relation: no,\\n(2) protein: no,\\n(3) ed: y...\n",
      "423  10gwggc  (1) relation: no,\\n(2) protein: no,\\n(3) ed: n...\n",
      "424  10gwtzq  (1) relation: no,\\n(2) protein: no,\\n(3) ed: n...\n",
      "425  10h25a4  (1) relation: yes, related phrases if any: fri...\n",
      "426  10h2cny  (1) relation: no,\\n(2) protein: no,\\n(3) ed: y...\n",
      "427  10h2wuw  (1) relation: no,\\n(2) protein: no,\\n(3) ed: n...\n",
      "428  10h3099  (1) relation: no\\n(2) protein: no\\n(3) ed: no\\...\n",
      "429  10h5abd  (1) relation: no,\\n(2) protein: no,\\n(3) ed: y...\n"
     ]
    },
    {
     "name": "stderr",
     "output_type": "stream",
     "text": [
      "Processing batch:   3%|▎         | 26/1000 [25:18<15:18:05, 56.56s/it]"
     ]
    },
    {
     "name": "stdout",
     "output_type": "stream",
     "text": [
      "       sm_id                                      answer_string\n",
      "430  10h6nlo  (1) relation: no,\\n(2) protein: no,\\n(3) ed: n...\n",
      "431  10h7fl7  (1) relation: no\\n(2) protein: no\\n(3) ed: no\\...\n",
      "432  10h7x4s  (1) relation: no,\\n(2) protein: no,\\n(3) ed: n...\n",
      "433  10h8wct  (1) relation: no,\\n(2) protein: no,\\n(3) ed: n...\n",
      "434  10hag8c  (1) relation: no,\\n(2) protein: no,\\n(3) ed: n...\n",
      "435  10hce12  (1) relation: yes, related phrases if any: see...\n",
      "436  10he1nf  (1) relation: no,\\n(2) protein: no,\\n(3) ed: n...\n",
      "437  10hhndc  (1) relation: no\\n(2) protein: no\\n(3) ed: no\\...\n",
      "438  10hih1z  (1) relation: no,\\n(2) protein: no,\\n(3) ed: n...\n",
      "439  10hihiv  (1) relation: no,\\n(2) protein: no,\\n(3) ed: n...\n"
     ]
    },
    {
     "name": "stderr",
     "output_type": "stream",
     "text": [
      "Processing batch:   3%|▎         | 27/1000 [26:12<15:04:48, 55.79s/it]"
     ]
    },
    {
     "name": "stdout",
     "output_type": "stream",
     "text": [
      "       sm_id                                      answer_string\n",
      "440  10hio8x  (1) relation: no,\\n(2) protein: no,\\n(3) ed: n...\n",
      "441  10hmyo9  (1) relation: no,\\n(2) protein: no,\\n(3) ed: n...\n",
      "442  10huo1c  (1) relation: no\\n(2) protein: no\\n(3) ed: no\\...\n",
      "443  10hvoal  (1) relation: no,\\n(2) protein: no,\\n(3) ed: y...\n",
      "444  10hxjuz  (1) relation: no\\n(2) protein: no\\n(3) ed: no\\...\n",
      "445  10i0zob  (1) relation: no,\\n(2) protein: no,\\n(3) ed: n...\n",
      "446  10i2629  (1) relation: no,\\n(2) protein: no,\\n(3) ed: y...\n",
      "447  10i33ep  (1) relation: yes, related phrases if any: fam...\n",
      "448  10i4gy6  (1) relation: no,\\n(2) protein: no,\\n(3) ed: n...\n",
      "449  10i5ks9  (1) relation: no\\n(2) protein: yes, related ph...\n"
     ]
    },
    {
     "name": "stderr",
     "output_type": "stream",
     "text": [
      "Processing batch:   3%|▎         | 28/1000 [27:05<14:49:44, 54.92s/it]"
     ]
    },
    {
     "name": "stdout",
     "output_type": "stream",
     "text": [
      "       sm_id                                      answer_string\n",
      "450  10i5u2u  (1) relation: no\\n(2) protein: no\\n(3) ed: no\\...\n",
      "451  10i5zyz  (1) relation: no,\\n(2) protein: no,\\n(3) ed: n...\n",
      "452  10i60x8  (1) relation: no,\\n(2) protein: yes, related p...\n",
      "453  10i8pjm  (1) relation: no,\\n(2) protein: no,\\n(3) ed: n...\n",
      "454  10iau7s  (1) relation: no\\n(2) protein: no\\n(3) ed: no\\...\n",
      "455  10ibqx6  (1) relation: no,\\n(2) protein: no,\\n(3) ed: n...\n",
      "456  10ih5ih  (1) relation: no,\\n(2) protein: no,\\n(3) ed: n...\n",
      "457  10ih797  (1) relation: no\\n(2) protein: yes, related ph...\n",
      "458  10ijgg6  (1) relation: no,\\n(2) protein: no,\\n(3) ed: n...\n",
      "459  10ikqfn  (1) relation: no,\\n(2) protein: no,\\n(3) ed: n...\n"
     ]
    },
    {
     "name": "stderr",
     "output_type": "stream",
     "text": [
      "Processing batch:   3%|▎         | 29/1000 [28:02<15:02:50, 55.79s/it]"
     ]
    },
    {
     "name": "stdout",
     "output_type": "stream",
     "text": [
      "       sm_id                                      answer_string\n",
      "460  10ildve  (1) relation: no,\\nrelated phrases if any: \\n(...\n",
      "461  10im2r1  (1) relation: no,\\n(2) protein: no,\\n(3) ed: n...\n",
      "462  10inzbx  (1) relation: no,\\n(2) protein: no,\\n(3) ed: n...\n",
      "463  10io2rz  (1) relation: no,\\n(2) protein: no,\\n(3) ed: n...\n",
      "464  10iokc5  (1) relation: no\\n(2) protein: no\\n(3) ed: no\\...\n",
      "465  10ioo4h  (1) relation: no\\n(2) protein: no\\n(3) ed: no\\...\n",
      "466  10iotcf  (1) relation: no\\n(2) protein: no\\n(3) ed: no\\...\n",
      "467  10iqndi  (1) relation: yes, related phrases: love dearl...\n",
      "468  10isihv  (1) relation: no,\\n(2) protein: no,\\n(3) ed: n...\n",
      "469  10isw2b  (1) relation: no,\\nrelated phrases if any: \\n(...\n"
     ]
    },
    {
     "name": "stderr",
     "output_type": "stream",
     "text": [
      "Processing batch:   3%|▎         | 30/1000 [29:02<15:20:28, 56.94s/it]"
     ]
    },
    {
     "name": "stdout",
     "output_type": "stream",
     "text": [
      "       sm_id                                      answer_string\n",
      "470  10iurd8  (1) relation: yes, related phrases if any: fam...\n",
      "471  10iyjhi  (1) relation: no,\\n(2) protein: no,\\n(3) ed: n...\n",
      "472  10izh7s  (1) relation: no,\\n(2) protein: no,\\n(3) ed: n...\n",
      "473  10j0cxs  (1) relation: no,\\n(2) protein: no,\\n(3) ed: n...\n",
      "474  10j18dj  (1) relation: no,\\n(2) protein: no,\\n(3) ed: y...\n",
      "475  10j28u8  (1) relation: no,\\n(2) protein: no,\\n(3) ed: n...\n",
      "476  10j3mqo  (1) relation: no,\\n(2) protein: yes, related p...\n",
      "477  10j55tz  (1) relation: no,\\n(2) protein: no,\\n(3) ed: n...\n",
      "478  10j5kjf  (1) relation: no,\\n(2) protein: no,\\n(3) ed: n...\n",
      "479  10j7as3  (1) relation: no,\\n(2) protein: no,\\n(3) ed: n...\n"
     ]
    },
    {
     "name": "stderr",
     "output_type": "stream",
     "text": [
      "Processing batch:   3%|▎         | 31/1000 [29:57<15:10:33, 56.38s/it]"
     ]
    },
    {
     "name": "stdout",
     "output_type": "stream",
     "text": [
      "       sm_id                                      answer_string\n",
      "480  10j8gje  (1) relation: no,\\n(2) protein: no,\\n(3) ed: n...\n",
      "481  10ja3vm  (1) relation: no,\\nrelated phrases if any: \\n(...\n",
      "482  10jd84z  (1) relation: no,\\n(2) protein: no,\\n(3) ed: n...\n",
      "483  10jda8r  (1) relation: no,\\n(2) protein: no,\\n(3) ed: n...\n",
      "484  10je667  (1) relation: no,\\n(2) protein: no,\\n(3) ed: n...\n",
      "485  10jeqkl  (1) relation: no,\\n(2) protein: no,\\n(3) ed: n...\n",
      "486  10jg4wn  (1) relation: no,\\n(2) protein: no,\\n(3) ed: n...\n",
      "487  10jgz7z  (1) relation: no,\\n(2) protein: no,\\n(3) ed: n...\n",
      "488  10jhf5x  (1) relation: no,\\n(2) protein: no,\\n(3) ed: n...\n",
      "489  10jhqsf  (1) relation: no,\\n(2) protein: no,\\n(3) ed: n...\n"
     ]
    },
    {
     "name": "stderr",
     "output_type": "stream",
     "text": [
      "Processing batch:   3%|▎         | 32/1000 [30:51<14:55:45, 55.52s/it]"
     ]
    },
    {
     "name": "stdout",
     "output_type": "stream",
     "text": [
      "       sm_id                                      answer_string\n",
      "490  10jinzy  (1) relation: no,\\n(2) protein: no,\\n(3) ed: n...\n",
      "491  10jjh8g  (1) relation: no,\\n(2) protein: no,\\n(3) ed: n...\n",
      "492  10jjt77  (1) relation: no,\\n(2) protein: no,\\n(3) ed: n...\n",
      "493  10jm120  (1) relation: no\\n(2) protein: no\\n(3) ed: no\\...\n",
      "494  10jma6s  (1) relation: no,\\n(2) protein: no,\\n(3) ed: n...\n",
      "495  10jmpj7  (1) relation: no,\\n(2) protein: no,\\n(3) ed: n...\n",
      "496  10jmrnr  (1) relation: yes, related phrases if any: fam...\n",
      "497  10jpwdj  (1) relation: no,\\n(2) protein: no,\\n(3) ed: n...\n",
      "498  10jq3px  (1) relation: no,\\n(2) protein: no,\\n(3) ed: y...\n",
      "499  10js27l  (1) relation: no\\n(2) protein: no\\n(3) ed: no\\...\n"
     ]
    },
    {
     "name": "stderr",
     "output_type": "stream",
     "text": [
      "Processing batch:   3%|▎         | 33/1000 [31:54<15:33:06, 57.90s/it]"
     ]
    },
    {
     "name": "stdout",
     "output_type": "stream",
     "text": [
      "       sm_id                                      answer_string\n",
      "500  10jsuky  (1) relation: yes, related phrases if any: fam...\n",
      "501  10jsydx  (1) relation: [no], related phrases if any: \\n...\n",
      "502  10jthc6  (1) relation: no,\\n(2) protein: yes, related p...\n",
      "503  10jtrof  (1) relation: no\\n(2) protein: no\\n(3) ed: no\\...\n",
      "504  10ju4zu  (1) relation: no,\\n(2) protein: yes, related p...\n",
      "505  10jxusb  (1) relation: no\\n(2) protein: yes, related ph...\n",
      "506  10k0jj5  (1) relation: no,\\n(2) protein: no,\\n(3) ed: n...\n",
      "507  10k16yd  (1) relation: no,\\n(2) protein: yes, related p...\n",
      "508  10k43lw  (1) relation: no\\n(2) protein: no\\n(3) ed: no\\...\n",
      "509  10k4p8o  (1) relation: no,\\n(2) protein: no,\\n(3) ed: n...\n"
     ]
    },
    {
     "name": "stderr",
     "output_type": "stream",
     "text": [
      "Processing batch:   3%|▎         | 34/1000 [33:00<16:11:48, 60.36s/it]"
     ]
    },
    {
     "name": "stdout",
     "output_type": "stream",
     "text": [
      "       sm_id                                      answer_string\n",
      "510  10k5rfl  (1) relation: no,\\n(2) protein: no,\\n(3) ed: n...\n",
      "511  10k60oi  (1) relation: no,\\n(2) protein: no,\\n(3) ed: n...\n",
      "512  10k6j34  (1) relation: no,\\nrelated phrases if any: \\n(...\n",
      "513  10k6qdi  (1) relation: no\\n(2) protein: no\\n(3) ed: yes...\n",
      "514  10k78op  (1) relation: no, related phrases if any: \\n(2...\n",
      "515  10k9gho  (1) relation: no\\n(2) protein: no\\n(3) ed: no\\...\n",
      "516  10k9jfw  (1) relation: no,\\nrelated phrases if any: \\n(...\n",
      "517  10kbd9w  (1) relation: no,\\n(2) protein: yes, related p...\n",
      "518  10kcf6p  (1) relation: no\\n(2) protein: no\\n(3) ed: no\\...\n",
      "519  10kd2o5  (1) relation: no,\\n(2) protein: no,\\n(3) ed: n...\n"
     ]
    },
    {
     "name": "stderr",
     "output_type": "stream",
     "text": [
      "Processing batch:   4%|▎         | 35/1000 [34:05<16:30:17, 61.57s/it]"
     ]
    },
    {
     "name": "stdout",
     "output_type": "stream",
     "text": [
      "       sm_id                                      answer_string\n",
      "520  10kdcu0  (1) relation: no,\\nrelated phrases if any: \\n(...\n",
      "521  10kdpr0  (1) relation: no,\\n(2) protein: no,\\n(3) ed: n...\n",
      "522  10kdpub  (1) relation: no,\\n(2) protein: no,\\n(3) ed: n...\n",
      "523  10keexx  (1) relation: no,\\n(2) protein: no,\\n(3) ed: n...\n",
      "524  10kesjo  (1) relation: no,\\nrelated phrases if any: \\n(...\n",
      "525  10kf91x  (1) relation: no,\\n(2) protein: no,\\n(3) ed: n...\n",
      "526  10kfp7e  (1) relation: no,\\nrelated phrases if any: \\n(...\n",
      "527  10kg6aa  (1) relation: no,\\n(2) protein: no,\\n(3) ed: n...\n",
      "528  10kgjpa  (1) relation: yes, related phrases: decent rel...\n",
      "529  10khrlt  (1) relation: no,\\n(2) protein: no,\\n(3) ed: n...\n"
     ]
    },
    {
     "name": "stderr",
     "output_type": "stream",
     "text": [
      "Processing batch:   4%|▎         | 36/1000 [35:10<16:47:31, 62.71s/it]"
     ]
    },
    {
     "name": "stdout",
     "output_type": "stream",
     "text": [
      "       sm_id                                      answer_string\n",
      "530  10kjkxb  (1) relation: no,\\n(2) protein: no,\\n(3) ed: y...\n",
      "531  10kkg8a  (1) relation: yes, related phrases: brother\\n(...\n",
      "532  10km65d  (1) relation: no,\\nrelated phrases if any: \\n(...\n",
      "533  10kmgg4  (1) relation: no, related phrases if any: \\n(2...\n",
      "534  10koed2  (1) relation: yes, related phrases if any: nie...\n",
      "535  10krr1e  (1) relation: no,\\n(2) protein: no,\\n(3) ed: n...\n",
      "536  10kukj1  (1) relation: no,\\n(2) protein: no,\\n(3) ed: n...\n",
      "537  10kwce7  (1) relation: no\\n(2) protein: no\\n(3) ed: no\\...\n",
      "538  10kwzed  (1) relation: no,\\n(2) protein: no,\\n(3) ed: n...\n",
      "539  10l0joh  (1) relation: no,\\n(2) protein: no,\\n(3) ed: n...\n"
     ]
    },
    {
     "name": "stderr",
     "output_type": "stream",
     "text": [
      "Processing batch:   4%|▎         | 37/1000 [36:05<16:08:20, 60.33s/it]"
     ]
    },
    {
     "name": "stdout",
     "output_type": "stream",
     "text": [
      "       sm_id                                      answer_string\n",
      "540  10l176h  (1) relation: no,\\n(2) protein: no,\\n(3) ed: n...\n",
      "541  10l1bvb  (1) relation: no,\\nrelated phrases if any: \\n(...\n",
      "542  10l1wb9  (1) relation: no,\\n(2) protein: no,\\n(3) ed: n...\n",
      "543  10l2puf  (1) relation: no,\\n(2) protein: no,\\n(3) ed: n...\n",
      "544  10l4r29  (1) relation: no,\\n(2) protein: no,\\n(3) ed: n...\n",
      "545  10l64en  (1) relation: no,\\n(2) protein: no,\\n(3) ed: n...\n",
      "546  10l8t7v  (1) relation: no,\\n(2) protein: no,\\n(3) ed: n...\n",
      "547  10la5mp  (1) relation: no,\\n(2) protein: no,\\n(3) ed: n...\n",
      "548  10lafxj  (1) relation: no\\n(2) protein: no\\n(3) ed: no\\...\n",
      "549  10lanu1  (1) relation: no,\\n(2) protein: no,\\n(3) ed: n...\n"
     ]
    },
    {
     "name": "stderr",
     "output_type": "stream",
     "text": [
      "Processing batch:   4%|▍         | 38/1000 [37:04<16:01:13, 59.95s/it]"
     ]
    },
    {
     "name": "stdout",
     "output_type": "stream",
     "text": [
      "       sm_id                                      answer_string\n",
      "550  10lg23n  (1) relation: no,\\n(2) protein: no,\\n(3) ed: n...\n",
      "551  10lk153  (1) relation: no,\\n(2) protein: no,\\n(3) ed: y...\n",
      "552  10lom6z  (1) relation: no\\n(2) protein: no\\n(3) ed: no\\...\n",
      "553  10ls6no  (1) relation: no,\\n(2) protein: no,\\n(3) ed: n...\n",
      "554  10lu2lv  (1) relation: [no], related phrases if any: \\n...\n",
      "555  10lui3n  (1) relation: no,\\n(2) protein: no,\\n(3) ed: n...\n",
      "556  10lwndf  (1) relation: no,\\n(2) protein: no,\\n(3) ed: n...\n",
      "557  10lxfpi  (1) relation: no,\\n(2) protein: no,\\n(3) ed: n...\n",
      "558  10lxkek  (1) relation: no\\n(2) protein: no\\n(3) ed: no\\...\n",
      "559  10lz7x9  (1) relation: no,\\n(2) protein: no,\\n(3) ed: y...\n"
     ]
    },
    {
     "name": "stderr",
     "output_type": "stream",
     "text": [
      "Processing batch:   4%|▍         | 39/1000 [38:07<16:16:56, 61.00s/it]"
     ]
    },
    {
     "name": "stdout",
     "output_type": "stream",
     "text": [
      "       sm_id                                      answer_string\n",
      "560  10m0bm4  (1) relation: no,\\n(2) protein: no,\\n(3) ed: n...\n",
      "561  10m202y  (1) relation: no,\\n(2) protein: yes, related p...\n",
      "562  10m2by6  (1) relation: no\\n(2) protein: no\\n(3) ed: no\\...\n",
      "563  10m3qe0  (1) relation: no,\\nrelated phrases if any: \\n(...\n",
      "564  10m40sx  (1) relation: no\\n(2) protein: no\\n(3) ed: yes...\n",
      "565  10m4aiw  (1) relation: no\\n(2) protein: no\\n(3) ed: no\\...\n",
      "566  10m4fw6  (1) relation: no\\n(2) protein: no\\n(3) ed: no\\...\n",
      "567  10m5loo  (1) relation: no,\\n(2) protein: no,\\n(3) ed: n...\n",
      "568  10m5qb7  (1) relation: yes, related phrases: friendship...\n",
      "569  10m5s2u  (1) relation: no,\\n(2) protein: no,\\n(3) ed: n...\n"
     ]
    },
    {
     "name": "stderr",
     "output_type": "stream",
     "text": [
      "Processing batch:   4%|▍         | 40/1000 [39:05<16:00:43, 60.04s/it]"
     ]
    },
    {
     "name": "stdout",
     "output_type": "stream",
     "text": [
      "       sm_id                                      answer_string\n",
      "570  10m6d8z  (1) relation: no\\n(2) protein: no\\n(3) ed: no\\...\n",
      "571  10m7wv1  (1) relation: no,\\nrelated phrases if any: \\n(...\n",
      "572  10m8vlx  (1) relation: no,\\n(2) protein: no,\\n(3) ed: n...\n",
      "573  10m9sqb  (1) relation: no,\\n(2) protein: no,\\n(3) ed: n...\n",
      "574  10m9vde  (1) relation: yes, related phrases: bullied, s...\n",
      "575  10ma0ie  (1) relation: yes, related phrases if any: clo...\n",
      "576  10mbf2n  (1) relation: no,\\n(2) protein: no,\\n(3) ed: n...\n",
      "577  10mc1h1  (1) relation: no,\\n(2) protein: no,\\n(3) ed: n...\n",
      "578  10mfrdv  (1) relation: no,\\n(2) protein: no,\\n(3) ed: n...\n",
      "579  10mftro  (1) relation: no,\\n(2) protein: yes, related p...\n"
     ]
    },
    {
     "name": "stderr",
     "output_type": "stream",
     "text": [
      "Processing batch:   4%|▍         | 41/1000 [40:07<16:08:43, 60.61s/it]"
     ]
    },
    {
     "name": "stdout",
     "output_type": "stream",
     "text": [
      "       sm_id                                      answer_string\n",
      "580  10mn939  (1) relation: no,\\n(2) protein: no,\\n(3) ed: n...\n",
      "581  10mnf7j  (1) relation: no\\n(2) protein: no\\n(3) ed: yes...\n",
      "582  10mo426  (1) relation: no,\\n(2) protein: no,\\n(3) ed: n...\n",
      "583  10mouk2  (1) relation: no,\\n(2) protein: no,\\n(3) ed: n...\n",
      "584  10mpiwd  (1) relation: no, related phrases if any: \\n(2...\n",
      "585  10mpsbe  (1) relation: no\\n(2) protein: no\\n(3) ed: no\\...\n",
      "586  10mq0a0  (1) relation: no,\\n(2) protein: no,\\n(3) ed: n...\n",
      "587  10msim4  (1) relation: no,\\n(2) protein: no,\\n(3) ed: n...\n",
      "588  10mswsc  (1) relation: no,\\n(2) protein: yes, related p...\n",
      "589  10mtc10  (1) relation: no,\\nrelated phrases if any: \\n(...\n"
     ]
    },
    {
     "name": "stderr",
     "output_type": "stream",
     "text": [
      "Processing batch:   4%|▍         | 42/1000 [41:03<15:46:05, 59.25s/it]"
     ]
    },
    {
     "name": "stdout",
     "output_type": "stream",
     "text": [
      "       sm_id                                      answer_string\n",
      "590   10mwxy  (1) relation: no,\\n(2) protein: no,\\n(3) ed: n...\n",
      "591  10mwyo3  (1) relation: no\\n(2) protein: no\\n(3) ed: no\\...\n",
      "592  10mzdbb  (1) relation: no,\\n(2) protein: no,\\n(3) ed: n...\n",
      "593  10n0u4i  (1) relation: no,\\n(2) protein: no,\\n(3) ed: n...\n",
      "594  10n3o8k  (1) relation: no,\\nrelated phrases if any: \\n(...\n",
      "595  10n6s0g  (1) relation: no,\\n(2) protein: no,\\n(3) ed: n...\n",
      "596  10na0n0  (1) relation: no,\\n(2) protein: no,\\n(3) ed: n...\n",
      "597  10nanss  (1) relation: no\\n(2) protein: no\\n(3) ed: no\\...\n",
      "598  10nbvf1  (1) relation: no,\\n(2) protein: no,\\n(3) ed: n...\n",
      "599  10nd7t8  (1) relation: no,\\n(2) protein: no,\\n(3) ed: n...\n"
     ]
    },
    {
     "name": "stderr",
     "output_type": "stream",
     "text": [
      "Processing batch:   4%|▍         | 43/1000 [42:06<16:02:46, 60.36s/it]"
     ]
    },
    {
     "name": "stdout",
     "output_type": "stream",
     "text": [
      "       sm_id                                      answer_string\n",
      "600  10nflr8  (1) relation: no\\n(2) protein: no\\n(3) ed: no\\...\n",
      "601   10nkqc  (1) relation: no,\\n(2) protein: no,\\n(3) ed: n...\n",
      "602  10nks5l  (1) relation: [no]\\n(2) protein: [yes], relate...\n",
      "603  10nl9m1  (1) relation: yes, related phrases if any: par...\n",
      "604  10nlxtr  (1) relation: no,\\n(2) protein: no,\\n(3) ed: n...\n",
      "605  10nm2br  (1) relation: [no]\\n(2) protein: [no]\\n(3) ed:...\n",
      "606  10nppf1  (1) relation: no,\\n(2) protein: no,\\n(3) ed: y...\n",
      "607  10nq4hw  (1) relation: no\\n(2) protein: no\\n(3) ed: no\\...\n",
      "608  10nqjl4  (1) relation: no,\\nrelated phrases if any: \\n(...\n",
      "609  10nr03h  (1) relation: no,\\n(2) protein: no,\\n(3) ed: n...\n"
     ]
    },
    {
     "name": "stderr",
     "output_type": "stream",
     "text": [
      "Processing batch:   4%|▍         | 44/1000 [43:06<15:59:51, 60.24s/it]"
     ]
    },
    {
     "name": "stdout",
     "output_type": "stream",
     "text": [
      "       sm_id                                      answer_string\n",
      "610  10nrddx  (1) relation: yes, related phrases if any: sis...\n",
      "611  10ns617  (1) relation: no,\\n(2) protein: no,\\n(3) ed: n...\n",
      "612  10ns61v  (1) relation: no,\\n(2) protein: no,\\n(3) ed: n...\n",
      "613  10ntnl0  (1) relation: no,\\n(2) protein: no,\\n(3) ed: n...\n",
      "614  10nukdp  (1) relation: no\\n(2) protein: no\\n(3) ed: no\\...\n",
      "615  10nv98i  (1) relation: no\\n(2) protein: no\\n(3) ed: no\\...\n",
      "616  10nvjo2  (1) relation: no, related phrases if any: \\n(2...\n",
      "617  10nx0be  (1) relation: yes, related phrases: help out a...\n",
      "618  10nyxlb  (1) relation: no,\\n(2) protein: no,\\n(3) ed: n...\n",
      "619  10o1aw0  (1) relation: yes, related phrases if any: los...\n"
     ]
    },
    {
     "name": "stderr",
     "output_type": "stream",
     "text": [
      "Processing batch:   4%|▍         | 45/1000 [43:59<15:24:09, 58.06s/it]"
     ]
    },
    {
     "name": "stdout",
     "output_type": "stream",
     "text": [
      "       sm_id                                      answer_string\n",
      "620  10o21yf  (1) relation: no,\\n(2) protein: no,\\n(3) ed: n...\n",
      "621  10o294i  (1) relation: no,\\n(2) protein: no,\\n(3) ed: n...\n",
      "622  10o56mr  (1) relation: no,\\n(2) protein: no,\\n(3) ed: n...\n",
      "623  10oa3dh  (1) relation: no,\\n(2) protein: no,\\n(3) ed: n...\n",
      "624  10ob023  (1) relation: no,\\n(2) protein: yes, related p...\n",
      "625  10oblzm  (1) relation: no,\\n(2) protein: no,\\n(3) ed: n...\n",
      "626  10ocr75  (1) relation: no,\\n(2) protein: no,\\n(3) ed: n...\n",
      "627  10od4oj  (1) relation: no,\\n(2) protein: no,\\n(3) ed: n...\n",
      "628  10ofdtl  (1) relation: no,\\n(2) protein: no,\\n(3) ed: n...\n",
      "629  10oic08  (1) relation: no,\\n(2) protein: no,\\n(3) ed: n...\n"
     ]
    },
    {
     "name": "stderr",
     "output_type": "stream",
     "text": [
      "Processing batch:   5%|▍         | 46/1000 [44:53<15:02:52, 56.78s/it]"
     ]
    },
    {
     "name": "stdout",
     "output_type": "stream",
     "text": [
      "       sm_id                                      answer_string\n",
      "630  10oilh9  (1) relation: no,\\n(2) protein: no,\\n(3) ed: n...\n",
      "631  10oojjj  (1) relation: no,\\n(2) protein: no,\\n(3) ed: n...\n",
      "632  10ooo1w  (1) relation: no,\\n(2) protein: no,\\n(3) ed: y...\n",
      "633  10oqw2f  (1) relation: no,\\n(2) protein: no,\\n(3) ed: n...\n",
      "634  10or7dl  (1) relation: no,\\n(2) protein: no,\\n(3) ed: n...\n",
      "635  10oscm5  (1) relation: no\\n(2) protein: no\\n(3) ed: no\\...\n",
      "636  10ouxk0  (1) relation: yes, related phrases: crush, fon...\n",
      "637  10ov7xa  (1) relation: yes, related phrases if any: unh...\n",
      "638  10owism  (1) relation: no,\\n(2) protein: no,\\n(3) ed: n...\n",
      "639  10ox25v  (1) relation: no,\\n(2) protein: no,\\n(3) ed: n...\n"
     ]
    },
    {
     "name": "stderr",
     "output_type": "stream",
     "text": [
      "Processing batch:   5%|▍         | 47/1000 [45:59<15:46:52, 59.61s/it]"
     ]
    },
    {
     "name": "stdout",
     "output_type": "stream",
     "text": [
      "       sm_id                                      answer_string\n",
      "640  10oz5ba  (1) relation: no\\n(2) protein: no\\n(3) ed: no\\...\n",
      "641  10p14w7  (1) relation: no,\\n(2) protein: no,\\n(3) ed: y...\n",
      "642  10p4u5p  (1) relation: [no]\\n(2) protein: [no]\\n(3) ed:...\n",
      "643  10p5cxv  (1) relation: no,\\n(2) protein: no,\\n(3) ed: n...\n",
      "644  10p68og  (1) relation: yes, related phrases if any: par...\n",
      "645  10p7fgm  (1) relation: no,\\n(2) protein: no,\\n(3) ed: n...\n",
      "646  10p7t9c  (1) relation: no,\\n(2) protein: no,\\n(3) ed: n...\n",
      "647  10pa6yb  (1) relation: no\\n(2) protein: no\\n(3) ed: no\\...\n",
      "648  10pddmv  (1) relation: no,\\n(2) protein: yes, related p...\n",
      "649  10pgpmw  (1) relation: no\\n(2) protein: no\\n(3) ed: yes...\n"
     ]
    },
    {
     "name": "stderr",
     "output_type": "stream",
     "text": [
      "Processing batch:   5%|▍         | 48/1000 [46:59<15:45:56, 59.62s/it]"
     ]
    },
    {
     "name": "stdout",
     "output_type": "stream",
     "text": [
      "       sm_id                                      answer_string\n",
      "650  10pjqfl  (1) relation: [no]\\n(2) protein: [yes], relate...\n",
      "651  10pjw0p  (1) relation: no,\\n(2) protein: yes, related p...\n",
      "652  10pjwsc  (1) relation: no,\\n(2) protein: no,\\n(3) ed: n...\n",
      "653  10pk1wu  (1) relation: no,\\n(2) protein: no,\\n(3) ed: n...\n",
      "654  10pklff  (1) relation: no,\\n(2) protein: no,\\n(3) ed: y...\n",
      "655  10pl02m  (1) relation: no,\\n(2) protein: no,\\n(3) ed: n...\n",
      "656  10pm0g7  (1) relation: no,\\n(2) protein: no,\\n(3) ed: n...\n",
      "657  10pm0k1  (1) relation: no\\n(2) protein: yes, related ph...\n",
      "658  10pn57t  (1) relation: no,\\nrelated phrases if any: \\n(...\n",
      "659  10pnfhy  (1) relation: no,\\n(2) protein: no,\\n(3) ed: n...\n"
     ]
    },
    {
     "name": "stderr",
     "output_type": "stream",
     "text": [
      "Processing batch:   5%|▍         | 49/1000 [47:55<15:29:24, 58.64s/it]"
     ]
    },
    {
     "name": "stdout",
     "output_type": "stream",
     "text": [
      "       sm_id                                      answer_string\n",
      "660  10pnk4q  (1) relation: no,\\n(2) protein: no,\\n(3) ed: n...\n",
      "661  10ppo9k  (1) relation: no\\n(2) protein: no\\n(3) ed: no\\...\n",
      "662  10pq7le  (1) relation: no\\n(2) protein: no\\n(3) ed: no\\...\n",
      "663  10pr04m  (1) relation: no,\\n(2) protein: no,\\n(3) ed: n...\n",
      "664  10psrx9  (1) relation: yes, related phrases: sister\\n(2...\n",
      "665  10ptbe3  (1) relation: no,\\n(2) protein: no,\\n(3) ed: n...\n",
      "666  10pvl6r  (1) relation: no,\\n(2) protein: no,\\n(3) ed: n...\n",
      "667  10pz9ue  (1) relation: yes, related phrases: love langu...\n",
      "668  10q0x2r  (1) relation: no,\\n(2) protein: no,\\n(3) ed: n...\n",
      "669  10q275t  (1) relation: no,\\n(2) protein: no,\\n(3) ed: n...\n"
     ]
    },
    {
     "name": "stderr",
     "output_type": "stream",
     "text": [
      "Processing batch:   5%|▌         | 50/1000 [48:50<15:12:08, 57.61s/it]"
     ]
    },
    {
     "name": "stdout",
     "output_type": "stream",
     "text": [
      "       sm_id                                      answer_string\n",
      "670  10q35qf  (1) relation: no,\\n(2) protein: no,\\n(3) ed: n...\n",
      "671  10q41la  (1) relation: no,\\n(2) protein: no,\\n(3) ed: n...\n",
      "672  10q714z  (1) relation: no,\\n(2) protein: no,\\n(3) ed: n...\n",
      "673  10qbdob  (1) relation: no,\\n(2) protein: no,\\n(3) ed: n...\n",
      "674  10qbsei  (1) relation: no,\\n(2) protein: no,\\n(3) ed: n...\n",
      "675  10qbtoz  (1) relation: no,\\n(2) protein: no,\\n(3) ed: n...\n",
      "676  10qchp3  (1) relation: no,\\n(2) protein: yes, related p...\n",
      "677  10qe2ht  (1) relation: no,\\n(2) protein: no,\\n(3) ed: n...\n",
      "678  10qeivl  (1) relation: no,\\nrelated phrases if any: \\n(...\n",
      "679  10qetcs  (1) relation: no,\\n(2) protein: yes, related p...\n"
     ]
    },
    {
     "name": "stderr",
     "output_type": "stream",
     "text": [
      "Processing batch:   5%|▌         | 51/1000 [49:49<15:18:36, 58.08s/it]"
     ]
    },
    {
     "name": "stdout",
     "output_type": "stream",
     "text": [
      "       sm_id                                      answer_string\n",
      "680  10qfqbr  (1) relation: no,\\n(2) protein: no,\\n(3) ed: n...\n",
      "681  10qgrd8  (1) relation: no\\n(2) protein: no\\n(3) ed: no\\...\n",
      "682  10qh7ec  (1) relation: no\\n(2) protein: no\\n(3) ed: no\\...\n",
      "683  10qhja3  (1) relation: no,\\n(2) protein: no,\\n(3) ed: n...\n",
      "684  10qogky  (1) relation: no,\\n(2) protein: no,\\n(3) ed: n...\n",
      "685  10qpbav  (1) relation: no\\n(2) protein: yes, related ph...\n",
      "686  10qq9mm  (1) relation: no\\n(2) protein: no\\n(3) ed: no\\...\n",
      "687  10qut9f  (1) relation: no,\\nrelated phrases if any: \\n(...\n",
      "688  10qv9l1  (1) relation: no,\\n(2) protein: no,\\n(3) ed: n...\n",
      "689  10qvi2x  (1) relation: no,\\nrelated phrases if any: \\n(...\n"
     ]
    },
    {
     "name": "stderr",
     "output_type": "stream",
     "text": [
      "Processing batch:   5%|▌         | 52/1000 [50:47<15:15:46, 57.96s/it]"
     ]
    },
    {
     "name": "stdout",
     "output_type": "stream",
     "text": [
      "       sm_id                                      answer_string\n",
      "690  10qvzlm  (1) relation: no,\\n(2) protein: no,\\n(3) ed: n...\n",
      "691  10qway2  (1) relation: no,\\n(2) protein: no,\\n(3) ed: n...\n",
      "692  10r1tms  (1) relation: no,\\n(2) protein: no,\\n(3) ed: n...\n",
      "693  10r27xq  (1) relation: yes, related phrases if any: mot...\n",
      "694  10r2qjh  (1) relation: no,\\n(2) protein: no,\\n(3) ed: n...\n",
      "695  10r3abc  (1) relation: no\\n(2) protein: yes, related ph...\n",
      "696  10r3x87  (1) relation: no,\\n(2) protein: no,\\n(3) ed: n...\n",
      "697  10r4jje  (1) relation: no\\n(2) protein: no\\n(3) ed: no\\...\n",
      "698  10raj2y  (1) relation: no,\\n(2) protein: no,\\n(3) ed: n...\n",
      "699  10ralvw  (1) relation: no,\\n(2) protein: no,\\n(3) ed: n...\n"
     ]
    },
    {
     "name": "stderr",
     "output_type": "stream",
     "text": [
      "Processing batch:   5%|▌         | 53/1000 [51:49<15:33:59, 59.18s/it]"
     ]
    },
    {
     "name": "stdout",
     "output_type": "stream",
     "text": [
      "       sm_id                                      answer_string\n",
      "700  10rc72y  (1) relation: no,\\n(2) protein: no,\\n(3) ed: n...\n",
      "701  10rdgmv  (1) relation: no,\\n(2) protein: no,\\n(3) ed: y...\n",
      "702  10reo3c  (1) relation: no,\\n(2) protein: no,\\n(3) ed: n...\n",
      "703  10rfozn  (1) relation: no,\\n(2) protein: no,\\n(3) ed: n...\n",
      "704  10rg869  (1) relation: no\\n(2) protein: no\\n(3) ed: no\\...\n",
      "705  10rju1l  (1) relation: no,\\n(2) protein: no,\\n(3) ed: n...\n",
      "706  10rou97  (1) relation: no,\\n(2) protein: no,\\n(3) ed: n...\n",
      "707  10rqk6d  (1) relation: no,\\nrelated phrases if any: \\n(...\n",
      "708  10rr80q  (1) relation: no,\\nrelated phrases if any: \\n(...\n",
      "709  10ruuar  (1) relation: no,\\n(2) protein: no,\\n(3) ed: n...\n"
     ]
    },
    {
     "name": "stderr",
     "output_type": "stream",
     "text": [
      "Processing batch:   5%|▌         | 54/1000 [52:53<15:55:55, 60.63s/it]"
     ]
    },
    {
     "name": "stdout",
     "output_type": "stream",
     "text": [
      "       sm_id                                      answer_string\n",
      "710  10rv9xr  (1) relation: no,\\nrelated phrases if any: \\n(...\n",
      "711  10rvti4  (1) relation: no\\n(2) protein: no\\n(3) ed: no\\...\n",
      "712  10rxc5i  (1) relation: no,\\n(2) protein: no,\\n(3) ed: n...\n",
      "713  10ry9k0  (1) relation: no,\\n(2) protein: yes, related p...\n",
      "714  10rzjtq  (1) relation: no,\\n(2) protein: no,\\n(3) ed: n...\n",
      "715  10rzpua  (1) relation: no\\n(2) protein: yes, related ph...\n",
      "716  10s25s1  (1) relation: no\\n(2) protein: no\\n(3) ed: no\\...\n",
      "717  10s27g1  (1) relation: no,\\n(2) protein: no,\\n(3) ed: n...\n",
      "718  10s2wj2  (1) relation: no,\\n(2) protein: no,\\n(3) ed: y...\n",
      "719  10s5v4f  (1) relation: no,\\n(2) protein: no,\\n(3) ed: n...\n"
     ]
    },
    {
     "name": "stderr",
     "output_type": "stream",
     "text": [
      "Processing batch:   6%|▌         | 55/1000 [53:52<15:45:41, 60.04s/it]"
     ]
    },
    {
     "name": "stdout",
     "output_type": "stream",
     "text": [
      "       sm_id                                      answer_string\n",
      "720  10s7lrs  (1) relation: no,\\n(2) protein: yes, related p...\n",
      "721  10s7oww  (1) relation: no,\\n(2) protein: no,\\n(3) ed: n...\n",
      "722  10sa7mc  (1) relation: no,\\n(2) protein: yes, related p...\n",
      "723  10sapct  (1) relation: no,\\n(2) protein: yes, related p...\n",
      "724  10sczqf  (1) relation: no,\\n(2) protein: no,\\n(3) ed: n...\n",
      "725  10sdlgn  (1) relation: no,\\n(2) protein: no,\\n(3) ed: n...\n",
      "726  10seuuj  (1) relation: no\\n(2) protein: no\\n(3) ed: no\\...\n",
      "727  10sfco1  (1) relation: no,\\nrelated phrases if any: \\n(...\n",
      "728  10sge3l  (1) relation: no,\\n(2) protein: no,\\n(3) ed: n...\n",
      "729  10shitp  (1) relation: no\\n(2) protein: no\\n(3) ed: no\\...\n"
     ]
    },
    {
     "name": "stderr",
     "output_type": "stream",
     "text": [
      "Processing batch:   6%|▌         | 56/1000 [54:48<15:27:59, 58.98s/it]"
     ]
    },
    {
     "name": "stdout",
     "output_type": "stream",
     "text": [
      "       sm_id                                      answer_string\n",
      "730  10siwtf  (1) relation: [no], related phrases if any: \\n...\n",
      "731  10sl2ew  (1) relation: no,\\n(2) protein: no,\\n(3) ed: n...\n",
      "732  10slwew  (1) relation: no,\\n(2) protein: no,\\n(3) ed: n...\n",
      "733  10sn3v3  (1) relation: no,\\n(2) protein: no,\\n(3) ed: n...\n",
      "734  10spko4  (1) relation: no,\\n(2) protein: no,\\n(3) ed: n...\n",
      "735  10spo77  (1) relation: no,\\n(2) protein: no,\\n(3) ed: n...\n",
      "736  10sprbu  (1) relation: no\\n(2) protein: no\\n(3) ed: no\\...\n",
      "737  10srkez  (1) relation: no,\\n(2) protein: no,\\n(3) ed: n...\n",
      "738  10sseqd  (1) relation: no,\\n(2) protein: no,\\n(3) ed: n...\n",
      "739  10ssl56  (1) relation: no,\\n(2) protein: no,\\n(3) ed: n...\n"
     ]
    },
    {
     "name": "stderr",
     "output_type": "stream",
     "text": [
      "Processing batch:   6%|▌         | 57/1000 [55:45<15:16:01, 58.28s/it]"
     ]
    },
    {
     "name": "stdout",
     "output_type": "stream",
     "text": [
      "       sm_id                                      answer_string\n",
      "740  10sugcr  (1) relation: no,\\n(2) protein: no,\\n(3) ed: n...\n",
      "741  10svgpb  (1) relation: no\\n(2) protein: no\\n(3) ed: no\\...\n",
      "742  10svi7s  (1) relation: no,\\n(2) protein: no,\\n(3) ed: n...\n",
      "743  10svz23  (1) relation: no,\\n(2) protein: no,\\n(3) ed: n...\n",
      "744  10sxqcn  (1) relation: no,\\nrelated phrases if any: \\n(...\n",
      "745  10synmx  (1) relation: no,\\n(2) protein: no,\\n(3) ed: n...\n",
      "746  10sz2ef  (1) relation: no\\n(2) protein: no\\n(3) ed: no\\...\n",
      "747  10t0dpq  (1) relation: no,\\n(2) protein: yes, related p...\n",
      "748  10t0ohk  (1) relation: no,\\n(2) protein: no,\\n(3) ed: y...\n",
      "749  10t6xcf  (1) relation: no\\n(2) protein: no\\n(3) ed: yes...\n"
     ]
    },
    {
     "name": "stderr",
     "output_type": "stream",
     "text": [
      "Processing batch:   6%|▌         | 58/1000 [56:41<15:05:23, 57.67s/it]"
     ]
    },
    {
     "name": "stdout",
     "output_type": "stream",
     "text": [
      "       sm_id                                      answer_string\n",
      "750  10t9yw7  (1) relation: no,\\n(2) protein: no,\\n(3) ed: n...\n",
      "751  10tfeuq  (1) relation: no\\n(2) protein: no\\n(3) ed: no\\...\n",
      "752  10tgkqi  (1) relation: no\\n(2) protein: no\\n(3) ed: no\\...\n",
      "753  10tglc8  (1) relation: no\\n(2) protein: no\\n(3) ed: yes...\n",
      "754  10th6x2  (1) relation: no,\\n(2) protein: no,\\n(3) ed: n...\n",
      "755  10thbq2  (1) relation: no,\\n(2) protein: no,\\n(3) ed: n...\n",
      "756  10tirat  (1) relation: yes, related phrases if any: tox...\n",
      "757  10tk382  (1) relation: no,\\n(2) protein: no,\\n(3) ed: n...\n",
      "758  10tkrni  (1) relation: no,\\n(2) protein: no,\\n(3) ed: n...\n",
      "759  10tml9t  (1) relation: no,\\n(2) protein: no,\\n(3) ed: n...\n"
     ]
    },
    {
     "name": "stderr",
     "output_type": "stream",
     "text": [
      "Processing batch:   6%|▌         | 59/1000 [57:38<14:59:45, 57.37s/it]"
     ]
    },
    {
     "name": "stdout",
     "output_type": "stream",
     "text": [
      "       sm_id                                      answer_string\n",
      "760  10tmltw  (1) relation: no,\\n(2) protein: no,\\n(3) ed: n...\n",
      "761  10tnhd7  (1) relation: no,\\n(2) protein: no,\\n(3) ed: n...\n",
      "762  10tpb01  (1) relation: no\\n(2) protein: no\\n(3) ed: no\\...\n",
      "763  10trgk1  (1) relation: no,\\n(2) protein: no,\\n(3) ed: y...\n",
      "764  10tt5cq  (1) relation: no,\\n(2) protein: no,\\n(3) ed: y...\n",
      "765  10twb6d  (1) relation: no,\\n(2) protein: no,\\n(3) ed: y...\n",
      "766  10twfrb  (1) relation: no\\n(2) protein: no\\n(3) ed: no\\...\n",
      "767  10txh2r  (1) relation: no\\n(2) protein: no\\n(3) ed: no\\...\n",
      "768  10ty5vk  (1) relation: no,\\n(2) protein: no,\\n(3) ed: n...\n",
      "769  10tzat0  (1) relation: no,\\n(2) protein: no,\\n(3) ed: n...\n"
     ]
    },
    {
     "name": "stderr",
     "output_type": "stream",
     "text": [
      "Processing batch:   6%|▌         | 60/1000 [58:37<15:06:11, 57.84s/it]"
     ]
    },
    {
     "name": "stdout",
     "output_type": "stream",
     "text": [
      "       sm_id                                      answer_string\n",
      "770  10u4spr  (1) relation: no\\n(2) protein: no\\n(3) ed: no\\...\n",
      "771  10u5gom  (1) relation: no,\\n(2) protein: yes, related p...\n",
      "772  10u5wpw  (1) relation: no,\\n(2) protein: no,\\n(3) ed: n...\n",
      "773  10u8f72  (1) relation: no\\n(2) protein: no\\n(3) ed: no\\...\n",
      "774  10u9zii  (1) relation: no,\\n(2) protein: no,\\n(3) ed: n...\n",
      "775  10uaa8r  (1) relation: yes, related phrases if any: gir...\n",
      "776  10ufeks  (1) relation: no,\\n(2) protein: no,\\n(3) ed: n...\n",
      "777  10ufy9m  (1) relation: no,\\nrelated phrases if any: \\n(...\n",
      "778  10uggn2  (1) relation: yes, related phrases if any: mov...\n",
      "779  10ugkan  (1) relation: no\\n(2) protein: no\\n(3) ed: no\\...\n"
     ]
    },
    {
     "name": "stderr",
     "output_type": "stream",
     "text": [
      "Processing batch:   6%|▌         | 61/1000 [59:32<14:54:38, 57.17s/it]"
     ]
    },
    {
     "name": "stdout",
     "output_type": "stream",
     "text": [
      "       sm_id                                      answer_string\n",
      "780  10uh7sm  (1) relation: no,\\n(2) protein: no,\\n(3) ed: n...\n",
      "781  10ul12p  (1) relation: no,\\nrelated phrases if any: \\n(...\n",
      "782  10ulvvm  (1) relation: no,\\n(2) protein: no,\\n(3) ed: n...\n",
      "783  10ummp4  (1) relation: no\\n(2) protein: no\\n(3) ed: no\\...\n",
      "784  10up5es  (1) relation: no,\\n(2) protein: yes, related p...\n",
      "785  10urnz9  (1) relation: no,\\n(2) protein: no,\\n(3) ed: n...\n",
      "786  10ux4pe  (1) relation: no,\\n(2) protein: no,\\n(3) ed: n...\n",
      "787  10ux73a  (1) relation: no, related phrases if any: \\n(2...\n",
      "788  10uxrsg  (1) relation: no\\n(2) protein: no\\n(3) ed: no\\...\n",
      "789  10uz6lh  (1) relation: no,\\n(2) protein: no,\\n(3) ed: y...\n"
     ]
    },
    {
     "name": "stderr",
     "output_type": "stream",
     "text": [
      "Processing batch:   6%|▌         | 62/1000 [1:00:25<14:32:03, 55.78s/it]"
     ]
    },
    {
     "name": "stdout",
     "output_type": "stream",
     "text": [
      "       sm_id                                      answer_string\n",
      "790  10v18xn  (1) relation: no,\\n(2) protein: no,\\n(3) ed: n...\n",
      "791  10v1hac  (1) relation: no,\\n(2) protein: no,\\n(3) ed: n...\n",
      "792  10v34qx  (1) relation: no,\\n(2) protein: no,\\n(3) ed: n...\n",
      "793  10v3nl8  (1) relation: no,\\n(2) protein: yes, related p...\n",
      "794  10v4rqk  (1) relation: no,\\n(2) protein: no,\\n(3) ed: n...\n",
      "795  10v6x2d  (1) relation: yes, related phrases if any: com...\n",
      "796  10v79ph  (1) relation: no,\\n(2) protein: no,\\n(3) ed: n...\n",
      "797  10vaahh  (1) relation: no,\\n(2) protein: no,\\n(3) ed: n...\n",
      "798  10vag0d  (1) relation: no,\\n(2) protein: no,\\n(3) ed: n...\n",
      "799  10vdquv  (1) relation: no,\\n(2) protein: yes, related p...\n"
     ]
    },
    {
     "name": "stderr",
     "output_type": "stream",
     "text": [
      "Processing batch:   6%|▋         | 63/1000 [1:01:29<15:08:47, 58.19s/it]"
     ]
    },
    {
     "name": "stdout",
     "output_type": "stream",
     "text": [
      "       sm_id                                      answer_string\n",
      "800  10vegcz  (1) relation: no,\\n(2) protein: no,\\n(3) ed: n...\n",
      "801  10vf12o  (1) relation: no,\\n(2) protein: no,\\n(3) ed: y...\n",
      "802  10vf94t  (1) relation: no,\\n(2) protein: no,\\n(3) ed: n...\n",
      "803  10vh0nt  (1) relation: no,\\n(2) protein: no,\\n(3) ed: n...\n",
      "804  10vh3oh  (1) relation: no,\\n(2) protein: yes, related p...\n",
      "805  10vjw5q  (1) relation: [no], related phrases if any: \\n...\n",
      "806  10vk43j  (1) relation: no,\\n(2) protein: no,\\n(3) ed: n...\n",
      "807  10vkgcf  (1) relation: no,\\nrelated phrases if any: \\n(...\n",
      "808  10vlfo2  (1) relation: no,\\nrelated phrases if any: \\n(...\n",
      "809  10vm4rk  (1) relation: no,\\n(2) protein: no,\\n(3) ed: n...\n"
     ]
    },
    {
     "name": "stderr",
     "output_type": "stream",
     "text": [
      "Processing batch:   6%|▋         | 64/1000 [1:02:18<14:27:04, 55.58s/it]"
     ]
    },
    {
     "name": "stdout",
     "output_type": "stream",
     "text": [
      "       sm_id                                      answer_string\n",
      "810  10vn8tz  (1) relation: no,\\n(2) protein: no,\\n(3) ed: n...\n",
      "811  10vnjul  (1) relation: no,\\n(2) protein: no,\\n(3) ed: n...\n",
      "812  10vnk3x  (1) relation: no,\\n(2) protein: no,\\n(3) ed: n...\n",
      "813  10vonvo  (1) relation: no\\n(2) protein: no\\n(3) ed: no\\...\n",
      "814  10vuy7b  (1) relation: no\\n(2) protein: no\\n(3) ed: no\\...\n",
      "815  10w2usn  (1) relation: no,\\n(2) protein: no,\\n(3) ed: n...\n",
      "816  10w49mb  (1) relation: no,\\n(2) protein: no,\\n(3) ed: n...\n",
      "817  10w5el1  (1) relation: yes, related phrases if any: gir...\n",
      "818  10w5w5p  (1) relation: no,\\n(2) protein: no,\\n(3) ed: n...\n",
      "819  10w6iss  (1) relation: no\\n(2) protein: no\\n(3) ed: no\\...\n"
     ]
    },
    {
     "name": "stderr",
     "output_type": "stream",
     "text": [
      "Processing batch:   6%|▋         | 65/1000 [1:03:16<14:34:38, 56.13s/it]"
     ]
    },
    {
     "name": "stdout",
     "output_type": "stream",
     "text": [
      "       sm_id                                      answer_string\n",
      "820  10w7993  (1) relation: no\\n(2) protein: no\\n(3) ed: no\\...\n",
      "821  10w7dgy  (1) relation: no,\\n(2) protein: no,\\n(3) ed: n...\n",
      "822  10w7y7f  (1) relation: no,\\n(2) protein: no,\\n(3) ed: n...\n",
      "823  10w8zxg  (1) relation: no, related phrases if any: \\n(2...\n",
      "824  10w9kz6  (1) relation: no,\\n(2) protein: no,\\n(3) ed: n...\n",
      "825  10wabrp  (1) relation: no,\\n(2) protein: no,\\n(3) ed: n...\n",
      "826  10wb86c  (1) relation: no,\\n(2) protein: no,\\n(3) ed: n...\n",
      "827  10wc2i7  (1) relation: no,\\n(2) protein: no,\\n(3) ed: n...\n",
      "828  10wdda5  (1) relation: no,\\n(2) protein: yes, related p...\n",
      "829  10wdoub  (1) relation: no,\\n(2) protein: no,\\n(3) ed: n...\n"
     ]
    },
    {
     "name": "stderr",
     "output_type": "stream",
     "text": [
      "Processing batch:   7%|▋         | 66/1000 [1:04:09<14:23:33, 55.47s/it]"
     ]
    },
    {
     "name": "stdout",
     "output_type": "stream",
     "text": [
      "       sm_id                                      answer_string\n",
      "830  10wdrdd  (1) relation: no,\\n(2) protein: no,\\n(3) ed: n...\n",
      "831  10we1ju  (1) relation: yes, related phrases: body image...\n",
      "832  10we83r  (1) relation: no,\\n(2) protein: yes, related p...\n",
      "833  10wexeq  (1) relation: no\\n(2) protein: no\\n(3) ed: no\\...\n",
      "834  10wfkn8  (1) relation: no,\\n(2) protein: no,\\n(3) ed: n...\n",
      "835  10wi7m4  (1) relation: no\\n(2) protein: no\\n(3) ed: no\\...\n",
      "836  10wji76  (1) relation: no,\\n(2) protein: no,\\n(3) ed: n...\n",
      "837  10wjkkm  (1) relation: no,\\n(2) protein: no,\\n(3) ed: n...\n",
      "838  10wkm88  (1) relation: yes, related phrases if any: res...\n",
      "839  10wl0ea  (1) relation: no,\\n(2) protein: no,\\n(3) ed: n...\n"
     ]
    },
    {
     "name": "stderr",
     "output_type": "stream",
     "text": [
      "Processing batch:   7%|▋         | 67/1000 [1:05:13<14:59:14, 57.83s/it]"
     ]
    },
    {
     "name": "stdout",
     "output_type": "stream",
     "text": [
      "       sm_id                                      answer_string\n",
      "840  10wld81  (1) relation: no,\\n(2) protein: no,\\n(3) ed: n...\n",
      "841  10wnefs  (1) relation: no,\\n(2) protein: no,\\n(3) ed: n...\n",
      "842  10wpui3  (1) relation: no\\n(2) protein: no\\n(3) ed: no\\...\n",
      "843  10ws62a  (1) relation: no,\\n(2) protein: no,\\n(3) ed: n...\n",
      "844  10wsjrw  (1) relation: no\\n(2) protein: no\\n(3) ed: no\\...\n",
      "845  10ww60s  (1) relation: no,\\nrelated phrases if any: \\n(...\n",
      "846  10wxgsf  (1) relation: no,\\n(2) protein: no,\\n(3) ed: n...\n",
      "847  10wxnky  (1) relation: no,\\nrelated phrases if any: \\n(...\n",
      "848  10wyguv  (1) relation: no,\\n(2) protein: no,\\n(3) ed: n...\n",
      "849  10wyrbp  (1) relation: no,\\n(2) protein: yes, related p...\n"
     ]
    },
    {
     "name": "stderr",
     "output_type": "stream",
     "text": [
      "Processing batch:   7%|▋         | 68/1000 [1:06:10<14:54:12, 57.57s/it]"
     ]
    },
    {
     "name": "stdout",
     "output_type": "stream",
     "text": [
      "       sm_id                                      answer_string\n",
      "850  10x2gth  (1) relation: no,\\n(2) protein: no,\\n(3) ed: n...\n",
      "851  10x3wnl  (1) relation: no,\\n(2) protein: no,\\n(3) ed: n...\n",
      "852  10x6668  (1) relation: no,\\nrelated phrases if any: \\n(...\n",
      "853  10x6zew  (1) relation: no,\\n(2) protein: no,\\n(3) ed: n...\n",
      "854  10x8koz  (1) relation: no\\n(2) protein: no\\n(3) ed: no\\...\n",
      "855  10xafrq  (1) relation: no,\\nrelated phrases if any: \\n(...\n",
      "856  10xbiay  (1) relation: no,\\n(2) protein: no,\\n(3) ed: n...\n",
      "857  10xbjls  (1) relation: no\\n(2) protein: no\\n(3) ed: no\\...\n",
      "858  10xbqyn  (1) relation: no,\\n(2) protein: no,\\n(3) ed: n...\n",
      "859  10xdalp  (1) relation: no,\\n(2) protein: no,\\n(3) ed: n...\n"
     ]
    },
    {
     "name": "stderr",
     "output_type": "stream",
     "text": [
      "Processing batch:   7%|▋         | 69/1000 [1:07:08<14:56:52, 57.80s/it]"
     ]
    },
    {
     "name": "stdout",
     "output_type": "stream",
     "text": [
      "       sm_id                                      answer_string\n",
      "860  10xfgtb  (1) relation: no,\\n(2) protein: no,\\n(3) ed: n...\n",
      "861  10xgmoy  (1) relation: no,\\n(2) protein: no,\\n(3) ed: n...\n",
      "862  10xh4pu  (1) relation: no\\n(2) protein: no\\n(3) ed: no\\...\n",
      "863  10xjemk  (1) relation: no,\\n(2) protein: no,\\n(3) ed: n...\n",
      "864  10xjq1h  (1) relation: no,\\n(2) protein: no,\\n(3) ed: y...\n",
      "865  10xkirs  (1) relation: no,\\n(2) protein: no,\\n(3) ed: y...\n",
      "866  10xl5mj  (1) relation: no,\\n(2) protein: no,\\n(3) ed: n...\n",
      "867   10xnhx  (1) relation: no,\\nrelated phrases if any: \\n(...\n",
      "868  10xov7p  (1) relation: no,\\n(2) protein: no,\\n(3) ed: n...\n",
      "869  10xsbrg  (1) relation: no,\\n(2) protein: no,\\n(3) ed: n...\n"
     ]
    },
    {
     "name": "stderr",
     "output_type": "stream",
     "text": [
      "Processing batch:   7%|▋         | 70/1000 [1:08:11<15:19:59, 59.35s/it]"
     ]
    },
    {
     "name": "stdout",
     "output_type": "stream",
     "text": [
      "       sm_id                                      answer_string\n",
      "870  10xsmym  (1) relation: no,\\n(2) protein: no,\\n(3) ed: n...\n",
      "871  10xwc2l  (1) relation: no,\\n(2) protein: no,\\n(3) ed: n...\n",
      "872  10xxfyc  (1) relation: no,\\n(2) protein: no,\\n(3) ed: n...\n",
      "873  10xy4v6  (1) relation: no,\\n(2) protein: no,\\n(3) ed: n...\n",
      "874  10xyl16  (1) relation: no,\\n(2) protein: yes, related p...\n",
      "875  10xzwmd  (1) relation: no,\\n(2) protein: no,\\n(3) ed: n...\n",
      "876  10y2uwl  (1) relation: [no], related phrases if any: \\n...\n",
      "877  10y4v5o  (1) relation: no,\\nrelated phrases if any: \\n(...\n",
      "878  10y57oe  (1) relation: no,\\n(2) protein: no,\\n(3) ed: n...\n",
      "879  10y69ae  (1) relation: no,\\n(2) protein: no,\\n(3) ed: n...\n"
     ]
    },
    {
     "name": "stderr",
     "output_type": "stream",
     "text": [
      "Processing batch:   7%|▋         | 71/1000 [1:09:03<14:45:29, 57.19s/it]"
     ]
    },
    {
     "name": "stdout",
     "output_type": "stream",
     "text": [
      "       sm_id                                      answer_string\n",
      "880  10y6ksf  (1) relation: yes, related phrases if any: hus...\n",
      "881  10y6u5o  (1) relation: no,\\n(2) protein: no,\\n(3) ed: n...\n",
      "882  10y77wn  (1) relation: no,\\n(2) protein: no,\\n(3) ed: n...\n",
      "883  10y7yt9  (1) relation: no\\n(2) protein: no\\n(3) ed: no\\...\n",
      "884  10ycoph  (1) relation: no,\\n(2) protein: no,\\n(3) ed: n...\n",
      "885  10yf0yr  (1) relation: no\\n(2) protein: no\\n(3) ed: no\\...\n",
      "886  10yf523  (1) relation: no,\\n(2) protein: no,\\n(3) ed: n...\n",
      "887  10yfdsa  (1) relation: no\\n(2) protein: no\\n(3) ed: no\\...\n",
      "888  10yfhc2  (1) relation: no,\\n(2) protein: no,\\n(3) ed: n...\n",
      "889  10yfvd4  (1) relation: no,\\n(2) protein: no,\\n(3) ed: n...\n"
     ]
    },
    {
     "name": "stderr",
     "output_type": "stream",
     "text": [
      "Processing batch:   7%|▋         | 72/1000 [1:09:58<14:32:22, 56.40s/it]"
     ]
    },
    {
     "name": "stdout",
     "output_type": "stream",
     "text": [
      "       sm_id                                      answer_string\n",
      "890  10yhg9n  (1) relation: no,\\n(2) protein: no,\\n(3) ed: n...\n",
      "891  10yio8c  (1) relation: no,\\n(2) protein: no,\\n(3) ed: n...\n",
      "892  10yop1u  (1) relation: no,\\n(2) protein: no,\\n(3) ed: n...\n",
      "893  10yppoq  (1) relation: no,\\n(2) protein: no,\\n(3) ed: n...\n",
      "894  10ytszu  (1) relation: no,\\n(2) protein: no,\\n(3) ed: y...\n",
      "895  10yurib  (1) relation: no,\\n(2) protein: no,\\n(3) ed: n...\n",
      "896  10yvvbk  (1) relation: no,\\n(2) protein: no,\\n(3) ed: n...\n",
      "897  10yw7wd  (1) relation: no,\\n(2) protein: no,\\n(3) ed: n...\n",
      "898  10ywi88  (1) relation: no,\\n(2) protein: no,\\n(3) ed: y...\n",
      "899  10yx45d  (1) relation: no\\n(2) protein: no\\n(3) ed: no\\...\n"
     ]
    },
    {
     "name": "stderr",
     "output_type": "stream",
     "text": [
      "Processing batch:   7%|▋         | 73/1000 [1:10:52<14:22:34, 55.83s/it]"
     ]
    },
    {
     "name": "stdout",
     "output_type": "stream",
     "text": [
      "       sm_id                                      answer_string\n",
      "900  10yzhgl  (1) relation: no,\\n(2) protein: no,\\n(3) ed: n...\n",
      "901  10yzntm  (1) relation: no,\\n(2) protein: no,\\n(3) ed: n...\n",
      "902  10yzu3p  (1) relation: no,\\n(2) protein: no,\\n(3) ed: n...\n",
      "903  10z0eyg  (1) relation: no,\\n(2) protein: no,\\n(3) ed: n...\n",
      "904  10z3wnj  (1) relation: no,\\n(2) protein: no,\\n(3) ed: n...\n",
      "905  10z5i7h  (1) relation: no,\\n(2) protein: no,\\n(3) ed: n...\n",
      "906  10z6y99  (1) relation: no,\\nrelated phrases if any: \\n(...\n",
      "907  10z9uyv  (1) relation: no,\\n(2) protein: no,\\n(3) ed: y...\n",
      "908  10zb4mu  (1) relation: no,\\n(2) protein: no,\\n(3) ed: n...\n",
      "909  10zc281  (1) relation: no,\\n(2) protein: no,\\n(3) ed: n...\n"
     ]
    },
    {
     "name": "stderr",
     "output_type": "stream",
     "text": [
      "Processing batch:   7%|▋         | 74/1000 [1:11:51<14:37:00, 56.83s/it]"
     ]
    },
    {
     "name": "stdout",
     "output_type": "stream",
     "text": [
      "       sm_id                                      answer_string\n",
      "910  10zcr5b  (1) relation: no,\\n(2) protein: no,\\n(3) ed: n...\n",
      "911  10zd5he  (1) relation: no,\\n(2) protein: no,\\n(3) ed: n...\n",
      "912  10zex4j  (1) relation: no,\\n(2) protein: no,\\n(3) ed: y...\n",
      "913  10zfjo5  (1) relation: no,\\n(2) protein: no,\\n(3) ed: n...\n",
      "914  10zgo99  (1) relation: no,\\n(2) protein: yes, related p...\n",
      "915  10zhm29  (1) relation: no,\\n(2) protein: no,\\n(3) ed: n...\n",
      "916  10zkl1c  (1) relation: yes, related phrases if any: fam...\n",
      "917  10zo7nx  (1) relation: no,\\n(2) protein: no,\\n(3) ed: n...\n",
      "918  10zolj6  (1) relation: no\\n(2) protein: no\\n(3) ed: no\\...\n",
      "919  10zplzc  (1) relation: no\\n(2) protein: no\\n(3) ed: yes...\n"
     ]
    },
    {
     "name": "stderr",
     "output_type": "stream",
     "text": [
      "Processing batch:   8%|▊         | 75/1000 [1:12:46<14:24:36, 56.08s/it]"
     ]
    },
    {
     "name": "stdout",
     "output_type": "stream",
     "text": [
      "       sm_id                                      answer_string\n",
      "920  10zrlo8  (1) relation: no\\n(2) protein: no\\n(3) ed: no\\...\n",
      "921  10zt0k7  (1) relation: no,\\n(2) protein: no,\\n(3) ed: n...\n",
      "922  10zw3vm  (1) relation: no,\\n(2) protein: no,\\n(3) ed: n...\n",
      "923  10zwif9  (1) relation: no,\\n(2) protein: no,\\n(3) ed: n...\n",
      "924  10zzo7x  (1) relation: no,\\n(2) protein: no,\\n(3) ed: n...\n",
      "925  11010yf  (1) relation: yes, related phrases if any: mom...\n",
      "926  1101ddb  (1) relation: no,\\n(2) protein: no,\\n(3) ed: n...\n",
      "927  1102d4l  (1) relation: no,\\n(2) protein: no,\\n(3) ed: n...\n",
      "928  1105da1  (1) relation: no,\\n(2) protein: no,\\n(3) ed: n...\n",
      "929  1105i0x  (1) relation: no,\\n(2) protein: no,\\n(3) ed: n...\n"
     ]
    },
    {
     "name": "stderr",
     "output_type": "stream",
     "text": [
      "Processing batch:   8%|▊         | 76/1000 [1:13:39<14:12:19, 55.35s/it]"
     ]
    },
    {
     "name": "stdout",
     "output_type": "stream",
     "text": [
      "       sm_id                                      answer_string\n",
      "930  110bos0  (1) relation: no,\\n(2) protein: no,\\n(3) ed: n...\n",
      "931  110d6bx  (1) relation: no,\\n(2) protein: no,\\n(3) ed: n...\n",
      "932  110d6cp  (1) relation: no,\\n(2) protein: no,\\n(3) ed: n...\n",
      "933  110dzi3  (1) relation: no\\n(2) protein: no\\n(3) ed: no\\...\n",
      "934  110eejs  (1) relation: no\\n(2) protein: no\\n(3) ed: no\\...\n",
      "935  110iotq  (1) relation: no,\\n(2) protein: no,\\n(3) ed: n...\n",
      "936  110j19t  (1) relation: no,\\n(2) protein: yes, related p...\n",
      "937  110j256  (1) relation: no,\\n(2) protein: no,\\n(3) ed: n...\n",
      "938  110jwqq  (1) relation: no\\n(2) protein: no\\n(3) ed: no\\...\n",
      "939  110jxd0  (1) relation: no,\\n(2) protein: no,\\n(3) ed: n...\n"
     ]
    },
    {
     "name": "stderr",
     "output_type": "stream",
     "text": [
      "Processing batch:   8%|▊         | 77/1000 [1:14:38<14:26:38, 56.34s/it]"
     ]
    },
    {
     "name": "stdout",
     "output_type": "stream",
     "text": [
      "       sm_id                                      answer_string\n",
      "940  110k6g3  (1) relation: yes, related phrases: heart to h...\n",
      "941  110k73u  (1) relation: yes, related phrases: boyfriend,...\n",
      "942  110kmj8  (1) relation: no,\\n(2) protein: no,\\n(3) ed: n...\n",
      "943  110ma06  (1) relation: no,\\n(2) protein: no,\\n(3) ed: n...\n",
      "944  110mulc  (1) relation: no,\\n(2) protein: yes, related p...\n",
      "945  110nqxl  (1) relation: no,\\n(2) protein: no,\\n(3) ed: y...\n",
      "946  110nuix  (1) relation: no,\\n(2) protein: no,\\n(3) ed: n...\n",
      "947  110qd2w  (1) relation: no,\\n(2) protein: no,\\n(3) ed: n...\n",
      "948  110qh50  (1) relation: no,\\n(2) protein: no,\\n(3) ed: n...\n",
      "949  110qmi3  (1) relation: no,\\n(2) protein: yes, related p...\n"
     ]
    },
    {
     "name": "stderr",
     "output_type": "stream",
     "text": [
      "Processing batch:   8%|▊         | 78/1000 [1:15:31<14:11:51, 55.44s/it]"
     ]
    },
    {
     "name": "stdout",
     "output_type": "stream",
     "text": [
      "       sm_id                                      answer_string\n",
      "950  110s1ms  (1) relation: no\\n(2) protein: no\\n(3) ed: no\\...\n",
      "951  110sr5u  (1) relation: no\\n(2) protein: no\\n(3) ed: no\\...\n",
      "952  110u88m  (1) relation: no,\\n(2) protein: no,\\n(3) ed: n...\n",
      "953  110vu3u  (1) relation: no,\\n(2) protein: no,\\n(3) ed: n...\n",
      "954  110woqx  (1) relation: no,\\n(2) protein: yes, related p...\n",
      "955  110wypd  (1) relation: yes, related phrases: relationsh...\n",
      "956  110x3ce  (1) relation: no\\n(2) protein: no\\n(3) ed: no\\...\n",
      "957  110y2pl  (1) relation: no,\\n(2) protein: no,\\n(3) ed: y...\n",
      "958  110yr4b  (1) relation: no,\\n(2) protein: no,\\n(3) ed: n...\n",
      "959  110yx7g  (1) relation: no,\\n(2) protein: no,\\n(3) ed: n...\n"
     ]
    },
    {
     "name": "stderr",
     "output_type": "stream",
     "text": [
      "Processing batch:   8%|▊         | 79/1000 [1:16:33<14:37:32, 57.17s/it]"
     ]
    },
    {
     "name": "stdout",
     "output_type": "stream",
     "text": [
      "       sm_id                                      answer_string\n",
      "960  11113j9  (1) relation: yes, related phrases: clicked re...\n",
      "961  11113o4  (1) relation: no,\\n(2) protein: no,\\n(3) ed: n...\n",
      "962  11115pz  (1) relation: no,\\n(2) protein: no,\\n(3) ed: n...\n",
      "963  1112pw5  (1) relation: no,\\n(2) protein: no,\\n(3) ed: n...\n",
      "964  111334d  (1) relation: no,\\n(2) protein: no,\\n(3) ed: n...\n",
      "965  1115m19  (1) relation: no\\n(2) protein: no\\n(3) ed: no\\...\n",
      "966  11161im  (1) relation: no,\\nrelated phrases if any: \\n(...\n",
      "967  1116b9m  (1) relation: no\\n(2) protein: no\\n(3) ed: yes...\n",
      "968  11174df  (1) relation: no\\n(2) protein: no\\n(3) ed: no\\...\n",
      "969  11196eu  (1) relation: no,\\n(2) protein: yes, related p...\n"
     ]
    },
    {
     "name": "stderr",
     "output_type": "stream",
     "text": [
      "Processing batch:   8%|▊         | 80/1000 [1:17:27<14:25:58, 56.48s/it]"
     ]
    },
    {
     "name": "stdout",
     "output_type": "stream",
     "text": [
      "       sm_id                                      answer_string\n",
      "970  111bkgl  (1) relation: no,\\n(2) protein: no,\\n(3) ed: n...\n",
      "971  111c5q7  (1) relation: no,\\n(2) protein: no,\\n(3) ed: n...\n",
      "972  111drew  (1) relation: no,\\n(2) protein: no,\\n(3) ed: n...\n",
      "973  111ejwf  (1) relation: no,\\n(2) protein: no,\\n(3) ed: n...\n",
      "974  111f1wf  (1) relation: no,\\n(2) protein: no,\\n(3) ed: n...\n",
      "975  111fafs  (1) relation: no,\\n(2) protein: no,\\n(3) ed: n...\n",
      "976  111g467  (1) relation: no,\\n(2) protein: no,\\n(3) ed: n...\n",
      "977  111ggsm  (1) relation: no,\\n(2) protein: no,\\n(3) ed: n...\n",
      "978  111ha1l  (1) relation: no,\\n(2) protein: no,\\n(3) ed: n...\n",
      "979  111hcgj  (1) relation: no,\\n(2) protein: yes, related p...\n"
     ]
    },
    {
     "name": "stderr",
     "output_type": "stream",
     "text": [
      "Processing batch:   8%|▊         | 81/1000 [1:18:29<14:47:40, 57.95s/it]"
     ]
    },
    {
     "name": "stdout",
     "output_type": "stream",
     "text": [
      "       sm_id                                      answer_string\n",
      "980  111hhri  (1) relation: no,\\n(2) protein: no,\\n(3) ed: n...\n",
      "981  111hu1g  (1) relation: no,\\n(2) protein: no,\\n(3) ed: n...\n",
      "982  111jnfl  (1) relation: no,\\n(2) protein: no,\\n(3) ed: n...\n",
      "983  111nnjb  (1) relation: no,\\n(2) protein: no,\\n(3) ed: n...\n",
      "984  111nv9f  (1) relation: no,\\n(2) protein: no,\\n(3) ed: n...\n",
      "985  111oho2  (1) relation: no, related phrases if any: \\n(2...\n",
      "986  111qiqk  (1) relation: no\\n(2) protein: no\\n(3) ed: no\\...\n",
      "987  111qrb5  (1) relation: no,\\n(2) protein: no,\\n(3) ed: n...\n",
      "988  111rlhi  (1) relation: no,\\nrelated phrases if any: \\n(...\n",
      "989  111s0oa  (1) relation: no,\\n(2) protein: no,\\n(3) ed: n...\n"
     ]
    },
    {
     "name": "stderr",
     "output_type": "stream",
     "text": [
      "Processing batch:   8%|▊         | 82/1000 [1:19:24<14:34:25, 57.15s/it]"
     ]
    },
    {
     "name": "stdout",
     "output_type": "stream",
     "text": [
      "       sm_id                                      answer_string\n",
      "990  111sycw  (1) relation: no,\\n(2) protein: no,\\n(3) ed: n...\n",
      "991  111ut9x  (1) relation: no,\\n(2) protein: no,\\n(3) ed: y...\n",
      "992  111vpkx  (1) relation: no,\\n(2) protein: no,\\n(3) ed: n...\n",
      "993  1123p09  (1) relation: no,\\n(2) protein: no,\\n(3) ed: n...\n",
      "994  112433d  (1) relation: no,\\n(2) protein: no,\\n(3) ed: n...\n",
      "995  1125xdr  (1) relation: no,\\n(2) protein: no,\\n(3) ed: n...\n",
      "996  1127ynj  (1) relation: no,\\n(2) protein: no,\\n(3) ed: n...\n",
      "997  11296vu  (1) relation: no,\\n(2) protein: no,\\n(3) ed: n...\n",
      "998  1129nv0  (1) relation: no\\n(2) protein: no\\n(3) ed: yes...\n",
      "999  1129s3r  (1) relation: no,\\n(2) protein: no,\\n(3) ed: n...\n"
     ]
    },
    {
     "name": "stderr",
     "output_type": "stream",
     "text": [
      "Processing batch:   8%|▊         | 83/1000 [1:20:24<14:45:11, 57.92s/it]"
     ]
    },
    {
     "name": "stdout",
     "output_type": "stream",
     "text": [
      "        sm_id                                      answer_string\n",
      "1000  1129zrr  (1) relation: no,\\n(2) protein: no,\\n(3) ed: n...\n",
      "1001  112a2gc  (1) relation: no,\\n(2) protein: no,\\n(3) ed: n...\n",
      "1002  112a34w  (1) relation: no,\\nrelated phrases if any: \\n(...\n",
      "1003  112a4ja  (1) relation: no,\\n(2) protein: no,\\n(3) ed: n...\n",
      "1004  112exst  (1) relation: no\\n(2) protein: no\\n(3) ed: no\\...\n",
      "1005  112gqim  (1) relation: yes, related phrases: family, ho...\n",
      "1006  112k01f  (1) relation: no\\n(2) protein: no\\n(3) ed: no\\...\n",
      "1007  112k26w  (1) relation: no,\\n(2) protein: no,\\n(3) ed: n...\n",
      "1008  112kmqe  (1) relation: no,\\n(2) protein: no,\\n(3) ed: n...\n",
      "1009  112ksrw  (1) relation: no,\\n(2) protein: no,\\n(3) ed: y...\n"
     ]
    },
    {
     "name": "stderr",
     "output_type": "stream",
     "text": [
      "Processing batch:   8%|▊         | 84/1000 [1:21:26<15:02:54, 59.14s/it]"
     ]
    },
    {
     "name": "stdout",
     "output_type": "stream",
     "text": [
      "        sm_id                                      answer_string\n",
      "1010  112lv88  (1) relation: yes, related phrases if any: new...\n",
      "1011  112o4nd  (1) relation: no,\\n(2) protein: no,\\n(3) ed: n...\n",
      "1012  112ovvf  (1) relation: no\\n(2) protein: no\\n(3) ed: no\\...\n",
      "1013  112sf18  (1) relation: yes, related phrases if any: dat...\n",
      "1014  112vftd  (1) relation: no,\\n(2) protein: no,\\n(3) ed: n...\n",
      "1015  112xr14  (1) relation: no,\\n(2) protein: no,\\n(3) ed: n...\n",
      "1016  112xv8c  (1) relation: [no], related phrases if any: \\n...\n",
      "1017  112ztb6  (1) relation: no,\\n(2) protein: no,\\n(3) ed: n...\n",
      "1018  1130g23  (1) relation: no,\\n(2) protein: no,\\n(3) ed: n...\n",
      "1019  1131fhx  (1) relation: no\\n(2) protein: no\\n(3) ed: no\\...\n"
     ]
    },
    {
     "name": "stderr",
     "output_type": "stream",
     "text": [
      "Processing batch:   8%|▊         | 85/1000 [1:22:26<15:05:08, 59.35s/it]"
     ]
    },
    {
     "name": "stdout",
     "output_type": "stream",
     "text": [
      "        sm_id                                      answer_string\n",
      "1020  1132i4v  (1) relation: no,\\n(2) protein: yes, related p...\n",
      "1021  11341v8  (1) relation: no,\\n(2) protein: no,\\n(3) ed: n...\n",
      "1022  1136rll  (1) relation: no\\n(2) protein: no\\n(3) ed: no\\...\n",
      "1023  11380dy  (1) relation: no,\\n(2) protein: no,\\n(3) ed: n...\n",
      "1024  1138ebv  (1) relation: no\\n(2) protein: no\\n(3) ed: no\\...\n",
      "1025  1138nge  (1) relation: no\\n(2) protein: no\\n(3) ed: no\\...\n",
      "1026  1138z55  (1) relation: no,\\n(2) protein: no,\\n(3) ed: n...\n",
      "1027  113ckuk  (1) relation: no,\\n(2) protein: no,\\n(3) ed: n...\n",
      "1028  113csg7  (1) relation: no,\\n(2) protein: no,\\n(3) ed: n...\n",
      "1029  113dvw2  (1) relation: no,\\nrelated phrases if any: \\n(...\n"
     ]
    },
    {
     "name": "stderr",
     "output_type": "stream",
     "text": [
      "Processing batch:   9%|▊         | 86/1000 [1:23:33<15:39:56, 61.70s/it]"
     ]
    },
    {
     "name": "stdout",
     "output_type": "stream",
     "text": [
      "        sm_id                                      answer_string\n",
      "1030  113f8a9  (1) relation: no\\n(2) protein: no\\n(3) ed: yes...\n",
      "1031  113g0hs  (1) relation: no,\\n(2) protein: yes, related p...\n",
      "1032  113gp3q  (1) relation: no\\n(2) protein: no\\n(3) ed: no\\...\n",
      "1033  113h7dg  (1) relation: no,\\n(2) protein: no,\\n(3) ed: n...\n",
      "1034  113ij97  (1) relation: no,\\n(2) protein: no,\\n(3) ed: n...\n",
      "1035  113iww1  (1) relation: no,\\n(2) protein: no,\\n(3) ed: n...\n",
      "1036  113la12  (1) relation: no,\\n(2) protein: no,\\n(3) ed: n...\n",
      "1037  113lgbj  (1) relation: no\\n(2) protein: no\\n(3) ed: no\\...\n",
      "1038  113mo16  (1) relation: no,\\n(2) protein: yes, related p...\n",
      "1039  113nzrj  (1) relation: no,\\n(2) protein: no,\\n(3) ed: n...\n"
     ]
    },
    {
     "name": "stderr",
     "output_type": "stream",
     "text": [
      "Processing batch:   9%|▊         | 87/1000 [1:24:26<14:59:12, 59.09s/it]"
     ]
    },
    {
     "name": "stdout",
     "output_type": "stream",
     "text": [
      "        sm_id                                      answer_string\n",
      "1040  113o3ey  (1) relation: no,\\n(2) protein: yes, related p...\n",
      "1041  113oo0q  (1) relation: no,\\n(2) protein: no,\\n(3) ed: y...\n",
      "1042  113ps31  (1) relation: no,\\n(2) protein: no,\\n(3) ed: n...\n",
      "1043  113q7jj  (1) relation: no,\\n(2) protein: no,\\n(3) ed: n...\n",
      "1044  113sk4l  (1) relation: yes, related phrases if any: sis...\n",
      "1045  113t5sd  (1) relation: no,\\n(2) protein: no,\\n(3) ed: y...\n",
      "1046  113v2ii  (1) relation: no,\\n(2) protein: no,\\n(3) ed: n...\n",
      "1047  113vuqw  (1) relation: no\\n(2) protein: no\\n(3) ed: no\\...\n",
      "1048  113vvzt  (1) relation: no,\\n(2) protein: no,\\n(3) ed: n...\n",
      "1049  113w1h6  (1) relation: no,\\n(2) protein: no,\\n(3) ed: n...\n"
     ]
    },
    {
     "name": "stderr",
     "output_type": "stream",
     "text": [
      "Processing batch:   9%|▉         | 88/1000 [1:25:28<15:13:00, 60.07s/it]"
     ]
    },
    {
     "name": "stdout",
     "output_type": "stream",
     "text": [
      "        sm_id                                      answer_string\n",
      "1050  113w9py  (1) relation: no,\\nrelated phrases if any: \\n(...\n",
      "1051  113wj14  (1) relation: no,\\n(2) protein: no,\\n(3) ed: n...\n",
      "1052  113wkk0  (1) relation: no,\\n(2) protein: no,\\n(3) ed: n...\n",
      "1053  113x39v  (1) relation: no,\\n(2) protein: no,\\n(3) ed: y...\n",
      "1054  113xpbe  (1) relation: no,\\n(2) protein: no,\\n(3) ed: n...\n",
      "1055  113xtsf  (1) relation: no,\\n(2) protein: no,\\n(3) ed: n...\n",
      "1056  113zalt  (1) relation: no,\\n(2) protein: no,\\n(3) ed: n...\n",
      "1057  1140d4l  (1) relation: no,\\n(2) protein: no,\\n(3) ed: n...\n",
      "1058  1144gv8  (1) relation: no,\\n(2) protein: yes, related p...\n",
      "1059  1146dyt  (1) relation: no\\n(2) protein: no\\n(3) ed: no\\...\n"
     ]
    },
    {
     "name": "stderr",
     "output_type": "stream",
     "text": [
      "Processing batch:   9%|▉         | 89/1000 [1:26:30<15:18:49, 60.52s/it]"
     ]
    },
    {
     "name": "stdout",
     "output_type": "stream",
     "text": [
      "        sm_id                                      answer_string\n",
      "1060  1147rqn  (1) relation: [no], related phrases if any: \\n...\n",
      "1061  114hlfu  (1) relation: no,\\n(2) protein: no,\\n(3) ed: n...\n",
      "1062  114lipl  (1) relation: no,\\n(2) protein: no,\\n(3) ed: n...\n",
      "1063  114mrv3  (1) relation: no,\\nrelated phrases if any: \\n(...\n",
      "1064  114nwsa  (1) relation: no,\\n(2) protein: no,\\n(3) ed: n...\n",
      "1065  114oalf  (1) relation: no,\\n(2) protein: no,\\n(3) ed: n...\n",
      "1066  114qc4v  (1) relation: no,\\n(2) protein: no,\\n(3) ed: n...\n",
      "1067  114qzyn  (1) relation: no,\\n(2) protein: no,\\n(3) ed: n...\n",
      "1068  114rfch  (1) relation: no,\\n(2) protein: no,\\n(3) ed: y...\n",
      "1069  114u2o6  (1) relation: no,\\n(2) protein: no,\\n(3) ed: y...\n"
     ]
    },
    {
     "name": "stderr",
     "output_type": "stream",
     "text": [
      "Processing batch:   9%|▉         | 90/1000 [1:27:32<15:26:23, 61.08s/it]"
     ]
    },
    {
     "name": "stdout",
     "output_type": "stream",
     "text": [
      "        sm_id                                      answer_string\n",
      "1070  114u8at  (1) relation: no,\\nrelated phrases if any: \\n(...\n",
      "1071  114xg5a  (1) relation: no,\\n(2) protein: no,\\n(3) ed: n...\n",
      "1072  114y8xj  (1) relation: no,\\nrelated phrases if any: \\n(...\n",
      "1073  11513nh  (1) relation: no,\\n(2) protein: no,\\n(3) ed: n...\n",
      "1074  1151ib0  (1) relation: no,\\n(2) protein: no,\\n(3) ed: n...\n",
      "1075  1154grt  (1) relation: no\\n(2) protein: no\\n(3) ed: no\\...\n",
      "1076  1154ils  (1) relation: no,\\n(2) protein: yes, related p...\n",
      "1077  11568vu  (1) relation: no,\\n(2) protein: no,\\n(3) ed: n...\n",
      "1078  11576jr  (1) relation: no\\n(2) protein: no\\n(3) ed: no\\...\n",
      "1079  1157cfp  (1) relation: no,\\n(2) protein: yes, related p...\n"
     ]
    },
    {
     "name": "stderr",
     "output_type": "stream",
     "text": [
      "Processing batch:   9%|▉         | 91/1000 [1:28:26<14:50:22, 58.77s/it]"
     ]
    },
    {
     "name": "stdout",
     "output_type": "stream",
     "text": [
      "        sm_id                                      answer_string\n",
      "1080  1157s5y  (1) relation: no,\\n(2) protein: yes, related p...\n",
      "1081  115blb6  (1) relation: no,\\n(2) protein: no,\\n(3) ed: n...\n",
      "1082  115c268  (1) relation: no,\\n(2) protein: yes, related p...\n",
      "1083  115cb3b  (1) relation: no,\\n(2) protein: no,\\n(3) ed: n...\n",
      "1084  115dsf0  (1) relation: no,\\n(2) protein: no,\\n(3) ed: n...\n",
      "1085  115e4ce  (1) relation: no,\\n(2) protein: no,\\n(3) ed: n...\n",
      "1086  115eri6  (1) relation: no,\\n(2) protein: no,\\n(3) ed: n...\n",
      "1087  115fw60  (1) relation: no\\n(2) protein: no\\n(3) ed: no\\...\n",
      "1088  115gl5l  (1) relation: no,\\n(2) protein: no,\\n(3) ed: n...\n",
      "1089  115klaq  (1) relation: no\\n(2) protein: no\\n(3) ed: no\\...\n"
     ]
    },
    {
     "name": "stderr",
     "output_type": "stream",
     "text": [
      "Processing batch:   9%|▉         | 92/1000 [1:29:22<14:37:21, 57.97s/it]"
     ]
    },
    {
     "name": "stdout",
     "output_type": "stream",
     "text": [
      "        sm_id                                      answer_string\n",
      "1090  115rkdx  (1) relation: no,\\n(2) protein: no,\\n(3) ed: n...\n",
      "1091  115vfbv  (1) relation: no,\\n(2) protein: no,\\n(3) ed: n...\n",
      "1092  115vwgz  (1) relation: no,\\n(2) protein: no,\\n(3) ed: n...\n",
      "1093  115vxyx  (1) relation: no\\n(2) protein: no\\n(3) ed: no\\...\n",
      "1094  115weoe  (1) relation: no\\n(2) protein: no\\n(3) ed: no\\...\n",
      "1095  115yxhc  (1) relation: no,\\n(2) protein: no,\\n(3) ed: n...\n",
      "1096  115z1vh  (1) relation: no,\\n(2) protein: no,\\n(3) ed: n...\n",
      "1097  1162bsz  (1) relation: yes, related phrases: known thes...\n",
      "1098  1162xmu  (1) relation: no,\\n(2) protein: no,\\n(3) ed: n...\n",
      "1099  1162ybe  (1) relation: no,\\n(2) protein: yes, related p...\n"
     ]
    },
    {
     "name": "stderr",
     "output_type": "stream",
     "text": [
      "Processing batch:   9%|▉         | 93/1000 [1:30:15<14:14:09, 56.50s/it]"
     ]
    },
    {
     "name": "stdout",
     "output_type": "stream",
     "text": [
      "        sm_id                                      answer_string\n",
      "1100  11652y0  (1) relation: no,\\n(2) protein: yes, related p...\n",
      "1101  1165oxe  (1) relation: no\\n(2) protein: no\\n(3) ed: no\\...\n",
      "1102  1166tq4  (1) relation: no,\\n(2) protein: no,\\n(3) ed: n...\n",
      "1103  11672yd  (1) relation: no,\\n(2) protein: no,\\n(3) ed: n...\n",
      "1104  1167ta6  (1) relation: no,\\n(2) protein: no,\\n(3) ed: n...\n",
      "1105  1167tdm  (1) relation: no,\\n(2) protein: no,\\n(3) ed: n...\n",
      "1106  116cons  (1) relation: no,\\n(2) protein: no,\\n(3) ed: n...\n",
      "1107  116exnn  (1) relation: no,\\n(2) protein: no,\\n(3) ed: n...\n",
      "1108  116hloo  (1) relation: no,\\n(2) protein: no,\\n(3) ed: n...\n",
      "1109  116il39  (1) relation: no,\\n(2) protein: no,\\n(3) ed: n...\n"
     ]
    },
    {
     "name": "stderr",
     "output_type": "stream",
     "text": [
      "Processing batch:   9%|▉         | 94/1000 [1:31:06<13:47:29, 54.80s/it]"
     ]
    },
    {
     "name": "stdout",
     "output_type": "stream",
     "text": [
      "        sm_id                                      answer_string\n",
      "1110  116j1wx  (1) relation: no,\\n(2) protein: no,\\n(3) ed: n...\n",
      "1111  116k7zz  (1) relation: no,\\n(2) protein: no,\\n(3) ed: n...\n",
      "1112  116kq52  (1) relation: no,\\n(2) protein: no,\\n(3) ed: n...\n",
      "1113  116m2b6  (1) relation: no,\\n(2) protein: no,\\n(3) ed: n...\n",
      "1114  116mlv7  (1) relation: no,\\n(2) protein: no,\\n(3) ed: n...\n",
      "1115  116morm  (1) relation: no,\\n(2) protein: no,\\n(3) ed: n...\n",
      "1116  116mv0y  (1) relation: no,\\n(2) protein: no,\\n(3) ed: n...\n",
      "1117  116nd6r  (1) relation: no\\n(2) protein: no\\n(3) ed: no\\...\n",
      "1118  116nv69  (1) relation: no,\\n(2) protein: yes, related p...\n",
      "1119  116qozf  (1) relation: no,\\n(2) protein: no,\\n(3) ed: n...\n"
     ]
    },
    {
     "name": "stderr",
     "output_type": "stream",
     "text": [
      "Processing batch:  10%|▉         | 95/1000 [1:32:05<14:06:39, 56.13s/it]"
     ]
    },
    {
     "name": "stdout",
     "output_type": "stream",
     "text": [
      "        sm_id                                      answer_string\n",
      "1120  116r3ii  (1) relation: no,\\n(2) protein: no,\\n(3) ed: y...\n",
      "1121  116tb1z  (1) relation: no,\\nrelated phrases if any: \\n(...\n",
      "1122  116w68p  (1) relation: no,\\n(2) protein: no,\\n(3) ed: n...\n",
      "1123  116y5xu  (1) relation: no,\\n(2) protein: no,\\n(3) ed: y...\n",
      "1124  1170dpw  (1) relation: no,\\n(2) protein: no,\\n(3) ed: n...\n",
      "1125  11718d1  (1) relation: no,\\n(2) protein: no,\\n(3) ed: n...\n",
      "1126  1173f1h  (1) relation: no,\\n(2) protein: no,\\n(3) ed: n...\n",
      "1127  1173vg8  (1) relation: no\\n(2) protein: no\\n(3) ed: no\\...\n",
      "1128  1174jz2  (1) relation: no\\n(2) protein: no\\n(3) ed: no\\...\n",
      "1129  117bnlq  (1) relation: no,\\n(2) protein: no,\\n(3) ed: n...\n"
     ]
    },
    {
     "name": "stderr",
     "output_type": "stream",
     "text": [
      "Processing batch:  10%|▉         | 96/1000 [1:33:05<14:25:24, 57.44s/it]"
     ]
    },
    {
     "name": "stdout",
     "output_type": "stream",
     "text": [
      "        sm_id                                      answer_string\n",
      "1130  117dxd5  (1) relation: no,\\nrelated phrases if any: \\n(...\n",
      "1131  117e2bj  (1) relation: no,\\n(2) protein: no,\\n(3) ed: n...\n",
      "1132  117e8tt  (1) relation: no\\n(2) protein: no\\n(3) ed: no\\...\n",
      "1133  117e9ca  (1) relation: no\\n(2) protein: no\\n(3) ed: no\\...\n",
      "1134  117enar  (1) relation: no,\\n(2) protein: no,\\n(3) ed: n...\n",
      "1135  117f1gy  (1) relation: no,\\n(2) protein: no,\\n(3) ed: n...\n",
      "1136   117j7f  (1) relation: no,\\nrelated phrases if any: \\n(...\n",
      "1137  117jo7z  (1) relation: no,\\n(2) protein: yes, related p...\n",
      "1138  117kgt9  (1) relation: no,\\n(2) protein: no,\\n(3) ed: n...\n",
      "1139  117lb1z  (1) relation: no,\\n(2) protein: no,\\n(3) ed: n...\n"
     ]
    },
    {
     "name": "stderr",
     "output_type": "stream",
     "text": [
      "Processing batch:  10%|▉         | 97/1000 [1:33:57<13:59:57, 55.81s/it]"
     ]
    },
    {
     "name": "stdout",
     "output_type": "stream",
     "text": [
      "        sm_id                                      answer_string\n",
      "1140  117m9zq  (1) relation: no\\n(2) protein: no\\n(3) ed: no\\...\n",
      "1141  117mh4b  (1) relation: no,\\n(2) protein: yes, related p...\n",
      "1142  117mia3  (1) relation: no,\\n(2) protein: no,\\n(3) ed: n...\n",
      "1143  117mreb  (1) relation: no,\\n(2) protein: no,\\n(3) ed: n...\n",
      "1144  117pf8e  (1) relation: no,\\n(2) protein: yes, related p...\n",
      "1145  117pg8p  (1) relation: no,\\n(2) protein: no,\\n(3) ed: n...\n",
      "1146  117pmgc  (1) relation: no,\\n(2) protein: no,\\n(3) ed: n...\n",
      "1147  117v1sk  (1) relation: no,\\n(2) protein: no,\\n(3) ed: n...\n",
      "1148  117vzr3  (1) relation: [no]\\n(2) protein: [no]\\n(3) ed:...\n",
      "1149  117vzvn  (1) relation: no\\n(2) protein: no\\n(3) ed: no\\...\n"
     ]
    },
    {
     "name": "stderr",
     "output_type": "stream",
     "text": [
      "Processing batch:  10%|▉         | 98/1000 [1:35:00<14:32:04, 58.01s/it]"
     ]
    },
    {
     "name": "stdout",
     "output_type": "stream",
     "text": [
      "        sm_id                                      answer_string\n",
      "1150  118015w  (1) relation: no,\\n(2) protein: yes, related p...\n",
      "1151  1181sr2  (1) relation: no,\\n(2) protein: no,\\n(3) ed: n...\n",
      "1152  1185lt6  (1) relation: no,\\n(2) protein: no,\\n(3) ed: n...\n",
      "1153  118amhw  (1) relation: no,\\n(2) protein: no,\\n(3) ed: n...\n",
      "1154  118bgq1  (1) relation: no,\\n(2) protein: no,\\n(3) ed: n...\n",
      "1155  118bojg  (1) relation: no,\\n(2) protein: no,\\n(3) ed: n...\n",
      "1156  118btb8  (1) relation: no,\\n(2) protein: no,\\n(3) ed: y...\n",
      "1157  118cn1e  (1) relation: no\\n(2) protein: no\\n(3) ed: no\\...\n",
      "1158  118czmd  (1) relation: no,\\n(2) protein: no,\\n(3) ed: n...\n",
      "1159  118e9lq  (1) relation: yes, related phrases if any: roo...\n"
     ]
    },
    {
     "name": "stderr",
     "output_type": "stream",
     "text": [
      "Processing batch:  10%|▉         | 99/1000 [1:35:54<14:12:26, 56.77s/it]"
     ]
    },
    {
     "name": "stdout",
     "output_type": "stream",
     "text": [
      "        sm_id                                      answer_string\n",
      "1160  118exrr  (1) relation: no\\n(2) protein: no\\n(3) ed: no\\...\n",
      "1161  118ia5y  (1) relation: no,\\n(2) protein: no,\\n(3) ed: n...\n",
      "1162  118jccj  (1) relation: no,\\n(2) protein: no,\\n(3) ed: n...\n",
      "1163  118kfpc  (1) relation: no,\\n(2) protein: no,\\n(3) ed: n...\n",
      "1164  118lnwb  (1) relation: [no]\\n(2) protein: [no]\\n(3) ed:...\n",
      "1165  118lv25  (1) relation: no,\\n(2) protein: yes, related p...\n",
      "1166  118mj6q  (1) relation: no,\\n(2) protein: no,\\n(3) ed: n...\n",
      "1167  118mpiq  (1) relation: no,\\n(2) protein: yes, related p...\n",
      "1168  118mtyo  (1) relation: no,\\n(2) protein: no,\\n(3) ed: n...\n",
      "1169  118o2x2  (1) relation: no\\n(2) protein: no\\n(3) ed: no\\...\n"
     ]
    },
    {
     "name": "stderr",
     "output_type": "stream",
     "text": [
      "Processing batch:  10%|█         | 100/1000 [1:36:58<14:43:01, 58.87s/it]"
     ]
    },
    {
     "name": "stdout",
     "output_type": "stream",
     "text": [
      "        sm_id                                      answer_string\n",
      "1170  118pf13  (1) relation: no,\\n(2) protein: no,\\n(3) ed: n...\n",
      "1171  118rcr9  (1) relation: no,\\n(2) protein: no,\\n(3) ed: n...\n",
      "1172  118vb1p  (1) relation: no,\\n(2) protein: no,\\n(3) ed: n...\n",
      "1173  118xd9k  (1) relation: no,\\n(2) protein: no,\\n(3) ed: n...\n",
      "1174  118xesj  (1) relation: no,\\n(2) protein: no,\\n(3) ed: n...\n",
      "1175  118zfjc  (1) relation: no,\\n(2) protein: yes, related p...\n",
      "1176  118zm24  (1) relation: no,\\n(2) protein: no,\\n(3) ed: y...\n",
      "1177  1191fnk  (1) relation: no,\\n(2) protein: no,\\n(3) ed: y...\n",
      "1178  1193txq  (1) relation: no,\\n(2) protein: yes, related p...\n",
      "1179  1195zio  (1) relation: yes, related phrases if any: cow...\n"
     ]
    },
    {
     "name": "stderr",
     "output_type": "stream",
     "text": [
      "Processing batch:  10%|█         | 101/1000 [1:37:52<14:19:04, 57.34s/it]"
     ]
    },
    {
     "name": "stdout",
     "output_type": "stream",
     "text": [
      "        sm_id                                      answer_string\n",
      "1180  11962x2  (1) relation: no,\\n(2) protein: no,\\n(3) ed: n...\n",
      "1181  1196f0i  (1) relation: no,\\n(2) protein: no,\\n(3) ed: n...\n",
      "1182  1196hxp  (1) relation: no,\\n(2) protein: no,\\n(3) ed: n...\n",
      "1183  1197d8s  (1) relation: no,\\n(2) protein: no,\\n(3) ed: n...\n",
      "1184  1197h2b  (1) relation: no,\\n(2) protein: no,\\n(3) ed: n...\n",
      "1185  1197w4y  (1) relation: no,\\n(2) protein: no,\\n(3) ed: y...\n",
      "1186  1197yfr  (1) relation: no,\\n(2) protein: no,\\n(3) ed: n...\n",
      "1187  119a4qe  (1) relation: no\\n(2) protein: yes, related ph...\n",
      "1188  119absr  (1) relation: no,\\n(2) protein: no,\\n(3) ed: n...\n",
      "1189   119dyf  (1) relation: yes, related phrases: attracted,...\n"
     ]
    },
    {
     "name": "stderr",
     "output_type": "stream",
     "text": [
      "Processing batch:  10%|█         | 102/1000 [1:38:48<14:10:51, 56.85s/it]"
     ]
    },
    {
     "name": "stdout",
     "output_type": "stream",
     "text": [
      "        sm_id                                      answer_string\n",
      "1190  119m3x6  (1) relation: no,\\n(2) protein: no,\\n(3) ed: n...\n",
      "1191  119mju5  (1) relation: no\\n(2) protein: no\\n(3) ed: no\\...\n",
      "1192  119qx5k  (1) relation: no,\\n(2) protein: no,\\n(3) ed: y...\n",
      "1193  119svjz  (1) relation: no,\\n(2) protein: no,\\n(3) ed: n...\n",
      "1194  119uzoa  (1) relation: no,\\n(2) protein: no,\\n(3) ed: n...\n",
      "1195  119v47j  (1) relation: no\\n(2) protein: no\\n(3) ed: no\\...\n",
      "1196  119vj0d  (1) relation: no,\\n(2) protein: no,\\n(3) ed: n...\n",
      "1197  119w11y  (1) relation: no,\\n(2) protein: no,\\n(3) ed: n...\n",
      "1198  119y98l  (1) relation: no,\\n(2) protein: no,\\n(3) ed: n...\n",
      "1199  119zxgr  (1) relation: no\\n(2) protein: no\\n(3) ed: no\\...\n"
     ]
    },
    {
     "name": "stderr",
     "output_type": "stream",
     "text": [
      "Processing batch:  10%|█         | 103/1000 [1:39:38<13:43:19, 55.07s/it]"
     ]
    },
    {
     "name": "stdout",
     "output_type": "stream",
     "text": [
      "        sm_id                                      answer_string\n",
      "1200  11a0ov2  (1) relation: no,\\n(2) protein: no,\\n(3) ed: n...\n",
      "1201  11a3a2h  (1) relation: no,\\n(2) protein: no,\\n(3) ed: n...\n",
      "1202  11a3b7z  (1) relation: no,\\n(2) protein: yes, related p...\n",
      "1203  11a4dwt  (1) relation: no,\\n(2) protein: no,\\n(3) ed: n...\n",
      "1204  11a4l60  (1) relation: no,\\n(2) protein: no,\\n(3) ed: n...\n",
      "1205  11a5vvi  (1) relation: no,\\n(2) protein: no,\\n(3) ed: n...\n",
      "1206  11acjzy  (1) relation: no,\\n(2) protein: no,\\n(3) ed: n...\n",
      "1207  11aehou  (1) relation: no,\\n(2) protein: no,\\n(3) ed: n...\n",
      "1208  11af677  (1) relation: no,\\n(2) protein: no,\\n(3) ed: n...\n",
      "1209  11ag3zx  (1) relation: no,\\n(2) protein: no,\\n(3) ed: n...\n"
     ]
    },
    {
     "name": "stderr",
     "output_type": "stream",
     "text": [
      "Processing batch:  10%|█         | 104/1000 [1:40:35<13:46:48, 55.37s/it]"
     ]
    },
    {
     "name": "stdout",
     "output_type": "stream",
     "text": [
      "        sm_id                                      answer_string\n",
      "1210  11agzuh  (1) relation: no,\\nrelated phrases if any: \\n(...\n",
      "1211  11ahl88  (1) relation: no,\\n(2) protein: no,\\n(3) ed: n...\n",
      "1212  11ahpip  (1) relation: no,\\n(2) protein: no,\\n(3) ed: n...\n",
      "1213  11ahtr0  (1) relation: no,\\n(2) protein: no,\\n(3) ed: n...\n",
      "1214  11aise6  (1) relation: no,\\n(2) protein: no,\\n(3) ed: n...\n",
      "1215  11ak8fp  (1) relation: no,\\n(2) protein: no,\\n(3) ed: n...\n",
      "1216  11amt3v  (1) relation: no\\n(2) protein: yes, related ph...\n",
      "1217  11ao173  (1) relation: no\\n(2) protein: no\\n(3) ed: no\\...\n",
      "1218  11aor41  (1) relation: no,\\n(2) protein: no,\\n(3) ed: n...\n",
      "1219  11aqn24  (1) relation: no\\n(2) protein: no\\n(3) ed: no\\...\n"
     ]
    },
    {
     "name": "stderr",
     "output_type": "stream",
     "text": [
      "Processing batch:  10%|█         | 105/1000 [1:41:29<13:42:31, 55.14s/it]"
     ]
    },
    {
     "name": "stdout",
     "output_type": "stream",
     "text": [
      "        sm_id                                      answer_string\n",
      "1220  11arzpg  (1) relation: no,\\n(2) protein: no,\\n(3) ed: n...\n",
      "1221  11at8lu  (1) relation: no,\\n(2) protein: no,\\n(3) ed: n...\n",
      "1222  11atd2z  (1) relation: no,\\n(2) protein: no,\\n(3) ed: y...\n",
      "1223  11atj1s  (1) relation: no,\\nrelated phrases if any: \\n(...\n",
      "1224  11avuh5  (1) relation: no,\\n(2) protein: no,\\n(3) ed: n...\n",
      "1225  11avytd  (1) relation: no,\\n(2) protein: no,\\n(3) ed: n...\n",
      "1226  11azfum  (1) relation: no\\n(2) protein: no\\n(3) ed: no\\...\n",
      "1227  11b0qc6  (1) relation: no,\\n(2) protein: no,\\n(3) ed: n...\n",
      "1228  11b0swj  (1) relation: no,\\n(2) protein: no,\\n(3) ed: n...\n",
      "1229  11b31dr  (1) relation: no,\\n(2) protein: no,\\n(3) ed: n...\n"
     ]
    },
    {
     "name": "stderr",
     "output_type": "stream",
     "text": [
      "Processing batch:  11%|█         | 106/1000 [1:42:27<13:52:38, 55.88s/it]"
     ]
    },
    {
     "name": "stdout",
     "output_type": "stream",
     "text": [
      "        sm_id                                      answer_string\n",
      "1230  11b3bxs  (1) relation: no,\\n(2) protein: no,\\n(3) ed: n...\n",
      "1231  11b49gy  (1) relation: no,\\n(2) protein: no,\\n(3) ed: n...\n",
      "1232  11b6g7x  (1) relation: no\\n(2) protein: no\\n(3) ed: yes...\n",
      "1233  11b7hj2  (1) relation: no,\\n(2) protein: yes, related p...\n",
      "1234  11bchvw  (1) relation: no,\\n(2) protein: no,\\n(3) ed: n...\n",
      "1235  11bfnux  (1) relation: no\\n(2) protein: no\\n(3) ed: no\\...\n",
      "1236  11bispg  (1) relation: no\\n(2) protein: no\\n(3) ed: no\\...\n",
      "1237  11bjdse  (1) relation: no,\\n(2) protein: no,\\n(3) ed: n...\n",
      "1238  11bmdtm  (1) relation: no,\\n(2) protein: no,\\n(3) ed: y...\n",
      "1239  11bo600  (1) relation: no,\\n(2) protein: yes, related p...\n"
     ]
    },
    {
     "name": "stderr",
     "output_type": "stream",
     "text": [
      "Processing batch:  11%|█         | 107/1000 [1:43:34<14:40:25, 59.15s/it]"
     ]
    },
    {
     "name": "stdout",
     "output_type": "stream",
     "text": [
      "        sm_id                                      answer_string\n",
      "1240  11br6mz  (1) relation: no,\\nrelated phrases if any: \\n(...\n",
      "1241  11bsezd  (1) relation: no,\\n(2) protein: no,\\n(3) ed: n...\n",
      "1242  11bsnxp  (1) relation: no,\\n(2) protein: no,\\n(3) ed: y...\n",
      "1243  11bst1i  (1) relation: no,\\n(2) protein: no,\\n(3) ed: n...\n",
      "1244  11bu6fz  (1) relation: no,\\n(2) protein: no,\\n(3) ed: n...\n",
      "1245  11buanc  (1) relation: no,\\n(2) protein: no,\\n(3) ed: n...\n",
      "1246  11bucmu  (1) relation: no\\n(2) protein: no\\n(3) ed: no\\...\n",
      "1247   11bvpo  (1) relation: no,\\n(2) protein: no,\\n(3) ed: n...\n",
      "1248  11bx9zc  (1) relation: no,\\n(2) protein: no,\\n(3) ed: n...\n",
      "1249  11bxe7j  (1) relation: no,\\nrelated phrases if any: \\n(...\n"
     ]
    },
    {
     "name": "stderr",
     "output_type": "stream",
     "text": [
      "Processing batch:  11%|█         | 108/1000 [1:44:27<14:12:47, 57.36s/it]"
     ]
    },
    {
     "name": "stdout",
     "output_type": "stream",
     "text": [
      "        sm_id                                      answer_string\n",
      "1250  11bzh58  (1) relation: no,\\n(2) protein: no,\\n(3) ed: n...\n",
      "1251  11bzkfd  (1) relation: no\\n(2) protein: no\\n(3) ed: no\\...\n",
      "1252  11c1ojk  (1) relation: no,\\n(2) protein: no,\\n(3) ed: n...\n",
      "1253  11c5kq2  (1) relation: yes, related phrases if any: mom...\n",
      "1254  11cd3nt  (1) relation: no,\\n(2) protein: no,\\n(3) ed: n...\n",
      "1255  11cd3s1  (1) relation: no,\\n(2) protein: no,\\n(3) ed: n...\n",
      "1256  11chktp  (1) relation: no,\\n(2) protein: no,\\n(3) ed: n...\n",
      "1257  11cjv4k  (1) relation: no,\\n(2) protein: no,\\n(3) ed: n...\n",
      "1258  11clbpg  (1) relation: no,\\n(2) protein: no,\\n(3) ed: n...\n",
      "1259  11cn4cz  (1) relation: no,\\n(2) protein: no,\\n(3) ed: n...\n"
     ]
    },
    {
     "name": "stderr",
     "output_type": "stream",
     "text": [
      "Processing batch:  11%|█         | 109/1000 [1:45:32<14:49:10, 59.88s/it]"
     ]
    },
    {
     "name": "stdout",
     "output_type": "stream",
     "text": [
      "        sm_id                                      answer_string\n",
      "1260  11cnvdh  (1) relation: no,\\n(2) protein: no,\\n(3) ed: n...\n",
      "1261  11cp9nb  (1) relation: [no]\\n(2) protein: [no]\\n(3) ed:...\n",
      "1262  11cpb16  (1) relation: no,\\n(2) protein: no,\\n(3) ed: n...\n",
      "1263  11cpne8  (1) relation: no, related phrases if any: \\n(2...\n",
      "1264  11cty8v  (1) relation: no,\\n(2) protein: no,\\n(3) ed: y...\n",
      "1265  11cu47i  (1) relation: no,\\n(2) protein: no,\\n(3) ed: n...\n",
      "1266  11cv6cj  (1) relation: no,\\n(2) protein: no,\\n(3) ed: n...\n",
      "1267  11cwmsi  (1) relation: no\\n(2) protein: no\\n(3) ed: no\\...\n",
      "1268  11cxls5  (1) relation: no,\\n(2) protein: no,\\n(3) ed: y...\n",
      "1269  11d0466  (1) relation: no,\\n(2) protein: no,\\n(3) ed: y...\n"
     ]
    },
    {
     "name": "stderr",
     "output_type": "stream",
     "text": [
      "Processing batch:  11%|█         | 110/1000 [1:46:30<14:39:41, 59.31s/it]"
     ]
    },
    {
     "name": "stdout",
     "output_type": "stream",
     "text": [
      "        sm_id                                      answer_string\n",
      "1270  11d3a52  (1) relation: no,\\n(2) protein: no,\\n(3) ed: n...\n",
      "1271  11d4462  (1) relation: [no], related phrases if any: \\n...\n",
      "1272  11d4uof  (1) relation: no,\\n(2) protein: no,\\n(3) ed: n...\n",
      "1273  11d4upi  (1) relation: no,\\n(2) protein: no,\\n(3) ed: n...\n",
      "1274  11d6dc4  (1) relation: no,\\n(2) protein: no,\\n(3) ed: n...\n",
      "1275  11d7h23  (1) relation: no,\\n(2) protein: no,\\n(3) ed: n...\n",
      "1276  11d7wz0  (1) relation: no,\\n(2) protein: no,\\n(3) ed: n...\n",
      "1277  11d8d8n  (1) relation: no,\\n(2) protein: no,\\n(3) ed: n...\n",
      "1278  11d8u85  (1) relation: no\\n(2) protein: no\\n(3) ed: no\\...\n",
      "1279  11d951o  (1) relation: no\\n(2) protein: no\\n(3) ed: no\\...\n"
     ]
    },
    {
     "name": "stderr",
     "output_type": "stream",
     "text": [
      "Processing batch:  11%|█         | 111/1000 [1:47:24<14:13:49, 57.63s/it]"
     ]
    },
    {
     "name": "stdout",
     "output_type": "stream",
     "text": [
      "        sm_id                                      answer_string\n",
      "1280  11dc2on  (1) relation: no,\\n(2) protein: no,\\n(3) ed: n...\n",
      "1281  11dc5wb  (1) relation: no\\n(2) protein: no\\n(3) ed: yes...\n",
      "1282  11dc9fp  (1) relation: no,\\n(2) protein: no,\\n(3) ed: n...\n",
      "1283  11dfy20  (1) relation: no\\n(2) protein: yes, related ph...\n",
      "1284  11dgag9  (1) relation: no,\\n(2) protein: no,\\n(3) ed: n...\n",
      "1285  11dhdfe  (1) relation: no,\\n(2) protein: no,\\n(3) ed: n...\n",
      "1286  11dhich  (1) relation: no,\\n(2) protein: no,\\n(3) ed: n...\n",
      "1287  11di4qg  (1) relation: yes, related phrases: husband, p...\n",
      "1288  11dirfv  (1) relation: no,\\n(2) protein: no,\\n(3) ed: n...\n",
      "1289  11dj3hl  (1) relation: no,\\n(2) protein: no,\\n(3) ed: n...\n"
     ]
    },
    {
     "name": "stderr",
     "output_type": "stream",
     "text": [
      "Processing batch:  11%|█         | 112/1000 [1:48:26<14:33:11, 59.00s/it]"
     ]
    },
    {
     "name": "stdout",
     "output_type": "stream",
     "text": [
      "        sm_id                                      answer_string\n",
      "1290  11dk4as  (1) relation: no,\\n(2) protein: no,\\n(3) ed: y...\n",
      "1291  11dkeud  (1) relation: no,\\n(2) protein: no,\\n(3) ed: n...\n",
      "1292  11dkngo  (1) relation: no\\n(2) protein: no\\n(3) ed: no\\...\n",
      "1293  11dkvkn  (1) relation: no,\\nrelated phrases if any: \\n(...\n",
      "1294  11dlskb  (1) relation: no,\\n(2) protein: no,\\n(3) ed: n...\n",
      "1295  11dm47n  (1) relation: [no]\\n(2) protein: [no]\\n(3) ed:...\n",
      "1296  11dou65  (1) relation: no\\n(2) protein: no\\n(3) ed: no\\...\n",
      "1297  11dr4pi  (1) relation: no\\n(2) protein: no\\n(3) ed: no\\...\n",
      "1298  11ds02t  (1) relation: no,\\n(2) protein: no,\\n(3) ed: n...\n",
      "1299  11ds25q  (1) relation: no\\n(2) protein: no\\n(3) ed: no\\...\n"
     ]
    },
    {
     "name": "stderr",
     "output_type": "stream",
     "text": [
      "Processing batch:  11%|█▏        | 113/1000 [1:49:20<14:07:06, 57.30s/it]"
     ]
    },
    {
     "name": "stdout",
     "output_type": "stream",
     "text": [
      "        sm_id                                      answer_string\n",
      "1300  11dso30  (1) relation: no,\\n(2) protein: no,\\n(3) ed: n...\n",
      "1301  11dtbz5  (1) relation: no\\n(2) protein: no\\n(3) ed: no\\...\n",
      "1302  11dtkl2  (1) relation: no,\\n(2) protein: no,\\n(3) ed: n...\n",
      "1303  11dux4d  (1) relation: no,\\n(2) protein: no,\\n(3) ed: y...\n",
      "1304  11dxola  (1) relation: no,\\n(2) protein: no,\\n(3) ed: n...\n",
      "1305  11dxydc  (1) relation: no,\\n(2) protein: no,\\n(3) ed: n...\n",
      "1306  11dycoi  (1) relation: no,\\n(2) protein: no,\\n(3) ed: n...\n",
      "1307  11e3ura  (1) relation: no,\\n(2) protein: no,\\n(3) ed: n...\n",
      "1308  11e4au2  (1) relation: no,\\n(2) protein: no,\\n(3) ed: n...\n",
      "1309  11e5dig  (1) relation: no,\\n(2) protein: no,\\n(3) ed: n...\n"
     ]
    },
    {
     "name": "stderr",
     "output_type": "stream",
     "text": [
      "Processing batch:  11%|█▏        | 114/1000 [1:50:14<13:54:39, 56.52s/it]"
     ]
    },
    {
     "name": "stdout",
     "output_type": "stream",
     "text": [
      "        sm_id                                      answer_string\n",
      "1310  11ead14  (1) relation: no\\n(2) protein: no\\n(3) ed: yes...\n",
      "1311  11eaufx  (1) relation: no,\\n(2) protein: no,\\n(3) ed: y...\n",
      "1312  11eb85m  (1) relation: no,\\n(2) protein: no,\\n(3) ed: n...\n",
      "1313  11ecx9k  (1) relation: no,\\n(2) protein: no,\\n(3) ed: n...\n",
      "1314  11eczz8  (1) relation: no,\\n(2) protein: no,\\n(3) ed: n...\n",
      "1315  11ed95l  (1) relation: no,\\n(2) protein: yes, related p...\n",
      "1316  11edkji  (1) relation: [no]\\n(2) protein: [no]\\n(3) ed:...\n",
      "1317  11edp2q  (1) relation: no,\\nrelated phrases if any: \\n(...\n",
      "1318  11eeavh  (1) relation: no,\\n(2) protein: no,\\n(3) ed: n...\n",
      "1319  11eesjv  (1) relation: no,\\n(2) protein: yes, related p...\n"
     ]
    },
    {
     "name": "stderr",
     "output_type": "stream",
     "text": [
      "Processing batch:  12%|█▏        | 115/1000 [1:51:11<13:52:37, 56.45s/it]"
     ]
    },
    {
     "name": "stdout",
     "output_type": "stream",
     "text": [
      "        sm_id                                      answer_string\n",
      "1320  11efo6c  (1) relation: no,\\n(2) protein: no,\\n(3) ed: n...\n",
      "1321  11eg8dg  (1) relation: no,\\n(2) protein: no,\\n(3) ed: n...\n",
      "1322  11egqzx  (1) relation: no,\\n(2) protein: yes, related p...\n",
      "1323  11ehdun  (1) relation: no,\\nrelated phrases if any: \\n(...\n",
      "1324  11ej20x  (1) relation: no,\\n(2) protein: no,\\n(3) ed: n...\n",
      "1325  11enol2  (1) relation: no,\\n(2) protein: no,\\n(3) ed: n...\n",
      "1326  11ep73x  (1) relation: yes, related phrases if any: sis...\n",
      "1327  11eqjnj  (1) relation: no,\\n(2) protein: no,\\n(3) ed: n...\n",
      "1328  11eqtf3  (1) relation: no,\\n(2) protein: no,\\n(3) ed: n...\n",
      "1329  11er491  (1) relation: no,\\n(2) protein: no,\\n(3) ed: n...\n"
     ]
    },
    {
     "name": "stderr",
     "output_type": "stream",
     "text": [
      "Processing batch:  12%|█▏        | 116/1000 [1:52:04<13:36:40, 55.43s/it]"
     ]
    },
    {
     "name": "stdout",
     "output_type": "stream",
     "text": [
      "        sm_id                                      answer_string\n",
      "1330  11erbdx  (1) relation: no\\n(2) protein: no\\n(3) ed: no\\...\n",
      "1331  11es5o2  (1) relation: no,\\n(2) protein: no,\\n(3) ed: n...\n",
      "1332  11eskmq  (1) relation: no,\\n(2) protein: no,\\n(3) ed: n...\n",
      "1333  11esozv  (1) relation: no,\\n(2) protein: no,\\n(3) ed: n...\n",
      "1334  11esyax  (1) relation: [no]\\n(2) protein: [no]\\n(3) ed:...\n",
      "1335  11evfdw  (1) relation: no,\\n(2) protein: yes, related p...\n",
      "1336  11ew4ya  (1) relation: no,\\n(2) protein: no,\\n(3) ed: n...\n",
      "1337  11ewggx  (1) relation: no,\\n(2) protein: no,\\n(3) ed: n...\n",
      "1338  11ezs8g  (1) relation: no\\n(2) protein: no\\n(3) ed: no\\...\n",
      "1339  11f0sy3  (1) relation: no,\\n(2) protein: no,\\n(3) ed: n...\n"
     ]
    },
    {
     "name": "stderr",
     "output_type": "stream",
     "text": [
      "Processing batch:  12%|█▏        | 117/1000 [1:52:59<13:34:20, 55.33s/it]"
     ]
    },
    {
     "name": "stdout",
     "output_type": "stream",
     "text": [
      "        sm_id                                      answer_string\n",
      "1340  11f0v9y  (1) relation: no,\\n(2) protein: no,\\n(3) ed: n...\n",
      "1341  11f19q1  (1) relation: no,\\n(2) protein: no,\\n(3) ed: n...\n",
      "1342  11f289f  (1) relation: no,\\n(2) protein: yes, related p...\n",
      "1343  11f4nbm  (1) relation: no,\\n(2) protein: no,\\n(3) ed: n...\n",
      "1344  11f5lp5  (1) relation: no,\\nrelated phrases if any: \\n(...\n",
      "1345  11f5mnl  (1) relation: no\\n(2) protein: no\\n(3) ed: no\\...\n",
      "1346  11f601v  (1) relation: no,\\n(2) protein: yes, related p...\n",
      "1347  11f6fut  (1) relation: no,\\n(2) protein: no,\\n(3) ed: n...\n",
      "1348  11f7irv  (1) relation: no,\\n(2) protein: no,\\n(3) ed: n...\n",
      "1349  11f7kic  (1) relation: no\\n(2) protein: no\\n(3) ed: no\\...\n"
     ]
    },
    {
     "name": "stderr",
     "output_type": "stream",
     "text": [
      "Processing batch:  12%|█▏        | 118/1000 [1:53:58<13:50:39, 56.51s/it]"
     ]
    },
    {
     "name": "stdout",
     "output_type": "stream",
     "text": [
      "        sm_id                                      answer_string\n",
      "1350  11f8x4i  (1) relation: no,\\n(2) protein: no,\\n(3) ed: n...\n",
      "1351  11f8xat  (1) relation: no,\\nrelated phrases if any: \\n(...\n",
      "1352  11fbhyo  (1) relation: yes, related phrases if any: mot...\n",
      "1353  11fc7sc  (1) relation: no,\\n(2) protein: no,\\n(3) ed: n...\n",
      "1354  11fceou  (1) relation: no\\n(2) protein: no\\n(3) ed: no\\...\n",
      "1355  11fcj9c  (1) relation: no,\\n(2) protein: no,\\n(3) ed: n...\n",
      "1356  11fgmje  (1) relation: no,\\n(2) protein: no,\\n(3) ed: n...\n",
      "1357  11fgvn0  (1) relation: no\\n(2) protein: no\\n(3) ed: no\\...\n",
      "1358  11fjz8g  (1) relation: no,\\n(2) protein: no,\\n(3) ed: n...\n",
      "1359  11fk68q  (1) relation: yes, related phrases if any: fam...\n"
     ]
    },
    {
     "name": "stderr",
     "output_type": "stream",
     "text": [
      "Processing batch:  12%|█▏        | 119/1000 [1:54:55<13:50:36, 56.57s/it]"
     ]
    },
    {
     "name": "stdout",
     "output_type": "stream",
     "text": [
      "        sm_id                                      answer_string\n",
      "1360  11fn4zx  (1) relation: no,\\n(2) protein: no,\\n(3) ed: n...\n",
      "1361  11fnllt  (1) relation: no,\\n(2) protein: no,\\n(3) ed: n...\n",
      "1362  11fnorb  (1) relation: no,\\n(2) protein: no,\\n(3) ed: n...\n",
      "1363  11fo2xb  (1) relation: yes, related phrases if any: par...\n",
      "1364  11fojj3  (1) relation: no,\\n(2) protein: no,\\n(3) ed: n...\n",
      "1365  11fr0pi  (1) relation: no,\\n(2) protein: no,\\n(3) ed: n...\n",
      "1366  11fth1u  (1) relation: no,\\n(2) protein: no,\\n(3) ed: n...\n",
      "1367  11fv4b9  (1) relation: no,\\n(2) protein: no,\\n(3) ed: n...\n",
      "1368  11fvs5o  (1) relation: no,\\n(2) protein: yes, related p...\n",
      "1369  11fxnre  (1) relation: no,\\n(2) protein: no,\\n(3) ed: y...\n"
     ]
    },
    {
     "name": "stderr",
     "output_type": "stream",
     "text": [
      "Processing batch:  12%|█▏        | 120/1000 [1:55:59<14:23:00, 58.84s/it]"
     ]
    },
    {
     "name": "stdout",
     "output_type": "stream",
     "text": [
      "        sm_id                                      answer_string\n",
      "1370  11fzsge  (1) relation: [no], related phrases if any: \\n...\n",
      "1371  11fzzl9  (1) relation: no,\\n(2) protein: no,\\n(3) ed: n...\n",
      "1372  11g29fi  (1) relation: yes, related phrases if any: fam...\n",
      "1373  11g2qfm  (1) relation: no,\\n(2) protein: no,\\n(3) ed: n...\n",
      "1374  11g6q5j  (1) relation: no,\\n(2) protein: no,\\n(3) ed: n...\n",
      "1375  11g72ic  (1) relation: no,\\nrelated phrases if any: \\n(...\n",
      "1376  11g7gin  (1) relation: no,\\n(2) protein: no,\\n(3) ed: n...\n",
      "1377  11g7vcj  (1) relation: no,\\n(2) protein: yes, related p...\n",
      "1378  11g8r3q  (1) relation: no,\\n(2) protein: no,\\n(3) ed: n...\n",
      "1379  11g9oal  (1) relation: no,\\n(2) protein: yes, related p...\n"
     ]
    },
    {
     "name": "stderr",
     "output_type": "stream",
     "text": [
      "Processing batch:  12%|█▏        | 121/1000 [1:56:58<14:23:18, 58.93s/it]"
     ]
    },
    {
     "name": "stdout",
     "output_type": "stream",
     "text": [
      "        sm_id                                      answer_string\n",
      "1380  11gak7g  (1) relation: no,\\n(2) protein: no,\\n(3) ed: n...\n",
      "1381  11gbknb  (1) relation: no,\\n(2) protein: no,\\n(3) ed: n...\n",
      "1382  11gbppr  (1) relation: no,\\n(2) protein: no,\\n(3) ed: n...\n",
      "1383  11gd3o8  (1) relation: no,\\n(2) protein: no,\\n(3) ed: n...\n",
      "1384  11gfig8  (1) relation: no,\\n(2) protein: no,\\n(3) ed: n...\n",
      "1385  11gfyie  (1) relation: no,\\n(2) protein: yes, related p...\n",
      "1386  11gjl3u  (1) relation: no,\\n(2) protein: no,\\n(3) ed: n...\n",
      "1387  11gm503  (1) relation: yes, related phrases: primary pe...\n",
      "1388  11gmz8f  (1) relation: no,\\n(2) protein: yes, related p...\n",
      "1389  11gojf7  (1) relation: no,\\n(2) protein: no,\\n(3) ed: y...\n"
     ]
    },
    {
     "name": "stderr",
     "output_type": "stream",
     "text": [
      "Processing batch:  12%|█▏        | 122/1000 [1:57:54<14:06:56, 57.88s/it]"
     ]
    },
    {
     "name": "stdout",
     "output_type": "stream",
     "text": [
      "        sm_id                                      answer_string\n",
      "1390  11gpzcc  (1) relation: no,\\n(2) protein: no,\\n(3) ed: n...\n",
      "1391  11grl6w  (1) relation: no,\\n(2) protein: no,\\n(3) ed: n...\n",
      "1392  11gtdin  (1) relation: no,\\n(2) protein: no,\\n(3) ed: n...\n",
      "1393  11gxur6  (1) relation: no,\\n(2) protein: no,\\n(3) ed: n...\n",
      "1394  11gzjnp  (1) relation: no,\\n(2) protein: no,\\n(3) ed: y...\n",
      "1395  11h2p9c  (1) relation: no,\\n(2) protein: no,\\n(3) ed: n...\n",
      "1396  11h2ymh  (1) relation: no,\\n(2) protein: no,\\n(3) ed: n...\n",
      "1397  11h3p6o  (1) relation: no,\\n(2) protein: no,\\n(3) ed: n...\n",
      "1398  11h5250  (1) relation: no,\\n(2) protein: no,\\n(3) ed: n...\n",
      "1399  11h5os2  (1) relation: no,\\n(2) protein: no,\\n(3) ed: n...\n"
     ]
    },
    {
     "name": "stderr",
     "output_type": "stream",
     "text": [
      "Processing batch:  12%|█▏        | 123/1000 [1:58:54<14:15:52, 58.55s/it]"
     ]
    },
    {
     "name": "stdout",
     "output_type": "stream",
     "text": [
      "        sm_id                                      answer_string\n",
      "1400  11h8y1o  (1) relation: no,\\n(2) protein: yes, related p...\n",
      "1401  11hbxl3  (1) relation: no\\n(2) protein: no\\n(3) ed: no\\...\n",
      "1402  11hc4av  (1) relation: yes, related phrases if any: pro...\n",
      "1403  11hf6pl  (1) relation: no,\\n(2) protein: no,\\n(3) ed: n...\n",
      "1404  11hggle  (1) relation: no\\n(2) protein: no\\n(3) ed: no\\...\n",
      "1405  11hgnzh  (1) relation: no,\\n(2) protein: no,\\n(3) ed: n...\n",
      "1406  11hhfq9  (1) relation: no,\\n(2) protein: yes, related p...\n",
      "1407  11hjhn5  (1) relation: no,\\n(2) protein: no,\\n(3) ed: n...\n",
      "1408  11hkgcv  (1) relation: no\\n(2) protein: no\\n(3) ed: no\\...\n",
      "1409  11hmdp1  (1) relation: no,\\n(2) protein: no,\\n(3) ed: n...\n"
     ]
    },
    {
     "name": "stderr",
     "output_type": "stream",
     "text": [
      "Processing batch:  12%|█▏        | 124/1000 [2:00:02<14:55:48, 61.36s/it]"
     ]
    },
    {
     "name": "stdout",
     "output_type": "stream",
     "text": [
      "        sm_id                                      answer_string\n",
      "1410  11hn71z  (1) relation: no,\\n(2) protein: no,\\n(3) ed: n...\n",
      "1411  11hnfng  (1) relation: no,\\n(2) protein: no,\\n(3) ed: n...\n",
      "1412  11hnhyf  (1) relation: no\\n(2) protein: no\\n(3) ed: no\\...\n",
      "1413  11hpfs7  (1) relation: no,\\n(2) protein: no,\\n(3) ed: n...\n",
      "1414  11hq0ak  (1) relation: no,\\nrelated phrases if any: \\n(...\n",
      "1415  11hq5ds  (1) relation: no\\n(2) protein: yes, related ph...\n",
      "1416  11hresk  (1) relation: no,\\n(2) protein: no,\\n(3) ed: n...\n",
      "1417  11hs0cr  (1) relation: no,\\nrelated phrases if any: \\n(...\n",
      "1418  11htbh0  (1) relation: no,\\n(2) protein: no,\\n(3) ed: n...\n",
      "1419  11hwd13  (1) relation: yes, related phrases if any: tal...\n"
     ]
    },
    {
     "name": "stderr",
     "output_type": "stream",
     "text": [
      "Processing batch:  12%|█▎        | 125/1000 [2:00:58<14:31:31, 59.76s/it]"
     ]
    },
    {
     "name": "stdout",
     "output_type": "stream",
     "text": [
      "        sm_id                                      answer_string\n",
      "1420  11hxli7  (1) relation: no,\\n(2) protein: no,\\n(3) ed: n...\n",
      "1421  11i0lv0  (1) relation: no,\\n(2) protein: no,\\n(3) ed: n...\n",
      "1422  11i1y2h  (1) relation: no,\\n(2) protein: no,\\n(3) ed: n...\n",
      "1423  11i2808  (1) relation: no,\\n(2) protein: no,\\n(3) ed: n...\n",
      "1424  11i4szc  (1) relation: no,\\n(2) protein: no,\\n(3) ed: n...\n",
      "1425  11i7t2v  (1) relation: no,\\n(2) protein: no,\\n(3) ed: n...\n",
      "1426  11i8dbi  (1) relation: no,\\n(2) protein: no,\\n(3) ed: y...\n",
      "1427  11i8k46  (1) relation: no,\\nrelated phrases if any: \\n(...\n",
      "1428  11iaijq  (1) relation: no,\\n(2) protein: yes, related p...\n",
      "1429  11ib4xb  (1) relation: no,\\n(2) protein: no,\\n(3) ed: n...\n"
     ]
    },
    {
     "name": "stderr",
     "output_type": "stream",
     "text": [
      "Processing batch:  13%|█▎        | 126/1000 [2:01:58<14:35:06, 60.08s/it]"
     ]
    },
    {
     "name": "stdout",
     "output_type": "stream",
     "text": [
      "        sm_id                                      answer_string\n",
      "1430  11idyx5  (1) relation: no,\\n(2) protein: no,\\n(3) ed: n...\n",
      "1431  11ii0su  (1) relation: yes, related phrases if any: par...\n",
      "1432  11ii261  (1) relation: yes, related phrases if any: fam...\n",
      "1433  11iiwde  (1) relation: no\\n(2) protein: no\\n(3) ed: no\\...\n",
      "1434  11ij4tp  (1) relation: no,\\n(2) protein: no,\\n(3) ed: n...\n",
      "1435  11ijx8c  (1) relation: no,\\n(2) protein: no,\\n(3) ed: n...\n",
      "1436  11imsp2  (1) relation: no,\\n(2) protein: no,\\n(3) ed: n...\n",
      "1437  11ioejb  (1) relation: no,\\n(2) protein: no,\\n(3) ed: n...\n",
      "1438  11iqt30  (1) relation: no,\\n(2) protein: no,\\n(3) ed: n...\n",
      "1439   11iqte  (1) relation: no,\\n(2) protein: no,\\n(3) ed: n...\n"
     ]
    },
    {
     "name": "stderr",
     "output_type": "stream",
     "text": [
      "Processing batch:  13%|█▎        | 127/1000 [2:02:52<14:06:10, 58.16s/it]"
     ]
    },
    {
     "name": "stdout",
     "output_type": "stream",
     "text": [
      "        sm_id                                      answer_string\n",
      "1440  11irxa3  (1) relation: no\\n(2) protein: no\\n(3) ed: no\\...\n",
      "1441  11irxsu  (1) relation: no,\\n(2) protein: no,\\n(3) ed: n...\n",
      "1442  11is53r  (1) relation: no,\\nrelated phrases if any: \\n(...\n",
      "1443  11iscls  (1) relation: yes, related phrases: girlfriend...\n",
      "1444  11iu1i3  (1) relation: no,\\n(2) protein: no,\\n(3) ed: n...\n",
      "1445  11iufe2  (1) relation: no,\\n(2) protein: no,\\n(3) ed: n...\n",
      "1446  11iufiw  (1) relation: no,\\n(2) protein: no,\\n(3) ed: n...\n",
      "1447  11iuqhq  (1) relation: no,\\n(2) protein: no,\\n(3) ed: n...\n",
      "1448  11ivh6f  (1) relation: no,\\n(2) protein: no,\\n(3) ed: n...\n",
      "1449  11ivxlu  (1) relation: no\\n(2) protein: no\\n(3) ed: no\\...\n"
     ]
    },
    {
     "name": "stderr",
     "output_type": "stream",
     "text": [
      "Processing batch:  13%|█▎        | 128/1000 [2:03:52<14:13:44, 58.74s/it]"
     ]
    },
    {
     "name": "stdout",
     "output_type": "stream",
     "text": [
      "        sm_id                                      answer_string\n",
      "1450  11ix9rn  (1) relation: no,\\n(2) protein: no,\\n(3) ed: n...\n",
      "1451  11iyzg6  (1) relation: no,\\n(2) protein: no,\\n(3) ed: y...\n",
      "1452  11iz4p2  (1) relation: no,\\n(2) protein: no,\\n(3) ed: n...\n",
      "1453  11izksn  (1) relation: yes, related phrases if any: mot...\n",
      "1454  11izuex  (1) relation: no\\n(2) protein: no\\n(3) ed: no\\...\n",
      "1455  11j093k  (1) relation: no,\\n(2) protein: no,\\n(3) ed: n...\n",
      "1456  11j0bvy  (1) relation: yes, related phrases if any: fri...\n",
      "1457  11j2p4e  (1) relation: no\\n(2) protein: no\\n(3) ed: no\\...\n",
      "1458  11j2r57  (1) relation: no,\\n(2) protein: no,\\n(3) ed: n...\n",
      "1459  11jchgw  (1) relation: no\\n(2) protein: no\\n(3) ed: no\\...\n"
     ]
    },
    {
     "name": "stderr",
     "output_type": "stream",
     "text": [
      "Processing batch:  13%|█▎        | 129/1000 [2:04:50<14:09:17, 58.50s/it]"
     ]
    },
    {
     "name": "stdout",
     "output_type": "stream",
     "text": [
      "        sm_id                                      answer_string\n",
      "1460  11jdxhd  (1) relation: no,\\n(2) protein: no,\\n(3) ed: n...\n",
      "1461  11je08r  (1) relation: no,\\n(2) protein: no,\\n(3) ed: n...\n",
      "1462  11jewsi  (1) relation: yes, related phrases if any: bod...\n",
      "1463  11jg683  (1) relation: yes, related phrases if any: bes...\n",
      "1464  11jitim  (1) relation: no\\n(2) protein: no\\n(3) ed: no\\...\n",
      "1465  11jiuo3  (1) relation: no,\\n(2) protein: no,\\n(3) ed: n...\n",
      "1466  11jjjo7  (1) relation: no,\\n(2) protein: no,\\n(3) ed: n...\n",
      "1467  11jm3e6  (1) relation: no,\\n(2) protein: no,\\n(3) ed: n...\n",
      "1468  11jsl85  (1) relation: no,\\n(2) protein: no,\\n(3) ed: n...\n",
      "1469  11jtmkf  (1) relation: no,\\n(2) protein: no,\\n(3) ed: n...\n"
     ]
    },
    {
     "name": "stderr",
     "output_type": "stream",
     "text": [
      "Processing batch:  13%|█▎        | 130/1000 [2:05:55<14:36:55, 60.48s/it]"
     ]
    },
    {
     "name": "stdout",
     "output_type": "stream",
     "text": [
      "        sm_id                                      answer_string\n",
      "1470  11jvkel  (1) relation: no\\n(2) protein: no\\n(3) ed: no\\...\n",
      "1471  11jvq2e  (1) relation: no, related phrases if any: \\n(2...\n",
      "1472  11jzapt  (1) relation: yes, related phrases if any: avo...\n",
      "1473  11jzjwu  (1) relation: no\\n(2) protein: no\\n(3) ed: no\\...\n",
      "1474  11k012f  (1) relation: no,\\n(2) protein: no,\\n(3) ed: n...\n",
      "1475  11k0fro  (1) relation: no,\\n(2) protein: yes, related p...\n",
      "1476  11k0nbb  (1) relation: no,\\n(2) protein: no,\\n(3) ed: n...\n",
      "1477  11k2h6w  (1) relation: yes, related phrases if any: vis...\n",
      "1478  11k2mad  (1) relation: no,\\nrelated phrases if any: \\n(...\n",
      "1479  11k8eam  (1) relation: no,\\n(2) protein: no,\\n(3) ed: n...\n"
     ]
    },
    {
     "name": "stderr",
     "output_type": "stream",
     "text": [
      "Processing batch:  13%|█▎        | 131/1000 [2:06:49<14:08:59, 58.62s/it]"
     ]
    },
    {
     "name": "stdout",
     "output_type": "stream",
     "text": [
      "        sm_id                                      answer_string\n",
      "1480  11k8t2g  (1) relation: no,\\n(2) protein: yes, related p...\n",
      "1481  11kaweh  (1) relation: no,\\n(2) protein: no,\\n(3) ed: n...\n",
      "1482  11kb6qh  (1) relation: yes, related phrases if any: eat...\n",
      "1483  11kc012  (1) relation: no,\\n(2) protein: no,\\n(3) ed: n...\n",
      "1484  11kdu0q  (1) relation: no\\n(2) protein: no\\n(3) ed: no\\...\n",
      "1485  11kecec  (1) relation: no,\\n(2) protein: no,\\n(3) ed: n...\n",
      "1486  11kh24m  (1) relation: no,\\n(2) protein: no,\\n(3) ed: n...\n",
      "1487  11kh3u1  (1) relation: no,\\n(2) protein: no,\\n(3) ed: n...\n",
      "1488  11kkacw  (1) relation: no,\\n(2) protein: no,\\n(3) ed: n...\n",
      "1489  11klksl  (1) relation: no,\\n(2) protein: no,\\n(3) ed: n...\n"
     ]
    },
    {
     "name": "stderr",
     "output_type": "stream",
     "text": [
      "Processing batch:  13%|█▎        | 132/1000 [2:07:42<13:42:02, 56.82s/it]"
     ]
    },
    {
     "name": "stdout",
     "output_type": "stream",
     "text": [
      "        sm_id                                      answer_string\n",
      "1490  11kmx6p  (1) relation: no,\\n(2) protein: no,\\n(3) ed: n...\n",
      "1491  11kofgw  (1) relation: no\\n(2) protein: no\\n(3) ed: no\\...\n",
      "1492  11kpx5d  (1) relation: no,\\n(2) protein: no,\\n(3) ed: n...\n",
      "1493  11ku6ah  (1) relation: no,\\n(2) protein: no,\\n(3) ed: y...\n",
      "1494  11ku6y9  (1) relation: no,\\n(2) protein: no,\\n(3) ed: n...\n",
      "1495  11kvurw  (1) relation: no,\\n(2) protein: no,\\n(3) ed: n...\n",
      "1496  11kw62m  (1) relation: no,\\n(2) protein: no,\\n(3) ed: n...\n",
      "1497  11kxfe8  (1) relation: no,\\n(2) protein: no,\\n(3) ed: n...\n",
      "1498  11kxvuy  (1) relation: no,\\n(2) protein: no,\\n(3) ed: n...\n",
      "1499  11kyfmv  (1) relation: no,\\n(2) protein: no,\\n(3) ed: n...\n"
     ]
    },
    {
     "name": "stderr",
     "output_type": "stream",
     "text": [
      "Processing batch:  13%|█▎        | 133/1000 [2:08:36<13:26:20, 55.80s/it]"
     ]
    },
    {
     "name": "stdout",
     "output_type": "stream",
     "text": [
      "        sm_id                                      answer_string\n",
      "1500  11kz2dq  (1) relation: no\\n(2) protein: no\\n(3) ed: no\\...\n",
      "1501  11kzzga  (1) relation: no\\n(2) protein: no\\n(3) ed: no\\...\n",
      "1502  11l0tr9  (1) relation: no,\\nrelated phrases if any: \\n(...\n",
      "1503  11l0zs8  (1) relation: no,\\n(2) protein: no,\\n(3) ed: n...\n",
      "1504  11l19lv  (1) relation: no,\\n(2) protein: no,\\n(3) ed: n...\n",
      "1505  11l1z8m  (1) relation: no\\n(2) protein: no\\n(3) ed: no\\...\n",
      "1506  11l23cl  (1) relation: no,\\n(2) protein: no,\\n(3) ed: n...\n",
      "1507  11l2x8n  (1) relation: no,\\n(2) protein: no,\\n(3) ed: n...\n",
      "1508  11l3mia  (1) relation: no,\\n(2) protein: no,\\n(3) ed: n...\n",
      "1509  11l551r  (1) relation: no,\\n(2) protein: no,\\n(3) ed: n...\n"
     ]
    },
    {
     "name": "stderr",
     "output_type": "stream",
     "text": [
      "Processing batch:  13%|█▎        | 134/1000 [2:09:30<13:19:45, 55.41s/it]"
     ]
    },
    {
     "name": "stdout",
     "output_type": "stream",
     "text": [
      "        sm_id                                      answer_string\n",
      "1510  11l5dd5  (1) relation: no,\\n(2) protein: no,\\n(3) ed: n...\n",
      "1511  11l5upn  (1) relation: no,\\n(2) protein: no,\\n(3) ed: n...\n",
      "1512  11l64dl  (1) relation: no,\\n(2) protein: no,\\n(3) ed: n...\n",
      "1513  11l6i9a  (1) relation: no,\\nrelated phrases if any: \\n(...\n",
      "1514  11l8lpz  (1) relation: no,\\n(2) protein: no,\\n(3) ed: n...\n",
      "1515  11l9n9n  (1) relation: yes, related phrases: inlaws, mi...\n",
      "1516  11lbjmq  (1) relation: no,\\n(2) protein: no,\\n(3) ed: n...\n",
      "1517  11ldlv4  (1) relation: no,\\n(2) protein: no,\\n(3) ed: n...\n",
      "1518  11lf07q  (1) relation: yes, related phrases if any: sou...\n",
      "1519  11lfpex  (1) relation: no\\n(2) protein: no\\n(3) ed: no\\...\n"
     ]
    },
    {
     "name": "stderr",
     "output_type": "stream",
     "text": [
      "Processing batch:  14%|█▎        | 135/1000 [2:10:31<13:42:59, 57.09s/it]"
     ]
    },
    {
     "name": "stdout",
     "output_type": "stream",
     "text": [
      "        sm_id                                      answer_string\n",
      "1520  11lfpkx  (1) relation: no,\\n(2) protein: no,\\n(3) ed: n...\n",
      "1521  11lfv7o  (1) relation: no,\\n(2) protein: no,\\n(3) ed: n...\n",
      "1522  11lglza  (1) relation: yes, related phrases if any: par...\n",
      "1523  11lnkqy  (1) relation: no,\\n(2) protein: no,\\n(3) ed: y...\n",
      "1524  11lnogj  (1) relation: no,\\n(2) protein: no,\\n(3) ed: n...\n",
      "1525  11lolcr  (1) relation: [no]\\n(2) protein: [no]\\n(3) ed:...\n",
      "1526  11loqlu  (1) relation: no,\\n(2) protein: no,\\n(3) ed: n...\n",
      "1527  11lsgv3  (1) relation: no,\\n(2) protein: no,\\n(3) ed: n...\n",
      "1528  11ltcmn  (1) relation: no,\\nrelated phrases if any: \\n(...\n",
      "1529  11ltegf  (1) relation: no,\\n(2) protein: no,\\n(3) ed: n...\n"
     ]
    },
    {
     "name": "stderr",
     "output_type": "stream",
     "text": [
      "Processing batch:  14%|█▎        | 136/1000 [2:11:29<13:44:09, 57.23s/it]"
     ]
    },
    {
     "name": "stdout",
     "output_type": "stream",
     "text": [
      "        sm_id                                      answer_string\n",
      "1530  11lz26z  (1) relation: no,\\n(2) protein: no,\\n(3) ed: y...\n",
      "1531  11m0o0j  (1) relation: no,\\n(2) protein: no,\\n(3) ed: n...\n",
      "1532  11m2cg6  (1) relation: no,\\n(2) protein: no,\\n(3) ed: n...\n",
      "1533   11m3cz  (1) relation: no,\\n(2) protein: no,\\n(3) ed: n...\n",
      "1534  11m5lf9  (1) relation: no,\\nrelated phrases if any: \\n(...\n",
      "1535  11m61bv  (1) relation: no,\\n(2) protein: no,\\n(3) ed: n...\n",
      "1536  11m6p08  (1) relation: no,\\n(2) protein: no,\\n(3) ed: n...\n",
      "1537  11m7cij  (1) relation: no\\n(2) protein: no\\n(3) ed: no\\...\n",
      "1538  11m9ydi  (1) relation: no,\\n(2) protein: no,\\n(3) ed: n...\n",
      "1539  11mbm31  (1) relation: no,\\n(2) protein: no,\\n(3) ed: n...\n"
     ]
    },
    {
     "name": "stderr",
     "output_type": "stream",
     "text": [
      "Processing batch:  14%|█▎        | 137/1000 [2:12:39<14:39:18, 61.13s/it]"
     ]
    },
    {
     "name": "stdout",
     "output_type": "stream",
     "text": [
      "        sm_id                                      answer_string\n",
      "1540  11mc2vo  (1) relation: yes, related phrases if any: rel...\n",
      "1541  11mcxk5  (1) relation: no,\\nrelated phrases if any: \\n(...\n",
      "1542  11mdzoy  (1) relation: no,\\n(2) protein: no,\\n(3) ed: n...\n",
      "1543  11mf1wk  (1) relation: no,\\n(2) protein: no,\\n(3) ed: n...\n",
      "1544  11mf24h  (1) relation: no,\\n(2) protein: no,\\n(3) ed: n...\n",
      "1545  11mfwzz  (1) relation: no,\\n(2) protein: no,\\n(3) ed: n...\n",
      "1546  11mglmr  (1) relation: no,\\nrelated phrases if any: \\n(...\n",
      "1547  11mixkf  (1) relation: no\\n(2) protein: no\\n(3) ed: no\\...\n",
      "1548  11mjul0  (1) relation: no,\\n(2) protein: no,\\n(3) ed: n...\n",
      "1549  11mll9u  (1) relation: no\\n(2) protein: no\\n(3) ed: no\\...\n"
     ]
    },
    {
     "name": "stderr",
     "output_type": "stream",
     "text": [
      "Processing batch:  14%|█▍        | 138/1000 [2:13:45<15:00:25, 62.67s/it]"
     ]
    },
    {
     "name": "stdout",
     "output_type": "stream",
     "text": [
      "        sm_id                                      answer_string\n",
      "1550  11mpcn2  (1) relation: no,\\n(2) protein: no,\\n(3) ed: n...\n",
      "1551   11mrur  (1) relation: yes, related phrases if any: par...\n",
      "1552  11mthcv  (1) relation: no\\n(2) protein: no\\n(3) ed: no\\...\n",
      "1553  11mtntf  (1) relation: [no], related phrases if any: \\n...\n",
      "1554  11mupas  (1) relation: no,\\nrelated phrases if any: \\n(...\n",
      "1555  11mv9gr  (1) relation: no,\\n(2) protein: no,\\n(3) ed: n...\n",
      "1556  11my3zs  (1) relation: yes, related phrases if any: fam...\n",
      "1557  11mzhc8  (1) relation: no,\\n(2) protein: no,\\n(3) ed: n...\n",
      "1558  11mzhxw  (1) relation: no,\\n(2) protein: yes, related p...\n",
      "1559  11mzyww  (1) relation: no,\\n(2) protein: no,\\n(3) ed: n...\n"
     ]
    },
    {
     "name": "stderr",
     "output_type": "stream",
     "text": [
      "Processing batch:  14%|█▍        | 139/1000 [2:14:41<14:28:25, 60.52s/it]"
     ]
    },
    {
     "name": "stdout",
     "output_type": "stream",
     "text": [
      "        sm_id                                      answer_string\n",
      "1560  11n0ope  (1) relation: no,\\n(2) protein: no,\\n(3) ed: n...\n",
      "1561  11n3pwz  (1) relation: no\\n(2) protein: no\\n(3) ed: no\\...\n",
      "1562  11n5le9  (1) relation: no,\\n(2) protein: no,\\n(3) ed: n...\n",
      "1563  11n618r  (1) relation: no\\n(2) protein: no\\n(3) ed: yes...\n",
      "1564  11n681p  (1) relation: no,\\n(2) protein: no,\\n(3) ed: n...\n",
      "1565  11n8byi  (1) relation: no\\n(2) protein: no\\n(3) ed: no\\...\n",
      "1566  11n8giv  (1) relation: no\\n(2) protein: no\\n(3) ed: no\\...\n",
      "1567  11n8w85  (1) relation: no,\\nrelated phrases if any: \\n(...\n",
      "1568  11ncedx  (1) relation: no,\\n(2) protein: no,\\n(3) ed: n...\n",
      "1569  11nchb3  (1) relation: no,\\n(2) protein: no,\\n(3) ed: n...\n"
     ]
    },
    {
     "name": "stderr",
     "output_type": "stream",
     "text": [
      "Processing batch:  14%|█▍        | 140/1000 [2:15:35<14:02:14, 58.76s/it]"
     ]
    },
    {
     "name": "stdout",
     "output_type": "stream",
     "text": [
      "        sm_id                                      answer_string\n",
      "1570  11ncy72  (1) relation: no,\\n(2) protein: no,\\n(3) ed: y...\n",
      "1571  11nfryv  (1) relation: no\\n(2) protein: no\\n(3) ed: no\\...\n",
      "1572  11ngtva  (1) relation: no,\\n(2) protein: no,\\n(3) ed: n...\n",
      "1573  11njss7  (1) relation: no,\\n(2) protein: no,\\n(3) ed: y...\n",
      "1574  11nm10j  (1) relation: no,\\n(2) protein: no,\\n(3) ed: n...\n",
      "1575  11npnre  (1) relation: no,\\n(2) protein: no,\\n(3) ed: n...\n",
      "1576  11nptwa  (1) relation: no,\\n(2) protein: no,\\n(3) ed: n...\n",
      "1577  11nsus0  (1) relation: no,\\n(2) protein: no,\\n(3) ed: n...\n",
      "1578  11ntbar  (1) relation: no\\n(2) protein: yes, related ph...\n",
      "1579  11nuj8p  (1) relation: no,\\n(2) protein: no,\\n(3) ed: n...\n"
     ]
    },
    {
     "name": "stderr",
     "output_type": "stream",
     "text": [
      "Processing batch:  14%|█▍        | 141/1000 [2:16:29<13:40:35, 57.32s/it]"
     ]
    },
    {
     "name": "stdout",
     "output_type": "stream",
     "text": [
      "        sm_id                                      answer_string\n",
      "1580  11nvasm  (1) relation: no,\\n(2) protein: no,\\n(3) ed: n...\n",
      "1581  11nvoli  (1) relation: no,\\n(2) protein: no,\\n(3) ed: n...\n",
      "1582  11nx75r  (1) relation: no,\\n(2) protein: no,\\n(3) ed: n...\n",
      "1583  11nxici  (1) relation: no\\n(2) protein: no\\n(3) ed: no\\...\n",
      "1584  11ny4x8  (1) relation: no\\n(2) protein: no\\n(3) ed: no\\...\n",
      "1585  11nz5xo  (1) relation: no,\\n(2) protein: no,\\n(3) ed: n...\n",
      "1586  11o0iu3  (1) relation: no,\\n(2) protein: no,\\n(3) ed: n...\n",
      "1587  11o0q30  (1) relation: no,\\n(2) protein: no,\\n(3) ed: n...\n",
      "1588  11o0v44  (1) relation: no,\\n(2) protein: no,\\n(3) ed: n...\n",
      "1589  11o1cn1  (1) relation: no,\\n(2) protein: no,\\n(3) ed: n...\n"
     ]
    }
   ],
   "source": [
    "from tqdm import tqdm\n",
    "for k in tqdm(range(1000), desc=\"Processing batch\"):\n",
    "    batch_size = 10\n",
    "\n",
    "    # Filter for rows where 'answer_string' is NaN\n",
    "    unanswered_df = answer_df[answer_df['answer_string'].isna()]\n",
    "\n",
    "    # Get the indices of these NaN entries in the original DataFrame\n",
    "    indices_to_update = unanswered_df.index[:batch_size]\n",
    "\n",
    "    # Prepare prompt content for the first 10 entries with NaN answer_string\n",
    "    user_messages = [format_user_message(text) for text in unanswered_df['text_w_eos'].iloc[:batch_size]]\n",
    "\n",
    "    # Save the indices list if needed for later use\n",
    "    indices_to_update_list = list(indices_to_update)\n",
    "\n",
    "    # query process\n",
    "    messages = [ [ {\"role\": \"system\", \"content\": system_message}, {\"role\": \"user\", \"content\": user_message}] for user_message in user_messages]\n",
    "    inputs = [tokenizer.apply_chat_template(\n",
    "        message,\n",
    "        tokenize=False,\n",
    "        add_generation_prompt=True ) for message in messages]\n",
    "    responses = []\n",
    "    for i in range(len(inputs)):\n",
    "        model_inputs = tokenizer([inputs[i]], return_tensors=\"pt\").to(model.device)\n",
    "        generated_ids = model.generate(\n",
    "            **model_inputs,\n",
    "            max_new_tokens=512,\n",
    "            temperature=0.1\n",
    "        )\n",
    "        generated_ids = [\n",
    "            output_ids[len(input_ids):] for input_ids, output_ids in zip(model_inputs.input_ids, generated_ids)\n",
    "        ]\n",
    "        responses.append(tokenizer.batch_decode(generated_ids, skip_special_tokens=True)[0])\n",
    "    \n",
    "    # Display and process responses in a loop\n",
    "    for i, response in enumerate(responses):\n",
    "        #display(Markdown(colorize_text(f\"{response}\")))\n",
    "        # Extract answer if available\n",
    "        answer = response\n",
    "        # Use the original index from indices_to_update_list\n",
    "        answer_df.loc[indices_to_update_list[i], 'answer_string'] = answer\n",
    "\n",
    "    print(answer_df.loc[indices_to_update_list, ['sm_id','answer_string']])\n",
    "    answer_df.to_csv(answer_df_path, index=False)\n",
    "    \n"
   ]
  },
  {
   "cell_type": "code",
   "execution_count": null,
   "id": "0a4b632c-3ffd-4047-8d8b-4b37e4c8cd74",
   "metadata": {},
   "outputs": [],
   "source": []
  },
  {
   "cell_type": "code",
   "execution_count": null,
   "id": "32427d0b-cbc0-401d-ac37-61f8c010e7a4",
   "metadata": {},
   "outputs": [],
   "source": []
  }
 ],
 "metadata": {
  "kernelspec": {
   "display_name": "Python 3 (ipykernel)",
   "language": "python",
   "name": "python3"
  },
  "language_info": {
   "codemirror_mode": {
    "name": "ipython",
    "version": 3
   },
   "file_extension": ".py",
   "mimetype": "text/x-python",
   "name": "python",
   "nbconvert_exporter": "python",
   "pygments_lexer": "ipython3",
   "version": "3.11.4"
  }
 },
 "nbformat": 4,
 "nbformat_minor": 5
}
