{
 "cells": [
  {
   "cell_type": "code",
   "execution_count": 1,
   "id": "3ad18ac3-3cb6-493a-aec1-1cc6a5d1b783",
   "metadata": {
    "tags": []
   },
   "outputs": [
    {
     "name": "stdout",
     "output_type": "stream",
     "text": [
      "Saved part 1 to ../../qwen_data/answer_df_part1.csv\n",
      "Saved part 2 to ../../qwen_data/answer_df_part2.csv\n",
      "Saved part 3 to ../../qwen_data/answer_df_part3.csv\n",
      "Saved part 4 to ../../qwen_data/answer_df_part4.csv\n",
      "Saved part 5 to ../../qwen_data/answer_df_part5.csv\n",
      "Saved part 6 to ../../qwen_data/answer_df_part6.csv\n",
      "Saved part 7 to ../../qwen_data/answer_df_part7.csv\n",
      "Saved part 8 to ../../qwen_data/answer_df_part8.csv\n"
     ]
    }
   ],
   "source": [
    "import pandas as pd\n",
    "import numpy as np\n",
    "\n",
    "# Load the CSV file\n",
    "answer_df = pd.read_csv(\"../../qwen_data/answer_df.csv\")\n",
    "\n",
    "# Split the DataFrame into 8 parts\n",
    "split_dfs = np.array_split(answer_df, 8)\n",
    "\n",
    "# Save each part as a CSV file\n",
    "for i, df in enumerate(split_dfs, start=1):\n",
    "    file_path = f\"../../qwen_data/answer_df_part{i}.csv\"\n",
    "    df.to_csv(file_path, index=False)\n",
    "    print(f\"Saved part {i} to {file_path}\")\n"
   ]
  },
  {
   "cell_type": "code",
   "execution_count": null,
   "id": "dd7a5fd4-617f-409c-8a9d-57ce92716022",
   "metadata": {},
   "outputs": [],
   "source": []
  }
 ],
 "metadata": {
  "kernelspec": {
   "display_name": "Python 3 (ipykernel)",
   "language": "python",
   "name": "python3"
  },
  "language_info": {
   "codemirror_mode": {
    "name": "ipython",
    "version": 3
   },
   "file_extension": ".py",
   "mimetype": "text/x-python",
   "name": "python",
   "nbconvert_exporter": "python",
   "pygments_lexer": "ipython3",
   "version": "3.11.4"
  }
 },
 "nbformat": 4,
 "nbformat_minor": 5
}
