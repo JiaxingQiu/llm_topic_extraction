{
 "cells": [
  {
   "cell_type": "code",
   "execution_count": 7,
   "id": "d8fd4959-279e-4225-9e90-6df64a08adb0",
   "metadata": {
    "tags": []
   },
   "outputs": [],
   "source": [
    "# import pandas as pd\n",
    "# answer_df = pd.read_csv(\"../../data2/answer_df_vicuna.csv\")\n",
    "# answer_df.iloc[0:500].to_csv(\"../../data2/answer_df_vicuna1.csv\", index=False)\n",
    "# answer_df.iloc[500:1000].to_csv(\"../../data2/answer_df_vicuna2.csv\", index=False)\n",
    "# answer_df.iloc[1000:].to_csv(\"../../data2/answer_df_vicuna3.csv\", index=False)\n"
   ]
  },
  {
   "cell_type": "code",
   "execution_count": 1,
   "id": "f276ca0f-dece-49a7-8d4e-51f6166c9f0e",
   "metadata": {
    "tags": []
   },
   "outputs": [
    {
     "name": "stdout",
     "output_type": "stream",
     "text": [
      "True\n"
     ]
    },
    {
     "data": {
      "application/vnd.jupyter.widget-view+json": {
       "model_id": "6582aa20cba248b28661c31de00187ee",
       "version_major": 2,
       "version_minor": 0
      },
      "text/plain": [
       "Loading checkpoint shards:   0%|          | 0/2 [00:00<?, ?it/s]"
      ]
     },
     "metadata": {},
     "output_type": "display_data"
    },
    {
     "name": "stderr",
     "output_type": "stream",
     "text": [
      "/home/jq2uw/.local/lib/python3.11/site-packages/transformers/generation/configuration_utils.py:590: UserWarning: `do_sample` is set to `False`. However, `temperature` is set to `0.9` -- this flag is only used in sample-based generation modes. You should set `do_sample=True` or unset `temperature`. This was detected when initializing the generation config instance, which means the corresponding file may hold incorrect parameterization and should be fixed.\n",
      "  warnings.warn(\n",
      "/home/jq2uw/.local/lib/python3.11/site-packages/transformers/generation/configuration_utils.py:595: UserWarning: `do_sample` is set to `False`. However, `top_p` is set to `0.6` -- this flag is only used in sample-based generation modes. You should set `do_sample=True` or unset `top_p`. This was detected when initializing the generation config instance, which means the corresponding file may hold incorrect parameterization and should be fixed.\n",
      "  warnings.warn(\n",
      "/home/jq2uw/.local/lib/python3.11/site-packages/transformers/generation/configuration_utils.py:590: UserWarning: `do_sample` is set to `False`. However, `temperature` is set to `0.9` -- this flag is only used in sample-based generation modes. You should set `do_sample=True` or unset `temperature`.\n",
      "  warnings.warn(\n",
      "/home/jq2uw/.local/lib/python3.11/site-packages/transformers/generation/configuration_utils.py:595: UserWarning: `do_sample` is set to `False`. However, `top_p` is set to `0.6` -- this flag is only used in sample-based generation modes. You should set `do_sample=True` or unset `top_p`.\n",
      "  warnings.warn(\n"
     ]
    }
   ],
   "source": [
    "from transformers import AutoTokenizer, AutoModelForCausalLM\n",
    "import transformers\n",
    "import torch\n",
    "\n",
    "\n",
    "print(torch.cuda.is_available())\n",
    "if torch.cuda.is_available():\n",
    "    torch.cuda.empty_cache()\n",
    "device = 0 if torch.cuda.is_available() else -1  # Use GPU if available, otherwise fallback to CPU\n",
    "model_id = \"lmsys/vicuna-7b-v1.5\"\n",
    "tokenizer = AutoTokenizer.from_pretrained(model_id)\n",
    "model = AutoModelForCausalLM.from_pretrained(model_id, \n",
    "                                             torch_dtype=torch.bfloat16, \n",
    "                                             device_map=device)\n",
    "\n"
   ]
  },
  {
   "cell_type": "code",
   "execution_count": 8,
   "id": "f85f7d75-c10b-462a-a472-aa7d20d49f3b",
   "metadata": {
    "tags": []
   },
   "outputs": [],
   "source": [
    "piece_id = 1\n",
    "answer_df_path = \"../../data2/answer_df_vicuna\"+str(piece_id)+\".csv\""
   ]
  },
  {
   "cell_type": "code",
   "execution_count": 9,
   "id": "c57208bf-e233-4893-a48e-f081b4f8b97c",
   "metadata": {
    "tags": []
   },
   "outputs": [
    {
     "name": "stdout",
     "output_type": "stream",
     "text": [
      "(500, 3)\n",
      "   sm_id                                         text_w_eos  answer_string\n",
      "0   1690  i saw a cardiologist twice and was told i did ...            NaN\n",
      "1    724       sharing my weight with me when asked not to.            NaN\n",
      "2   2800  'i do not think it is an eating disorder.'   a...            NaN\n",
      "3   1771  when i was severely underweight my pcp suggest...            NaN\n",
      "4   1975                primary care providers not educated            NaN\n",
      "5    126  the first time i sought a therapist they state...            NaN\n",
      "6   1511  unhelpful more than damaging more likely in th...            NaN\n",
      "7   4091  most of the 40 years i had a diagnosis of bn p...            NaN\n",
      "8    371  cut out food groups to help with physical disa...            NaN\n",
      "9   4313  primary care provider told me to 'go eat a che...            NaN\n"
     ]
    },
    {
     "data": {
      "text/html": [
       "<div>\n",
       "<style scoped>\n",
       "    .dataframe tbody tr th:only-of-type {\n",
       "        vertical-align: middle;\n",
       "    }\n",
       "\n",
       "    .dataframe tbody tr th {\n",
       "        vertical-align: top;\n",
       "    }\n",
       "\n",
       "    .dataframe thead th {\n",
       "        text-align: right;\n",
       "    }\n",
       "</style>\n",
       "<table border=\"1\" class=\"dataframe\">\n",
       "  <thead>\n",
       "    <tr style=\"text-align: right;\">\n",
       "      <th></th>\n",
       "      <th>fea</th>\n",
       "      <th>description</th>\n",
       "    </tr>\n",
       "  </thead>\n",
       "  <tbody>\n",
       "    <tr>\n",
       "      <th>0</th>\n",
       "      <td>weightbasedhealth</td>\n",
       "      <td>Judgments about health based on weight or appe...</td>\n",
       "    </tr>\n",
       "    <tr>\n",
       "      <th>1</th>\n",
       "      <td>weightstigma</td>\n",
       "      <td>Negative attitudes, discrimination, or prejudi...</td>\n",
       "    </tr>\n",
       "    <tr>\n",
       "      <th>2</th>\n",
       "      <td>weightbasedhealthcare</td>\n",
       "      <td>Healthcare decisions influenced by weight. Not...</td>\n",
       "    </tr>\n",
       "    <tr>\n",
       "      <th>3</th>\n",
       "      <td>encourageweightloss</td>\n",
       "      <td>Encouragement of weight loss</td>\n",
       "    </tr>\n",
       "    <tr>\n",
       "      <th>4</th>\n",
       "      <td>dietpromotion</td>\n",
       "      <td>Advocacy for diets or restrictive eating</td>\n",
       "    </tr>\n",
       "    <tr>\n",
       "      <th>5</th>\n",
       "      <td>thinness</td>\n",
       "      <td>Reassurance of thinness. Maintaining thinness</td>\n",
       "    </tr>\n",
       "    <tr>\n",
       "      <th>6</th>\n",
       "      <td>notlowweightenough</td>\n",
       "      <td>Not sick enough, or not thin enought, or not l...</td>\n",
       "    </tr>\n",
       "    <tr>\n",
       "      <th>7</th>\n",
       "      <td>weightblame</td>\n",
       "      <td>Weight blamed for health issues or concerns</td>\n",
       "    </tr>\n",
       "    <tr>\n",
       "      <th>8</th>\n",
       "      <td>weightvalue</td>\n",
       "      <td>Weight tied to personality characteristics</td>\n",
       "    </tr>\n",
       "  </tbody>\n",
       "</table>\n",
       "</div>"
      ],
      "text/plain": [
       "                     fea                                        description\n",
       "0      weightbasedhealth  Judgments about health based on weight or appe...\n",
       "1           weightstigma  Negative attitudes, discrimination, or prejudi...\n",
       "2  weightbasedhealthcare  Healthcare decisions influenced by weight. Not...\n",
       "3    encourageweightloss                       Encouragement of weight loss\n",
       "4          dietpromotion           Advocacy for diets or restrictive eating\n",
       "5               thinness      Reassurance of thinness. Maintaining thinness\n",
       "6     notlowweightenough  Not sick enough, or not thin enought, or not l...\n",
       "7            weightblame        Weight blamed for health issues or concerns\n",
       "8            weightvalue         Weight tied to personality characteristics"
      ]
     },
     "execution_count": 9,
     "metadata": {},
     "output_type": "execute_result"
    }
   ],
   "source": [
    "import pandas as pd\n",
    "import numpy as np\n",
    "answer_df = pd.read_csv(answer_df_path)\n",
    "query_df = pd.read_csv(\"../../data2/fea_df.csv\")\n",
    "\n",
    "if not 'answer_string' in answer_df.columns:\n",
    "    answer_df['answer_string'] = np.nan\n",
    "    \n",
    "print(answer_df.shape)\n",
    "print(answer_df.iloc[0:10,])\n",
    "query_df"
   ]
  },
  {
   "cell_type": "code",
   "execution_count": 10,
   "id": "70a6c464-aa6e-42c7-abca-751c39b57464",
   "metadata": {
    "tags": []
   },
   "outputs": [],
   "source": [
    "# prompt = \"Tell me about AI\"\n",
    "# prompt_template=f'''A chat between a curious user and an artificial intelligence assistant. The assistant gives helpful, detailed, and polite answers to the user's questions. USER: {prompt} ASSISTANT:\n",
    "# '''\n",
    "# print(\"\\n\\n*** Generate:\")\n",
    "\n",
    "# input_ids = tokenizer(prompt_template, return_tensors='pt').input_ids.cuda()\n",
    "# output = model.generate(inputs=input_ids, temperature=0.7, do_sample=True, top_p=0.95, top_k=40, max_new_tokens=512)\n",
    "# print(tokenizer.decode(output[0]))\n"
   ]
  },
  {
   "cell_type": "code",
   "execution_count": 11,
   "id": "4877df25-39ce-4111-9806-8fefc26062a8",
   "metadata": {
    "tags": []
   },
   "outputs": [],
   "source": [
    "system_message = \"\"\"\n",
    "You are an AI assistant designed to answer questions.\n",
    "Use the exact answer format asked.\n",
    "\"\"\"\n",
    "\n",
    "def format_user_message(text):\n",
    "    question_content = \"The provided parapraph is eating disorders patients' experiences with physicians. Weight stigma is indicated by weight-or-appearance-related treatment or judgement in this context. Does the paragraph mention any of the following topics:\\n\"\n",
    "    for i in range(len(query_df)):\n",
    "        question_content += f\"  ({i+1}) {query_df.fea[i]}: {query_df.description[i]}.\\n\"\n",
    "    answer_content = \"Return answer in format: Answer:\\n\"\n",
    "    for i in range(len(query_df)): \n",
    "        answer_content += f\"  ({i+1}) {query_df.fea[i]}: yes/no, related phrases in the paragraph if any: \\n\"\n",
    "    paragragh_content = f\"Paragraph: '{text}' \\n\"\n",
    "    user_message = system_message + question_content + paragragh_content + answer_content\n",
    "    #print(user_message)\n",
    "    \n",
    "    return user_message\n",
    "\n",
    "\n"
   ]
  },
  {
   "cell_type": "code",
   "execution_count": 12,
   "id": "98471ae3-133f-4ba0-9876-ca75ab2fa43f",
   "metadata": {
    "scrolled": true,
    "tags": []
   },
   "outputs": [
    {
     "name": "stderr",
     "output_type": "stream",
     "text": [
      "Processing batch:   0%|          | 1/1000 [01:25<23:43:22, 85.49s/it]"
     ]
    },
    {
     "name": "stdout",
     "output_type": "stream",
     "text": [
      "   sm_id                                      answer_string\n",
      "0   1690  \\n(1) weightbasedhealth: yes, related phrases ...\n",
      "1    724  \\n(1) weightbasedhealth: yes, related phrases ...\n",
      "2   2800  \\n(1) weightbasedhealth: No.\\n(2) weightstigma...\n",
      "3   1771  \\n(1) weightbasedhealth: yes, related phrases ...\n",
      "4   1975  \\n(1) weightbasedhealth: yes, related phrases ...\n",
      "5    126  \\n(1) weightbasedhealth: yes, \"weight or appea...\n",
      "6   1511  \\n(1) weightbasedhealth: yes, related phrases ...\n",
      "7   4091  \\n(1) weightbasedhealth: yes, related phrases ...\n",
      "8    371  \\n(1) weightbasedhealth: yes, related phrases ...\n",
      "9   4313  \\n(1) weightbasedhealth: yes, \"weight or appea...\n"
     ]
    },
    {
     "name": "stderr",
     "output_type": "stream",
     "text": [
      "Processing batch:   0%|          | 2/1000 [03:01<25:28:27, 91.89s/it]"
     ]
    },
    {
     "name": "stdout",
     "output_type": "stream",
     "text": [
      "    sm_id                                      answer_string\n",
      "10    430  \\n(1) weightbasedhealth: yes, related phrases ...\n",
      "11     70  \\n(1) weightbasedhealth: yes, related phrases ...\n",
      "12   2225  \\n(1) weightbasedhealth: yes, related phrases ...\n",
      "13    578  \\n(1) weightbasedhealth: yes, related phrases ...\n",
      "14    913  \\n(1) weightbasedhealth: Yes, related phrases ...\n",
      "15   2367  \\n(1) weightbasedhealth: yes, related phrases ...\n",
      "16   4577  \\n(1) weightbasedhealth: yes, related phrases ...\n",
      "17   2536  \\n(1) weightbasedhealth: yes, related phrases ...\n",
      "18   1085  \\n(1) weightbasedhealth: yes, related phrases ...\n",
      "19   3916  \\n(1) weightbasedhealth: yes, related phrases ...\n"
     ]
    },
    {
     "name": "stderr",
     "output_type": "stream",
     "text": [
      "Processing batch:   0%|          | 3/1000 [04:24<24:14:27, 87.53s/it]"
     ]
    },
    {
     "name": "stdout",
     "output_type": "stream",
     "text": [
      "    sm_id                                      answer_string\n",
      "20   4197  \\n(1) weightbasedhealth: yes, related phrases ...\n",
      "21   3364  \\n(1) weightbasedhealth: no, related phrases i...\n",
      "22   4698  \\n(1) weightbasedhealth: yes, related phrases ...\n",
      "23   4666  \\n(1) weightbasedhealth: Yes, related phrases ...\n",
      "24   1612  \\n(1) weightbasedhealth: yes, related phrases ...\n",
      "25   4747  \\n(1) weightbasedhealth: yes, \"weight\" and \"ap...\n",
      "26   3797  \\n(1) weightbasedhealth: yes, related phrases ...\n",
      "27   2738  \\n(1) weightbasedhealth: yes, related phrases ...\n",
      "28   2943  \\n(1) weightbasedhealth: no, related phrases i...\n",
      "29   3810  \\n(1) weightbasedhealth: yes, related phrases ...\n"
     ]
    },
    {
     "name": "stderr",
     "output_type": "stream",
     "text": [
      "Processing batch:   0%|          | 4/1000 [05:53<24:26:28, 88.34s/it]"
     ]
    },
    {
     "name": "stdout",
     "output_type": "stream",
     "text": [
      "    sm_id                                      answer_string\n",
      "30   4073  \\n(1) weightbasedhealth: yes, \"weight or appea...\n",
      "31   1532  \\n(1) weightbasedhealth: yes, related phrases ...\n",
      "32   3399  \\n(1) weightbasedhealth: yes, related phrases ...\n",
      "33   1020  \\n(1) weightbasedhealth: yes, related phrases ...\n",
      "34    778  \\n(1) weightbasedhealth: yes, related phrases ...\n",
      "35    309  \\n(1) weightbasedhealth: yes, related phrases ...\n",
      "36   2252  \\n(1) weightbasedhealth: yes, related phrases ...\n",
      "37   1461  \\n(1) weightbasedhealth: yes, related phrases ...\n",
      "38   3697  \\n(1) weightbasedhealth: yes, related phrases ...\n",
      "39   2138  \\n(1) weightbasedhealth: yes, related phrases ...\n"
     ]
    },
    {
     "name": "stderr",
     "output_type": "stream",
     "text": [
      "Processing batch:   0%|          | 5/1000 [07:26<24:48:57, 89.79s/it]"
     ]
    },
    {
     "name": "stdout",
     "output_type": "stream",
     "text": [
      "    sm_id                                      answer_string\n",
      "40   1217  \\n(1) weightbasedhealth: yes, related phrases ...\n",
      "41   4863  \\n(1) weightbasedhealth: no, related phrases i...\n",
      "42    257  \\n(1) weightbasedhealth: yes, related phrases ...\n",
      "43   3008  \\n(1) weightbasedhealth: Yes, related phrases ...\n",
      "44   3181  \\n(1) weightbasedhealth: no, related phrases i...\n",
      "45   3028  \\n(1) weightbasedhealth: Yes, related phrases ...\n",
      "46   1449  \\n(1) weightbasedhealth: yes, related phrases ...\n",
      "47   4183  \\n(1) weightbasedhealth: yes, related phrases ...\n",
      "48    269  \\n(1) weightbasedhealth: yes, related phrases ...\n",
      "49    240  \\n(1) weightbasedhealth: yes, related phrases ...\n"
     ]
    },
    {
     "name": "stderr",
     "output_type": "stream",
     "text": [
      "Processing batch:   1%|          | 6/1000 [09:01<25:18:05, 91.64s/it]"
     ]
    },
    {
     "name": "stdout",
     "output_type": "stream",
     "text": [
      "    sm_id                                      answer_string\n",
      "50   2650  \\n(1) weightbasedhealth: yes, related phrases ...\n",
      "51   2569  \\n(1) weightbasedhealth: yes, related phrases ...\n",
      "52    629  \\n(1) weightbasedhealth: yes, related phrases ...\n",
      "53    233  \\n(1) weightbasedhealth: yes, related phrases ...\n",
      "54   1443  \\n(1) weightbasedhealth: yes, related phrases ...\n",
      "55    684  \\n(1) weightbasedhealth: yes, related phrases ...\n",
      "56   3905  \\n(1) weightbasedhealth: yes, related phrases ...\n",
      "57   2844  \\n(1) weightbasedhealth: yes, related phrases ...\n",
      "58   1170  \\n(1) weightbasedhealth: yes, related phrases ...\n",
      "59   4836  \\n(1) weightbasedhealth: Yes, related phrases ...\n"
     ]
    },
    {
     "name": "stderr",
     "output_type": "stream",
     "text": [
      "Processing batch:   1%|          | 7/1000 [10:30<25:02:42, 90.80s/it]"
     ]
    },
    {
     "name": "stdout",
     "output_type": "stream",
     "text": [
      "    sm_id                                      answer_string\n",
      "60   3026  \\n(1) weightbasedhealth: Yes, related phrases ...\n",
      "61     69  \\n(1) weightbasedhealth: yes, related phrases ...\n",
      "62    965  \\n(1) weightbasedhealth: yes, related phrases ...\n",
      "63    516  \\n(1) weightbasedhealth: yes, related phrases ...\n",
      "64    867  \\n(1) weightbasedhealth: yes, related phrases ...\n",
      "65    334  \\n(1) weightbasedhealth: no, related phrases i...\n",
      "66   3042  \\n(1) weightbasedhealth: yes, related phrases ...\n",
      "67   3889  \\n(1) weightbasedhealth: yes, related phrases ...\n",
      "68   1055  \\n(1) weightbasedhealth: yes, related phrases ...\n",
      "69   3291  \\n(1) weightbasedhealth: yes, related phrases ...\n"
     ]
    },
    {
     "name": "stderr",
     "output_type": "stream",
     "text": [
      "Processing batch:   1%|          | 8/1000 [12:03<25:14:29, 91.60s/it]"
     ]
    },
    {
     "name": "stdout",
     "output_type": "stream",
     "text": [
      "    sm_id                                      answer_string\n",
      "70    249  \\n(1) weightbasedhealth: yes, related phrases ...\n",
      "71   1681  \\n(1) weightbasedhealth: yes, related phrases ...\n",
      "72   3137  \\n(1) weightbasedhealth: yes, related phrases ...\n",
      "73    160  \\n(1) weightbasedhealth: no, related phrases i...\n",
      "74   4851  \\n(1) weightbasedhealth: yes, related phrases ...\n",
      "75   3017  \\n(1) weightbasedhealth: yes, related phrases ...\n",
      "76    125  \\n(1) weightbasedhealth: yes, related phrases ...\n",
      "77   3965  \\n(1) weightbasedhealth: yes, related phrases ...\n",
      "78   3800  \\n(1) weightbasedhealth: yes, related phrases ...\n",
      "79   2049  \\n(1) weightbasedhealth: yes, related phrases ...\n"
     ]
    },
    {
     "name": "stderr",
     "output_type": "stream",
     "text": [
      "Processing batch:   1%|          | 9/1000 [13:35<25:11:39, 91.52s/it]"
     ]
    },
    {
     "name": "stdout",
     "output_type": "stream",
     "text": [
      "    sm_id                                      answer_string\n",
      "80   3593  \\n(1) weightbasedhealth: yes, related phrases ...\n",
      "81   3958  \\n(1) weightbasedhealth: yes, related phrases ...\n",
      "82   3215  \\n(1) weightbasedhealth: yes, related phrases ...\n",
      "83   1553  \\n(1) weightbasedhealth: Yes, related phrases ...\n",
      "84   1622  \\n(1) weightbasedhealth: yes, related phrases ...\n",
      "85   1407  \\n(1) weightbasedhealth: no, related phrases i...\n",
      "86    782  \\n(1) weightbasedhealth: yes, related phrases ...\n",
      "87   2050  \\n(1) weightbasedhealth: yes, related phrases ...\n",
      "88   3338  \\n(1) weightbasedhealth: yes, related phrases ...\n",
      "89   3317  \\n(1) weightbasedhealth: yes, related phrases ...\n"
     ]
    },
    {
     "name": "stderr",
     "output_type": "stream",
     "text": [
      "Processing batch:   1%|          | 10/1000 [15:05<25:06:19, 91.29s/it]"
     ]
    },
    {
     "name": "stdout",
     "output_type": "stream",
     "text": [
      "    sm_id                                      answer_string\n",
      "90   4760  \\n(1) weightbasedhealth: yes, related phrases ...\n",
      "91     86  \\n(1) weightbasedhealth: yes, related phrases ...\n",
      "92    175  \\n(1) weightbasedhealth: yes, related phrases ...\n",
      "93   3201  \\n(1) weightbasedhealth: no, related phrases i...\n",
      "94   2523  \\n(1) weightbasedhealth: yes, related phrases ...\n",
      "95    439  \\n(1) weightbasedhealth: yes, related phrases ...\n",
      "96    225  \\n(1) weightbasedhealth: yes, related phrases ...\n",
      "97   3277  \\n(1) weightbasedhealth: yes, related phrases ...\n",
      "98    114  \\n(1) weightbasedhealth: yes, related phrases ...\n",
      "99   1093  \\n(1) weightbasedhealth: yes, related phrases ...\n"
     ]
    },
    {
     "name": "stderr",
     "output_type": "stream",
     "text": [
      "Processing batch:   1%|          | 11/1000 [16:47<25:57:07, 94.47s/it]"
     ]
    },
    {
     "name": "stdout",
     "output_type": "stream",
     "text": [
      "     sm_id                                      answer_string\n",
      "100    732  \\n(1) weightbasedhealth: yes, related phrases ...\n",
      "101   1723  \\n(1) weightbasedhealth: Yes, related phrases ...\n",
      "102   2547  \\n(1) weightbasedhealth: Yes, related phrases ...\n",
      "103   2277  \\n(1) weightbasedhealth: Yes, related phrases ...\n",
      "104   3718  \\n(1) weightbasedhealth: yes, related phrases ...\n",
      "105   1722  \\n(1) weightbasedhealth: yes, related phrases ...\n",
      "106    139  \\n(1) weightbasedhealth: yes, related phrases ...\n",
      "107   1103  \\n(1) weightbasedhealth: yes, related phrases ...\n",
      "108   1507  \\n(1) weightbasedhealth: yes, related phrases ...\n",
      "109    975  \\n(1) weightbasedhealth: yes, related phrases ...\n"
     ]
    },
    {
     "name": "stderr",
     "output_type": "stream",
     "text": [
      "Processing batch:   1%|          | 12/1000 [18:18<25:39:10, 93.47s/it]"
     ]
    },
    {
     "name": "stdout",
     "output_type": "stream",
     "text": [
      "     sm_id                                      answer_string\n",
      "110   3121  \\n(1) weightbasedhealth: yes, related phrases ...\n",
      "111    760  \\n(1) weightbasedhealth: yes, related phrases ...\n",
      "112    219  \\n(1) weightbasedhealth: yes, related phrases ...\n",
      "113   2458  \\n(1) weightbasedhealth: yes, related phrases ...\n",
      "114   2467  \\n(1) weightbasedhealth: yes, related phrases ...\n",
      "115   4854  \\n(1) weightbasedhealth: yes, related phrases ...\n",
      "116   4176  \\n(1) weightbasedhealth: yes, related phrases ...\n",
      "117    546  \\n(1) weightbasedhealth: yes, related phrases ...\n",
      "118   3450  \\n(1) weightbasedhealth: yes, related phrases ...\n",
      "119   3938  \\n(1) weightbasedhealth: yes, related phrases ...\n"
     ]
    },
    {
     "name": "stderr",
     "output_type": "stream",
     "text": [
      "Processing batch:   1%|▏         | 13/1000 [19:44<24:59:44, 91.17s/it]"
     ]
    },
    {
     "name": "stdout",
     "output_type": "stream",
     "text": [
      "     sm_id                                      answer_string\n",
      "120   2442  \\n(1) weightbasedhealth: yes, related phrases ...\n",
      "121   4677  \\n(1) weightbasedhealth: yes, related phrases ...\n",
      "122   2834  \\n(1) weightbasedhealth: yes, related phrases ...\n",
      "123   4466  \\n(1) weightbasedhealth: yes, related phrases ...\n",
      "124   2817  \\n(1) weightbasedhealth: yes, related phrases ...\n",
      "125   1992  \\n(1) weightbasedhealth: yes, related phrases ...\n",
      "126   2703  \\n(1) weightbasedhealth: No.\\n(2) weightstigma...\n",
      "127   2377  \\n(1) weightbasedhealth: yes, related phrases ...\n",
      "128   3443  \\n(1) weightbasedhealth: Yes, related phrases ...\n",
      "129   1596  \\n(1) weightbasedhealth: no, related phrases i...\n"
     ]
    },
    {
     "name": "stderr",
     "output_type": "stream",
     "text": [
      "Processing batch:   1%|▏         | 14/1000 [21:14<24:49:23, 90.63s/it]"
     ]
    },
    {
     "name": "stdout",
     "output_type": "stream",
     "text": [
      "     sm_id                                      answer_string\n",
      "130   2694  \\n(1) weightbasedhealth: yes, related phrases ...\n",
      "131   4465  \\n(1) weightbasedhealth: yes, related phrases ...\n",
      "132   3605  \\n(1) weightbasedhealth: yes, related phrases ...\n",
      "133   1021  \\n(1) weightbasedhealth: Yes, related phrases ...\n",
      "134    393  \\n(1) weightbasedhealth: yes, related phrases ...\n",
      "135   3408  \\n(1) weightbasedhealth: yes, related phrases ...\n",
      "136   1784  \\n(1) weightbasedhealth: no, related phrases i...\n",
      "137   3575  \\n(1) weightbasedhealth: yes, related phrases ...\n",
      "138    289  \\n(1) weightbasedhealth: yes, related phrases ...\n",
      "139   4888  \\n(1) weightbasedhealth: No.\\n(2) weightstigma...\n"
     ]
    },
    {
     "name": "stderr",
     "output_type": "stream",
     "text": [
      "Processing batch:   2%|▏         | 15/1000 [22:37<24:13:23, 88.53s/it]"
     ]
    },
    {
     "name": "stdout",
     "output_type": "stream",
     "text": [
      "     sm_id                                      answer_string\n",
      "140   2524  \\n(1) weightbasedhealth: Yes, related phrases ...\n",
      "141   2938  \\n(1) weightbasedhealth: yes, related phrases ...\n",
      "142   2846  \\n(1) weightbasedhealth: yes, \"told my weight\"...\n",
      "143    796  \\n(1) weightbasedhealth: yes, related phrases ...\n",
      "144   2932  \\n(1) weightbasedhealth: yes, related phrases ...\n",
      "145    595  \\n(1) weightbasedhealth: yes, related phrases ...\n",
      "146   3097  \\n(1) weightbasedhealth: yes, \"weight or appea...\n",
      "147   1004  \\n(1) weightbasedhealth: yes, related phrases ...\n",
      "148   3873  \\n(1) weightbasedhealth: yes, related phrases ...\n",
      "149   1765  \\n(1) weightbasedhealth: yes, related phrases ...\n"
     ]
    },
    {
     "name": "stderr",
     "output_type": "stream",
     "text": [
      "Processing batch:   2%|▏         | 16/1000 [24:08<24:24:22, 89.29s/it]"
     ]
    },
    {
     "name": "stdout",
     "output_type": "stream",
     "text": [
      "     sm_id                                      answer_string\n",
      "150   4914  \\n(1) weightbasedhealth: yes, related phrases ...\n",
      "151   4136  \\n(1) weightbasedhealth: Yes, related phrases ...\n",
      "152    752  \\n(1) weightbasedhealth: yes, related phrases ...\n",
      "153   4738  \\n(1) weightbasedhealth: yes, related phrases ...\n",
      "154   1635  \\n(1) weightbasedhealth: yes, related phrases ...\n",
      "155   3080  \\n(1) weightbasedhealth: yes, related phrases ...\n",
      "156   4013  \\n(1) weightbasedhealth: yes, related phrases ...\n",
      "157   3410  \\n(1) weightbasedhealth: yes, related phrases ...\n",
      "158    311  \\n(1) weightbasedhealth: yes, related phrases ...\n",
      "159   3777  \\n(1) weightbasedhealth: yes, related phrases ...\n"
     ]
    },
    {
     "name": "stderr",
     "output_type": "stream",
     "text": [
      "Processing batch:   2%|▏         | 17/1000 [25:33<24:00:05, 87.90s/it]"
     ]
    },
    {
     "name": "stdout",
     "output_type": "stream",
     "text": [
      "     sm_id                                      answer_string\n",
      "160    983  \\n(1) weightbasedhealth: yes, related phrases ...\n",
      "161   3844  \\n(1) weightbasedhealth: yes, related phrases ...\n",
      "162    265  \\n(1) weightbasedhealth: yes, related phrases ...\n",
      "163    448  \\n(1) weightbasedhealth: yes, related phrases ...\n",
      "164   4332  \\n(1) weightbasedhealth: No.\\n(2) weightstigma...\n",
      "165    244  \\n(1) weightbasedhealth: yes, related phrases ...\n",
      "166   3048  \\n(1) weightbasedhealth: yes, \"judgments about...\n",
      "167    253  \\n(1) weightbasedhealth: yes, related phrases ...\n",
      "168    607  \\n(1) weightbasedhealth: yes, \"weight loss\"\\n(...\n",
      "169    380  \\n(1) weightbasedhealth: Yes, related phrases ...\n"
     ]
    },
    {
     "name": "stderr",
     "output_type": "stream",
     "text": [
      "Processing batch:   2%|▏         | 18/1000 [26:57<23:41:52, 86.88s/it]"
     ]
    },
    {
     "name": "stdout",
     "output_type": "stream",
     "text": [
      "     sm_id                                      answer_string\n",
      "170    241  \\n(1) weightbasedhealth: yes, related phrases ...\n",
      "171   1837  \\n(1) weightbasedhealth: yes, related phrases ...\n",
      "172   1656  \\n(1) weightbasedhealth: yes, related phrases ...\n",
      "173    218  \\n(1) weightbasedhealth: yes, related phrases ...\n",
      "174    510  \\n(1) weightbasedhealth: yes, \"weight or appea...\n",
      "175   1188  \\n(1) weightbasedhealth: yes, \"weight or appea...\n",
      "176   4531  \\n(1) weightbasedhealth: yes, related phrases ...\n",
      "177   3069  \\n(1) weightbasedhealth: yes, related phrases ...\n",
      "178   2090  \\n(1) weightbasedhealth: Yes, related phrases ...\n",
      "179    106  \\n(1) weightbasedhealth: yes, \"weight or appea...\n"
     ]
    },
    {
     "name": "stderr",
     "output_type": "stream",
     "text": [
      "Processing batch:   2%|▏         | 19/1000 [28:21<23:23:26, 85.84s/it]"
     ]
    },
    {
     "name": "stdout",
     "output_type": "stream",
     "text": [
      "     sm_id                                      answer_string\n",
      "180   1169  \\n(1) weightbasedhealth: yes, \"weight\" and \"he...\n",
      "181   4707  \\n(1) weightbasedhealth: no, related phrases i...\n",
      "182   2670  \\n(1) weightbasedhealth: yes, related phrases ...\n",
      "183   4813  \\n(1) weightbasedhealth: yes, related phrases ...\n",
      "184   1946  \\n(1) weightbasedhealth: yes, related phrases ...\n",
      "185   4446  \\n(1) weightbasedhealth: yes, related phrases ...\n",
      "186   4604  \\n(1) weightbasedhealth: yes, related phrases ...\n",
      "187   3796  \\n(1) weightbasedhealth: yes, related phrases ...\n",
      "188   2404  \\n(1) weightbasedhealth: yes, related phrases ...\n",
      "189   3966  \\n(1) weightbasedhealth: yes, related phrases ...\n"
     ]
    },
    {
     "name": "stderr",
     "output_type": "stream",
     "text": [
      "Processing batch:   2%|▏         | 20/1000 [29:42<22:59:43, 84.47s/it]"
     ]
    },
    {
     "name": "stdout",
     "output_type": "stream",
     "text": [
      "     sm_id                                      answer_string\n",
      "190   1498  \\n(1) weightbasedhealth: yes, related phrases ...\n",
      "191    723  \\n(1) weightbasedhealth: yes, related phrases ...\n",
      "192   3736  \\n(1) weightbasedhealth: yes, related phrases ...\n",
      "193   1840  \\n(1) weightbasedhealth: no, related phrases i...\n",
      "194    274  \\n(1) weightbasedhealth: yes, related phrases ...\n",
      "195   1657  \\n(1) weightbasedhealth: yes, related phrases ...\n",
      "196   2500  \\n(1) weightbasedhealth: yes, related phrases ...\n",
      "197    164  \\n(1) weightbasedhealth: yes, related phrases ...\n",
      "198    720  \\n(1) weightbasedhealth: yes, related phrases ...\n",
      "199    413  \\n(1) weightbasedhealth: yes, related phrases ...\n"
     ]
    },
    {
     "name": "stderr",
     "output_type": "stream",
     "text": [
      "Processing batch:   2%|▏         | 21/1000 [31:14<23:35:54, 86.78s/it]"
     ]
    },
    {
     "name": "stdout",
     "output_type": "stream",
     "text": [
      "     sm_id                                      answer_string\n",
      "200   2951  \\n(1) weightbasedhealth: yes, related phrases ...\n",
      "201   1466  \\n(1) weightbasedhealth: yes, related phrases ...\n",
      "202   3011  \\n(1) weightbasedhealth: yes, related phrases ...\n",
      "203   4802  \\n(1) weightbasedhealth: yes, related phrases ...\n",
      "204   3070  \\n(1) weightbasedhealth: yes, \"weight or appea...\n",
      "205    596  \\n(1) weightbasedhealth: yes, related phrases ...\n",
      "206    222  \\n(1) weightbasedhealth: yes, related phrases ...\n",
      "207   1646  \\n(1) weightbasedhealth: yes, related phrases ...\n",
      "208    981  \\n(1) weightbasedhealth: yes, related phrases ...\n",
      "209    588  \\n(1) weightbasedhealth: yes, related phrases ...\n"
     ]
    },
    {
     "name": "stderr",
     "output_type": "stream",
     "text": [
      "Processing batch:   2%|▏         | 22/1000 [32:37<23:14:51, 85.57s/it]"
     ]
    },
    {
     "name": "stdout",
     "output_type": "stream",
     "text": [
      "     sm_id                                      answer_string\n",
      "210   1187  \\n(1) weightbasedhealth: yes, related phrases ...\n",
      "211   2872  \\n(1) weightbasedhealth: No.\\n(2) weightstigma...\n",
      "212   3748  \\n(1) weightbasedhealth: yes, \"weight or appea...\n",
      "213   3630  \\n(1) weightbasedhealth: yes, \"hand in hand wi...\n",
      "214   3374  \\n(1) weightbasedhealth: yes, related phrases ...\n",
      "215   4384  \\n(1) weightbasedhealth: yes, related phrases ...\n",
      "216   4720  \\n(1) weightbasedhealth: yes, related phrases ...\n",
      "217    890  \\n(1) weightbasedhealth: yes, related phrases ...\n",
      "218   4731  \\n(1) weightbasedhealth: no, related phrases i...\n",
      "219   4695  \\n(1) weightbasedhealth: yes, related phrases ...\n"
     ]
    },
    {
     "name": "stderr",
     "output_type": "stream",
     "text": [
      "Processing batch:   2%|▏         | 23/1000 [34:04<23:20:36, 86.01s/it]"
     ]
    },
    {
     "name": "stdout",
     "output_type": "stream",
     "text": [
      "     sm_id                                      answer_string\n",
      "220   4420  \\n(1) weightbasedhealth: yes, related phrases ...\n",
      "221   2221  \\n(1) weightbasedhealth: yes, related phrases ...\n",
      "222   4903  \\n(1) weightbasedhealth: yes, related phrases ...\n",
      "223     38  \\n(1) weightbasedhealth: yes, related phrases ...\n",
      "224   4049  \\n(1) weightbasedhealth: yes, related phrases ...\n",
      "225   2061  \\n(1) weightbasedhealth: yes, related phrases ...\n",
      "226   3951  \\n(1) weightbasedhealth: Yes, related phrases ...\n",
      "227   2203  \\n(1) weightbasedhealth: No.\\n(2) weightstigma...\n",
      "228    962  \\n(1) weightbasedhealth: yes, related phrases ...\n",
      "229    296  \\n(1) weightbasedhealth: yes, related phrases ...\n"
     ]
    },
    {
     "name": "stderr",
     "output_type": "stream",
     "text": [
      "Processing batch:   2%|▏         | 24/1000 [35:52<25:07:17, 92.66s/it]"
     ]
    },
    {
     "name": "stdout",
     "output_type": "stream",
     "text": [
      "     sm_id                                      answer_string\n",
      "230   2430  \\n(1) weightbasedhealth: yes, related phrases ...\n",
      "231   1625  \\n(1) weightbasedhealth: Yes, related phrases ...\n",
      "232   2695  \\n(1) weightbasedhealth: yes, related phrases ...\n",
      "233   1665  \\n(1) weightbasedhealth: yes, related phrases ...\n",
      "234   4189  \\n(1) weightbasedhealth: yes, related phrases ...\n",
      "235   3541  \\n(1) weightbasedhealth: Yes, related phrases ...\n",
      "236   4455  \\n(1) weightbasedhealth: yes, related phrases ...\n",
      "237    893  \\n(1) weightbasedhealth: yes, related phrases ...\n",
      "238   1782  \\n(1) weightbasedhealth: yes, related phrases ...\n",
      "239   4749  \\n(1) weightbasedhealth: yes, related phrases ...\n"
     ]
    },
    {
     "name": "stderr",
     "output_type": "stream",
     "text": [
      "Processing batch:   2%|▎         | 25/1000 [37:16<24:24:42, 90.14s/it]"
     ]
    },
    {
     "name": "stdout",
     "output_type": "stream",
     "text": [
      "     sm_id                                      answer_string\n",
      "240   1398  \\n(1) weightbasedhealth: yes, related phrases ...\n",
      "241   1918  \\n(1) weightbasedhealth: yes, related phrases ...\n",
      "242   2027  \\n(1) weightbasedhealth: yes, related phrases ...\n",
      "243   1179  \\n(1) weightbasedhealth: yes, related phrases ...\n",
      "244    248  \\n(1) weightbasedhealth: Yes, related phrases ...\n",
      "245     78  \\n(1) weightbasedhealth: yes, \"weight or appea...\n",
      "246     78  \\n(1) weightbasedhealth: yes, related phrases ...\n",
      "247    488  \\n(1) weightbasedhealth: yes, \"weight\" and \"ap...\n",
      "248   2806  \\n(1) weightbasedhealth: yes, related phrases ...\n",
      "249   1969  \\n(1) weightbasedhealth: yes, related phrases ...\n"
     ]
    },
    {
     "name": "stderr",
     "output_type": "stream",
     "text": [
      "Processing batch:   3%|▎         | 26/1000 [38:46<24:22:24, 90.09s/it]"
     ]
    },
    {
     "name": "stdout",
     "output_type": "stream",
     "text": [
      "     sm_id                                      answer_string\n",
      "250    375  \\n(1) weightbasedhealth: no, related phrases i...\n",
      "251   3992  \\n(1) weightbasedhealth: yes, related phrases ...\n",
      "252   3093  \\n(1) weightbasedhealth: yes, related phrases ...\n",
      "253    570  \\n(1) weightbasedhealth: no, related phrases i...\n",
      "254   1094  \\n(1) weightbasedhealth: yes, related phrases ...\n",
      "255   4482  \\n(1) weightbasedhealth: yes, related phrases ...\n",
      "256   1148  \\n(1) weightbasedhealth: yes, related phrases ...\n",
      "257   1223  \\n(1) weightbasedhealth: yes, related phrases ...\n",
      "258   4447  \\n(1) weightbasedhealth: yes, related phrases ...\n",
      "259   3356  \\n(1) weightbasedhealth: yes, related phrases ...\n"
     ]
    },
    {
     "name": "stderr",
     "output_type": "stream",
     "text": [
      "Processing batch:   3%|▎         | 27/1000 [40:13<24:04:08, 89.05s/it]"
     ]
    },
    {
     "name": "stdout",
     "output_type": "stream",
     "text": [
      "     sm_id                                      answer_string\n",
      "260   2239  \\n(1) weightbasedhealth: yes, related phrases ...\n",
      "261   1375  \\n(1) weightbasedhealth: yes, \"weight\" and \"ap...\n",
      "262   3550  \\n(1) weightbasedhealth: yes, related phrases ...\n",
      "263    204  \\n(1) weightbasedhealth: yes, related phrases ...\n",
      "264    204  \\n(1) weightbasedhealth: yes, related phrases ...\n",
      "265   4750  \\n(1) weightbasedhealth: yes, related phrases ...\n",
      "266    639  \\n(1) weightbasedhealth: yes, \"weight or appea...\n",
      "267   1167  \\n(1) weightbasedhealth: yes, related phrases ...\n",
      "268   2226  \\n(1) weightbasedhealth: Yes, related phrases ...\n",
      "269   1643  \\n(1) weightbasedhealth: no, related phrases i...\n"
     ]
    },
    {
     "name": "stderr",
     "output_type": "stream",
     "text": [
      "Processing batch:   3%|▎         | 28/1000 [41:46<24:20:44, 90.17s/it]"
     ]
    },
    {
     "name": "stdout",
     "output_type": "stream",
     "text": [
      "     sm_id                                      answer_string\n",
      "270   3807  \\n(1) weightbasedhealth: yes, related phrases ...\n",
      "271   2028  \\n(1) weightbasedhealth: yes, related phrases ...\n",
      "272   2952  \\n(1) weightbasedhealth: yes, related phrases ...\n",
      "273   3308  \\n(1) weightbasedhealth: yes, \"weight or appea...\n",
      "274   2374  \\n(1) weightbasedhealth: yes, related phrases ...\n",
      "275   2325  \\n(1) weightbasedhealth: yes, related phrases ...\n",
      "276   4684  \\n(1) weightbasedhealth: Yes, related phrases ...\n",
      "277   4849  \\n(1) weightbasedhealth: yes, related phrases ...\n",
      "278   1345  \\n(1) weightbasedhealth: yes, related phrases ...\n",
      "279   4785  \\n(1) weightbasedhealth: yes, related phrases ...\n"
     ]
    },
    {
     "name": "stderr",
     "output_type": "stream",
     "text": [
      "Processing batch:   3%|▎         | 29/1000 [43:18<24:29:52, 90.83s/it]"
     ]
    },
    {
     "name": "stdout",
     "output_type": "stream",
     "text": [
      "     sm_id                                      answer_string\n",
      "280   4664  \\n(1) weightbasedhealth: yes, related phrases ...\n",
      "281    547  \\n(1) weightbasedhealth: yes, \"being told that...\n",
      "282    296  \\n(1) weightbasedhealth: yes, related phrases ...\n",
      "283   4832  \\n(1) weightbasedhealth: Yes, related phrases ...\n",
      "284    746  \\n(1) weightbasedhealth: yes, related phrases ...\n",
      "285   4861  \\n(1) weightbasedhealth: yes, related phrases ...\n",
      "286   3357  \\n(1) weightbasedhealth: yes, related phrases ...\n",
      "287   2934  \\n(1) weightbasedhealth: yes, related phrases ...\n",
      "288   1199  \\n(1) weightbasedhealth: yes, related phrases ...\n",
      "289   3725  \\n(1) weightbasedhealth: yes, comments about w...\n"
     ]
    },
    {
     "name": "stderr",
     "output_type": "stream",
     "text": [
      "Processing batch:   3%|▎         | 30/1000 [44:33<23:12:32, 86.14s/it]"
     ]
    },
    {
     "name": "stdout",
     "output_type": "stream",
     "text": [
      "     sm_id                                      answer_string\n",
      "290    572  \\n(1) weightbasedhealth: no, related phrases i...\n",
      "291   2741  \\n(1) weightbasedhealth: yes, \"normal\"\\n(2) we...\n",
      "292   1563  \\n(1) weightbasedhealth: yes, \"weight\" and \"ap...\n",
      "293   1159  \\n(1) weightbasedhealth: yes, \"weight or appea...\n",
      "294   3653  \\n(1) weightbasedhealth: no, related phrases i...\n",
      "295   2520  \\n(1) weightbasedhealth: yes, related phrases ...\n",
      "296   4736  \\n(1) weightbasedhealth: yes, related phrases ...\n",
      "297   4688  \\n(1) weightbasedhealth: yes, related phrases ...\n",
      "298    127  \\n(1) weightbasedhealth: yes, related phrases ...\n",
      "299   3799  \\n(1) weightbasedhealth: yes, related phrases ...\n"
     ]
    },
    {
     "name": "stderr",
     "output_type": "stream",
     "text": [
      "Processing batch:   3%|▎         | 31/1000 [46:01<23:20:11, 86.70s/it]"
     ]
    },
    {
     "name": "stdout",
     "output_type": "stream",
     "text": [
      "     sm_id                                      answer_string\n",
      "300   1960  \\n(1) weightbasedhealth: Yes, related phrases ...\n",
      "301   3051  \\n(1) weightbasedhealth: yes, related phrases ...\n",
      "302   3280  \\n(1) weightbasedhealth: yes, related phrases ...\n",
      "303   3651  \\n(1) weightbasedhealth: No.\\n(2) weightstigma...\n",
      "304    370  \\n(1) weightbasedhealth: No.\\n(2) weightstigma...\n",
      "305   4755  \\n(1) weightbasedhealth: yes, related phrases ...\n",
      "306   1341  \\n(1) weightbasedhealth: yes, related phrases ...\n",
      "307   3149  \\n(1) weightbasedhealth: yes, related phrases ...\n",
      "308   3456  \\n(1) weightbasedhealth: yes, related phrases ...\n",
      "309    173  \\n(1) weightbasedhealth: yes, related phrases ...\n"
     ]
    },
    {
     "name": "stderr",
     "output_type": "stream",
     "text": [
      "Processing batch:   3%|▎         | 32/1000 [47:36<23:55:20, 88.97s/it]"
     ]
    },
    {
     "name": "stdout",
     "output_type": "stream",
     "text": [
      "     sm_id                                      answer_string\n",
      "310   1862  \\n(1) weightbasedhealth: yes, related phrases ...\n",
      "311   2731  \\n(1) weightbasedhealth: yes, related phrases ...\n",
      "312   3500  \\n(1) weightbasedhealth: no, related phrases i...\n",
      "313    305  \\n(1) weightbasedhealth: yes, related phrases ...\n",
      "314   1911  \\n(1) weightbasedhealth: yes, related phrases ...\n",
      "315   2401  \\n(1) weightbasedhealth: yes, related phrases ...\n",
      "316   2006  \\n(1) weightbasedhealth: yes, related phrases ...\n",
      "317    130  \\n(1) weightbasedhealth: Yes, related phrases ...\n",
      "318   3648  \\n(1) weightbasedhealth: yes, referring to the...\n",
      "319    170  \\n(1) weightbasedhealth: yes, related phrases ...\n"
     ]
    },
    {
     "name": "stderr",
     "output_type": "stream",
     "text": [
      "Processing batch:   3%|▎         | 33/1000 [49:11<24:23:01, 90.78s/it]"
     ]
    },
    {
     "name": "stdout",
     "output_type": "stream",
     "text": [
      "     sm_id                                      answer_string\n",
      "320   4004  \\n(1) weightbasedhealth: yes, related phrases ...\n",
      "321   2287  \\n(1) weightbasedhealth: yes, related phrases ...\n",
      "322   4460  \\n(1) weightbasedhealth: yes, related phrases ...\n",
      "323   3952  \\n(1) weightbasedhealth: yes, related phrases ...\n",
      "324    811  \\n(1) weightbasedhealth: yes, related phrases ...\n",
      "325   4052  \\n(1) weightbasedhealth: yes, related phrases ...\n",
      "326   1091  \\n(1) weightbasedhealth: yes, related phrases ...\n",
      "327    536  \\n(1) weightbasedhealth: yes, 'weight or appea...\n",
      "328   1175  \\n(1) Yes, weight-based health is mentioned in...\n",
      "329   2174  \\n(1) weightbasedhealth: yes, \"being shown wei...\n"
     ]
    },
    {
     "name": "stderr",
     "output_type": "stream",
     "text": [
      "Processing batch:   3%|▎         | 34/1000 [50:36<23:56:17, 89.21s/it]"
     ]
    },
    {
     "name": "stdout",
     "output_type": "stream",
     "text": [
      "     sm_id                                      answer_string\n",
      "330     21  \\n(1) weightbasedhealth: yes, related phrases ...\n",
      "331   1332  \\n(1) weightbasedhealth: yes, related phrases ...\n",
      "332   2281  \\n(1) weightbasedhealth: yes, related phrases ...\n",
      "333   1462  \\n(1) weightbasedhealth: No.\\n(2) weightstigma...\n",
      "334   1462  \\n(1) weightbasedhealth: yes, related phrases ...\n",
      "335    750  \\n(1) weightbasedhealth: yes, related phrases ...\n",
      "336   3803  \\n(1) weightbasedhealth: yes, related phrases ...\n",
      "337   4591  \\n(1) weightbasedhealth: yes, related phrases ...\n",
      "338    358  \\n(1) weightbasedhealth: yes, related phrases ...\n",
      "339    335  \\n(1) weightbasedhealth: yes, related phrases ...\n"
     ]
    },
    {
     "name": "stderr",
     "output_type": "stream",
     "text": [
      "Processing batch:   4%|▎         | 35/1000 [52:03<23:42:22, 88.44s/it]"
     ]
    },
    {
     "name": "stdout",
     "output_type": "stream",
     "text": [
      "     sm_id                                      answer_string\n",
      "340   4188  \\n(1) weightbasedhealth: yes, comments about b...\n",
      "341   1893  \\n(1) weightbasedhealth: yes, related phrases ...\n",
      "342    764  \\n(1) weightbasedhealth: yes, related phrases ...\n",
      "343   3772  \\n(1) weightbasedhealth: yes, related phrases ...\n",
      "344   1770  \\n(1) weightbasedhealth: yes, \"weight\" and \"ap...\n",
      "345   2152  \\n(1) weightbasedhealth: Yes, related phrases ...\n",
      "346   2904  \\n(1) weightbasedhealth: Yes, related phrases ...\n",
      "347   3607  \\n(1) weightbasedhealth: yes, related phrases ...\n",
      "348   2553  \\n(1) weightbasedhealth: yes, related phrases ...\n",
      "349   1933  \\n(1) weightbasedhealth: yes, related phrases ...\n"
     ]
    },
    {
     "name": "stderr",
     "output_type": "stream",
     "text": [
      "Processing batch:   4%|▎         | 36/1000 [53:18<22:35:56, 84.39s/it]"
     ]
    },
    {
     "name": "stdout",
     "output_type": "stream",
     "text": [
      "     sm_id                                      answer_string\n",
      "350   2632  \\n(1) weightbasedhealth: yes, related phrases ...\n",
      "351   2538  \\n(1) weightbasedhealth: No.\\n(2) weightstigma...\n",
      "352   4473  \\n(1) weightbasedhealth: yes, related phrases ...\n",
      "353   2476  \\n(1) weightbasedhealth: no, related phrases i...\n",
      "354    472  \\n(1) weightbasedhealth: Yes, related phrases ...\n",
      "355   1369  \\n(1) weightbasedhealth: yes, related phrases ...\n",
      "356    729  \\n(1) weightbasedhealth: No.\\n(2) weightstigma...\n",
      "357   2071  \\n(1) weightbasedhealth: yes, related phrases ...\n",
      "358   2480  \\n(1) weightbasedhealth: yes, related phrases ...\n",
      "359   4067  \\n(1) weightbasedhealth: yes, \"suggestion to l...\n"
     ]
    },
    {
     "name": "stderr",
     "output_type": "stream",
     "text": [
      "Processing batch:   4%|▎         | 37/1000 [54:54<23:30:48, 87.90s/it]"
     ]
    },
    {
     "name": "stdout",
     "output_type": "stream",
     "text": [
      "     sm_id                                      answer_string\n",
      "360   2227  \\n(1) weightbasedhealth: Yes, related phrases ...\n",
      "361   1181  \\n(1) weightbasedhealth: yes, \"nutrition pyram...\n",
      "362   3214  \\n(1) weightbasedhealth: yes, related phrases ...\n",
      "363   2295  \\n(1) weightbasedhealth: yes, related phrases ...\n",
      "364   2646  \\n(1) weightbasedhealth: yes, related phrases ...\n",
      "365   2396  \\n(1) weightbasedhealth: yes, related phrases ...\n",
      "366   4503  \\n(1) weightbasedhealth: yes, related phrases ...\n",
      "367   2447  \\n(1) weightbasedhealth: yes, related phrases ...\n",
      "368   3025  \\n(1) weightbasedhealth: yes, related phrases ...\n",
      "369   2456  \\n(1) weightbasedhealth: yes, related phrases ...\n"
     ]
    },
    {
     "name": "stderr",
     "output_type": "stream",
     "text": [
      "Processing batch:   4%|▍         | 38/1000 [56:33<24:24:12, 91.32s/it]"
     ]
    },
    {
     "name": "stdout",
     "output_type": "stream",
     "text": [
      "     sm_id                                      answer_string\n",
      "370   2892  \\n(1) weightbasedhealth: yes, related phrases ...\n",
      "371   2771  \\n(1) weightbasedhealth: yes, related phrases ...\n",
      "372   1674  \\n(1) weightbasedhealth: yes, related phrases ...\n",
      "373   3937  \\n(1) weightbasedhealth: yes, related phrases ...\n",
      "374   4362  \\n(1) weightbasedhealth: yes, \"I am always bei...\n",
      "375   4830  \\n(1) weightbasedhealth: yes, related phrases ...\n",
      "376   3246  \\n(1) weightbasedhealth: yes, related phrases ...\n",
      "377   2463  \\n(1) weightbasedhealth: yes, related phrases ...\n",
      "378   2083  \\n(1) weightbasedhealth: yes, related phrases ...\n",
      "379    790  \\n(1) weightbasedhealth: yes, related phrases ...\n"
     ]
    },
    {
     "name": "stderr",
     "output_type": "stream",
     "text": [
      "Processing batch:   4%|▍         | 39/1000 [58:11<24:54:20, 93.30s/it]"
     ]
    },
    {
     "name": "stdout",
     "output_type": "stream",
     "text": [
      "     sm_id                                      answer_string\n",
      "380   4804  \\n(1) weightbasedhealth: yes, \"telling me i ne...\n",
      "381   3553  \\n(1) weightbasedhealth: Yes, related phrases ...\n",
      "382   3275  \\n(1) weightbasedhealth: Yes, related phrases ...\n",
      "383   2671  \\n(1) weightbasedhealth: yes, related phrases ...\n",
      "384   4256  \\n(1) weightbasedhealth: yes, related phrases ...\n",
      "385   2489  \\n(1) weightbasedhealth: Yes, related phrases ...\n",
      "386   2916  \\n(1) weightbasedhealth: yes, \"weight\" and \"he...\n",
      "387   2004  \\n(1) weightbasedhealth: yes, related phrases ...\n",
      "388   2114  \\n(1) weightbasedhealth: yes, related phrases ...\n",
      "389   2828  \\n(1) weightbasedhealth: Yes, related phrases ...\n"
     ]
    },
    {
     "name": "stderr",
     "output_type": "stream",
     "text": [
      "Processing batch:   4%|▍         | 40/1000 [59:40<24:29:58, 91.87s/it]"
     ]
    },
    {
     "name": "stdout",
     "output_type": "stream",
     "text": [
      "     sm_id                                      answer_string\n",
      "390    557  \\n(1) weightbasedhealth: yes, comments about e...\n",
      "391   3372  \\n(1) weightbasedhealth: Yes, related phrases ...\n",
      "392   2133  \\n(1) weightbasedhealth: yes, related phrases ...\n",
      "393   1032  \\n(1) weightbasedhealth: no, related phrases i...\n",
      "394   2115  \\n(1) weightbasedhealth: yes, related phrases ...\n",
      "395   3635  \\n(1) weightbasedhealth: yes, related phrases ...\n",
      "396   2478  \\n(1) weightbasedhealth: yes, related phrases ...\n",
      "397   2704  \\n(1) weightbasedhealth: yes, related phrases ...\n",
      "398   3190  \\n(1) weightbasedhealth: yes, related phrases ...\n",
      "399   4198  \\n(1) weightbasedhealth: yes, related phrases ...\n"
     ]
    },
    {
     "name": "stderr",
     "output_type": "stream",
     "text": [
      "Processing batch:   4%|▍         | 41/1000 [1:01:06<24:03:07, 90.29s/it]"
     ]
    },
    {
     "name": "stdout",
     "output_type": "stream",
     "text": [
      "     sm_id                                      answer_string\n",
      "400   2770  \\n(1) weightbasedhealth: yes, comments on weig...\n",
      "401   1256  \\n(1) weightbasedhealth: yes, related phrases ...\n",
      "402   3691  \\n(1) weightbasedhealth: yes, related phrases ...\n",
      "403   1965  \\n(1) weightbasedhealth: yes, related phrases ...\n",
      "404   3646  \\n(1) weightbasedhealth: Yes, related phrases ...\n",
      "405   4196  \\n(1) weightbasedhealth: yes, related phrases ...\n",
      "406    431  \\n(1) weightbasedhealth: yes, \"looking not too...\n",
      "407   3673  \\n(1) weightbasedhealth: yes, related phrases ...\n",
      "408    929  \\n(1) weightbasedhealth: yes, related phrases ...\n",
      "409   2001  \\n(1) weightbasedhealth: yes, related phrases ...\n"
     ]
    },
    {
     "name": "stderr",
     "output_type": "stream",
     "text": [
      "Processing batch:   4%|▍         | 42/1000 [1:02:43<24:33:43, 92.30s/it]"
     ]
    },
    {
     "name": "stdout",
     "output_type": "stream",
     "text": [
      "     sm_id                                      answer_string\n",
      "410   2184  \\n(1) weightbasedhealth: Yes, related phrases ...\n",
      "411   4821  \\n(1) weightbasedhealth: yes, related phrases ...\n",
      "412   1205  \\n(1) weightbasedhealth: yes, \"I was not at an...\n",
      "413   2291  \\n(1) weightbasedhealth: yes, related phrases ...\n",
      "414   1025  \\n(1) weightbasedhealth: Yes, related phrases ...\n",
      "415   3601  \\n(1) weightbasedhealth: yes, related phrases ...\n",
      "416   1051  \\n(1) weightbasedhealth: Yes, related phrases ...\n",
      "417   3536  \\n(1) weightbasedhealth: yes, 'weight was take...\n",
      "418    223  \\n(1) weightbasedhealth: yes, related phrases ...\n",
      "419   2876  \\n(1) weightbasedhealth: yes, related phrases ...\n"
     ]
    },
    {
     "name": "stderr",
     "output_type": "stream",
     "text": [
      "Processing batch:   4%|▍         | 43/1000 [1:04:19<24:47:59, 93.29s/it]"
     ]
    },
    {
     "name": "stdout",
     "output_type": "stream",
     "text": [
      "     sm_id                                      answer_string\n",
      "420   3128  \\n(1) weightbasedhealth: yes, related phrases ...\n",
      "421   3512  \\n(1) weightbasedhealth: yes, related phrases ...\n",
      "422    451  \\n(1) weightbasedhealth: yes, related phrases ...\n",
      "423   2983  \\n(1) weightbasedhealth: yes, related phrases ...\n",
      "424   4504  \\n(1) weightbasedhealth: yes, related phrases ...\n",
      "425   1461  \\n(1) weightbasedhealth: yes, related phrases ...\n",
      "426   4732  \\n(1) weightbasedhealth: yes, related phrases ...\n",
      "427   4519  \\n(1) weightbasedhealth: yes, related phrases ...\n",
      "428    683  \\n(1) weightbasedhealth: yes, related phrases ...\n",
      "429    606  \\n(1) weightbasedhealth: yes, related phrases ...\n"
     ]
    },
    {
     "name": "stderr",
     "output_type": "stream",
     "text": [
      "Processing batch:   4%|▍         | 44/1000 [1:05:39<23:44:51, 89.43s/it]"
     ]
    },
    {
     "name": "stdout",
     "output_type": "stream",
     "text": [
      "     sm_id                                      answer_string\n",
      "430   3365  \\n(1) weightbasedhealth: yes, related phrases ...\n",
      "431   4614  \\n(1) weightbasedhealth: yes, \"diagnosed with ...\n",
      "432   1908  \\n(1) weightbasedhealth: yes, therapist compar...\n",
      "433   3016  \\n(1) weightbasedhealth: Yes, related phrases ...\n",
      "434   2579  \\n(1) weightbasedhealth: No.\\n(2) weightstigma...\n",
      "435   1524  \\n(1) weightbasedhealth: yes, \"weight or appea...\n",
      "436   1957  \\n(1) weightbasedhealth: yes, related phrases ...\n",
      "437   3809  \\n(1) weightbasedhealth: yes, related phrases ...\n",
      "438   3333  \\n(1) weightbasedhealth: yes, related phrases ...\n",
      "439    177  \\n(1) weightbasedhealth: yes, related phrases ...\n"
     ]
    },
    {
     "name": "stderr",
     "output_type": "stream",
     "text": [
      "Processing batch:   4%|▍         | 45/1000 [1:07:13<24:03:42, 90.70s/it]"
     ]
    },
    {
     "name": "stdout",
     "output_type": "stream",
     "text": [
      "     sm_id                                      answer_string\n",
      "440   4858  \\n(1) weightbasedhealth: yes, related phrases ...\n",
      "441   2684  \\n(1) weightbasedhealth: yes, related phrases ...\n",
      "442   4869  \\n(1) weightbasedhealth: yes, related phrases ...\n",
      "443   3678  \\n(1) weightbasedhealth: yes, related phrases ...\n",
      "444   2562  \\n(1) weightbasedhealth: yes, related phrases ...\n",
      "445   2054  \\n(1) weightbasedhealth: yes, \"weight or appea...\n",
      "446   4654  \\n(1) weightbasedhealth: yes, related phrases ...\n",
      "447   2330  \\n(1) weightbasedhealth: Yes, related phrases ...\n",
      "448   3082  \\n(1) weightbasedhealth: yes, related phrases ...\n",
      "449   2648  \\n(1) weightbasedhealth: yes, comments about w...\n"
     ]
    },
    {
     "name": "stderr",
     "output_type": "stream",
     "text": [
      "Processing batch:   5%|▍         | 46/1000 [1:08:39<23:41:32, 89.40s/it]"
     ]
    },
    {
     "name": "stdout",
     "output_type": "stream",
     "text": [
      "     sm_id                                      answer_string\n",
      "450   2668  \\n(1) weightbasedhealth: yes, related phrases ...\n",
      "451   2222  \\n(1) weightbasedhealth: yes, related phrases ...\n",
      "452   2645  \\n(1) weightbasedhealth: yes, related phrases ...\n",
      "453   1522  \\n(1) weightbasedhealth: yes, related phrases ...\n",
      "454   2092  \\n(1) weightbasedhealth: yes, related phrases ...\n",
      "455   3511  \\n(1) weightbasedhealth: yes, related phrases ...\n",
      "456   2267  \\n(1) weightbasedhealth: yes, related phrases ...\n",
      "457   3140  \\n(1) weightbasedhealth: yes, related phrases ...\n",
      "458   3572  \\n(1) weightbasedhealth: yes, related phrases ...\n",
      "459   3948  \\n(1) weightbasedhealth: Yes, related phrases ...\n"
     ]
    },
    {
     "name": "stderr",
     "output_type": "stream",
     "text": [
      "Processing batch:   5%|▍         | 47/1000 [1:10:17<24:19:00, 91.86s/it]"
     ]
    },
    {
     "name": "stdout",
     "output_type": "stream",
     "text": [
      "     sm_id                                      answer_string\n",
      "460    108  \\n(1) weightbasedhealth: Yes, related phrases ...\n",
      "461   2561  \\n(1) weightbasedhealth: yes, related phrases ...\n",
      "462    473  \\n(1) weightbasedhealth: yes, related phrases ...\n",
      "463    473  \\n(1) weightbasedhealth: yes, related phrases ...\n",
      "464    901  \\n(1) weightbasedhealth: Yes, related phrases ...\n",
      "465   4366  \\n(1) weightbasedhealth: yes, related phrases ...\n",
      "466    117  \\n(1) weightbasedhealth: yes, related phrases ...\n",
      "467   4818  \\n(1) weightbasedhealth: yes, related phrases ...\n",
      "468   1872  \\n(1) weightbasedhealth: yes, related phrases ...\n",
      "469   2769  \\n(1) weightbasedhealth: yes, related phrases ...\n"
     ]
    },
    {
     "name": "stderr",
     "output_type": "stream",
     "text": [
      "Processing batch:   5%|▍         | 48/1000 [1:12:00<25:12:37, 95.33s/it]"
     ]
    },
    {
     "name": "stdout",
     "output_type": "stream",
     "text": [
      "     sm_id                                      answer_string\n",
      "470    506  \\n(1) weightbasedhealth: yes, related phrases ...\n",
      "471   2526  \\n(1) weightbasedhealth: yes, related phrases ...\n",
      "472    788  \\n(1) weightbasedhealth: yes, related phrases ...\n",
      "473    269  \\n(1) weightbasedhealth: yes, related phrases ...\n",
      "474   1410  \\n(1) weightbasedhealth: yes, related phrases ...\n",
      "475   4265  \\n(1) weightbasedhealth: yes, related phrases ...\n",
      "476   4365  \\n(1) weightbasedhealth: yes, related phrases ...\n",
      "477    998  \\n(1) weightbasedhealth: yes, related phrases ...\n",
      "478    605  \\n(1) weightbasedhealth: yes, related phrases ...\n",
      "479   2362  \\n(1) weightbasedhealth: yes, related phrases ...\n"
     ]
    },
    {
     "name": "stderr",
     "output_type": "stream",
     "text": [
      "Processing batch:   5%|▍         | 49/1000 [1:13:38<25:20:55, 95.96s/it]"
     ]
    },
    {
     "name": "stdout",
     "output_type": "stream",
     "text": [
      "     sm_id                                      answer_string\n",
      "480   2352  \\n(1) weightbasedhealth: yes, related phrases ...\n",
      "481   2744  \\n(1) weightbasedhealth: yes, related phrases ...\n",
      "482   2617  \\n(1) weightbasedhealth: yes, related phrases ...\n",
      "483   2448  \\n(1) weightbasedhealth: yes, related phrases ...\n",
      "484   1748  \\n(1) weightbasedhealth: yes, \"weight or appea...\n",
      "485   3517  \\n(1) weightbasedhealth: Yes, related phrases ...\n",
      "486   1642  \\n(1) weightbasedhealth: yes, related phrases ...\n",
      "487   1769  \\n(1) weightbasedhealth: yes, related phrases ...\n",
      "488   3297  \\n(1) weightbasedhealth: Yes, related phrases ...\n",
      "489   1595  \\n(1) weightbasedhealth: Yes, related phrases ...\n"
     ]
    },
    {
     "name": "stderr",
     "output_type": "stream",
     "text": [
      "Processing batch:   5%|▌         | 50/1000 [1:15:10<23:48:11, 90.20s/it]"
     ]
    },
    {
     "name": "stdout",
     "output_type": "stream",
     "text": [
      "     sm_id                                      answer_string\n",
      "490   1892  \\n(1) weightbasedhealth: yes, related phrases ...\n",
      "491   1764  \\n(1) weightbasedhealth: yes, related phrases ...\n",
      "492   2053  \\n(1) weightbasedhealth: yes, related phrases ...\n",
      "493   2192  \\n(1) weightbasedhealth: yes, related phrases ...\n",
      "494   1650  \\n(1) weightbasedhealth: yes, related phrases ...\n",
      "495   4779  \\n(1) weightbasedhealth: yes, related phrases ...\n",
      "496    787  \\n(1) weightbasedhealth: yes, related phrases ...\n",
      "497   2563  \\n(1) weightbasedhealth: yes, related phrases ...\n",
      "498    508  \\n(1) weightbasedhealth: yes, related phrases ...\n",
      "499   3670  \\n(1) weightbasedhealth: yes, related phrases ...\n"
     ]
    },
    {
     "name": "stderr",
     "output_type": "stream",
     "text": [
      "\n"
     ]
    }
   ],
   "source": [
    "from tqdm import tqdm\n",
    "\n",
    "for k in tqdm(range(1000), desc=\"Processing batch\"):\n",
    "    \n",
    "    batch_size = 10\n",
    "\n",
    "    # Filter for rows where 'answer_string' is NaN\n",
    "    unanswered_df = answer_df[answer_df['answer_string'].isna()]\n",
    "\n",
    "    # Get the indices of these NaN entries in the original DataFrame\n",
    "    indices_to_update = unanswered_df.index[:batch_size]\n",
    "\n",
    "    # Prepare prompt content for the first 10 entries with NaN answer_string\n",
    "    user_messages = [format_user_message(text) for text in unanswered_df['text_w_eos'].iloc[:batch_size]]\n",
    "\n",
    "    # Save the indices list if needed for later use\n",
    "    indices_to_update_list = list(indices_to_update)\n",
    "\n",
    "    if len(indices_to_update_list)>0:\n",
    "\n",
    "        for i in range(len(user_messages)):\n",
    "            failed = True\n",
    "            while failed:\n",
    "                input_ids = tokenizer(user_messages[i], return_tensors='pt').input_ids.to(model.device)\n",
    "                output = model.generate(inputs=input_ids, \n",
    "                                        temperature=0.1,\n",
    "                                        do_sample=True, \n",
    "                                        max_new_tokens=512)\n",
    "                response = tokenizer.decode(output[0], skip_special_tokens=True)\n",
    "\n",
    "                if \"Answer:\" in response:\n",
    "                    answer = response.split(\"Answer:\")[-1]\n",
    "                    # Use the original index from indices_to_update_list\n",
    "                    answer_df.loc[indices_to_update_list[i], 'answer_string'] = answer\n",
    "                    # print(answer)\n",
    "                    failed = False\n",
    "                else:\n",
    "                    failed = True\n",
    "                    # Use the original index from indices_to_update_list\n",
    "                    answer_df.loc[indices_to_update_list[i], 'answer_string'] = \"Answer not found\"\n",
    "\n",
    "        print(answer_df.loc[indices_to_update_list, ['sm_id','answer_string']])\n",
    "        answer_df.to_csv(answer_df_path, index=False)\n",
    "        \n",
    "    else:\n",
    "        break\n",
    "    "
   ]
  },
  {
   "cell_type": "code",
   "execution_count": 13,
   "id": "e789be05-a4ec-403b-99d8-407f084198d7",
   "metadata": {},
   "outputs": [],
   "source": [
    "import pandas as pd\n",
    "\n",
    "# File paths\n",
    "file_paths = [\n",
    "    \"../../data2/answer_df_vicuna1.csv\",\n",
    "    \"../../data2/answer_df_vicuna2.csv\",\n",
    "    \"../../data2/answer_df_vicuna3.csv\"\n",
    "]\n",
    "\n",
    "# Read and concatenate dataframes\n",
    "answer_df_list = [pd.read_csv(file_path) for file_path in file_paths]\n",
    "answer_df = pd.concat(answer_df_list, ignore_index=True)\n",
    "\n",
    "# Save the concatenated dataframe\n",
    "output_path = \"../../data2/answer_df_vicuna.csv\"\n",
    "answer_df.to_csv(output_path, index=False)\n"
   ]
  },
  {
   "cell_type": "code",
   "execution_count": null,
   "id": "3b3e9821-83d8-4f95-999e-d50eb30da6f8",
   "metadata": {},
   "outputs": [],
   "source": []
  }
 ],
 "metadata": {
  "kernelspec": {
   "display_name": "Python 3 (ipykernel)",
   "language": "python",
   "name": "python3"
  },
  "language_info": {
   "codemirror_mode": {
    "name": "ipython",
    "version": 3
   },
   "file_extension": ".py",
   "mimetype": "text/x-python",
   "name": "python",
   "nbconvert_exporter": "python",
   "pygments_lexer": "ipython3",
   "version": "3.11.4"
  }
 },
 "nbformat": 4,
 "nbformat_minor": 5
}
