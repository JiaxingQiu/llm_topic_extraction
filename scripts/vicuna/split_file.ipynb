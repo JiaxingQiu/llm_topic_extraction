{
 "cells": [
  {
   "cell_type": "code",
   "execution_count": 1,
   "id": "1259d2fc-823e-4f74-b877-67f9bbbe05a5",
   "metadata": {
    "tags": []
   },
   "outputs": [],
   "source": [
    "import pandas as pd\n",
    "import numpy as np\n",
    "\n",
    "# Load the CSV file\n",
    "answer_df = pd.read_csv(\"../../data/answer_df_raw.csv\")\n",
    "\n",
    "# # Split the DataFrame into 10 parts\n",
    "# split_dfs = np.array_split(answer_df, 16)\n",
    "\n",
    "# # Save each part as a CSV file\n",
    "# for i, df in enumerate(split_dfs, start=1):\n",
    "#     file_path = f\"../../vicuna_data/answer_df_part{i}.csv\"\n",
    "#     df.to_csv(file_path, index=False)\n",
    "#     print(f\"Saved part {i} to {file_path}\")"
   ]
  },
  {
   "cell_type": "code",
   "execution_count": 2,
   "id": "61898b23-9ea5-4e3b-ba46-f3d64d957f78",
   "metadata": {},
   "outputs": [],
   "source": [
    "import os\n",
    "import pandas as pd\n",
    "\n",
    "# Initialize an empty DataFrame\n",
    "combined_answer_df = pd.DataFrame()\n",
    "\n",
    "# Loop through the files and concatenate the dataframes\n",
    "for i in range(16):\n",
    "    answer_df_path = f\"../../vicuna_data/answer_df_part{i+1}.csv\"\n",
    "    if os.path.exists(answer_df_path):  # Check if the file exists\n",
    "        answer_df_batch = pd.read_csv(answer_df_path)\n",
    "        combined_answer_df = pd.concat([combined_answer_df, answer_df_batch], ignore_index=True)\n",
    "    else:\n",
    "        print(f\"File not found: {answer_df_path}\")\n"
   ]
  },
  {
   "cell_type": "code",
   "execution_count": 5,
   "id": "6846792f-8a9b-4091-b1d0-fead05ce4ef8",
   "metadata": {
    "tags": []
   },
   "outputs": [],
   "source": [
    "# find the sm_id in combined_answer_df that are not in answer_df\n",
    "\n",
    "remain_sm_id = list(set(answer_df.sm_id.tolist()) - set(combined_answer_df.sm_id.tolist()))\n",
    "remain_df = answer_df.loc[answer_df.sm_id.isin(remain_sm_id)]\n",
    "# remain_df.to_csv(\"../../vicuna_data/answer_df_part17.csv\", index=False)"
   ]
  },
  {
   "cell_type": "code",
   "execution_count": 8,
   "id": "bd930f83-ccd8-4e7a-ae04-bbad33dc844d",
   "metadata": {},
   "outputs": [],
   "source": []
  },
  {
   "cell_type": "code",
   "execution_count": 10,
   "id": "433426bb-825d-4e77-a408-9e299d0205d3",
   "metadata": {
    "tags": []
   },
   "outputs": [
    {
     "name": "stdout",
     "output_type": "stream",
     "text": [
      "Saved part 1 to ../../vicuna_data/answer_df_part21.csv\n",
      "Saved part 2 to ../../vicuna_data/answer_df_part22.csv\n",
      "Saved part 3 to ../../vicuna_data/answer_df_part23.csv\n"
     ]
    }
   ],
   "source": [
    "# Split the DataFrame into 10 parts\n",
    "split_dfs = np.array_split(remain_df, 3)\n",
    "\n",
    "# Save each part as a CSV file\n",
    "for i, df in enumerate(split_dfs, start=1):\n",
    "    file_path = f\"../../vicuna_data/answer_df_part{20+i}.csv\"\n",
    "    df.to_csv(file_path, index=False)\n",
    "    print(f\"Saved part {i} to {file_path}\")"
   ]
  },
  {
   "cell_type": "code",
   "execution_count": null,
   "id": "5377c239-eb26-4fe7-b416-b5bc14fcb30b",
   "metadata": {},
   "outputs": [],
   "source": []
  }
 ],
 "metadata": {
  "kernelspec": {
   "display_name": "Python 3 (ipykernel)",
   "language": "python",
   "name": "python3"
  },
  "language_info": {
   "codemirror_mode": {
    "name": "ipython",
    "version": 3
   },
   "file_extension": ".py",
   "mimetype": "text/x-python",
   "name": "python",
   "nbconvert_exporter": "python",
   "pygments_lexer": "ipython3",
   "version": "3.11.4"
  }
 },
 "nbformat": 4,
 "nbformat_minor": 5
}
